{
 "cells": [
  {
   "cell_type": "markdown",
   "id": "478dfd81-3055-4087-a21a-69b9915c4355",
   "metadata": {},
   "source": [
    "# **IBM Data Science Professional Certificate**\n",
    "\n",
    "Course 6: Databases and SQL for Data Science with Python"
   ]
  },
  {
   "cell_type": "markdown",
   "id": "56136252-eca0-4702-b7da-b3491554369d",
   "metadata": {},
   "source": [
    "## *Installing & testing SQL*"
   ]
  },
  {
   "cell_type": "code",
   "execution_count": 1,
   "id": "6df98ca6-27de-4e4d-9f10-a676d8724a7f",
   "metadata": {},
   "outputs": [],
   "source": [
    "# install SQL module\n",
    "#!pip install ipython-sql"
   ]
  },
  {
   "cell_type": "code",
   "execution_count": 2,
   "id": "66bc9947-67f9-4565-98ae-f06f9bd2ee6d",
   "metadata": {},
   "outputs": [],
   "source": [
    "# imports\n",
    "import pandas as pd"
   ]
  },
  {
   "cell_type": "code",
   "execution_count": 1,
   "id": "6199d853-2571-475c-bc63-a5f2cad6026e",
   "metadata": {},
   "outputs": [],
   "source": [
    "# load SQL module\n",
    "%load_ext sql"
   ]
  },
  {
   "cell_type": "code",
   "execution_count": 2,
   "id": "ebe2deb5-7c85-4894-92fb-9dbd74c8531c",
   "metadata": {},
   "outputs": [],
   "source": [
    "# connect to sqlite database\n",
    "%sql sqlite://"
   ]
  },
  {
   "cell_type": "code",
   "execution_count": 5,
   "id": "ae398165-b1dc-41d1-9f37-6364daaac411",
   "metadata": {},
   "outputs": [
    {
     "name": "stdout",
     "output_type": "stream",
     "text": [
      " * sqlite://\n",
      "Done.\n",
      "6 rows affected.\n"
     ]
    },
    {
     "data": {
      "text/plain": [
       "[]"
      ]
     },
     "execution_count": 5,
     "metadata": {},
     "output_type": "execute_result"
    }
   ],
   "source": [
    "%%sql\n",
    "-- # create test table\n",
    "-- # note that in SQL, comments are indicated with /* */ or double dash --\n",
    "-- # To use SQL in a cell, first write %%sql\n",
    "\n",
    "CREATE TABLE sales\n",
    "(\n",
    "    key       varchar(6),\n",
    "    ts        timestamp,\n",
    "    product   integer,\n",
    "    completed boolean,\n",
    "    price     float\n",
    ");\n",
    "INSERT INTO sales\n",
    "VALUES ('sale_1', '2019-11-08 00:00', 0, TRUE, 1.1),\n",
    "       ('sale_2', '2019-11-08 01:00', 0, FALSE, 1.2),\n",
    "       ('sale_3', '2019-11-08 01:00', 0, TRUE, 1.3),\n",
    "       ('sale_4', '2019-11-08 01:00', 1, FALSE, 1.4),\n",
    "       ('sale_5', '2019-11-08 02:00', 1, TRUE, 1.5),\n",
    "       ('sale_6', '2019-11-08 02:00', 1, TRUE, 1.5);"
   ]
  },
  {
   "cell_type": "code",
   "execution_count": 6,
   "id": "21735a4d-e94c-4aa8-9b63-ef1210f4fbb6",
   "metadata": {},
   "outputs": [
    {
     "name": "stdout",
     "output_type": "stream",
     "text": [
      " * sqlite://\n",
      "Done.\n"
     ]
    },
    {
     "data": {
      "text/html": [
       "<table>\n",
       "    <tr>\n",
       "        <th>key</th>\n",
       "        <th>ts</th>\n",
       "        <th>product</th>\n",
       "        <th>completed</th>\n",
       "        <th>price</th>\n",
       "    </tr>\n",
       "    <tr>\n",
       "        <td>sale_1</td>\n",
       "        <td>2019-11-08 00:00</td>\n",
       "        <td>0</td>\n",
       "        <td>1</td>\n",
       "        <td>1.1</td>\n",
       "    </tr>\n",
       "    <tr>\n",
       "        <td>sale_2</td>\n",
       "        <td>2019-11-08 01:00</td>\n",
       "        <td>0</td>\n",
       "        <td>0</td>\n",
       "        <td>1.2</td>\n",
       "    </tr>\n",
       "    <tr>\n",
       "        <td>sale_3</td>\n",
       "        <td>2019-11-08 01:00</td>\n",
       "        <td>0</td>\n",
       "        <td>1</td>\n",
       "        <td>1.3</td>\n",
       "    </tr>\n",
       "    <tr>\n",
       "        <td>sale_4</td>\n",
       "        <td>2019-11-08 01:00</td>\n",
       "        <td>1</td>\n",
       "        <td>0</td>\n",
       "        <td>1.4</td>\n",
       "    </tr>\n",
       "    <tr>\n",
       "        <td>sale_5</td>\n",
       "        <td>2019-11-08 02:00</td>\n",
       "        <td>1</td>\n",
       "        <td>1</td>\n",
       "        <td>1.5</td>\n",
       "    </tr>\n",
       "    <tr>\n",
       "        <td>sale_6</td>\n",
       "        <td>2019-11-08 02:00</td>\n",
       "        <td>1</td>\n",
       "        <td>1</td>\n",
       "        <td>1.5</td>\n",
       "    </tr>\n",
       "</table>"
      ],
      "text/plain": [
       "[('sale_1', '2019-11-08 00:00', 0, 1, 1.1),\n",
       " ('sale_2', '2019-11-08 01:00', 0, 0, 1.2),\n",
       " ('sale_3', '2019-11-08 01:00', 0, 1, 1.3),\n",
       " ('sale_4', '2019-11-08 01:00', 1, 0, 1.4),\n",
       " ('sale_5', '2019-11-08 02:00', 1, 1, 1.5),\n",
       " ('sale_6', '2019-11-08 02:00', 1, 1, 1.5)]"
      ]
     },
     "execution_count": 6,
     "metadata": {},
     "output_type": "execute_result"
    }
   ],
   "source": [
    "%%sql\n",
    "-- # query the database\n",
    "select * from sales;"
   ]
  },
  {
   "cell_type": "code",
   "execution_count": 7,
   "id": "b0042f2c-2599-4183-816b-20e1d3b30d7c",
   "metadata": {},
   "outputs": [],
   "source": [
    "#set the previous output of a cell to a variable\n",
    "result = _"
   ]
  },
  {
   "cell_type": "code",
   "execution_count": 8,
   "id": "b41c8e42-e6eb-4fb4-86ea-3bacdfc6554f",
   "metadata": {},
   "outputs": [
    {
     "data": {
      "text/plain": [
       "sql.run.ResultSet"
      ]
     },
     "execution_count": 8,
     "metadata": {},
     "output_type": "execute_result"
    }
   ],
   "source": [
    "type(result)"
   ]
  },
  {
   "cell_type": "code",
   "execution_count": 9,
   "id": "752f5ffb-925d-435d-bac8-435c5d4f2121",
   "metadata": {},
   "outputs": [],
   "source": [
    "# convert the resultset into a dataframe\n",
    "df = result.DataFrame()"
   ]
  },
  {
   "cell_type": "code",
   "execution_count": 10,
   "id": "d9e6ae3d-dbcb-4a92-a50e-484c734f0f56",
   "metadata": {},
   "outputs": [
    {
     "data": {
      "text/html": [
       "<div>\n",
       "<style scoped>\n",
       "    .dataframe tbody tr th:only-of-type {\n",
       "        vertical-align: middle;\n",
       "    }\n",
       "\n",
       "    .dataframe tbody tr th {\n",
       "        vertical-align: top;\n",
       "    }\n",
       "\n",
       "    .dataframe thead th {\n",
       "        text-align: right;\n",
       "    }\n",
       "</style>\n",
       "<table border=\"1\" class=\"dataframe\">\n",
       "  <thead>\n",
       "    <tr style=\"text-align: right;\">\n",
       "      <th></th>\n",
       "      <th>key</th>\n",
       "      <th>ts</th>\n",
       "      <th>product</th>\n",
       "      <th>completed</th>\n",
       "      <th>price</th>\n",
       "    </tr>\n",
       "  </thead>\n",
       "  <tbody>\n",
       "    <tr>\n",
       "      <th>0</th>\n",
       "      <td>sale_1</td>\n",
       "      <td>2019-11-08 00:00</td>\n",
       "      <td>0</td>\n",
       "      <td>1</td>\n",
       "      <td>1.1</td>\n",
       "    </tr>\n",
       "    <tr>\n",
       "      <th>1</th>\n",
       "      <td>sale_2</td>\n",
       "      <td>2019-11-08 01:00</td>\n",
       "      <td>0</td>\n",
       "      <td>0</td>\n",
       "      <td>1.2</td>\n",
       "    </tr>\n",
       "    <tr>\n",
       "      <th>2</th>\n",
       "      <td>sale_3</td>\n",
       "      <td>2019-11-08 01:00</td>\n",
       "      <td>0</td>\n",
       "      <td>1</td>\n",
       "      <td>1.3</td>\n",
       "    </tr>\n",
       "    <tr>\n",
       "      <th>3</th>\n",
       "      <td>sale_4</td>\n",
       "      <td>2019-11-08 01:00</td>\n",
       "      <td>1</td>\n",
       "      <td>0</td>\n",
       "      <td>1.4</td>\n",
       "    </tr>\n",
       "    <tr>\n",
       "      <th>4</th>\n",
       "      <td>sale_5</td>\n",
       "      <td>2019-11-08 02:00</td>\n",
       "      <td>1</td>\n",
       "      <td>1</td>\n",
       "      <td>1.5</td>\n",
       "    </tr>\n",
       "    <tr>\n",
       "      <th>5</th>\n",
       "      <td>sale_6</td>\n",
       "      <td>2019-11-08 02:00</td>\n",
       "      <td>1</td>\n",
       "      <td>1</td>\n",
       "      <td>1.5</td>\n",
       "    </tr>\n",
       "  </tbody>\n",
       "</table>\n",
       "</div>"
      ],
      "text/plain": [
       "      key                ts  product  completed  price\n",
       "0  sale_1  2019-11-08 00:00        0          1    1.1\n",
       "1  sale_2  2019-11-08 01:00        0          0    1.2\n",
       "2  sale_3  2019-11-08 01:00        0          1    1.3\n",
       "3  sale_4  2019-11-08 01:00        1          0    1.4\n",
       "4  sale_5  2019-11-08 02:00        1          1    1.5\n",
       "5  sale_6  2019-11-08 02:00        1          1    1.5"
      ]
     },
     "execution_count": 10,
     "metadata": {},
     "output_type": "execute_result"
    }
   ],
   "source": [
    "# view dataframe\n",
    "df"
   ]
  },
  {
   "cell_type": "code",
   "execution_count": 11,
   "id": "c35377a1-0fd2-4a0c-ab1b-e01c7b7cb72a",
   "metadata": {},
   "outputs": [
    {
     "data": {
      "text/plain": [
       "<AxesSubplot:>"
      ]
     },
     "execution_count": 11,
     "metadata": {},
     "output_type": "execute_result"
    },
    {
     "data": {
      "image/png": "[encoded data removed]",
      "text/plain": [
       "<Figure size 432x288 with 1 Axes>"
      ]
     },
     "metadata": {
      "needs_background": "light"
     },
     "output_type": "display_data"
    }
   ],
   "source": [
    "# play with dataframe\n",
    "df.price.hist()"
   ]
  },
  {
   "cell_type": "markdown",
   "id": "87d33fa5-f60e-45e5-b225-319a6ddfebf7",
   "metadata": {},
   "source": [
    "## *Week 1: Getting Started with SQL*"
   ]
  },
  {
   "cell_type": "markdown",
   "id": "ea71d6f1-1f29-469e-99c2-910c489d55d5",
   "metadata": {},
   "source": [
    "SQL:\n",
    "- Structured Query Language\n",
    "- One of the top three skills a data scientist needs.\n",
    "- A powerful language used for communicating with or querying relational databases.\n",
    "\n",
    "*note: it is good practice to use a semicolon to mark the end of a SQL statement*"
   ]
  },
  {
   "cell_type": "markdown",
   "id": "4c8000b1-e7dc-4d74-8ce0-f73a136ad7ac",
   "metadata": {},
   "source": [
    "### Data Types\n",
    "\n",
    "SQL data types come in three major forms:\n",
    "- String\n",
    "- Numeric\n",
    "- Date & Time\n",
    "\n",
    "Common String Data Types:\n",
    "- **CHAR(n)**: fixed length string of letters, numbers, and special characters from 0-255 in length.\n",
    "\n",
    "- **VARCHAR(n)**: variable length string of letters, numbers, and special characters. N specifies the max column length in characters between 0 to 65535.\n",
    "\n",
    "- **BINARY(n)**: equal to CHAR(), but stores binary byte strings.\n",
    "\n",
    "- **TEXT(n)**: holds a string with max length of 65535 bytes.\n",
    "\n",
    "Common Numeric Data Types:\n",
    "\n",
    "- **INT(n)**: Medium integer with signed range from -+2147483648. The size parameter specifies the maximum display width, up to 255. \n",
    "\n",
    "- **FLOAT(n, d)**: A floating point / decimal number.  The number of digits after the decimal is specified by parameter d while n indicates the total number of digits. \n",
    "\n",
    "- **BIT(n)**: Uses 1 bit to store value 0, 1, or NULL.  Commonly used to store info if the data in the related record is still valid.\n",
    "\n",
    "- **BOOL**: 0 = False, 1 = True\n",
    "\n",
    "Common Date & Time Data Types:\n",
    "- **DATE**: yyyy-mm-dd\n",
    "\n",
    "- **DATETIME(fsp)**: yyyy-mm-dd hh:mm:ss . Adding DEFAULT and ON UPDATE in the column definition provides automatic initialization and updating to the current date and time.\n",
    "\n",
    "- **TIMESTAMP**: yyyy-mm-dd hh:mm:ss.  The timestamp values are stored as the number of seconds since the Unix epoch.  You can implement automatic initialization and updating with DEFAULT CURRENT_TIMESTAMP and ON UPDATE CURRENT_TIMESTAMP."
   ]
  },
  {
   "cell_type": "markdown",
   "id": "f0c534d1-ed8b-4739-bc46-1038063941ff",
   "metadata": {},
   "source": [
    "### Databases\n",
    "Database:\n",
    "- a repository of data\n",
    "- provides functionality for adding, modifying, and querying data\n",
    "- different kinds of databases store data in different forms (relational, hierarchical, noSQL, etc)\n",
    "- DBMS: database management system (software that manages databases)\n",
    "- database, database server, database system, data server, DBMS - often are used interchangeably.\n",
    "\n",
    "Relational Database:\n",
    "- data stored in tabular form (columns and rows)\n",
    "- tables are collections of related things\n",
    "- relationships can exist between tables\n",
    "- RDBMS: relational database management system\n",
    "- RDBMS is a set of software tools that control data (access, organization, and storage).\n",
    "- Examples of RDBMS: mysql, oracle, IBM Db2, etc"
   ]
  },
  {
   "cell_type": "markdown",
   "id": "8e1cfd69-5886-4db6-a81e-391757438fa3",
   "metadata": {},
   "source": [
    "Basic SQL commands:\n",
    "- Create a table\n",
    "- insert \n",
    "- select\n",
    "- update\n",
    "- delete\n",
    "\n",
    "SQL statements fall into two categories:\n",
    "- DDL\n",
    "- DML"
   ]
  },
  {
   "cell_type": "markdown",
   "id": "40cafa2b-2e69-4c7c-b77e-7ad6903605a0",
   "metadata": {},
   "source": [
    "### SELECT Statement\n",
    "\n",
    "SELECT:\n",
    "- used to retrieve data from a database table using the SELECT statement\n",
    "- is a Data Manipulation Language (DML) statement used to read and modify data.\n",
    "- The select statement is a query and the output is a result set/result table.\n",
    "- use asterisk * to retrieve all columns of a table, or specify which ones you want.\n",
    "\n",
    "- *SELECT * from table_name*\n",
    "\n",
    "- *SELECT col1, col2 from table_name*"
   ]
  },
  {
   "cell_type": "markdown",
   "id": "11c5c2ac-da05-4554-8dcc-dd40aa56458c",
   "metadata": {},
   "source": [
    "### WHERE Clause\n",
    "\n",
    "WHERE:\n",
    "- restricts the result set\n",
    "- requires a predicate (WHERE \"predicate\") which evaluates to True, False, or Unknown.\n",
    "\n",
    "WHERE operators:\n",
    "- = \n",
    "- *>*\n",
    "- *>=*\n",
    "- *<*\n",
    "- *<=*\n",
    "- <> (not equal to)\n",
    "\n",
    "- *SELECT * from table_name WHERE col1 = 'a'*"
   ]
  },
  {
   "cell_type": "markdown",
   "id": "4001cef3-3612-4b8e-98af-7380c17ab782",
   "metadata": {},
   "source": [
    "### Useful Expressions\n",
    "\n",
    "Count():\n",
    "- a built in function that retrieves the number of rows matching the query criteria.\n",
    "- *SELECT COUNT(col2) from table_name WHERE col2 = 'name';*\n",
    "- *SELECT COUNT( * ) from table_name;*\n",
    "\n",
    "Distinct:\n",
    "- used to remove duplicate values from a result set.\n",
    "- *SELECT DISTINCT col1 FROM table_name WHERE col2 = 'criteria';*\n",
    "\n",
    "Limit:\n",
    "- used to restrict the number of rows retrieved from the database.\n",
    "- You can choose where to start grabbing the rows by using OFFSET\n",
    "- *SELECT * from table_name LIMIT 10*\n",
    "- *SELECT * from table_name LIMIT 10 OFFSET 15* (start at row 16)\n",
    "\n",
    "Examples:\n",
    "- *SELECT COUNT(DISTINCT ReleaseYear) from FilmLocations WHERE ProductionCompany = 'Warner Bros. Pictures';*\n",
    "- *SELECT DISTINCT Title FROM FilmLocations WHERE ReleaseYear = 2015 LIMIT 10;*"
   ]
  },
  {
   "cell_type": "markdown",
   "id": "daa4fe8b-01df-4c3f-aaa4-7fc3674665d1",
   "metadata": {},
   "source": [
    "### INSERT Statement\n",
    "\n",
    "INSERT:\n",
    "- Once a table is created, it can be populated with data using an insert statement.\n",
    "- Insert is a DML statement.\n",
    "- *INSERT INTO table_name (col1, col2, col3) VALUES ('A', 'B', 'C');*\n",
    "- Multiple values can be inserted using one insert statement\n",
    "- *INSERT INTO table_name (col1, col2, col3) VALUES('A', 'B', 'C') ('X', 'Y', 'Z');\n",
    "\n",
    "*NOTE: it is important that the number of values matches the number of columns specified in the column list*"
   ]
  },
  {
   "cell_type": "markdown",
   "id": "60362296-f13b-4428-a846-310e1f997b12",
   "metadata": {},
   "source": [
    "### UPDATE Statement\n",
    "- Once a table is created and data inserted into it, the data can be altered using an update statement.\n",
    "- Update is a DML statement\n",
    "- *UPDATE table_name SET col1 = 'value' WHERE condition;*"
   ]
  },
  {
   "cell_type": "markdown",
   "id": "78a5272c-152b-454d-8127-249e7990274a",
   "metadata": {},
   "source": [
    "### DELETE statement\n",
    "- Use a delete statement to remove 1 or more rows from a table\n",
    "- Delete is a DML statement.\n",
    "- *DELETE from table_name WHERE condition;*"
   ]
  },
  {
   "cell_type": "markdown",
   "id": "f69e9964-40f7-41d3-9e80-2344b93ab0d6",
   "metadata": {},
   "source": [
    "*NOTE: when using SQl in jupyter labs, sometimes the code cells won't run if you have --comment in it.*"
   ]
  },
  {
   "cell_type": "code",
   "execution_count": 12,
   "id": "54887f77-52c2-4a8f-a4e2-808619323763",
   "metadata": {},
   "outputs": [
    {
     "name": "stdout",
     "output_type": "stream",
     "text": [
      " * sqlite://\n",
      "Done.\n"
     ]
    },
    {
     "data": {
      "text/plain": [
       "[]"
      ]
     },
     "execution_count": 12,
     "metadata": {},
     "output_type": "execute_result"
    }
   ],
   "source": [
    "%%sql\n",
    "-- create test table\n",
    "CREATE TABLE authors\n",
    "(\n",
    "    ID       varchar(6),\n",
    "    LastName  varchar(15),\n",
    "    FirstName varchar(15),\n",
    "    City varchar(15)\n",
    ");"
   ]
  },
  {
   "cell_type": "code",
   "execution_count": 13,
   "id": "ee611548-a07e-4a3a-897b-b77bf1899a35",
   "metadata": {},
   "outputs": [
    {
     "name": "stdout",
     "output_type": "stream",
     "text": [
      " * sqlite://\n",
      "Done.\n"
     ]
    },
    {
     "data": {
      "text/plain": [
       "[]"
      ]
     },
     "execution_count": 13,
     "metadata": {},
     "output_type": "execute_result"
    }
   ],
   "source": [
    "%%sql\n",
    "-- insert data into table\n",
    "\n",
    "INSERT INTO authors\n",
    "VALUES ('A1', 'Chong', 'Raul', 'Toronto'),\n",
    "       ('A2', 'Ahuja', 'Rav', 'Toronto'),\n",
    "       ('A3', 'Hakes', 'Ian', 'Toronto'),\n",
    "       ('A4', 'Sharma', 'Neeraj', 'Chennai'),\n",
    "       ('A5', 'Perniu', 'Liv', 'New York');"
   ]
  },
  {
   "cell_type": "code",
   "execution_count": 14,
   "id": "eae93c02-8ee1-49f2-b748-e3b5b9758573",
   "metadata": {},
   "outputs": [
    {
     "name": "stdout",
     "output_type": "stream",
     "text": [
      " * sqlite://\n",
      "Done.\n"
     ]
    },
    {
     "data": {
      "text/html": [
       "<table>\n",
       "    <tr>\n",
       "        <th>ID</th>\n",
       "        <th>LastName</th>\n",
       "        <th>FirstName</th>\n",
       "        <th>City</th>\n",
       "    </tr>\n",
       "    <tr>\n",
       "        <td>A1</td>\n",
       "        <td>Chong</td>\n",
       "        <td>Raul</td>\n",
       "        <td>Toronto</td>\n",
       "    </tr>\n",
       "    <tr>\n",
       "        <td>A2</td>\n",
       "        <td>Ahuja</td>\n",
       "        <td>Rav</td>\n",
       "        <td>Toronto</td>\n",
       "    </tr>\n",
       "    <tr>\n",
       "        <td>A3</td>\n",
       "        <td>Hakes</td>\n",
       "        <td>Ian</td>\n",
       "        <td>Toronto</td>\n",
       "    </tr>\n",
       "    <tr>\n",
       "        <td>A4</td>\n",
       "        <td>Sharma</td>\n",
       "        <td>Neeraj</td>\n",
       "        <td>Chennai</td>\n",
       "    </tr>\n",
       "    <tr>\n",
       "        <td>A5</td>\n",
       "        <td>Perniu</td>\n",
       "        <td>Liv</td>\n",
       "        <td>New York</td>\n",
       "    </tr>\n",
       "</table>"
      ],
      "text/plain": [
       "[('A1', 'Chong', 'Raul', 'Toronto'),\n",
       " ('A2', 'Ahuja', 'Rav', 'Toronto'),\n",
       " ('A3', 'Hakes', 'Ian', 'Toronto'),\n",
       " ('A4', 'Sharma', 'Neeraj', 'Chennai'),\n",
       " ('A5', 'Perniu', 'Liv', 'New York')]"
      ]
     },
     "execution_count": 14,
     "metadata": {},
     "output_type": "execute_result"
    }
   ],
   "source": [
    "%%sql\n",
    "SELECT * FROM authors;"
   ]
  },
  {
   "cell_type": "code",
   "execution_count": 15,
   "id": "9b858dca-4583-4cf1-b687-568ab555e05d",
   "metadata": {},
   "outputs": [
    {
     "name": "stdout",
     "output_type": "stream",
     "text": [
      " * sqlite://\n",
      "1 rows affected.\n"
     ]
    },
    {
     "data": {
      "text/plain": [
       "[]"
      ]
     },
     "execution_count": 15,
     "metadata": {},
     "output_type": "execute_result"
    }
   ],
   "source": [
    "%%sql \n",
    "\n",
    "UPDATE authors\n",
    "SET FirstName = 'Katie', LastName = 'Brown'\n",
    "WHERE ID = 'A3';"
   ]
  },
  {
   "cell_type": "code",
   "execution_count": 16,
   "id": "488c1b56-b02c-4eae-a225-de2db944e30f",
   "metadata": {},
   "outputs": [
    {
     "name": "stdout",
     "output_type": "stream",
     "text": [
      " * sqlite://\n",
      "Done.\n"
     ]
    },
    {
     "data": {
      "text/html": [
       "<table>\n",
       "    <tr>\n",
       "        <th>ID</th>\n",
       "        <th>LastName</th>\n",
       "        <th>FirstName</th>\n",
       "        <th>City</th>\n",
       "    </tr>\n",
       "    <tr>\n",
       "        <td>A1</td>\n",
       "        <td>Chong</td>\n",
       "        <td>Raul</td>\n",
       "        <td>Toronto</td>\n",
       "    </tr>\n",
       "    <tr>\n",
       "        <td>A2</td>\n",
       "        <td>Ahuja</td>\n",
       "        <td>Rav</td>\n",
       "        <td>Toronto</td>\n",
       "    </tr>\n",
       "    <tr>\n",
       "        <td>A3</td>\n",
       "        <td>Brown</td>\n",
       "        <td>Katie</td>\n",
       "        <td>Toronto</td>\n",
       "    </tr>\n",
       "    <tr>\n",
       "        <td>A4</td>\n",
       "        <td>Sharma</td>\n",
       "        <td>Neeraj</td>\n",
       "        <td>Chennai</td>\n",
       "    </tr>\n",
       "    <tr>\n",
       "        <td>A5</td>\n",
       "        <td>Perniu</td>\n",
       "        <td>Liv</td>\n",
       "        <td>New York</td>\n",
       "    </tr>\n",
       "</table>"
      ],
      "text/plain": [
       "[('A1', 'Chong', 'Raul', 'Toronto'),\n",
       " ('A2', 'Ahuja', 'Rav', 'Toronto'),\n",
       " ('A3', 'Brown', 'Katie', 'Toronto'),\n",
       " ('A4', 'Sharma', 'Neeraj', 'Chennai'),\n",
       " ('A5', 'Perniu', 'Liv', 'New York')]"
      ]
     },
     "execution_count": 16,
     "metadata": {},
     "output_type": "execute_result"
    }
   ],
   "source": [
    "%%sql\n",
    "\n",
    "SELECT * FROM authors;"
   ]
  },
  {
   "cell_type": "code",
   "execution_count": 17,
   "id": "af7e4d40-6762-43e9-b8cc-5b02025bfa1f",
   "metadata": {},
   "outputs": [
    {
     "name": "stdout",
     "output_type": "stream",
     "text": [
      " * sqlite://\n",
      "2 rows affected.\n"
     ]
    },
    {
     "data": {
      "text/plain": [
       "[]"
      ]
     },
     "execution_count": 17,
     "metadata": {},
     "output_type": "execute_result"
    }
   ],
   "source": [
    "%%sql\n",
    "\n",
    "DELETE FROM authors WHERE ID IN ('A4', 'A5')"
   ]
  },
  {
   "cell_type": "code",
   "execution_count": 18,
   "id": "86cbdb01-5f45-41dd-af0e-dcf207953a00",
   "metadata": {},
   "outputs": [
    {
     "name": "stdout",
     "output_type": "stream",
     "text": [
      " * sqlite://\n",
      "Done.\n"
     ]
    },
    {
     "data": {
      "text/html": [
       "<table>\n",
       "    <tr>\n",
       "        <th>ID</th>\n",
       "        <th>LastName</th>\n",
       "        <th>FirstName</th>\n",
       "        <th>City</th>\n",
       "    </tr>\n",
       "    <tr>\n",
       "        <td>A1</td>\n",
       "        <td>Chong</td>\n",
       "        <td>Raul</td>\n",
       "        <td>Toronto</td>\n",
       "    </tr>\n",
       "    <tr>\n",
       "        <td>A2</td>\n",
       "        <td>Ahuja</td>\n",
       "        <td>Rav</td>\n",
       "        <td>Toronto</td>\n",
       "    </tr>\n",
       "    <tr>\n",
       "        <td>A3</td>\n",
       "        <td>Brown</td>\n",
       "        <td>Katie</td>\n",
       "        <td>Toronto</td>\n",
       "    </tr>\n",
       "</table>"
      ],
      "text/plain": [
       "[('A1', 'Chong', 'Raul', 'Toronto'),\n",
       " ('A2', 'Ahuja', 'Rav', 'Toronto'),\n",
       " ('A3', 'Brown', 'Katie', 'Toronto')]"
      ]
     },
     "execution_count": 18,
     "metadata": {},
     "output_type": "execute_result"
    }
   ],
   "source": [
    "%%sql\n",
    "\n",
    "SELECT * FROM authors;"
   ]
  },
  {
   "cell_type": "markdown",
   "id": "cc732df8-b869-4571-a4b5-e40f348f48e8",
   "metadata": {},
   "source": [
    "## *Week 2: Intro to Relational Databases and Tables*"
   ]
  },
  {
   "cell_type": "markdown",
   "id": "a4e9f483-68af-4ec5-a4a6-bde7f036691f",
   "metadata": {},
   "source": [
    "### Relational Model\n",
    "\n",
    "Relational Model:\n",
    "\n",
    "- The most used data model for databases.\n",
    "- Allows for data independence (logical data independence, physical data indepedence, physical storage independence).\n",
    "- Data is stored in tables."
   ]
  },
  {
   "cell_type": "markdown",
   "id": "cda74381-69e0-466b-b46e-2577b467d156",
   "metadata": {},
   "source": [
    "### Entity-Relationship Model\n",
    "\n",
    "E.R. Model:\n",
    "- Used as a tool to design relational databases\n",
    "- Made up of entities and attributes. \n",
    "\n",
    "Entities:\n",
    "- Some sort of noun, like a person, place, or object. \n",
    "- Entities are tables in a database ('books')\n",
    "- in an ER Diagram, these are drawn as rectangles with the associated attributes connected by lines and ovals.\n",
    "\n",
    "Attributes:\n",
    "- Data elements that characterize the associated entity.\n",
    "- These are the columns in a database table ('authors', 'Title', etc)\n",
    "- In an ER diagram, these are drawn as ovals that are connected by lines to their associated entity."
   ]
  },
  {
   "cell_type": "markdown",
   "id": "8b5207bf-fd10-4607-a237-e53a52cde8dd",
   "metadata": {},
   "source": [
    "### Primary Keys\n",
    "\n",
    "Primary keys:\n",
    "- Each table / entity is assigned a primary key.\n",
    "- The primary key of a table uniquely identifies each tuple / row in the table.\n",
    "- This prevents the duplication of data and provides a way to define relationships between tables.\n",
    "- Primary keys cannot have NULL values in them.\n",
    "- Primary keys can be composite (a key which has more than 1 attribute to uniquely identify a row)."
   ]
  },
  {
   "cell_type": "markdown",
   "id": "0a804091-d34f-4adc-9ffc-b507f274b37f",
   "metadata": {},
   "source": [
    "### Foreign Keys\n",
    "\n",
    "Foreign keys:\n",
    "- This is a kind of primary key which is defined in one table in order to create a link between that table and other tables.\n",
    "- The foreign key links to the primary key of another database table, creating a relationship between the tables. \n",
    "- A foreign key could potentially relate back to the same table. \n",
    "- Foreign keys can have NULL values in them."
   ]
  },
  {
   "cell_type": "markdown",
   "id": "01a6355c-626c-4ce1-96ab-d586e525c691",
   "metadata": {},
   "source": [
    "### Database Instances on Cloud\n",
    "\n",
    "Examples of cloud databases:\n",
    "- IBM Db2\n",
    "- Databases for PostgreSQL\n",
    "- Oracle Database Cloud Service\n",
    "- Microsoft Azure SQL Database\n",
    "- Amazon Relational Database Services (RDS)\n",
    "\n",
    "Steps to run a database in cloud:\n",
    "- First provision an instance of the database service on the cloud platform of your choice. \n",
    "- An instance of Database as a Service (DBaaS) provides you with access to the database in cloud without the need to set up hardware, software, or administering the database. \n",
    "- The database service instance will hold the data in related tables. \n",
    "- Once the data is loaded into the database instance, you can connect to it using a web interface or APIs. \n",
    "- Once connected, your application can send SQL statements across to the database instance, where they will be resolved as operations and then returned as a result set. "
   ]
  },
  {
   "cell_type": "markdown",
   "id": "69c19df0-aa4e-42a2-a187-7033b32b0005",
   "metadata": {},
   "source": [
    "Creating a database instance on IBM Db2:\n",
    "- Navigate to IBM cloud catalog and select Db2 service (lite plan)\n",
    "- If needed, change the defaults.\n",
    "- Choose a service instance name, the region to deploy, etc. Then 'Create'. \n",
    "- View and manage the service from your IBM dashboard.\n",
    "- Use 'open console' to launch the web console for the instance.\n",
    "\n",
    "[IBM cloud](https://cloud.ibm.com/services)\n",
    "\n",
    "Access the database instance from applications:\n",
    "- Get the service credentials of the instance, which are necessary to establish a connection to the database. \n",
    "- The credentials include the database name, port number, host name (the name of the server on the cloud in which the database instance resides), username, etc. "
   ]
  },
  {
   "cell_type": "markdown",
   "id": "7678b6a3-b37e-43d5-b700-fde18fa7a2e3",
   "metadata": {},
   "source": [
    "### Data Definition Language Statements\n",
    "\n",
    "DDL:\n",
    "- used to define, change, or drop database objects like tables.\n",
    "\n",
    "Common DDL statements:\n",
    "- CREATE (create tables & define columns)\n",
    "\n",
    "- ALTER (altering tables, including adding/dropping columns or modifying datatypes)\n",
    "\n",
    "- TRUNCATE (delete data in a table, but not the table itself)\n",
    "\n",
    "- DROP (delete tables)"
   ]
  },
  {
   "cell_type": "markdown",
   "id": "db40ada6-0530-4108-83dd-c3247a093ac2",
   "metadata": {},
   "source": [
    "### Data Manipulation Language Statements\n",
    "\n",
    "DML:\n",
    "- used to read and modify data\n",
    "- CRUD Operations  (Create, Read, Update, Delete rows)\n",
    "\n",
    "Common DML statements:\n",
    "- INSERT (insert row(s) into a table)\n",
    "\n",
    "- SELECT (read / select row(s) from a table)\n",
    "\n",
    "- UPDATE (edit row(s) in a table)\n",
    "\n",
    "- DELETE (remove row(s) from a table)"
   ]
  },
  {
   "cell_type": "markdown",
   "id": "1f9e2894-6e25-41ba-a4e4-2089cdad4cbb",
   "metadata": {},
   "source": [
    "### CREATE TABLE Statement\n",
    "\n",
    "Create Table Syntax:\n",
    "\n",
    "CREATE TABLE example_table(\n",
    "\n",
    "    column_1 datatype optional_parameters,\n",
    "    \n",
    "    column_2 datatype,\n",
    "    \n",
    "    ...\n",
    "    \n",
    "    column_n datatype\n",
    "    \n",
    ");"
   ]
  },
  {
   "cell_type": "markdown",
   "id": "dceafa40-74fd-4f49-a172-722055c3ede9",
   "metadata": {},
   "source": [
    "### ALTER Statement\n",
    "\n",
    "Alter:\n",
    "- Add or remove columns from a table\n",
    "- Modify data type of columns\n",
    "- add or remove keys\n",
    "- add or remove constraints\n",
    "- Each row of the statement is one change that you want to make \n",
    "\n",
    "Syntax:\n",
    "\n",
    "ALTER TABLE example_table \n",
    "\n",
    "    ADD COLUMN column3 datatype,\n",
    "    \n",
    "    DROP COLUMN column2,\n",
    "    \n",
    "    ALTER COLUMN column1 SET DATA TYPE datatype,\n",
    "    \n",
    "    RENAME COLUMN column6 TO column7\n",
    "    \n",
    "    ADD FOREIGN KEY(column5) REFERENCES tablename(column2) ON DELETE SET NULL;"
   ]
  },
  {
   "cell_type": "markdown",
   "id": "75e44dd9-1749-4acf-ad95-698f3707cfd3",
   "metadata": {},
   "source": [
    "### DROP Statement\n",
    "\n",
    "Drop: \n",
    "- Use DROP TABLE statement to delete a table from the database.\n",
    "- Use DROP within an alter statement to remove columns.\n",
    "\n",
    "Syntax:\n",
    "\n",
    "DROP TABLE table_name;"
   ]
  },
  {
   "cell_type": "markdown",
   "id": "9b10f442-3be5-4277-bbde-997e0d6361aa",
   "metadata": {},
   "source": [
    "### TRUNCATE Statement\n",
    "\n",
    "Truncate:\n",
    "- Delete data within a table, but not the table itself.\n",
    "- You can use a DELETE statement without a  WHERE clause to accomplish the same action, it's generally quicker to use TRUNCATE.\n",
    "\n",
    "Syntax:\n",
    "\n",
    "TRUNCATE TABLE table_name\n",
    "\n",
    "    IMMEDIATE;\n",
    "    \n",
    "*NOTE: the immediate specifies that this action should be completed immediately and cannot be undone.*"
   ]
  },
  {
   "cell_type": "code",
   "execution_count": 3,
   "id": "2b8d2c83-a1f4-4d6b-86f5-261832d86df2",
   "metadata": {},
   "outputs": [],
   "source": [
    "# load SQL module\n",
    "%load_ext sql"
   ]
  },
  {
   "cell_type": "code",
   "execution_count": 4,
   "id": "b0015985-06f6-4b56-8b89-fe27e50be7a0",
   "metadata": {},
   "outputs": [],
   "source": [
    "# connect to sqlite database\n",
    "%sql sqlite://"
   ]
  },
  {
   "cell_type": "code",
   "execution_count": 21,
   "id": "1d22290f-dc46-4a23-b64e-66082c82b666",
   "metadata": {},
   "outputs": [
    {
     "name": "stdout",
     "output_type": "stream",
     "text": [
      " * sqlite://\n",
      "Done.\n"
     ]
    },
    {
     "data": {
      "text/plain": [
       "[]"
      ]
     },
     "execution_count": 21,
     "metadata": {},
     "output_type": "execute_result"
    }
   ],
   "source": [
    "%%sql\n",
    "CREATE TABLE author(\n",
    "    author_id CHAR(2) PRIMARY KEY NOT NULL,\n",
    "    lastname VARCHAR(15) NOT NULL,\n",
    "    firstname VARCHAR(15) NOT NULL,\n",
    "    email VARCHAR(40),\n",
    "    city VARCHAR(15),\n",
    "    country char(2)\n",
    ");"
   ]
  },
  {
   "cell_type": "code",
   "execution_count": 22,
   "id": "70f8c307-d887-43d3-8e72-0ed659e7e366",
   "metadata": {},
   "outputs": [
    {
     "name": "stdout",
     "output_type": "stream",
     "text": [
      " * sqlite://\n",
      "Done.\n"
     ]
    },
    {
     "data": {
      "text/html": [
       "<table>\n",
       "    <tr>\n",
       "        <th>author_id</th>\n",
       "        <th>lastname</th>\n",
       "        <th>firstname</th>\n",
       "        <th>email</th>\n",
       "        <th>city</th>\n",
       "        <th>country</th>\n",
       "    </tr>\n",
       "</table>"
      ],
      "text/plain": [
       "[]"
      ]
     },
     "execution_count": 22,
     "metadata": {},
     "output_type": "execute_result"
    }
   ],
   "source": [
    "%%sql\n",
    "SELECT * FROM author;"
   ]
  },
  {
   "cell_type": "code",
   "execution_count": 23,
   "id": "804dcf41-5949-4d83-a1a7-f84460f5a3d7",
   "metadata": {},
   "outputs": [
    {
     "name": "stdout",
     "output_type": "stream",
     "text": [
      " * sqlite://\n",
      "Done.\n"
     ]
    },
    {
     "data": {
      "text/plain": [
       "[]"
      ]
     },
     "execution_count": 23,
     "metadata": {},
     "output_type": "execute_result"
    }
   ],
   "source": [
    "%%sql\n",
    "DROP TABLE author;"
   ]
  },
  {
   "cell_type": "markdown",
   "id": "8cc06c8a-11f9-4412-b5da-ba634c82fc40",
   "metadata": {},
   "source": [
    "**Practice Lab:**\n",
    "Create two tables, petsale and pet:"
   ]
  },
  {
   "cell_type": "code",
   "execution_count": 25,
   "id": "da071736-0dcd-44bf-84ae-a7d9ff62b5d6",
   "metadata": {},
   "outputs": [
    {
     "name": "stdout",
     "output_type": "stream",
     "text": [
      " * sqlite://\n",
      "Done.\n"
     ]
    },
    {
     "data": {
      "text/plain": [
       "[]"
      ]
     },
     "execution_count": 25,
     "metadata": {},
     "output_type": "execute_result"
    }
   ],
   "source": [
    "%%sql\n",
    "CREATE TABLE PETSALE (\n",
    "    ID INTEGER NOT NULL,\n",
    "    PET CHAR(20),\n",
    "    SALEPRICE DECIMAL(6,2),\n",
    "    PROFIT DECIMAL(6,2),\n",
    "    SALEDATE DATE\n",
    "    );"
   ]
  },
  {
   "cell_type": "code",
   "execution_count": 25,
   "id": "b6c6f44f-47b4-4c43-863d-f2e2c584096b",
   "metadata": {},
   "outputs": [
    {
     "name": "stdout",
     "output_type": "stream",
     "text": [
      " * sqlite://\n",
      "Done.\n"
     ]
    },
    {
     "data": {
      "text/plain": [
       "[]"
      ]
     },
     "execution_count": 25,
     "metadata": {},
     "output_type": "execute_result"
    }
   ],
   "source": [
    "%%sql\n",
    "CREATE TABLE PET (\n",
    "    ID INTEGER NOT NULL,\n",
    "    ANIMAL VARCHAR(20),\n",
    "    QUANTITY INTEGER\n",
    "    );"
   ]
  },
  {
   "cell_type": "markdown",
   "id": "f0494099-e6e3-401e-9e81-5efb6055a94a",
   "metadata": {},
   "source": [
    "Insert data into the new tables and view the tables:"
   ]
  },
  {
   "cell_type": "code",
   "execution_count": 26,
   "id": "32c99334-1aa5-458f-a054-5e61568652f0",
   "metadata": {},
   "outputs": [
    {
     "name": "stdout",
     "output_type": "stream",
     "text": [
      " * sqlite://\n",
      "5 rows affected.\n"
     ]
    },
    {
     "data": {
      "text/plain": [
       "[]"
      ]
     },
     "execution_count": 26,
     "metadata": {},
     "output_type": "execute_result"
    }
   ],
   "source": [
    "%%sql\n",
    "INSERT INTO PETSALE VALUES\n",
    "    (1,'Cat',450.09,100.47,'2018-05-29'),\n",
    "    (2,'Dog',666.66,150.76,'2018-06-01'),\n",
    "    (3,'Parrot',50.00,8.9,'2018-06-04'),\n",
    "    (4,'Hamster',60.60,12,'2018-06-11'),\n",
    "    (5,'Goldfish',48.48,3.5,'2018-06-14');"
   ]
  },
  {
   "cell_type": "code",
   "execution_count": 27,
   "id": "213c137c-b997-439a-8d66-ede740b8a7a8",
   "metadata": {},
   "outputs": [
    {
     "name": "stdout",
     "output_type": "stream",
     "text": [
      " * sqlite://\n",
      "Done.\n"
     ]
    },
    {
     "data": {
      "text/html": [
       "<table>\n",
       "    <tr>\n",
       "        <th>ID</th>\n",
       "        <th>PET</th>\n",
       "        <th>SALEPRICE</th>\n",
       "        <th>PROFIT</th>\n",
       "        <th>SALEDATE</th>\n",
       "    </tr>\n",
       "    <tr>\n",
       "        <td>1</td>\n",
       "        <td>Cat</td>\n",
       "        <td>450.09</td>\n",
       "        <td>100.47</td>\n",
       "        <td>2018-05-29</td>\n",
       "    </tr>\n",
       "    <tr>\n",
       "        <td>2</td>\n",
       "        <td>Dog</td>\n",
       "        <td>666.66</td>\n",
       "        <td>150.76</td>\n",
       "        <td>2018-06-01</td>\n",
       "    </tr>\n",
       "    <tr>\n",
       "        <td>3</td>\n",
       "        <td>Parrot</td>\n",
       "        <td>50</td>\n",
       "        <td>8.9</td>\n",
       "        <td>2018-06-04</td>\n",
       "    </tr>\n",
       "    <tr>\n",
       "        <td>4</td>\n",
       "        <td>Hamster</td>\n",
       "        <td>60.6</td>\n",
       "        <td>12</td>\n",
       "        <td>2018-06-11</td>\n",
       "    </tr>\n",
       "    <tr>\n",
       "        <td>5</td>\n",
       "        <td>Goldfish</td>\n",
       "        <td>48.48</td>\n",
       "        <td>3.5</td>\n",
       "        <td>2018-06-14</td>\n",
       "    </tr>\n",
       "</table>"
      ],
      "text/plain": [
       "[(1, 'Cat', 450.09, 100.47, '2018-05-29'),\n",
       " (2, 'Dog', 666.66, 150.76, '2018-06-01'),\n",
       " (3, 'Parrot', 50, 8.9, '2018-06-04'),\n",
       " (4, 'Hamster', 60.6, 12, '2018-06-11'),\n",
       " (5, 'Goldfish', 48.48, 3.5, '2018-06-14')]"
      ]
     },
     "execution_count": 27,
     "metadata": {},
     "output_type": "execute_result"
    }
   ],
   "source": [
    "%%sql\n",
    "SELECT * FROM PETSALE;"
   ]
  },
  {
   "cell_type": "code",
   "execution_count": 28,
   "id": "62824431-a2ea-4c93-9b97-ba4b0a0cdbef",
   "metadata": {},
   "outputs": [
    {
     "name": "stdout",
     "output_type": "stream",
     "text": [
      " * sqlite://\n",
      "3 rows affected.\n"
     ]
    },
    {
     "data": {
      "text/plain": [
       "[]"
      ]
     },
     "execution_count": 28,
     "metadata": {},
     "output_type": "execute_result"
    }
   ],
   "source": [
    "%%sql\n",
    "INSERT INTO PET VALUES\n",
    "    (1,'Cat',3),\n",
    "    (2,'Dog',4),\n",
    "    (3,'Hamster',2);"
   ]
  },
  {
   "cell_type": "code",
   "execution_count": 29,
   "id": "cbf5980f-00b3-41c2-b30f-baaea213f5c7",
   "metadata": {},
   "outputs": [
    {
     "name": "stdout",
     "output_type": "stream",
     "text": [
      " * sqlite://\n",
      "Done.\n"
     ]
    },
    {
     "data": {
      "text/html": [
       "<table>\n",
       "    <tr>\n",
       "        <th>ID</th>\n",
       "        <th>ANIMAL</th>\n",
       "        <th>QUANTITY</th>\n",
       "    </tr>\n",
       "    <tr>\n",
       "        <td>1</td>\n",
       "        <td>Cat</td>\n",
       "        <td>3</td>\n",
       "    </tr>\n",
       "    <tr>\n",
       "        <td>2</td>\n",
       "        <td>Dog</td>\n",
       "        <td>4</td>\n",
       "    </tr>\n",
       "    <tr>\n",
       "        <td>3</td>\n",
       "        <td>Hamster</td>\n",
       "        <td>2</td>\n",
       "    </tr>\n",
       "</table>"
      ],
      "text/plain": [
       "[(1, 'Cat', 3), (2, 'Dog', 4), (3, 'Hamster', 2)]"
      ]
     },
     "execution_count": 29,
     "metadata": {},
     "output_type": "execute_result"
    }
   ],
   "source": [
    "%%sql\n",
    "SELECT * FROM PET;"
   ]
  },
  {
   "cell_type": "markdown",
   "id": "9a4425fe-45c4-49bb-b0ad-aad246de93be",
   "metadata": {},
   "source": [
    "Alter the tables:"
   ]
  },
  {
   "cell_type": "code",
   "execution_count": 30,
   "id": "ade6d321-2f39-47d9-91e9-caa000a097a8",
   "metadata": {},
   "outputs": [
    {
     "name": "stdout",
     "output_type": "stream",
     "text": [
      " * sqlite://\n",
      "Done.\n"
     ]
    },
    {
     "data": {
      "text/plain": [
       "[]"
      ]
     },
     "execution_count": 30,
     "metadata": {},
     "output_type": "execute_result"
    }
   ],
   "source": [
    "%%sql\n",
    "ALTER TABLE PETSALE\n",
    "ADD COLUMN QUANTITY INTEGER;"
   ]
  },
  {
   "cell_type": "code",
   "execution_count": 31,
   "id": "b7a8f0f6-ab86-4dcb-bfb4-367d62a745d8",
   "metadata": {},
   "outputs": [
    {
     "name": "stdout",
     "output_type": "stream",
     "text": [
      " * sqlite://\n",
      "Done.\n"
     ]
    },
    {
     "data": {
      "text/html": [
       "<table>\n",
       "    <tr>\n",
       "        <th>ID</th>\n",
       "        <th>PET</th>\n",
       "        <th>SALEPRICE</th>\n",
       "        <th>PROFIT</th>\n",
       "        <th>SALEDATE</th>\n",
       "        <th>QUANTITY</th>\n",
       "    </tr>\n",
       "    <tr>\n",
       "        <td>1</td>\n",
       "        <td>Cat</td>\n",
       "        <td>450.09</td>\n",
       "        <td>100.47</td>\n",
       "        <td>2018-05-29</td>\n",
       "        <td>None</td>\n",
       "    </tr>\n",
       "    <tr>\n",
       "        <td>2</td>\n",
       "        <td>Dog</td>\n",
       "        <td>666.66</td>\n",
       "        <td>150.76</td>\n",
       "        <td>2018-06-01</td>\n",
       "        <td>None</td>\n",
       "    </tr>\n",
       "    <tr>\n",
       "        <td>3</td>\n",
       "        <td>Parrot</td>\n",
       "        <td>50</td>\n",
       "        <td>8.9</td>\n",
       "        <td>2018-06-04</td>\n",
       "        <td>None</td>\n",
       "    </tr>\n",
       "    <tr>\n",
       "        <td>4</td>\n",
       "        <td>Hamster</td>\n",
       "        <td>60.6</td>\n",
       "        <td>12</td>\n",
       "        <td>2018-06-11</td>\n",
       "        <td>None</td>\n",
       "    </tr>\n",
       "    <tr>\n",
       "        <td>5</td>\n",
       "        <td>Goldfish</td>\n",
       "        <td>48.48</td>\n",
       "        <td>3.5</td>\n",
       "        <td>2018-06-14</td>\n",
       "        <td>None</td>\n",
       "    </tr>\n",
       "</table>"
      ],
      "text/plain": [
       "[(1, 'Cat', 450.09, 100.47, '2018-05-29', None),\n",
       " (2, 'Dog', 666.66, 150.76, '2018-06-01', None),\n",
       " (3, 'Parrot', 50, 8.9, '2018-06-04', None),\n",
       " (4, 'Hamster', 60.6, 12, '2018-06-11', None),\n",
       " (5, 'Goldfish', 48.48, 3.5, '2018-06-14', None)]"
      ]
     },
     "execution_count": 31,
     "metadata": {},
     "output_type": "execute_result"
    }
   ],
   "source": [
    "%%sql\n",
    "SELECT * FROM PETSALE;"
   ]
  },
  {
   "cell_type": "markdown",
   "id": "ded4c831-92f5-4596-9503-1edaa31e93a6",
   "metadata": {},
   "source": [
    "add data into the newly created column:"
   ]
  },
  {
   "cell_type": "code",
   "execution_count": 32,
   "id": "f008a611-82d6-4810-8184-127edd061505",
   "metadata": {},
   "outputs": [
    {
     "name": "stdout",
     "output_type": "stream",
     "text": [
      " * sqlite://\n",
      "1 rows affected.\n",
      "1 rows affected.\n",
      "1 rows affected.\n",
      "1 rows affected.\n",
      "1 rows affected.\n"
     ]
    },
    {
     "data": {
      "text/plain": [
       "[]"
      ]
     },
     "execution_count": 32,
     "metadata": {},
     "output_type": "execute_result"
    }
   ],
   "source": [
    "%%sql\n",
    "UPDATE PETSALE SET QUANTITY = 9 WHERE ID = 1;\n",
    "UPDATE PETSALE SET QUANTITY = 3 WHERE ID = 2;\n",
    "UPDATE PETSALE SET QUANTITY = 2 WHERE ID = 3;\n",
    "UPDATE PETSALE SET QUANTITY = 6 WHERE ID = 4;\n",
    "UPDATE PETSALE SET QUANTITY = 24 WHERE ID = 5;"
   ]
  },
  {
   "cell_type": "code",
   "execution_count": 33,
   "id": "8528b1cc-61b8-49b1-be12-669be7e842db",
   "metadata": {},
   "outputs": [
    {
     "name": "stdout",
     "output_type": "stream",
     "text": [
      " * sqlite://\n",
      "Done.\n"
     ]
    },
    {
     "data": {
      "text/html": [
       "<table>\n",
       "    <tr>\n",
       "        <th>ID</th>\n",
       "        <th>PET</th>\n",
       "        <th>SALEPRICE</th>\n",
       "        <th>PROFIT</th>\n",
       "        <th>SALEDATE</th>\n",
       "        <th>QUANTITY</th>\n",
       "    </tr>\n",
       "    <tr>\n",
       "        <td>1</td>\n",
       "        <td>Cat</td>\n",
       "        <td>450.09</td>\n",
       "        <td>100.47</td>\n",
       "        <td>2018-05-29</td>\n",
       "        <td>9</td>\n",
       "    </tr>\n",
       "    <tr>\n",
       "        <td>2</td>\n",
       "        <td>Dog</td>\n",
       "        <td>666.66</td>\n",
       "        <td>150.76</td>\n",
       "        <td>2018-06-01</td>\n",
       "        <td>3</td>\n",
       "    </tr>\n",
       "    <tr>\n",
       "        <td>3</td>\n",
       "        <td>Parrot</td>\n",
       "        <td>50</td>\n",
       "        <td>8.9</td>\n",
       "        <td>2018-06-04</td>\n",
       "        <td>2</td>\n",
       "    </tr>\n",
       "    <tr>\n",
       "        <td>4</td>\n",
       "        <td>Hamster</td>\n",
       "        <td>60.6</td>\n",
       "        <td>12</td>\n",
       "        <td>2018-06-11</td>\n",
       "        <td>6</td>\n",
       "    </tr>\n",
       "    <tr>\n",
       "        <td>5</td>\n",
       "        <td>Goldfish</td>\n",
       "        <td>48.48</td>\n",
       "        <td>3.5</td>\n",
       "        <td>2018-06-14</td>\n",
       "        <td>24</td>\n",
       "    </tr>\n",
       "</table>"
      ],
      "text/plain": [
       "[(1, 'Cat', 450.09, 100.47, '2018-05-29', 9),\n",
       " (2, 'Dog', 666.66, 150.76, '2018-06-01', 3),\n",
       " (3, 'Parrot', 50, 8.9, '2018-06-04', 2),\n",
       " (4, 'Hamster', 60.6, 12, '2018-06-11', 6),\n",
       " (5, 'Goldfish', 48.48, 3.5, '2018-06-14', 24)]"
      ]
     },
     "execution_count": 33,
     "metadata": {},
     "output_type": "execute_result"
    }
   ],
   "source": [
    "%%sql\n",
    "SELECT * FROM PETSALE;"
   ]
  },
  {
   "cell_type": "code",
   "execution_count": 34,
   "id": "e360b960-8ca1-4048-86e5-63facb64f04c",
   "metadata": {},
   "outputs": [
    {
     "name": "stdout",
     "output_type": "stream",
     "text": [
      " * sqlite://\n",
      "(sqlite3.OperationalError) near \"DROP\": syntax error\n",
      "[SQL: ALTER TABLE PETSALE DROP COLUMN PROFIT;]\n",
      "(Background on this error at: http://sqlalche.me/e/e3q8)\n"
     ]
    }
   ],
   "source": [
    "%%sql\n",
    "ALTER TABLE PETSALE\n",
    "    DROP COLUMN PROFIT;"
   ]
  },
  {
   "cell_type": "markdown",
   "id": "30ea7ab5-47e2-42cd-ad39-8bfa1e56c052",
   "metadata": {},
   "source": [
    "*NOTE: SQLite does not support dropping or altering columns. Instead, you need to copy the data per the link below:*\n",
    "\n",
    "[SQLite tutorials](https://www.sqlitetutorial.net/sqlite-alter-table/)"
   ]
  },
  {
   "cell_type": "code",
   "execution_count": 35,
   "id": "b7982faa-4fb7-4fb3-a5f8-158f1f71db9c",
   "metadata": {},
   "outputs": [
    {
     "name": "stdout",
     "output_type": "stream",
     "text": [
      " * sqlite://\n",
      "Done.\n"
     ]
    },
    {
     "data": {
      "text/html": [
       "<table>\n",
       "    <tr>\n",
       "        <th>ID</th>\n",
       "        <th>PET</th>\n",
       "        <th>SALEPRICE</th>\n",
       "        <th>PROFIT</th>\n",
       "        <th>SALEDATE</th>\n",
       "        <th>QUANTITY</th>\n",
       "    </tr>\n",
       "    <tr>\n",
       "        <td>1</td>\n",
       "        <td>Cat</td>\n",
       "        <td>450.09</td>\n",
       "        <td>100.47</td>\n",
       "        <td>2018-05-29</td>\n",
       "        <td>9</td>\n",
       "    </tr>\n",
       "    <tr>\n",
       "        <td>2</td>\n",
       "        <td>Dog</td>\n",
       "        <td>666.66</td>\n",
       "        <td>150.76</td>\n",
       "        <td>2018-06-01</td>\n",
       "        <td>3</td>\n",
       "    </tr>\n",
       "    <tr>\n",
       "        <td>3</td>\n",
       "        <td>Parrot</td>\n",
       "        <td>50</td>\n",
       "        <td>8.9</td>\n",
       "        <td>2018-06-04</td>\n",
       "        <td>2</td>\n",
       "    </tr>\n",
       "    <tr>\n",
       "        <td>4</td>\n",
       "        <td>Hamster</td>\n",
       "        <td>60.6</td>\n",
       "        <td>12</td>\n",
       "        <td>2018-06-11</td>\n",
       "        <td>6</td>\n",
       "    </tr>\n",
       "    <tr>\n",
       "        <td>5</td>\n",
       "        <td>Goldfish</td>\n",
       "        <td>48.48</td>\n",
       "        <td>3.5</td>\n",
       "        <td>2018-06-14</td>\n",
       "        <td>24</td>\n",
       "    </tr>\n",
       "</table>"
      ],
      "text/plain": [
       "[(1, 'Cat', 450.09, 100.47, '2018-05-29', 9),\n",
       " (2, 'Dog', 666.66, 150.76, '2018-06-01', 3),\n",
       " (3, 'Parrot', 50, 8.9, '2018-06-04', 2),\n",
       " (4, 'Hamster', 60.6, 12, '2018-06-11', 6),\n",
       " (5, 'Goldfish', 48.48, 3.5, '2018-06-14', 24)]"
      ]
     },
     "execution_count": 35,
     "metadata": {},
     "output_type": "execute_result"
    }
   ],
   "source": [
    "%%sql\n",
    "SELECT * FROM PETSALE;"
   ]
  },
  {
   "cell_type": "code",
   "execution_count": 36,
   "id": "2ed1edb9-bdec-4de6-9695-931c8e775746",
   "metadata": {},
   "outputs": [
    {
     "name": "stdout",
     "output_type": "stream",
     "text": [
      " * sqlite://\n",
      "(sqlite3.OperationalError) near \"ALTER\": syntax error\n",
      "[SQL: ALTER TABLE PETSALE ALTER COLUMN PET SET DATA TYPE VARCHAR(20);]\n",
      "(Background on this error at: http://sqlalche.me/e/e3q8)\n"
     ]
    }
   ],
   "source": [
    "%%sql\n",
    "ALTER TABLE PETSALE\n",
    "ALTER COLUMN PET SET DATA TYPE VARCHAR(20);"
   ]
  },
  {
   "cell_type": "code",
   "execution_count": 37,
   "id": "3c1a5da2-c83b-42ff-b76f-f80557137d92",
   "metadata": {},
   "outputs": [
    {
     "name": "stdout",
     "output_type": "stream",
     "text": [
      " * sqlite://\n",
      "Done.\n"
     ]
    },
    {
     "data": {
      "text/html": [
       "<table>\n",
       "    <tr>\n",
       "        <th>ID</th>\n",
       "        <th>PET</th>\n",
       "        <th>SALEPRICE</th>\n",
       "        <th>PROFIT</th>\n",
       "        <th>SALEDATE</th>\n",
       "        <th>QUANTITY</th>\n",
       "    </tr>\n",
       "    <tr>\n",
       "        <td>1</td>\n",
       "        <td>Cat</td>\n",
       "        <td>450.09</td>\n",
       "        <td>100.47</td>\n",
       "        <td>2018-05-29</td>\n",
       "        <td>9</td>\n",
       "    </tr>\n",
       "    <tr>\n",
       "        <td>2</td>\n",
       "        <td>Dog</td>\n",
       "        <td>666.66</td>\n",
       "        <td>150.76</td>\n",
       "        <td>2018-06-01</td>\n",
       "        <td>3</td>\n",
       "    </tr>\n",
       "    <tr>\n",
       "        <td>3</td>\n",
       "        <td>Parrot</td>\n",
       "        <td>50</td>\n",
       "        <td>8.9</td>\n",
       "        <td>2018-06-04</td>\n",
       "        <td>2</td>\n",
       "    </tr>\n",
       "    <tr>\n",
       "        <td>4</td>\n",
       "        <td>Hamster</td>\n",
       "        <td>60.6</td>\n",
       "        <td>12</td>\n",
       "        <td>2018-06-11</td>\n",
       "        <td>6</td>\n",
       "    </tr>\n",
       "    <tr>\n",
       "        <td>5</td>\n",
       "        <td>Goldfish</td>\n",
       "        <td>48.48</td>\n",
       "        <td>3.5</td>\n",
       "        <td>2018-06-14</td>\n",
       "        <td>24</td>\n",
       "    </tr>\n",
       "</table>"
      ],
      "text/plain": [
       "[(1, 'Cat', 450.09, 100.47, '2018-05-29', 9),\n",
       " (2, 'Dog', 666.66, 150.76, '2018-06-01', 3),\n",
       " (3, 'Parrot', 50, 8.9, '2018-06-04', 2),\n",
       " (4, 'Hamster', 60.6, 12, '2018-06-11', 6),\n",
       " (5, 'Goldfish', 48.48, 3.5, '2018-06-14', 24)]"
      ]
     },
     "execution_count": 37,
     "metadata": {},
     "output_type": "execute_result"
    }
   ],
   "source": [
    "%%sql\n",
    "SELECT * FROM PETSALE;"
   ]
  },
  {
   "cell_type": "code",
   "execution_count": 38,
   "id": "8130973e-aa8e-49ae-8e31-45c59b69520e",
   "metadata": {},
   "outputs": [
    {
     "name": "stdout",
     "output_type": "stream",
     "text": [
      " * sqlite://\n",
      "Done.\n"
     ]
    },
    {
     "data": {
      "text/html": [
       "<table>\n",
       "    <tr>\n",
       "        <th>1</th>\n",
       "    </tr>\n",
       "</table>"
      ],
      "text/plain": [
       "[]"
      ]
     },
     "execution_count": 38,
     "metadata": {},
     "output_type": "execute_result"
    }
   ],
   "source": [
    "%%sql\n",
    "ALTER TABLE PETSALE\n",
    "RENAME COLUMN PET TO ANIMAL;"
   ]
  },
  {
   "cell_type": "code",
   "execution_count": 39,
   "id": "d2fb7c36-2e6b-40de-9f3d-3bde8921bec0",
   "metadata": {},
   "outputs": [
    {
     "name": "stdout",
     "output_type": "stream",
     "text": [
      " * sqlite://\n",
      "Done.\n"
     ]
    },
    {
     "data": {
      "text/html": [
       "<table>\n",
       "    <tr>\n",
       "        <th>ID</th>\n",
       "        <th>ANIMAL</th>\n",
       "        <th>SALEPRICE</th>\n",
       "        <th>PROFIT</th>\n",
       "        <th>SALEDATE</th>\n",
       "        <th>QUANTITY</th>\n",
       "    </tr>\n",
       "    <tr>\n",
       "        <td>1</td>\n",
       "        <td>Cat</td>\n",
       "        <td>450.09</td>\n",
       "        <td>100.47</td>\n",
       "        <td>2018-05-29</td>\n",
       "        <td>9</td>\n",
       "    </tr>\n",
       "    <tr>\n",
       "        <td>2</td>\n",
       "        <td>Dog</td>\n",
       "        <td>666.66</td>\n",
       "        <td>150.76</td>\n",
       "        <td>2018-06-01</td>\n",
       "        <td>3</td>\n",
       "    </tr>\n",
       "    <tr>\n",
       "        <td>3</td>\n",
       "        <td>Parrot</td>\n",
       "        <td>50</td>\n",
       "        <td>8.9</td>\n",
       "        <td>2018-06-04</td>\n",
       "        <td>2</td>\n",
       "    </tr>\n",
       "    <tr>\n",
       "        <td>4</td>\n",
       "        <td>Hamster</td>\n",
       "        <td>60.6</td>\n",
       "        <td>12</td>\n",
       "        <td>2018-06-11</td>\n",
       "        <td>6</td>\n",
       "    </tr>\n",
       "    <tr>\n",
       "        <td>5</td>\n",
       "        <td>Goldfish</td>\n",
       "        <td>48.48</td>\n",
       "        <td>3.5</td>\n",
       "        <td>2018-06-14</td>\n",
       "        <td>24</td>\n",
       "    </tr>\n",
       "</table>"
      ],
      "text/plain": [
       "[(1, 'Cat', 450.09, 100.47, '2018-05-29', 9),\n",
       " (2, 'Dog', 666.66, 150.76, '2018-06-01', 3),\n",
       " (3, 'Parrot', 50, 8.9, '2018-06-04', 2),\n",
       " (4, 'Hamster', 60.6, 12, '2018-06-11', 6),\n",
       " (5, 'Goldfish', 48.48, 3.5, '2018-06-14', 24)]"
      ]
     },
     "execution_count": 39,
     "metadata": {},
     "output_type": "execute_result"
    }
   ],
   "source": [
    "%%sql\n",
    "SELECT * FROM PETSALE;"
   ]
  },
  {
   "cell_type": "markdown",
   "id": "f9c8630c-cd8b-4bb7-9644-9aaff99b7515",
   "metadata": {},
   "source": [
    "Truncate a table:\n",
    "\n",
    "*NOTE: SQLite does not have a truncate statement. Instead, use DELETE FROM table_name;*"
   ]
  },
  {
   "cell_type": "code",
   "execution_count": 40,
   "id": "ecb2629a-f6b5-4de6-9bf5-e296f44bc5f4",
   "metadata": {},
   "outputs": [
    {
     "name": "stdout",
     "output_type": "stream",
     "text": [
      " * sqlite://\n",
      "3 rows affected.\n"
     ]
    },
    {
     "data": {
      "text/plain": [
       "[]"
      ]
     },
     "execution_count": 40,
     "metadata": {},
     "output_type": "execute_result"
    }
   ],
   "source": [
    "%%sql\n",
    "DELETE FROM PET;"
   ]
  },
  {
   "cell_type": "code",
   "execution_count": 41,
   "id": "0f88115d-fec2-4751-8240-af50197b5b0c",
   "metadata": {},
   "outputs": [
    {
     "name": "stdout",
     "output_type": "stream",
     "text": [
      " * sqlite://\n",
      "Done.\n"
     ]
    },
    {
     "data": {
      "text/html": [
       "<table>\n",
       "    <tr>\n",
       "        <th>ID</th>\n",
       "        <th>ANIMAL</th>\n",
       "        <th>QUANTITY</th>\n",
       "    </tr>\n",
       "</table>"
      ],
      "text/plain": [
       "[]"
      ]
     },
     "execution_count": 41,
     "metadata": {},
     "output_type": "execute_result"
    }
   ],
   "source": [
    "%%sql\n",
    "SELECT * FROM PET;"
   ]
  },
  {
   "cell_type": "markdown",
   "id": "9a237042-1b31-478b-b73c-82aad53baef4",
   "metadata": {},
   "source": [
    "Drop a table:"
   ]
  },
  {
   "cell_type": "code",
   "execution_count": 42,
   "id": "0774d290-3cb8-4325-8e6c-efd4abc95122",
   "metadata": {},
   "outputs": [
    {
     "name": "stdout",
     "output_type": "stream",
     "text": [
      " * sqlite://\n",
      "Done.\n"
     ]
    },
    {
     "data": {
      "text/plain": [
       "[]"
      ]
     },
     "execution_count": 42,
     "metadata": {},
     "output_type": "execute_result"
    }
   ],
   "source": [
    "%%sql\n",
    "DROP TABLE pet;"
   ]
  },
  {
   "cell_type": "markdown",
   "id": "384e4bae-6713-4efb-9ad2-8fa5c3a4f0dd",
   "metadata": {},
   "source": [
    "**SQL lab**\n",
    "\n",
    "Create the Tables:"
   ]
  },
  {
   "cell_type": "code",
   "execution_count": 3,
   "id": "b7bfdcbf-6542-4546-bee1-18d2f8359366",
   "metadata": {},
   "outputs": [
    {
     "name": "stdout",
     "output_type": "stream",
     "text": [
      " * sqlite://\n",
      "Done.\n"
     ]
    },
    {
     "data": {
      "text/plain": [
       "[]"
      ]
     },
     "execution_count": 3,
     "metadata": {},
     "output_type": "execute_result"
    }
   ],
   "source": [
    "%%sql\n",
    "CREATE TABLE EMPLOYEES (\n",
    "                          EMP_ID CHAR(9) NOT NULL,\n",
    "                          F_NAME VARCHAR(15) NOT NULL,\n",
    "                          L_NAME VARCHAR(15) NOT NULL,\n",
    "                          SSN CHAR(9),\n",
    "                          B_DATE DATE,\n",
    "                          SEX CHAR,\n",
    "                          ADDRESS VARCHAR(30),\n",
    "                          JOB_ID CHAR(9),\n",
    "                          SALARY DECIMAL(10,2),\n",
    "                          MANAGER_ID CHAR(9),\n",
    "                          DEP_ID CHAR(9) NOT NULL,\n",
    "                          PRIMARY KEY (EMP_ID)\n",
    "                        );"
   ]
  },
  {
   "cell_type": "code",
   "execution_count": 4,
   "id": "0ef23229-3bb9-4f36-b24a-2fb28c9a4876",
   "metadata": {},
   "outputs": [
    {
     "name": "stdout",
     "output_type": "stream",
     "text": [
      " * sqlite://\n",
      "Done.\n"
     ]
    },
    {
     "data": {
      "text/plain": [
       "[]"
      ]
     },
     "execution_count": 4,
     "metadata": {},
     "output_type": "execute_result"
    }
   ],
   "source": [
    "%%sql\n",
    "CREATE TABLE JOB_HISTORY (\n",
    "                            EMPL_ID CHAR(9) NOT NULL,\n",
    "                            START_DATE DATE,\n",
    "                            JOBS_ID CHAR(9) NOT NULL,\n",
    "                            DEPT_ID CHAR(9),\n",
    "                            PRIMARY KEY (EMPL_ID,JOBS_ID)\n",
    "                          );"
   ]
  },
  {
   "cell_type": "code",
   "execution_count": 5,
   "id": "cf08c21e-728b-49db-a3ee-1724d2752230",
   "metadata": {},
   "outputs": [
    {
     "name": "stdout",
     "output_type": "stream",
     "text": [
      " * sqlite://\n",
      "Done.\n"
     ]
    },
    {
     "data": {
      "text/plain": [
       "[]"
      ]
     },
     "execution_count": 5,
     "metadata": {},
     "output_type": "execute_result"
    }
   ],
   "source": [
    "%%sql\n",
    "CREATE TABLE JOBS (\n",
    "                    JOB_IDENT CHAR(9) NOT NULL,\n",
    "                    JOB_TITLE VARCHAR(15) ,\n",
    "                    MIN_SALARY DECIMAL(10,2),\n",
    "                    MAX_SALARY DECIMAL(10,2),\n",
    "                    PRIMARY KEY (JOB_IDENT)\n",
    "                  );"
   ]
  },
  {
   "cell_type": "code",
   "execution_count": 6,
   "id": "c90ab158-cc29-4515-9512-a35ee67349e6",
   "metadata": {},
   "outputs": [
    {
     "name": "stdout",
     "output_type": "stream",
     "text": [
      " * sqlite://\n",
      "Done.\n"
     ]
    },
    {
     "data": {
      "text/plain": [
       "[]"
      ]
     },
     "execution_count": 6,
     "metadata": {},
     "output_type": "execute_result"
    }
   ],
   "source": [
    "%%sql\n",
    "CREATE TABLE DEPARTMENTS (\n",
    "                            DEPT_ID_DEP CHAR(9) NOT NULL,\n",
    "                            DEP_NAME VARCHAR(15) ,\n",
    "                            MANAGER_ID CHAR(9),\n",
    "                            LOC_ID CHAR(9),\n",
    "                            PRIMARY KEY (DEPT_ID_DEP)\n",
    "                          );"
   ]
  },
  {
   "cell_type": "code",
   "execution_count": 7,
   "id": "ff49b9dd-09eb-4d1e-9bdd-7df5484641c8",
   "metadata": {},
   "outputs": [
    {
     "name": "stdout",
     "output_type": "stream",
     "text": [
      " * sqlite://\n",
      "Done.\n"
     ]
    },
    {
     "data": {
      "text/plain": [
       "[]"
      ]
     },
     "execution_count": 7,
     "metadata": {},
     "output_type": "execute_result"
    }
   ],
   "source": [
    "%%sql\n",
    "CREATE TABLE LOCATIONS (\n",
    "                          LOCT_ID CHAR(9) NOT NULL,\n",
    "                          DEP_ID_LOC CHAR(9) NOT NULL,\n",
    "                          PRIMARY KEY (LOCT_ID,DEP_ID_LOC)\n",
    "                        );"
   ]
  },
  {
   "cell_type": "markdown",
   "id": "3e69ac61-470c-4e50-91a3-2314dae58a6f",
   "metadata": {},
   "source": [
    "Load data into the tables:"
   ]
  },
  {
   "cell_type": "code",
   "execution_count": 8,
   "id": "5a72c91c-3be0-462e-9a1e-3a48b001cd80",
   "metadata": {},
   "outputs": [
    {
     "name": "stdout",
     "output_type": "stream",
     "text": [
      " * sqlite://\n",
      "3 rows affected.\n"
     ]
    },
    {
     "data": {
      "text/plain": [
       "[]"
      ]
     },
     "execution_count": 8,
     "metadata": {},
     "output_type": "execute_result"
    }
   ],
   "source": [
    "%%sql\n",
    "\n",
    "INSERT INTO DEPARTMENTS VALUES\n",
    "    (2, 'Architect Group', 30001, 'L0001'),\n",
    "    (5, 'Software Group', 30002, 'L0002'),\n",
    "    (7, 'Design Team', 30003, 'L0003');"
   ]
  },
  {
   "cell_type": "code",
   "execution_count": 49,
   "id": "8b4969d4-c16f-4365-8428-41518887dc23",
   "metadata": {},
   "outputs": [
    {
     "name": "stdout",
     "output_type": "stream",
     "text": [
      " * sqlite://\n",
      "Done.\n"
     ]
    },
    {
     "data": {
      "text/html": [
       "<table>\n",
       "    <tr>\n",
       "        <th>DEPT_ID_DEP</th>\n",
       "        <th>DEP_NAME</th>\n",
       "        <th>MANAGER_ID</th>\n",
       "        <th>LOC_ID</th>\n",
       "    </tr>\n",
       "    <tr>\n",
       "        <td>2</td>\n",
       "        <td>Architect Group</td>\n",
       "        <td>30001</td>\n",
       "        <td>L0001</td>\n",
       "    </tr>\n",
       "    <tr>\n",
       "        <td>5</td>\n",
       "        <td>Software Group</td>\n",
       "        <td>30002</td>\n",
       "        <td>L0002</td>\n",
       "    </tr>\n",
       "    <tr>\n",
       "        <td>7</td>\n",
       "        <td>Design Team</td>\n",
       "        <td>30003</td>\n",
       "        <td>L0003</td>\n",
       "    </tr>\n",
       "</table>"
      ],
      "text/plain": [
       "[('2', 'Architect Group', '30001', 'L0001'),\n",
       " ('5', 'Software Group', '30002', 'L0002'),\n",
       " ('7', 'Design Team', '30003', 'L0003')]"
      ]
     },
     "execution_count": 49,
     "metadata": {},
     "output_type": "execute_result"
    }
   ],
   "source": [
    "%%sql\n",
    "SELECT * FROM DEPARTMENTS"
   ]
  },
  {
   "cell_type": "code",
   "execution_count": 9,
   "id": "cd3e797b-fb05-4c93-8b9d-e2e5ac848d25",
   "metadata": {},
   "outputs": [
    {
     "name": "stdout",
     "output_type": "stream",
     "text": [
      " * sqlite://\n",
      "10 rows affected.\n"
     ]
    },
    {
     "data": {
      "text/plain": [
       "[]"
      ]
     },
     "execution_count": 9,
     "metadata": {},
     "output_type": "execute_result"
    }
   ],
   "source": [
    "%%sql\n",
    "\n",
    "INSERT INTO EMPLOYEES VALUES\n",
    "    (\"E1001\", 'John', 'Thomas', 123456, '1/9/1976', 'M', '5631 Rice, OakPark,IL', 100,100000, 30001, 2),\n",
    "    (\"E1002\", 'Alice', 'James', 123457, '7/31/1972', 'F', '980 Berry ln, Elgin,IL', 200, 80000, 30002, 5),\n",
    "    (\"E1003\", 'Steve', 'Wells', 123458, '8/10/1980', 'M', '291 Springs, Gary,IL', 300,50000, 30002, 5),\n",
    "    (\"E1004\", 'Santosh', 'Kumar', 123459, '7/20/1985', 'M', '511 Aurora Av, Aurora,IL', 400, 60000, 30004, 5),\n",
    "    (\"E1005\", 'Ahmed', 'Hussain', 123410, '1/4/1981', 'M', '216 Oak Tree, Geneva,IL', 500,70000, 30001, 2),\n",
    "    (\"E1006\", 'Nancy', 'Allen', 123411, '2/6/1978', 'F', '111 Green Pl, Elgin,IL', 600, 90000, 30001, 2),\n",
    "    (\"E1007\", 'Mary', 'Thomas', 123412, '5/5/1975', 'F', '100 Rose Pl, Gary,IL', 650,65000, 30003, 7),\n",
    "    (\"E1008\", 'Bharath', 'Gupta', 123413, '5/6/1985', 'M', '145 Berry Ln, Naperville,IL', 660, 65000, 30003, 7),\n",
    "    (\"E1009\", 'Andrea', 'Jones', 123414, '7/9/1990', 'F', '120 Fall Creek, Gary,IL', 234,70000, 30003, 7),\n",
    "    (\"E1010\", 'Ann', 'Jacob', 123415, '3/30/1982', 'F', '111 Britany Springs,Elgin,IL', 220, 70000, 30004, 5);"
   ]
  },
  {
   "cell_type": "code",
   "execution_count": 51,
   "id": "85914f4d-aea8-4337-9da4-86607469a2f4",
   "metadata": {},
   "outputs": [
    {
     "name": "stdout",
     "output_type": "stream",
     "text": [
      " * sqlite://\n",
      "Done.\n"
     ]
    },
    {
     "data": {
      "text/html": [
       "<table>\n",
       "    <tr>\n",
       "        <th>EMP_ID</th>\n",
       "        <th>F_NAME</th>\n",
       "        <th>L_NAME</th>\n",
       "        <th>SSN</th>\n",
       "        <th>B_DATE</th>\n",
       "        <th>SEX</th>\n",
       "        <th>ADDRESS</th>\n",
       "        <th>JOB_ID</th>\n",
       "        <th>SALARY</th>\n",
       "        <th>MANAGER_ID</th>\n",
       "        <th>DEP_ID</th>\n",
       "    </tr>\n",
       "    <tr>\n",
       "        <td>E1001</td>\n",
       "        <td>John</td>\n",
       "        <td>Thomas</td>\n",
       "        <td>123456</td>\n",
       "        <td>1/9/1976</td>\n",
       "        <td>M</td>\n",
       "        <td>5631 Rice, OakPark,IL</td>\n",
       "        <td>100</td>\n",
       "        <td>100000</td>\n",
       "        <td>30001</td>\n",
       "        <td>2</td>\n",
       "    </tr>\n",
       "    <tr>\n",
       "        <td>E1002</td>\n",
       "        <td>Alice</td>\n",
       "        <td>James</td>\n",
       "        <td>123457</td>\n",
       "        <td>7/31/1972</td>\n",
       "        <td>F</td>\n",
       "        <td>980 Berry ln, Elgin,IL</td>\n",
       "        <td>200</td>\n",
       "        <td>80000</td>\n",
       "        <td>30002</td>\n",
       "        <td>5</td>\n",
       "    </tr>\n",
       "    <tr>\n",
       "        <td>E1003</td>\n",
       "        <td>Steve</td>\n",
       "        <td>Wells</td>\n",
       "        <td>123458</td>\n",
       "        <td>8/10/1980</td>\n",
       "        <td>M</td>\n",
       "        <td>291 Springs, Gary,IL</td>\n",
       "        <td>300</td>\n",
       "        <td>50000</td>\n",
       "        <td>30002</td>\n",
       "        <td>5</td>\n",
       "    </tr>\n",
       "    <tr>\n",
       "        <td>E1004</td>\n",
       "        <td>Santosh</td>\n",
       "        <td>Kumar</td>\n",
       "        <td>123459</td>\n",
       "        <td>7/20/1985</td>\n",
       "        <td>M</td>\n",
       "        <td>511 Aurora Av, Aurora,IL</td>\n",
       "        <td>400</td>\n",
       "        <td>60000</td>\n",
       "        <td>30004</td>\n",
       "        <td>5</td>\n",
       "    </tr>\n",
       "    <tr>\n",
       "        <td>E1005</td>\n",
       "        <td>Ahmed</td>\n",
       "        <td>Hussain</td>\n",
       "        <td>123410</td>\n",
       "        <td>1/4/1981</td>\n",
       "        <td>M</td>\n",
       "        <td>216 Oak Tree, Geneva,IL</td>\n",
       "        <td>500</td>\n",
       "        <td>70000</td>\n",
       "        <td>30001</td>\n",
       "        <td>2</td>\n",
       "    </tr>\n",
       "    <tr>\n",
       "        <td>E1006</td>\n",
       "        <td>Nancy</td>\n",
       "        <td>Allen</td>\n",
       "        <td>123411</td>\n",
       "        <td>2/6/1978</td>\n",
       "        <td>F</td>\n",
       "        <td>111 Green Pl, Elgin,IL</td>\n",
       "        <td>600</td>\n",
       "        <td>90000</td>\n",
       "        <td>30001</td>\n",
       "        <td>2</td>\n",
       "    </tr>\n",
       "    <tr>\n",
       "        <td>E1007</td>\n",
       "        <td>Mary</td>\n",
       "        <td>Thomas</td>\n",
       "        <td>123412</td>\n",
       "        <td>5/5/1975</td>\n",
       "        <td>F</td>\n",
       "        <td>100 Rose Pl, Gary,IL</td>\n",
       "        <td>650</td>\n",
       "        <td>65000</td>\n",
       "        <td>30003</td>\n",
       "        <td>7</td>\n",
       "    </tr>\n",
       "    <tr>\n",
       "        <td>E1008</td>\n",
       "        <td>Bharath</td>\n",
       "        <td>Gupta</td>\n",
       "        <td>123413</td>\n",
       "        <td>5/6/1985</td>\n",
       "        <td>M</td>\n",
       "        <td>145 Berry Ln, Naperville,IL</td>\n",
       "        <td>660</td>\n",
       "        <td>65000</td>\n",
       "        <td>30003</td>\n",
       "        <td>7</td>\n",
       "    </tr>\n",
       "    <tr>\n",
       "        <td>E1009</td>\n",
       "        <td>Andrea</td>\n",
       "        <td>Jones</td>\n",
       "        <td>123414</td>\n",
       "        <td>7/9/1990</td>\n",
       "        <td>F</td>\n",
       "        <td>120 Fall Creek, Gary,IL</td>\n",
       "        <td>234</td>\n",
       "        <td>70000</td>\n",
       "        <td>30003</td>\n",
       "        <td>7</td>\n",
       "    </tr>\n",
       "    <tr>\n",
       "        <td>E1010</td>\n",
       "        <td>Ann</td>\n",
       "        <td>Jacob</td>\n",
       "        <td>123415</td>\n",
       "        <td>3/30/1982</td>\n",
       "        <td>F</td>\n",
       "        <td>111 Britany Springs,Elgin,IL</td>\n",
       "        <td>220</td>\n",
       "        <td>70000</td>\n",
       "        <td>30004</td>\n",
       "        <td>5</td>\n",
       "    </tr>\n",
       "</table>"
      ],
      "text/plain": [
       "[('E1001', 'John', 'Thomas', '123456', '1/9/1976', 'M', '5631 Rice, OakPark,IL', '100', 100000, '30001', '2'),\n",
       " ('E1002', 'Alice', 'James', '123457', '7/31/1972', 'F', '980 Berry ln, Elgin,IL', '200', 80000, '30002', '5'),\n",
       " ('E1003', 'Steve', 'Wells', '123458', '8/10/1980', 'M', '291 Springs, Gary,IL', '300', 50000, '30002', '5'),\n",
       " ('E1004', 'Santosh', 'Kumar', '123459', '7/20/1985', 'M', '511 Aurora Av, Aurora,IL', '400', 60000, '30004', '5'),\n",
       " ('E1005', 'Ahmed', 'Hussain', '123410', '1/4/1981', 'M', '216 Oak Tree, Geneva,IL', '500', 70000, '30001', '2'),\n",
       " ('E1006', 'Nancy', 'Allen', '123411', '2/6/1978', 'F', '111 Green Pl, Elgin,IL', '600', 90000, '30001', '2'),\n",
       " ('E1007', 'Mary', 'Thomas', '123412', '5/5/1975', 'F', '100 Rose Pl, Gary,IL', '650', 65000, '30003', '7'),\n",
       " ('E1008', 'Bharath', 'Gupta', '123413', '5/6/1985', 'M', '145 Berry Ln, Naperville,IL', '660', 65000, '30003', '7'),\n",
       " ('E1009', 'Andrea', 'Jones', '123414', '7/9/1990', 'F', '120 Fall Creek, Gary,IL', '234', 70000, '30003', '7'),\n",
       " ('E1010', 'Ann', 'Jacob', '123415', '3/30/1982', 'F', '111 Britany Springs,Elgin,IL', '220', 70000, '30004', '5')]"
      ]
     },
     "execution_count": 51,
     "metadata": {},
     "output_type": "execute_result"
    }
   ],
   "source": [
    "%%sql\n",
    "SELECT * FROM EMPLOYEES;"
   ]
  },
  {
   "cell_type": "code",
   "execution_count": 10,
   "id": "6107fa39-6b57-425f-a958-80f9ce261991",
   "metadata": {},
   "outputs": [
    {
     "name": "stdout",
     "output_type": "stream",
     "text": [
      " * sqlite://\n",
      "10 rows affected.\n"
     ]
    },
    {
     "data": {
      "text/plain": [
       "[]"
      ]
     },
     "execution_count": 10,
     "metadata": {},
     "output_type": "execute_result"
    }
   ],
   "source": [
    "%%sql\n",
    "\n",
    "INSERT INTO JOBS VALUES\n",
    "    (100, 'Sr. Architect', 60000, 100000),\n",
    "    (200, 'Sr. Software Developer', 60000, 80000),\n",
    "    (300, 'Jr. Software Developer', 40000, 60000),\n",
    "    (400, 'Jr. Software Developer', 40000, 60000),\n",
    "    (500, 'Jr. Architect', 50000, 70000),\n",
    "    (600, 'Lead Architect', 70000, 100000),\n",
    "    (650, 'Jr. Designer', 60000, 70000),\n",
    "    (660, 'Jr. Designer', 60000, 70000),\n",
    "    (234, 'Sr. Designer', 70000, 90000),\n",
    "    (220, 'Sr. Designer', 70000, 90000);"
   ]
  },
  {
   "cell_type": "code",
   "execution_count": 53,
   "id": "5a5e2bef-195b-443d-b5ee-47d4678e279a",
   "metadata": {},
   "outputs": [
    {
     "name": "stdout",
     "output_type": "stream",
     "text": [
      " * sqlite://\n",
      "Done.\n"
     ]
    },
    {
     "data": {
      "text/html": [
       "<table>\n",
       "    <tr>\n",
       "        <th>JOB_IDENT</th>\n",
       "        <th>JOB_TITLE</th>\n",
       "        <th>MIN_SALARY</th>\n",
       "        <th>MAX_SALARY</th>\n",
       "    </tr>\n",
       "    <tr>\n",
       "        <td>100</td>\n",
       "        <td>Sr. Architect</td>\n",
       "        <td>60000</td>\n",
       "        <td>100000</td>\n",
       "    </tr>\n",
       "    <tr>\n",
       "        <td>200</td>\n",
       "        <td>Sr. Software Developer</td>\n",
       "        <td>60000</td>\n",
       "        <td>80000</td>\n",
       "    </tr>\n",
       "    <tr>\n",
       "        <td>300</td>\n",
       "        <td>Jr. Software Developer</td>\n",
       "        <td>40000</td>\n",
       "        <td>60000</td>\n",
       "    </tr>\n",
       "    <tr>\n",
       "        <td>400</td>\n",
       "        <td>Jr. Software Developer</td>\n",
       "        <td>40000</td>\n",
       "        <td>60000</td>\n",
       "    </tr>\n",
       "    <tr>\n",
       "        <td>500</td>\n",
       "        <td>Jr. Architect</td>\n",
       "        <td>50000</td>\n",
       "        <td>70000</td>\n",
       "    </tr>\n",
       "    <tr>\n",
       "        <td>600</td>\n",
       "        <td>Lead Architect</td>\n",
       "        <td>70000</td>\n",
       "        <td>100000</td>\n",
       "    </tr>\n",
       "    <tr>\n",
       "        <td>650</td>\n",
       "        <td>Jr. Designer</td>\n",
       "        <td>60000</td>\n",
       "        <td>70000</td>\n",
       "    </tr>\n",
       "    <tr>\n",
       "        <td>660</td>\n",
       "        <td>Jr. Designer</td>\n",
       "        <td>60000</td>\n",
       "        <td>70000</td>\n",
       "    </tr>\n",
       "    <tr>\n",
       "        <td>234</td>\n",
       "        <td>Sr. Designer</td>\n",
       "        <td>70000</td>\n",
       "        <td>90000</td>\n",
       "    </tr>\n",
       "    <tr>\n",
       "        <td>220</td>\n",
       "        <td>Sr. Designer</td>\n",
       "        <td>70000</td>\n",
       "        <td>90000</td>\n",
       "    </tr>\n",
       "</table>"
      ],
      "text/plain": [
       "[('100', 'Sr. Architect', 60000, 100000),\n",
       " ('200', 'Sr. Software Developer', 60000, 80000),\n",
       " ('300', 'Jr. Software Developer', 40000, 60000),\n",
       " ('400', 'Jr. Software Developer', 40000, 60000),\n",
       " ('500', 'Jr. Architect', 50000, 70000),\n",
       " ('600', 'Lead Architect', 70000, 100000),\n",
       " ('650', 'Jr. Designer', 60000, 70000),\n",
       " ('660', 'Jr. Designer', 60000, 70000),\n",
       " ('234', 'Sr. Designer', 70000, 90000),\n",
       " ('220', 'Sr. Designer', 70000, 90000)]"
      ]
     },
     "execution_count": 53,
     "metadata": {},
     "output_type": "execute_result"
    }
   ],
   "source": [
    "%%sql\n",
    "SELECT * FROM JOBS;"
   ]
  },
  {
   "cell_type": "code",
   "execution_count": 11,
   "id": "201d73e2-4a8d-4c24-a416-1d88560dd63e",
   "metadata": {},
   "outputs": [
    {
     "name": "stdout",
     "output_type": "stream",
     "text": [
      " * sqlite://\n",
      "3 rows affected.\n"
     ]
    },
    {
     "data": {
      "text/plain": [
       "[]"
      ]
     },
     "execution_count": 11,
     "metadata": {},
     "output_type": "execute_result"
    }
   ],
   "source": [
    "%%sql\n",
    "\n",
    "INSERT INTO LOCATIONS VALUES\n",
    "    ('L0001', 2),\n",
    "    ('L0002', 5),\n",
    "    ('L0003', 7);"
   ]
  },
  {
   "cell_type": "code",
   "execution_count": 55,
   "id": "ca1e40d2-fa83-436a-b747-171f668d0ace",
   "metadata": {},
   "outputs": [
    {
     "name": "stdout",
     "output_type": "stream",
     "text": [
      " * sqlite://\n",
      "Done.\n"
     ]
    },
    {
     "data": {
      "text/html": [
       "<table>\n",
       "    <tr>\n",
       "        <th>LOCT_ID</th>\n",
       "        <th>DEP_ID_LOC</th>\n",
       "    </tr>\n",
       "    <tr>\n",
       "        <td>L0001</td>\n",
       "        <td>2</td>\n",
       "    </tr>\n",
       "    <tr>\n",
       "        <td>L0002</td>\n",
       "        <td>5</td>\n",
       "    </tr>\n",
       "    <tr>\n",
       "        <td>L0003</td>\n",
       "        <td>7</td>\n",
       "    </tr>\n",
       "</table>"
      ],
      "text/plain": [
       "[('L0001', '2'), ('L0002', '5'), ('L0003', '7')]"
      ]
     },
     "execution_count": 55,
     "metadata": {},
     "output_type": "execute_result"
    }
   ],
   "source": [
    "%%sql\n",
    "SELECT * FROM LOCATIONS;"
   ]
  },
  {
   "cell_type": "code",
   "execution_count": 12,
   "id": "72e6b622-bdfc-4a51-8718-226d2cba5106",
   "metadata": {},
   "outputs": [
    {
     "name": "stdout",
     "output_type": "stream",
     "text": [
      " * sqlite://\n",
      "10 rows affected.\n"
     ]
    },
    {
     "data": {
      "text/plain": [
       "[]"
      ]
     },
     "execution_count": 12,
     "metadata": {},
     "output_type": "execute_result"
    }
   ],
   "source": [
    "%%sql\n",
    "\n",
    "INSERT INTO JOB_HISTORY VALUES\n",
    "    ('E1001', '8/1/2000', 100, 2),\n",
    "    ('E1002', '8/1/2001', 200, 5),\n",
    "    ('E1003', '8/16/2001', 300, 5),\n",
    "    ('E1004', '8/16/2000', 400, 5),\n",
    "    ('E1005', '5/30/2000', 500, 2),\n",
    "    ('E1006', '8/16/2001', 600, 2),\n",
    "    ('E1007', '5/30/2002', 650, 7),\n",
    "    ('E1008', '5/6/2010', 660, 7),\n",
    "    ('E1009', '8/16/2016', 234, 7),\n",
    "    ('E1010', '8/16/2016', 220, 5);"
   ]
  },
  {
   "cell_type": "code",
   "execution_count": 57,
   "id": "99618bf6-5c07-436e-90ce-bb7906145258",
   "metadata": {},
   "outputs": [
    {
     "name": "stdout",
     "output_type": "stream",
     "text": [
      " * sqlite://\n",
      "Done.\n"
     ]
    },
    {
     "data": {
      "text/html": [
       "<table>\n",
       "    <tr>\n",
       "        <th>EMPL_ID</th>\n",
       "        <th>START_DATE</th>\n",
       "        <th>JOBS_ID</th>\n",
       "        <th>DEPT_ID</th>\n",
       "    </tr>\n",
       "    <tr>\n",
       "        <td>E1001</td>\n",
       "        <td>8/1/2000</td>\n",
       "        <td>100</td>\n",
       "        <td>2</td>\n",
       "    </tr>\n",
       "    <tr>\n",
       "        <td>E1002</td>\n",
       "        <td>8/1/2001</td>\n",
       "        <td>200</td>\n",
       "        <td>5</td>\n",
       "    </tr>\n",
       "    <tr>\n",
       "        <td>E1003</td>\n",
       "        <td>8/16/2001</td>\n",
       "        <td>300</td>\n",
       "        <td>5</td>\n",
       "    </tr>\n",
       "    <tr>\n",
       "        <td>E1004</td>\n",
       "        <td>8/16/2000</td>\n",
       "        <td>400</td>\n",
       "        <td>5</td>\n",
       "    </tr>\n",
       "    <tr>\n",
       "        <td>E1005</td>\n",
       "        <td>5/30/2000</td>\n",
       "        <td>500</td>\n",
       "        <td>2</td>\n",
       "    </tr>\n",
       "    <tr>\n",
       "        <td>E1006</td>\n",
       "        <td>8/16/2001</td>\n",
       "        <td>600</td>\n",
       "        <td>2</td>\n",
       "    </tr>\n",
       "    <tr>\n",
       "        <td>E1007</td>\n",
       "        <td>5/30/2002</td>\n",
       "        <td>650</td>\n",
       "        <td>7</td>\n",
       "    </tr>\n",
       "    <tr>\n",
       "        <td>E1008</td>\n",
       "        <td>5/6/2010</td>\n",
       "        <td>660</td>\n",
       "        <td>7</td>\n",
       "    </tr>\n",
       "    <tr>\n",
       "        <td>E1009</td>\n",
       "        <td>8/16/2016</td>\n",
       "        <td>234</td>\n",
       "        <td>7</td>\n",
       "    </tr>\n",
       "    <tr>\n",
       "        <td>E1010</td>\n",
       "        <td>8/16/2016</td>\n",
       "        <td>220</td>\n",
       "        <td>5</td>\n",
       "    </tr>\n",
       "</table>"
      ],
      "text/plain": [
       "[('E1001', '8/1/2000', '100', '2'),\n",
       " ('E1002', '8/1/2001', '200', '5'),\n",
       " ('E1003', '8/16/2001', '300', '5'),\n",
       " ('E1004', '8/16/2000', '400', '5'),\n",
       " ('E1005', '5/30/2000', '500', '2'),\n",
       " ('E1006', '8/16/2001', '600', '2'),\n",
       " ('E1007', '5/30/2002', '650', '7'),\n",
       " ('E1008', '5/6/2010', '660', '7'),\n",
       " ('E1009', '8/16/2016', '234', '7'),\n",
       " ('E1010', '8/16/2016', '220', '5')]"
      ]
     },
     "execution_count": 57,
     "metadata": {},
     "output_type": "execute_result"
    }
   ],
   "source": [
    "%%sql\n",
    "SELECT * FROM JOB_HISTORY;"
   ]
  },
  {
   "cell_type": "markdown",
   "id": "75fb1855-65c0-49fb-af46-f88a056eb195",
   "metadata": {},
   "source": [
    "## *Week 3: Intermediate SQL*"
   ]
  },
  {
   "cell_type": "markdown",
   "id": "cc048aad-3b07-4c06-afc0-96fc5e1f3bac",
   "metadata": {},
   "source": [
    "### String Patterns & Ranges\n",
    "\n",
    "When retrieving data from a table, you can:\n",
    "- Select the entire table (*select * from table;*)\n",
    "- Select certain columns (*select col1, col3 from table;*)\n",
    "- Select certain columns & rows that fit a condition (*select col2 from table where col1 = 'True';*)\n",
    "\n",
    "Use the LIKE predicate with string patterns (*WHERE column_name LIKE string_pattern*) to search for rows that fit that string pattern.\n",
    "\n",
    "String pattern examples:\n",
    "- WHERE firstname **LIKE** 'R%'\n",
    "\n",
    "*NOTE: the % sign indicates that there are missing letters before or after the known letter. This is called a wildcard character, which is used to substitute other characters.*\n",
    "\n",
    "You can also retrieve data using a range in the where clause:\n",
    "- *SELECT col1, col2 from table WHERE col2 **BETWEEN** 290 and 300;*\n",
    "- *SELECT firstname, lastname, country from table WHERE country **IN** ('au', 'br');*"
   ]
  },
  {
   "cell_type": "markdown",
   "id": "89ab2934-7039-41d6-8ca1-4214e33d6498",
   "metadata": {},
   "source": [
    "### Sorting Result Sets\n",
    "\n",
    "Use the ORDER BY clause to sort a result set:\n",
    "- *SELECT col1 from table **ORDER BY** col1;*\n",
    "- *SELECT col2 from table **ORDER BY** col2 **DESC**;*\n",
    "- *SELECT col1, col2 from table **ORDER BY** 2;*  (this orders by column 2)\n",
    "\n",
    "*NOTE: by default, ORDER BY is in ascending order. You can set it to descending using DESC.*"
   ]
  },
  {
   "cell_type": "markdown",
   "id": "597a9e8a-06c5-424f-8b3a-4983a5b2279f",
   "metadata": {},
   "source": [
    "### Grouping Result Sets\n",
    "\n",
    "Use the DISTINCT clause to get a result set of unique values & eliminate duplicates:\n",
    "- *SELECT **DISTINCT(col2)** from table;*\n",
    "\n",
    "Use the GROUP BY clause to group a result set:\n",
    "- *SELECT country, count(country) **AS** Count from author **GROUP BY** country;*\n",
    "\n",
    "Set a restriction to a group by clause using the HAVING clause:\n",
    "- *SELECT country, count(country) **AS** Count from author **GROUP BY** country **HAVING** count(country) > 4;*\n",
    "\n",
    "*NOTE: the having clause is used only with the group by clause*."
   ]
  },
  {
   "cell_type": "markdown",
   "id": "5698e484-ae18-44b5-b403-6448960a0c03",
   "metadata": {},
   "source": [
    "**Lab:** Use string patterns, ranges, and sets to retrieve employees with an address in Elgin, IL"
   ]
  },
  {
   "cell_type": "code",
   "execution_count": 58,
   "id": "e6593434-885b-4fe3-89e7-d47d97250d75",
   "metadata": {
    "collapsed": true,
    "jupyter": {
     "outputs_hidden": true
    },
    "tags": []
   },
   "outputs": [
    {
     "name": "stdout",
     "output_type": "stream",
     "text": [
      " * sqlite://\n",
      "Done.\n"
     ]
    },
    {
     "data": {
      "text/html": [
       "<table>\n",
       "    <tr>\n",
       "        <th>EMP_ID</th>\n",
       "        <th>F_NAME</th>\n",
       "        <th>L_NAME</th>\n",
       "        <th>SSN</th>\n",
       "        <th>B_DATE</th>\n",
       "        <th>SEX</th>\n",
       "        <th>ADDRESS</th>\n",
       "        <th>JOB_ID</th>\n",
       "        <th>SALARY</th>\n",
       "        <th>MANAGER_ID</th>\n",
       "        <th>DEP_ID</th>\n",
       "    </tr>\n",
       "    <tr>\n",
       "        <td>E1001</td>\n",
       "        <td>John</td>\n",
       "        <td>Thomas</td>\n",
       "        <td>123456</td>\n",
       "        <td>1/9/1976</td>\n",
       "        <td>M</td>\n",
       "        <td>5631 Rice, OakPark,IL</td>\n",
       "        <td>100</td>\n",
       "        <td>100000</td>\n",
       "        <td>30001</td>\n",
       "        <td>2</td>\n",
       "    </tr>\n",
       "    <tr>\n",
       "        <td>E1002</td>\n",
       "        <td>Alice</td>\n",
       "        <td>James</td>\n",
       "        <td>123457</td>\n",
       "        <td>7/31/1972</td>\n",
       "        <td>F</td>\n",
       "        <td>980 Berry ln, Elgin,IL</td>\n",
       "        <td>200</td>\n",
       "        <td>80000</td>\n",
       "        <td>30002</td>\n",
       "        <td>5</td>\n",
       "    </tr>\n",
       "    <tr>\n",
       "        <td>E1003</td>\n",
       "        <td>Steve</td>\n",
       "        <td>Wells</td>\n",
       "        <td>123458</td>\n",
       "        <td>8/10/1980</td>\n",
       "        <td>M</td>\n",
       "        <td>291 Springs, Gary,IL</td>\n",
       "        <td>300</td>\n",
       "        <td>50000</td>\n",
       "        <td>30002</td>\n",
       "        <td>5</td>\n",
       "    </tr>\n",
       "    <tr>\n",
       "        <td>E1004</td>\n",
       "        <td>Santosh</td>\n",
       "        <td>Kumar</td>\n",
       "        <td>123459</td>\n",
       "        <td>7/20/1985</td>\n",
       "        <td>M</td>\n",
       "        <td>511 Aurora Av, Aurora,IL</td>\n",
       "        <td>400</td>\n",
       "        <td>60000</td>\n",
       "        <td>30004</td>\n",
       "        <td>5</td>\n",
       "    </tr>\n",
       "    <tr>\n",
       "        <td>E1005</td>\n",
       "        <td>Ahmed</td>\n",
       "        <td>Hussain</td>\n",
       "        <td>123410</td>\n",
       "        <td>1/4/1981</td>\n",
       "        <td>M</td>\n",
       "        <td>216 Oak Tree, Geneva,IL</td>\n",
       "        <td>500</td>\n",
       "        <td>70000</td>\n",
       "        <td>30001</td>\n",
       "        <td>2</td>\n",
       "    </tr>\n",
       "    <tr>\n",
       "        <td>E1006</td>\n",
       "        <td>Nancy</td>\n",
       "        <td>Allen</td>\n",
       "        <td>123411</td>\n",
       "        <td>2/6/1978</td>\n",
       "        <td>F</td>\n",
       "        <td>111 Green Pl, Elgin,IL</td>\n",
       "        <td>600</td>\n",
       "        <td>90000</td>\n",
       "        <td>30001</td>\n",
       "        <td>2</td>\n",
       "    </tr>\n",
       "    <tr>\n",
       "        <td>E1007</td>\n",
       "        <td>Mary</td>\n",
       "        <td>Thomas</td>\n",
       "        <td>123412</td>\n",
       "        <td>5/5/1975</td>\n",
       "        <td>F</td>\n",
       "        <td>100 Rose Pl, Gary,IL</td>\n",
       "        <td>650</td>\n",
       "        <td>65000</td>\n",
       "        <td>30003</td>\n",
       "        <td>7</td>\n",
       "    </tr>\n",
       "    <tr>\n",
       "        <td>E1008</td>\n",
       "        <td>Bharath</td>\n",
       "        <td>Gupta</td>\n",
       "        <td>123413</td>\n",
       "        <td>5/6/1985</td>\n",
       "        <td>M</td>\n",
       "        <td>145 Berry Ln, Naperville,IL</td>\n",
       "        <td>660</td>\n",
       "        <td>65000</td>\n",
       "        <td>30003</td>\n",
       "        <td>7</td>\n",
       "    </tr>\n",
       "    <tr>\n",
       "        <td>E1009</td>\n",
       "        <td>Andrea</td>\n",
       "        <td>Jones</td>\n",
       "        <td>123414</td>\n",
       "        <td>7/9/1990</td>\n",
       "        <td>F</td>\n",
       "        <td>120 Fall Creek, Gary,IL</td>\n",
       "        <td>234</td>\n",
       "        <td>70000</td>\n",
       "        <td>30003</td>\n",
       "        <td>7</td>\n",
       "    </tr>\n",
       "    <tr>\n",
       "        <td>E1010</td>\n",
       "        <td>Ann</td>\n",
       "        <td>Jacob</td>\n",
       "        <td>123415</td>\n",
       "        <td>3/30/1982</td>\n",
       "        <td>F</td>\n",
       "        <td>111 Britany Springs,Elgin,IL</td>\n",
       "        <td>220</td>\n",
       "        <td>70000</td>\n",
       "        <td>30004</td>\n",
       "        <td>5</td>\n",
       "    </tr>\n",
       "</table>"
      ],
      "text/plain": [
       "[('E1001', 'John', 'Thomas', '123456', '1/9/1976', 'M', '5631 Rice, OakPark,IL', '100', 100000, '30001', '2'),\n",
       " ('E1002', 'Alice', 'James', '123457', '7/31/1972', 'F', '980 Berry ln, Elgin,IL', '200', 80000, '30002', '5'),\n",
       " ('E1003', 'Steve', 'Wells', '123458', '8/10/1980', 'M', '291 Springs, Gary,IL', '300', 50000, '30002', '5'),\n",
       " ('E1004', 'Santosh', 'Kumar', '123459', '7/20/1985', 'M', '511 Aurora Av, Aurora,IL', '400', 60000, '30004', '5'),\n",
       " ('E1005', 'Ahmed', 'Hussain', '123410', '1/4/1981', 'M', '216 Oak Tree, Geneva,IL', '500', 70000, '30001', '2'),\n",
       " ('E1006', 'Nancy', 'Allen', '123411', '2/6/1978', 'F', '111 Green Pl, Elgin,IL', '600', 90000, '30001', '2'),\n",
       " ('E1007', 'Mary', 'Thomas', '123412', '5/5/1975', 'F', '100 Rose Pl, Gary,IL', '650', 65000, '30003', '7'),\n",
       " ('E1008', 'Bharath', 'Gupta', '123413', '5/6/1985', 'M', '145 Berry Ln, Naperville,IL', '660', 65000, '30003', '7'),\n",
       " ('E1009', 'Andrea', 'Jones', '123414', '7/9/1990', 'F', '120 Fall Creek, Gary,IL', '234', 70000, '30003', '7'),\n",
       " ('E1010', 'Ann', 'Jacob', '123415', '3/30/1982', 'F', '111 Britany Springs,Elgin,IL', '220', 70000, '30004', '5')]"
      ]
     },
     "execution_count": 58,
     "metadata": {},
     "output_type": "execute_result"
    }
   ],
   "source": [
    "%%sql\n",
    "select * from employees;"
   ]
  },
  {
   "cell_type": "code",
   "execution_count": 59,
   "id": "29771684-e8d4-4cb1-9c3d-99599f03f26f",
   "metadata": {},
   "outputs": [
    {
     "name": "stdout",
     "output_type": "stream",
     "text": [
      " * sqlite://\n",
      "Done.\n"
     ]
    },
    {
     "data": {
      "text/html": [
       "<table>\n",
       "    <tr>\n",
       "        <th>F_NAME</th>\n",
       "        <th>L_NAME</th>\n",
       "        <th>ADDRESS</th>\n",
       "    </tr>\n",
       "    <tr>\n",
       "        <td>Alice</td>\n",
       "        <td>James</td>\n",
       "        <td>980 Berry ln, Elgin,IL</td>\n",
       "    </tr>\n",
       "    <tr>\n",
       "        <td>Nancy</td>\n",
       "        <td>Allen</td>\n",
       "        <td>111 Green Pl, Elgin,IL</td>\n",
       "    </tr>\n",
       "    <tr>\n",
       "        <td>Ann</td>\n",
       "        <td>Jacob</td>\n",
       "        <td>111 Britany Springs,Elgin,IL</td>\n",
       "    </tr>\n",
       "</table>"
      ],
      "text/plain": [
       "[('Alice', 'James', '980 Berry ln, Elgin,IL'),\n",
       " ('Nancy', 'Allen', '111 Green Pl, Elgin,IL'),\n",
       " ('Ann', 'Jacob', '111 Britany Springs,Elgin,IL')]"
      ]
     },
     "execution_count": 59,
     "metadata": {},
     "output_type": "execute_result"
    }
   ],
   "source": [
    "%%sql\n",
    "\n",
    "SELECT F_NAME, L_NAME, ADDRESS\n",
    "FROM EMPLOYEES \n",
    "WHERE ADDRESS LIKE '%Elgin,IL';"
   ]
  },
  {
   "cell_type": "code",
   "execution_count": 60,
   "id": "496447f1-d774-4d4a-8b54-939b02ff664a",
   "metadata": {},
   "outputs": [
    {
     "name": "stdout",
     "output_type": "stream",
     "text": [
      " * sqlite://\n",
      "Done.\n"
     ]
    },
    {
     "data": {
      "text/html": [
       "<table>\n",
       "    <tr>\n",
       "        <th>F_NAME</th>\n",
       "        <th>L_NAME</th>\n",
       "        <th>B_DATE</th>\n",
       "    </tr>\n",
       "    <tr>\n",
       "        <td>John</td>\n",
       "        <td>Thomas</td>\n",
       "        <td>1/9/1976</td>\n",
       "    </tr>\n",
       "    <tr>\n",
       "        <td>Alice</td>\n",
       "        <td>James</td>\n",
       "        <td>7/31/1972</td>\n",
       "    </tr>\n",
       "    <tr>\n",
       "        <td>Nancy</td>\n",
       "        <td>Allen</td>\n",
       "        <td>2/6/1978</td>\n",
       "    </tr>\n",
       "    <tr>\n",
       "        <td>Mary</td>\n",
       "        <td>Thomas</td>\n",
       "        <td>5/5/1975</td>\n",
       "    </tr>\n",
       "</table>"
      ],
      "text/plain": [
       "[('John', 'Thomas', '1/9/1976'),\n",
       " ('Alice', 'James', '7/31/1972'),\n",
       " ('Nancy', 'Allen', '2/6/1978'),\n",
       " ('Mary', 'Thomas', '5/5/1975')]"
      ]
     },
     "execution_count": 60,
     "metadata": {},
     "output_type": "execute_result"
    }
   ],
   "source": [
    "%%sql\n",
    "\n",
    "SELECT F_NAME , L_NAME, B_DATE\n",
    "FROM EMPLOYEES\n",
    "WHERE B_DATE LIKE '%197%';"
   ]
  },
  {
   "cell_type": "code",
   "execution_count": 61,
   "id": "1f018c26-0b4e-47b7-af2d-51eb9293c494",
   "metadata": {},
   "outputs": [
    {
     "name": "stdout",
     "output_type": "stream",
     "text": [
      " * sqlite://\n",
      "Done.\n"
     ]
    },
    {
     "data": {
      "text/html": [
       "<table>\n",
       "    <tr>\n",
       "        <th>F_NAME</th>\n",
       "        <th>L_NAME</th>\n",
       "        <th>SALARY</th>\n",
       "        <th>DEP_ID</th>\n",
       "    </tr>\n",
       "    <tr>\n",
       "        <td>Santosh</td>\n",
       "        <td>Kumar</td>\n",
       "        <td>60000</td>\n",
       "        <td>5</td>\n",
       "    </tr>\n",
       "    <tr>\n",
       "        <td>Ann</td>\n",
       "        <td>Jacob</td>\n",
       "        <td>70000</td>\n",
       "        <td>5</td>\n",
       "    </tr>\n",
       "</table>"
      ],
      "text/plain": [
       "[('Santosh', 'Kumar', 60000, '5'), ('Ann', 'Jacob', 70000, '5')]"
      ]
     },
     "execution_count": 61,
     "metadata": {},
     "output_type": "execute_result"
    }
   ],
   "source": [
    "%%sql\n",
    "\n",
    "SELECT F_NAME, L_NAME, SALARY, DEP_ID\n",
    "FROM EMPLOYEES\n",
    "WHERE (SALARY BETWEEN 60000 AND 70000) AND DEP_ID = 5;"
   ]
  },
  {
   "cell_type": "markdown",
   "id": "9aebf2a8-72ba-4773-8486-4a7758ff2bbe",
   "metadata": {},
   "source": [
    "Now sort results:"
   ]
  },
  {
   "cell_type": "code",
   "execution_count": 62,
   "id": "29ee695a-7fca-4d81-ad8d-d9213de74e95",
   "metadata": {},
   "outputs": [
    {
     "name": "stdout",
     "output_type": "stream",
     "text": [
      " * sqlite://\n",
      "Done.\n"
     ]
    },
    {
     "data": {
      "text/html": [
       "<table>\n",
       "    <tr>\n",
       "        <th>F_NAME</th>\n",
       "        <th>L_NAME</th>\n",
       "        <th>DEP_ID</th>\n",
       "    </tr>\n",
       "    <tr>\n",
       "        <td>John</td>\n",
       "        <td>Thomas</td>\n",
       "        <td>2</td>\n",
       "    </tr>\n",
       "    <tr>\n",
       "        <td>Ahmed</td>\n",
       "        <td>Hussain</td>\n",
       "        <td>2</td>\n",
       "    </tr>\n",
       "    <tr>\n",
       "        <td>Nancy</td>\n",
       "        <td>Allen</td>\n",
       "        <td>2</td>\n",
       "    </tr>\n",
       "    <tr>\n",
       "        <td>Alice</td>\n",
       "        <td>James</td>\n",
       "        <td>5</td>\n",
       "    </tr>\n",
       "    <tr>\n",
       "        <td>Steve</td>\n",
       "        <td>Wells</td>\n",
       "        <td>5</td>\n",
       "    </tr>\n",
       "    <tr>\n",
       "        <td>Santosh</td>\n",
       "        <td>Kumar</td>\n",
       "        <td>5</td>\n",
       "    </tr>\n",
       "    <tr>\n",
       "        <td>Ann</td>\n",
       "        <td>Jacob</td>\n",
       "        <td>5</td>\n",
       "    </tr>\n",
       "    <tr>\n",
       "        <td>Mary</td>\n",
       "        <td>Thomas</td>\n",
       "        <td>7</td>\n",
       "    </tr>\n",
       "    <tr>\n",
       "        <td>Bharath</td>\n",
       "        <td>Gupta</td>\n",
       "        <td>7</td>\n",
       "    </tr>\n",
       "    <tr>\n",
       "        <td>Andrea</td>\n",
       "        <td>Jones</td>\n",
       "        <td>7</td>\n",
       "    </tr>\n",
       "</table>"
      ],
      "text/plain": [
       "[('John', 'Thomas', '2'),\n",
       " ('Ahmed', 'Hussain', '2'),\n",
       " ('Nancy', 'Allen', '2'),\n",
       " ('Alice', 'James', '5'),\n",
       " ('Steve', 'Wells', '5'),\n",
       " ('Santosh', 'Kumar', '5'),\n",
       " ('Ann', 'Jacob', '5'),\n",
       " ('Mary', 'Thomas', '7'),\n",
       " ('Bharath', 'Gupta', '7'),\n",
       " ('Andrea', 'Jones', '7')]"
      ]
     },
     "execution_count": 62,
     "metadata": {},
     "output_type": "execute_result"
    }
   ],
   "source": [
    "%%sql\n",
    "\n",
    "SELECT F_NAME, L_NAME, DEP_ID\n",
    "FROM EMPLOYEES\n",
    "ORDER BY DEP_ID;"
   ]
  },
  {
   "cell_type": "code",
   "execution_count": 63,
   "id": "e30ce560-11df-4e73-9a64-eff4932a25e1",
   "metadata": {},
   "outputs": [
    {
     "name": "stdout",
     "output_type": "stream",
     "text": [
      " * sqlite://\n",
      "Done.\n"
     ]
    },
    {
     "data": {
      "text/html": [
       "<table>\n",
       "    <tr>\n",
       "        <th>F_NAME</th>\n",
       "        <th>L_NAME</th>\n",
       "        <th>DEP_ID</th>\n",
       "    </tr>\n",
       "    <tr>\n",
       "        <td>Steve</td>\n",
       "        <td>Wells</td>\n",
       "        <td>5</td>\n",
       "    </tr>\n",
       "    <tr>\n",
       "        <td>Mary</td>\n",
       "        <td>Thomas</td>\n",
       "        <td>7</td>\n",
       "    </tr>\n",
       "    <tr>\n",
       "        <td>John</td>\n",
       "        <td>Thomas</td>\n",
       "        <td>2</td>\n",
       "    </tr>\n",
       "    <tr>\n",
       "        <td>Santosh</td>\n",
       "        <td>Kumar</td>\n",
       "        <td>5</td>\n",
       "    </tr>\n",
       "    <tr>\n",
       "        <td>Andrea</td>\n",
       "        <td>Jones</td>\n",
       "        <td>7</td>\n",
       "    </tr>\n",
       "    <tr>\n",
       "        <td>Alice</td>\n",
       "        <td>James</td>\n",
       "        <td>5</td>\n",
       "    </tr>\n",
       "    <tr>\n",
       "        <td>Ann</td>\n",
       "        <td>Jacob</td>\n",
       "        <td>5</td>\n",
       "    </tr>\n",
       "    <tr>\n",
       "        <td>Ahmed</td>\n",
       "        <td>Hussain</td>\n",
       "        <td>2</td>\n",
       "    </tr>\n",
       "    <tr>\n",
       "        <td>Bharath</td>\n",
       "        <td>Gupta</td>\n",
       "        <td>7</td>\n",
       "    </tr>\n",
       "    <tr>\n",
       "        <td>Nancy</td>\n",
       "        <td>Allen</td>\n",
       "        <td>2</td>\n",
       "    </tr>\n",
       "</table>"
      ],
      "text/plain": [
       "[('Steve', 'Wells', '5'),\n",
       " ('Mary', 'Thomas', '7'),\n",
       " ('John', 'Thomas', '2'),\n",
       " ('Santosh', 'Kumar', '5'),\n",
       " ('Andrea', 'Jones', '7'),\n",
       " ('Alice', 'James', '5'),\n",
       " ('Ann', 'Jacob', '5'),\n",
       " ('Ahmed', 'Hussain', '2'),\n",
       " ('Bharath', 'Gupta', '7'),\n",
       " ('Nancy', 'Allen', '2')]"
      ]
     },
     "execution_count": 63,
     "metadata": {},
     "output_type": "execute_result"
    }
   ],
   "source": [
    "%%sql\n",
    "\n",
    "SELECT F_NAME, L_NAME, DEP_ID\n",
    "FROM EMPLOYEES\n",
    "ORDER BY L_NAME DESC, DEP_ID DESC;"
   ]
  },
  {
   "cell_type": "markdown",
   "id": "1a3a8025-19f3-46ae-8d29-7c0baafde87b",
   "metadata": {},
   "source": [
    "Select data from multiple tables using aliases and the relationships between the tables:"
   ]
  },
  {
   "cell_type": "code",
   "execution_count": 64,
   "id": "4f60f239-1268-4ed2-b726-58d1f4c9d900",
   "metadata": {},
   "outputs": [
    {
     "name": "stdout",
     "output_type": "stream",
     "text": [
      " * sqlite://\n",
      "Done.\n"
     ]
    },
    {
     "data": {
      "text/html": [
       "<table>\n",
       "    <tr>\n",
       "        <th>DEP_NAME</th>\n",
       "        <th>F_NAME</th>\n",
       "        <th>L_NAME</th>\n",
       "    </tr>\n",
       "    <tr>\n",
       "        <td>Architect Group</td>\n",
       "        <td>John</td>\n",
       "        <td>Thomas</td>\n",
       "    </tr>\n",
       "    <tr>\n",
       "        <td>Architect Group</td>\n",
       "        <td>Ahmed</td>\n",
       "        <td>Hussain</td>\n",
       "    </tr>\n",
       "    <tr>\n",
       "        <td>Architect Group</td>\n",
       "        <td>Nancy</td>\n",
       "        <td>Allen</td>\n",
       "    </tr>\n",
       "    <tr>\n",
       "        <td>Design Team</td>\n",
       "        <td>Mary</td>\n",
       "        <td>Thomas</td>\n",
       "    </tr>\n",
       "    <tr>\n",
       "        <td>Design Team</td>\n",
       "        <td>Andrea</td>\n",
       "        <td>Jones</td>\n",
       "    </tr>\n",
       "    <tr>\n",
       "        <td>Design Team</td>\n",
       "        <td>Bharath</td>\n",
       "        <td>Gupta</td>\n",
       "    </tr>\n",
       "    <tr>\n",
       "        <td>Software Group</td>\n",
       "        <td>Steve</td>\n",
       "        <td>Wells</td>\n",
       "    </tr>\n",
       "    <tr>\n",
       "        <td>Software Group</td>\n",
       "        <td>Santosh</td>\n",
       "        <td>Kumar</td>\n",
       "    </tr>\n",
       "    <tr>\n",
       "        <td>Software Group</td>\n",
       "        <td>Alice</td>\n",
       "        <td>James</td>\n",
       "    </tr>\n",
       "    <tr>\n",
       "        <td>Software Group</td>\n",
       "        <td>Ann</td>\n",
       "        <td>Jacob</td>\n",
       "    </tr>\n",
       "</table>"
      ],
      "text/plain": [
       "[('Architect Group', 'John', 'Thomas'),\n",
       " ('Architect Group', 'Ahmed', 'Hussain'),\n",
       " ('Architect Group', 'Nancy', 'Allen'),\n",
       " ('Design Team', 'Mary', 'Thomas'),\n",
       " ('Design Team', 'Andrea', 'Jones'),\n",
       " ('Design Team', 'Bharath', 'Gupta'),\n",
       " ('Software Group', 'Steve', 'Wells'),\n",
       " ('Software Group', 'Santosh', 'Kumar'),\n",
       " ('Software Group', 'Alice', 'James'),\n",
       " ('Software Group', 'Ann', 'Jacob')]"
      ]
     },
     "execution_count": 64,
     "metadata": {},
     "output_type": "execute_result"
    }
   ],
   "source": [
    "%%sql\n",
    "\n",
    "SELECT D.DEP_NAME, E.F_NAME, E.L_NAME\n",
    "FROM EMPLOYEES AS E, DEPARTMENTS AS D\n",
    "WHERE E.DEP_ID = D.DEPT_ID_DEP\n",
    "ORDER BY D.DEP_NAME, E.L_NAME DESC;"
   ]
  },
  {
   "cell_type": "markdown",
   "id": "ef190d49-c4fa-4ffc-99fc-3f0b1dec1d4d",
   "metadata": {},
   "source": [
    "Use grouping:"
   ]
  },
  {
   "cell_type": "code",
   "execution_count": 65,
   "id": "3e140a1c-782d-4b2c-afcd-ee06fbd78b26",
   "metadata": {},
   "outputs": [
    {
     "name": "stdout",
     "output_type": "stream",
     "text": [
      " * sqlite://\n",
      "Done.\n"
     ]
    },
    {
     "data": {
      "text/html": [
       "<table>\n",
       "    <tr>\n",
       "        <th>DEP_ID</th>\n",
       "        <th>COUNT</th>\n",
       "    </tr>\n",
       "    <tr>\n",
       "        <td>2</td>\n",
       "        <td>3</td>\n",
       "    </tr>\n",
       "    <tr>\n",
       "        <td>5</td>\n",
       "        <td>4</td>\n",
       "    </tr>\n",
       "    <tr>\n",
       "        <td>7</td>\n",
       "        <td>3</td>\n",
       "    </tr>\n",
       "</table>"
      ],
      "text/plain": [
       "[('2', 3), ('5', 4), ('7', 3)]"
      ]
     },
     "execution_count": 65,
     "metadata": {},
     "output_type": "execute_result"
    }
   ],
   "source": [
    "%%sql\n",
    "\n",
    "SELECT DEP_ID, COUNT(*) AS COUNT\n",
    "FROM EMPLOYEES\n",
    "GROUP BY DEP_ID;"
   ]
  },
  {
   "cell_type": "code",
   "execution_count": 66,
   "id": "46dc8d82-4505-4a27-94f3-f0ea307a5d39",
   "metadata": {},
   "outputs": [
    {
     "name": "stdout",
     "output_type": "stream",
     "text": [
      " * sqlite://\n",
      "Done.\n"
     ]
    },
    {
     "data": {
      "text/html": [
       "<table>\n",
       "    <tr>\n",
       "        <th>DEP_ID</th>\n",
       "        <th>NUM_EMPLOYEES</th>\n",
       "        <th>AVG_SALARY</th>\n",
       "    </tr>\n",
       "    <tr>\n",
       "        <td>7</td>\n",
       "        <td>3</td>\n",
       "        <td>66666.66666666667</td>\n",
       "    </tr>\n",
       "    <tr>\n",
       "        <td>2</td>\n",
       "        <td>3</td>\n",
       "        <td>86666.66666666667</td>\n",
       "    </tr>\n",
       "</table>"
      ],
      "text/plain": [
       "[('7', 3, 66666.66666666667), ('2', 3, 86666.66666666667)]"
      ]
     },
     "execution_count": 66,
     "metadata": {},
     "output_type": "execute_result"
    }
   ],
   "source": [
    "%%sql\n",
    "\n",
    "SELECT DEP_ID, COUNT(*) AS NUM_EMPLOYEES, AVG(SALARY) AS AVG_SALARY\n",
    "FROM EMPLOYEES\n",
    "GROUP BY DEP_ID HAVING NUM_EMPLOYEES < 4\n",
    "ORDER BY AVG_SALARY;"
   ]
  },
  {
   "cell_type": "code",
   "execution_count": 67,
   "id": "fbaca6b1-94cf-45b4-a0f5-4463bddbaed5",
   "metadata": {},
   "outputs": [
    {
     "name": "stdout",
     "output_type": "stream",
     "text": [
      " * sqlite://\n",
      "Done.\n"
     ]
    },
    {
     "data": {
      "text/html": [
       "<table>\n",
       "    <tr>\n",
       "        <th>EMP_ID</th>\n",
       "        <th>F_NAME</th>\n",
       "        <th>L_NAME</th>\n",
       "        <th>SSN</th>\n",
       "        <th>B_DATE</th>\n",
       "        <th>SEX</th>\n",
       "        <th>ADDRESS</th>\n",
       "        <th>JOB_ID</th>\n",
       "        <th>SALARY</th>\n",
       "        <th>MANAGER_ID</th>\n",
       "        <th>DEP_ID</th>\n",
       "    </tr>\n",
       "    <tr>\n",
       "        <td>E1001</td>\n",
       "        <td>John</td>\n",
       "        <td>Thomas</td>\n",
       "        <td>123456</td>\n",
       "        <td>1/9/1976</td>\n",
       "        <td>M</td>\n",
       "        <td>5631 Rice, OakPark,IL</td>\n",
       "        <td>100</td>\n",
       "        <td>100000</td>\n",
       "        <td>30001</td>\n",
       "        <td>2</td>\n",
       "    </tr>\n",
       "    <tr>\n",
       "        <td>E1005</td>\n",
       "        <td>Ahmed</td>\n",
       "        <td>Hussain</td>\n",
       "        <td>123410</td>\n",
       "        <td>1/4/1981</td>\n",
       "        <td>M</td>\n",
       "        <td>216 Oak Tree, Geneva,IL</td>\n",
       "        <td>500</td>\n",
       "        <td>70000</td>\n",
       "        <td>30001</td>\n",
       "        <td>2</td>\n",
       "    </tr>\n",
       "    <tr>\n",
       "        <td>E1006</td>\n",
       "        <td>Nancy</td>\n",
       "        <td>Allen</td>\n",
       "        <td>123411</td>\n",
       "        <td>2/6/1978</td>\n",
       "        <td>F</td>\n",
       "        <td>111 Green Pl, Elgin,IL</td>\n",
       "        <td>600</td>\n",
       "        <td>90000</td>\n",
       "        <td>30001</td>\n",
       "        <td>2</td>\n",
       "    </tr>\n",
       "    <tr>\n",
       "        <td>E1007</td>\n",
       "        <td>Mary</td>\n",
       "        <td>Thomas</td>\n",
       "        <td>123412</td>\n",
       "        <td>5/5/1975</td>\n",
       "        <td>F</td>\n",
       "        <td>100 Rose Pl, Gary,IL</td>\n",
       "        <td>650</td>\n",
       "        <td>65000</td>\n",
       "        <td>30003</td>\n",
       "        <td>7</td>\n",
       "    </tr>\n",
       "    <tr>\n",
       "        <td>E1008</td>\n",
       "        <td>Bharath</td>\n",
       "        <td>Gupta</td>\n",
       "        <td>123413</td>\n",
       "        <td>5/6/1985</td>\n",
       "        <td>M</td>\n",
       "        <td>145 Berry Ln, Naperville,IL</td>\n",
       "        <td>660</td>\n",
       "        <td>65000</td>\n",
       "        <td>30003</td>\n",
       "        <td>7</td>\n",
       "    </tr>\n",
       "    <tr>\n",
       "        <td>E1009</td>\n",
       "        <td>Andrea</td>\n",
       "        <td>Jones</td>\n",
       "        <td>123414</td>\n",
       "        <td>7/9/1990</td>\n",
       "        <td>F</td>\n",
       "        <td>120 Fall Creek, Gary,IL</td>\n",
       "        <td>234</td>\n",
       "        <td>70000</td>\n",
       "        <td>30003</td>\n",
       "        <td>7</td>\n",
       "    </tr>\n",
       "</table>"
      ],
      "text/plain": [
       "[('E1001', 'John', 'Thomas', '123456', '1/9/1976', 'M', '5631 Rice, OakPark,IL', '100', 100000, '30001', '2'),\n",
       " ('E1005', 'Ahmed', 'Hussain', '123410', '1/4/1981', 'M', '216 Oak Tree, Geneva,IL', '500', 70000, '30001', '2'),\n",
       " ('E1006', 'Nancy', 'Allen', '123411', '2/6/1978', 'F', '111 Green Pl, Elgin,IL', '600', 90000, '30001', '2'),\n",
       " ('E1007', 'Mary', 'Thomas', '123412', '5/5/1975', 'F', '100 Rose Pl, Gary,IL', '650', 65000, '30003', '7'),\n",
       " ('E1008', 'Bharath', 'Gupta', '123413', '5/6/1985', 'M', '145 Berry Ln, Naperville,IL', '660', 65000, '30003', '7'),\n",
       " ('E1009', 'Andrea', 'Jones', '123414', '7/9/1990', 'F', '120 Fall Creek, Gary,IL', '234', 70000, '30003', '7')]"
      ]
     },
     "execution_count": 67,
     "metadata": {},
     "output_type": "execute_result"
    }
   ],
   "source": [
    "%%sql\n",
    "\n",
    "SELECT *\n",
    "FROM EMPLOYEES\n",
    "WHERE DEP_ID IN(2,7);"
   ]
  },
  {
   "cell_type": "markdown",
   "id": "2d5d19f9-07e6-4db4-97d1-d8b167fc34c1",
   "metadata": {},
   "source": [
    "### Built-in Database Functions\n",
    "\n",
    "Built-in Functions:\n",
    "- Most databases come with built-in functions which can be included as part of SQL statements. \n",
    "- This can significantly reduce the amount of data that needs to be retrieved and speed up data processing.\n",
    "- You can also create functions (user-defined functions) that can then be used in the database.\n",
    "\n",
    "Aggregate Functions:\n",
    "- Column functions\n",
    "- Input: collection of values (such as an entire column or subset of a column)\n",
    "- Output: single value or Null\n",
    "\n",
    "Examples of Aggregate Functions:\n",
    "- Sum()\n",
    "- Min()\n",
    "- Max()\n",
    "- Avg()\n",
    "\n",
    "*NOTE: you can use keyword AS to alias a new name for these output values.*"
   ]
  },
  {
   "cell_type": "markdown",
   "id": "0c2ac3ed-5466-4a04-832f-7afe52415a9d",
   "metadata": {},
   "source": [
    "### Aggregate Functions\n",
    "\n",
    "Aggregate Functions:\n",
    "- Column functions\n",
    "- Input: collection of values (such as an entire column or subset of a column)\n",
    "- Output: single value or Null\n",
    "\n",
    "Examples of Aggregate Functions:\n",
    "- Sum()\n",
    "- Min()\n",
    "- Max()\n",
    "- Avg()"
   ]
  },
  {
   "cell_type": "markdown",
   "id": "5f57bc3f-1be0-474d-ab22-4439903edf99",
   "metadata": {},
   "source": [
    "### Scalar and String Functions\n",
    "\n",
    "Scalar Functions:\n",
    "- Performs operations on every input value.\n",
    "- Can be used in the WHERE clause \n",
    "     - (*where LCASE(col1) = 'word';*)\n",
    "- Can be used in conjunction with DISTINCT to get unique values \n",
    "    - (*select DISTINCT(UCASE(col1)) from table;*)\n",
    "\n",
    "String Functions:\n",
    "- A subgroup of scalar functions that perform operations on string (CHAR, VARCHAR) input values.\n",
    "\n",
    "Examples of Scalar Functions:\n",
    "- Round()\n",
    "- Length()\n",
    "- Ucase()\n",
    "- Lcase()"
   ]
  },
  {
   "cell_type": "markdown",
   "id": "74e5c1c8-2035-42b3-a802-37afe562c306",
   "metadata": {},
   "source": [
    "### Date and Time Functions\n",
    "\n",
    "Most Databases contain special datatypes for date and times:\n",
    "- Date (YYYY-MM-DD)\n",
    "- Time (HH:MM:SS)\n",
    "- Datetime (YYYY-MM-DD HH:MM:SS[zzzzzz])\n",
    "- Date and time functions can be used in where clauses\n",
    "    - *where month(col2) = '05';*\n",
    "- You can use date and time arithmetic:\n",
    "    - select (col2 + 3 days) from table;\n",
    "\n",
    "Special Registers:\n",
    "- Current_date\n",
    "- Current_time\n",
    "\n",
    "Date and Time functions:\n",
    "- Year()\n",
    "- Month()\n",
    "- Day()\n",
    "- Dayofmonth()\n",
    "- Dayofweek()\n",
    "- Dayofyear()\n",
    "- Week()\n",
    "- Hour()\n",
    "- Minute()\n",
    "- Second()\n",
    "\n",
    "*NOTE: SQLite doesn't have many date-time functions.*"
   ]
  },
  {
   "cell_type": "markdown",
   "id": "ab4747c7-c72d-45d4-9e53-29d7249a315d",
   "metadata": {},
   "source": [
    "**Lab**: create table and practice using functions on it"
   ]
  },
  {
   "cell_type": "code",
   "execution_count": 68,
   "id": "a211a9d1-552e-4ae6-96e3-f9742656de09",
   "metadata": {},
   "outputs": [],
   "source": [
    "%sql sqlite://"
   ]
  },
  {
   "cell_type": "code",
   "execution_count": 69,
   "id": "8953bb0b-6ba3-4e7c-9822-b00ae14a12c5",
   "metadata": {},
   "outputs": [
    {
     "name": "stdout",
     "output_type": "stream",
     "text": [
      " * sqlite://\n",
      "Done.\n"
     ]
    },
    {
     "data": {
      "text/plain": [
       "[]"
      ]
     },
     "execution_count": 69,
     "metadata": {},
     "output_type": "execute_result"
    }
   ],
   "source": [
    "%%sql\n",
    "\n",
    "create table PETRESCUE (\n",
    "    ID INTEGER NOT NULL,\n",
    "    ANIMAL VARCHAR(20),\n",
    "    QUANTITY INTEGER,\n",
    "    COST DECIMAL(6,2),\n",
    "    RESCUEDATE DATE,\n",
    "    PRIMARY KEY (ID)\n",
    ");"
   ]
  },
  {
   "cell_type": "code",
   "execution_count": 70,
   "id": "bc1b5017-394f-452e-97a7-46d219098335",
   "metadata": {},
   "outputs": [
    {
     "name": "stdout",
     "output_type": "stream",
     "text": [
      " * sqlite://\n",
      "9 rows affected.\n"
     ]
    },
    {
     "data": {
      "text/plain": [
       "[]"
      ]
     },
     "execution_count": 70,
     "metadata": {},
     "output_type": "execute_result"
    }
   ],
   "source": [
    "%%sql\n",
    "\n",
    "insert into PETRESCUE values \n",
    "    (1,'Cat',9,450.09,'2018-05-29'),\n",
    "    (2,'Dog',3,666.66,'2018-06-01'),\n",
    "    (3,'Dog',1,100.00,'2018-06-04'),\n",
    "    (4,'Parrot',2,50.00,'2018-06-04'),\n",
    "    (5,'Dog',1,75.75,'2018-06-10'),\n",
    "    (6,'Hamster',6,60.60,'2018-06-11'),\n",
    "    (7,'Cat',1,44.44,'2018-06-11'),\n",
    "    (8,'Goldfish',24,48.48,'2018-06-14'),\n",
    "    (9,'Dog',2,222.22,'2018-06-15');"
   ]
  },
  {
   "cell_type": "code",
   "execution_count": 71,
   "id": "5a3684a8-3e6d-4613-8310-64909a3a4c50",
   "metadata": {},
   "outputs": [
    {
     "name": "stdout",
     "output_type": "stream",
     "text": [
      " * sqlite://\n",
      "Done.\n"
     ]
    },
    {
     "data": {
      "text/html": [
       "<table>\n",
       "    <tr>\n",
       "        <th>ID</th>\n",
       "        <th>ANIMAL</th>\n",
       "        <th>QUANTITY</th>\n",
       "        <th>COST</th>\n",
       "        <th>RESCUEDATE</th>\n",
       "    </tr>\n",
       "    <tr>\n",
       "        <td>1</td>\n",
       "        <td>Cat</td>\n",
       "        <td>9</td>\n",
       "        <td>450.09</td>\n",
       "        <td>2018-05-29</td>\n",
       "    </tr>\n",
       "    <tr>\n",
       "        <td>2</td>\n",
       "        <td>Dog</td>\n",
       "        <td>3</td>\n",
       "        <td>666.66</td>\n",
       "        <td>2018-06-01</td>\n",
       "    </tr>\n",
       "    <tr>\n",
       "        <td>3</td>\n",
       "        <td>Dog</td>\n",
       "        <td>1</td>\n",
       "        <td>100</td>\n",
       "        <td>2018-06-04</td>\n",
       "    </tr>\n",
       "    <tr>\n",
       "        <td>4</td>\n",
       "        <td>Parrot</td>\n",
       "        <td>2</td>\n",
       "        <td>50</td>\n",
       "        <td>2018-06-04</td>\n",
       "    </tr>\n",
       "    <tr>\n",
       "        <td>5</td>\n",
       "        <td>Dog</td>\n",
       "        <td>1</td>\n",
       "        <td>75.75</td>\n",
       "        <td>2018-06-10</td>\n",
       "    </tr>\n",
       "    <tr>\n",
       "        <td>6</td>\n",
       "        <td>Hamster</td>\n",
       "        <td>6</td>\n",
       "        <td>60.6</td>\n",
       "        <td>2018-06-11</td>\n",
       "    </tr>\n",
       "    <tr>\n",
       "        <td>7</td>\n",
       "        <td>Cat</td>\n",
       "        <td>1</td>\n",
       "        <td>44.44</td>\n",
       "        <td>2018-06-11</td>\n",
       "    </tr>\n",
       "    <tr>\n",
       "        <td>8</td>\n",
       "        <td>Goldfish</td>\n",
       "        <td>24</td>\n",
       "        <td>48.48</td>\n",
       "        <td>2018-06-14</td>\n",
       "    </tr>\n",
       "    <tr>\n",
       "        <td>9</td>\n",
       "        <td>Dog</td>\n",
       "        <td>2</td>\n",
       "        <td>222.22</td>\n",
       "        <td>2018-06-15</td>\n",
       "    </tr>\n",
       "</table>"
      ],
      "text/plain": [
       "[(1, 'Cat', 9, 450.09, '2018-05-29'),\n",
       " (2, 'Dog', 3, 666.66, '2018-06-01'),\n",
       " (3, 'Dog', 1, 100, '2018-06-04'),\n",
       " (4, 'Parrot', 2, 50, '2018-06-04'),\n",
       " (5, 'Dog', 1, 75.75, '2018-06-10'),\n",
       " (6, 'Hamster', 6, 60.6, '2018-06-11'),\n",
       " (7, 'Cat', 1, 44.44, '2018-06-11'),\n",
       " (8, 'Goldfish', 24, 48.48, '2018-06-14'),\n",
       " (9, 'Dog', 2, 222.22, '2018-06-15')]"
      ]
     },
     "execution_count": 71,
     "metadata": {},
     "output_type": "execute_result"
    }
   ],
   "source": [
    "%%sql\n",
    "\n",
    "select * from PETRESCUE;"
   ]
  },
  {
   "cell_type": "code",
   "execution_count": 72,
   "id": "884c15d4-eb44-4ea0-b23c-8e9da69a1c22",
   "metadata": {},
   "outputs": [
    {
     "name": "stdout",
     "output_type": "stream",
     "text": [
      " * sqlite://\n",
      "Done.\n"
     ]
    },
    {
     "data": {
      "text/html": [
       "<table>\n",
       "    <tr>\n",
       "        <th>total_cost</th>\n",
       "    </tr>\n",
       "    <tr>\n",
       "        <td>1718.24</td>\n",
       "    </tr>\n",
       "</table>"
      ],
      "text/plain": [
       "[(1718.24,)]"
      ]
     },
     "execution_count": 72,
     "metadata": {},
     "output_type": "execute_result"
    }
   ],
   "source": [
    "%%sql\n",
    "\n",
    "select sum(cost) as total_cost\n",
    "from PETRESCUE;"
   ]
  },
  {
   "cell_type": "code",
   "execution_count": 73,
   "id": "a3cb70db-a72e-4661-9961-8f445d3465de",
   "metadata": {},
   "outputs": [
    {
     "name": "stdout",
     "output_type": "stream",
     "text": [
      " * sqlite://\n",
      "Done.\n"
     ]
    },
    {
     "data": {
      "text/html": [
       "<table>\n",
       "    <tr>\n",
       "        <th>maximum</th>\n",
       "    </tr>\n",
       "    <tr>\n",
       "        <td>24</td>\n",
       "    </tr>\n",
       "</table>"
      ],
      "text/plain": [
       "[(24,)]"
      ]
     },
     "execution_count": 73,
     "metadata": {},
     "output_type": "execute_result"
    }
   ],
   "source": [
    "%%sql\n",
    "\n",
    "select max(quantity) as maximum\n",
    "from PETRESCUE;"
   ]
  },
  {
   "cell_type": "code",
   "execution_count": 74,
   "id": "951b0625-0ba2-4b36-a6ca-4d6797d585aa",
   "metadata": {},
   "outputs": [
    {
     "name": "stdout",
     "output_type": "stream",
     "text": [
      " * sqlite://\n",
      "Done.\n"
     ]
    },
    {
     "data": {
      "text/html": [
       "<table>\n",
       "    <tr>\n",
       "        <th>avg_cost</th>\n",
       "    </tr>\n",
       "    <tr>\n",
       "        <td>190.91555555555556</td>\n",
       "    </tr>\n",
       "</table>"
      ],
      "text/plain": [
       "[(190.91555555555556,)]"
      ]
     },
     "execution_count": 74,
     "metadata": {},
     "output_type": "execute_result"
    }
   ],
   "source": [
    "%%sql\n",
    "\n",
    "select avg(cost) as avg_cost\n",
    "from PETRESCUE;"
   ]
  },
  {
   "cell_type": "code",
   "execution_count": 75,
   "id": "da07a6a5-fb43-4cf6-a3ad-5396d1b01233",
   "metadata": {},
   "outputs": [
    {
     "name": "stdout",
     "output_type": "stream",
     "text": [
      " * sqlite://\n",
      "Done.\n"
     ]
    },
    {
     "data": {
      "text/html": [
       "<table>\n",
       "    <tr>\n",
       "        <th>avg_dog_cost</th>\n",
       "    </tr>\n",
       "    <tr>\n",
       "        <td>127.27000000000001</td>\n",
       "    </tr>\n",
       "</table>"
      ],
      "text/plain": [
       "[(127.27000000000001,)]"
      ]
     },
     "execution_count": 75,
     "metadata": {},
     "output_type": "execute_result"
    }
   ],
   "source": [
    "%%sql\n",
    "\n",
    "select avg(cost/quantity) as avg_dog_cost\n",
    "from PETRESCUE\n",
    "where ANIMAL = 'Dog';"
   ]
  },
  {
   "cell_type": "code",
   "execution_count": 76,
   "id": "66848cec-aaf3-4f75-b8ef-64259926394d",
   "metadata": {},
   "outputs": [
    {
     "name": "stdout",
     "output_type": "stream",
     "text": [
      " * sqlite://\n",
      "Done.\n"
     ]
    },
    {
     "data": {
      "text/html": [
       "<table>\n",
       "    <tr>\n",
       "        <th>round(cost)</th>\n",
       "    </tr>\n",
       "    <tr>\n",
       "        <td>450.0</td>\n",
       "    </tr>\n",
       "    <tr>\n",
       "        <td>667.0</td>\n",
       "    </tr>\n",
       "    <tr>\n",
       "        <td>100.0</td>\n",
       "    </tr>\n",
       "    <tr>\n",
       "        <td>50.0</td>\n",
       "    </tr>\n",
       "    <tr>\n",
       "        <td>76.0</td>\n",
       "    </tr>\n",
       "    <tr>\n",
       "        <td>61.0</td>\n",
       "    </tr>\n",
       "    <tr>\n",
       "        <td>44.0</td>\n",
       "    </tr>\n",
       "    <tr>\n",
       "        <td>48.0</td>\n",
       "    </tr>\n",
       "    <tr>\n",
       "        <td>222.0</td>\n",
       "    </tr>\n",
       "</table>"
      ],
      "text/plain": [
       "[(450.0,),\n",
       " (667.0,),\n",
       " (100.0,),\n",
       " (50.0,),\n",
       " (76.0,),\n",
       " (61.0,),\n",
       " (44.0,),\n",
       " (48.0,),\n",
       " (222.0,)]"
      ]
     },
     "execution_count": 76,
     "metadata": {},
     "output_type": "execute_result"
    }
   ],
   "source": [
    "%%sql\n",
    "\n",
    "select round(cost)\n",
    "from PETRESCUE;"
   ]
  },
  {
   "cell_type": "code",
   "execution_count": 77,
   "id": "ad11f052-cd69-4c1b-b2b1-c27bd029fd92",
   "metadata": {},
   "outputs": [
    {
     "name": "stdout",
     "output_type": "stream",
     "text": [
      " * sqlite://\n",
      "Done.\n"
     ]
    },
    {
     "data": {
      "text/html": [
       "<table>\n",
       "    <tr>\n",
       "        <th>length(animal)</th>\n",
       "    </tr>\n",
       "    <tr>\n",
       "        <td>3</td>\n",
       "    </tr>\n",
       "    <tr>\n",
       "        <td>3</td>\n",
       "    </tr>\n",
       "    <tr>\n",
       "        <td>3</td>\n",
       "    </tr>\n",
       "    <tr>\n",
       "        <td>6</td>\n",
       "    </tr>\n",
       "    <tr>\n",
       "        <td>3</td>\n",
       "    </tr>\n",
       "    <tr>\n",
       "        <td>7</td>\n",
       "    </tr>\n",
       "    <tr>\n",
       "        <td>3</td>\n",
       "    </tr>\n",
       "    <tr>\n",
       "        <td>8</td>\n",
       "    </tr>\n",
       "    <tr>\n",
       "        <td>3</td>\n",
       "    </tr>\n",
       "</table>"
      ],
      "text/plain": [
       "[(3,), (3,), (3,), (6,), (3,), (7,), (3,), (8,), (3,)]"
      ]
     },
     "execution_count": 77,
     "metadata": {},
     "output_type": "execute_result"
    }
   ],
   "source": [
    "%%sql\n",
    "\n",
    "select length(animal)\n",
    "from PETRESCUE;"
   ]
  },
  {
   "cell_type": "code",
   "execution_count": 78,
   "id": "4aafc68c-3a92-45a4-84f6-79aa9aa32fcc",
   "metadata": {},
   "outputs": [
    {
     "name": "stdout",
     "output_type": "stream",
     "text": [
      " * sqlite://\n",
      "Done.\n"
     ]
    },
    {
     "data": {
      "text/html": [
       "<table>\n",
       "    <tr>\n",
       "        <th>ANIMAL</th>\n",
       "    </tr>\n",
       "    <tr>\n",
       "        <td>Cat</td>\n",
       "    </tr>\n",
       "    <tr>\n",
       "        <td>Dog</td>\n",
       "    </tr>\n",
       "    <tr>\n",
       "        <td>Parrot</td>\n",
       "    </tr>\n",
       "    <tr>\n",
       "        <td>Hamster</td>\n",
       "    </tr>\n",
       "    <tr>\n",
       "        <td>Goldfish</td>\n",
       "    </tr>\n",
       "</table>"
      ],
      "text/plain": [
       "[('Cat',), ('Dog',), ('Parrot',), ('Hamster',), ('Goldfish',)]"
      ]
     },
     "execution_count": 78,
     "metadata": {},
     "output_type": "execute_result"
    }
   ],
   "source": [
    "%%sql\n",
    "\n",
    "select DISTINCT(animal)\n",
    "from PETRESCUE;"
   ]
  },
  {
   "cell_type": "code",
   "execution_count": 79,
   "id": "3a3eed61-2bba-4ffd-90b4-2d0505c7b190",
   "metadata": {},
   "outputs": [
    {
     "name": "stdout",
     "output_type": "stream",
     "text": [
      " * sqlite://\n",
      "Done.\n"
     ]
    },
    {
     "data": {
      "text/html": [
       "<table>\n",
       "    <tr>\n",
       "        <th>ID</th>\n",
       "        <th>ANIMAL</th>\n",
       "        <th>QUANTITY</th>\n",
       "        <th>COST</th>\n",
       "        <th>RESCUEDATE</th>\n",
       "    </tr>\n",
       "    <tr>\n",
       "        <td>1</td>\n",
       "        <td>Cat</td>\n",
       "        <td>9</td>\n",
       "        <td>450.09</td>\n",
       "        <td>2018-05-29</td>\n",
       "    </tr>\n",
       "    <tr>\n",
       "        <td>7</td>\n",
       "        <td>Cat</td>\n",
       "        <td>1</td>\n",
       "        <td>44.44</td>\n",
       "        <td>2018-06-11</td>\n",
       "    </tr>\n",
       "</table>"
      ],
      "text/plain": [
       "[(1, 'Cat', 9, 450.09, '2018-05-29'), (7, 'Cat', 1, 44.44, '2018-06-11')]"
      ]
     },
     "execution_count": 79,
     "metadata": {},
     "output_type": "execute_result"
    }
   ],
   "source": [
    "%%sql\n",
    "\n",
    "select * \n",
    "from PETRESCUE\n",
    "where ANIMAL = 'Cat';"
   ]
  },
  {
   "cell_type": "code",
   "execution_count": 80,
   "id": "50c9b917-0c6d-43ed-9440-21e5323eaf60",
   "metadata": {},
   "outputs": [
    {
     "name": "stdout",
     "output_type": "stream",
     "text": [
      " * sqlite://\n",
      "(sqlite3.OperationalError) no such function: DAY\n",
      "[SQL: select DAY(RESCUEDATE) from PETRESCUE \n",
      "where ANIMAL = 'Cat';]\n",
      "(Background on this error at: http://sqlalche.me/e/e3q8)\n"
     ]
    }
   ],
   "source": [
    "%%sql\n",
    "\n",
    "select DAY(RESCUEDATE) \n",
    "from PETRESCUE \n",
    "where ANIMAL = 'Cat';"
   ]
  },
  {
   "cell_type": "code",
   "execution_count": 81,
   "id": "b9900e8d-7218-4ad6-be62-2109377fafcb",
   "metadata": {},
   "outputs": [
    {
     "name": "stdout",
     "output_type": "stream",
     "text": [
      " * sqlite://\n",
      "(sqlite3.OperationalError) no such function: MONTH\n",
      "[SQL: select SUM(QUANTITY) from PETRESCUE \n",
      "where MONTH(RESCUEDATE)='05';]\n",
      "(Background on this error at: http://sqlalche.me/e/e3q8)\n"
     ]
    }
   ],
   "source": [
    "%%sql\n",
    "\n",
    "select SUM(QUANTITY) \n",
    "from PETRESCUE \n",
    "where MONTH(RESCUEDATE)='05';"
   ]
  },
  {
   "cell_type": "code",
   "execution_count": 82,
   "id": "0e4c92f9-e3bf-479d-9171-5fc98049081e",
   "metadata": {},
   "outputs": [
    {
     "name": "stdout",
     "output_type": "stream",
     "text": [
      " * sqlite://\n",
      "(sqlite3.OperationalError) near \"DAYS\": syntax error\n",
      "[SQL: select (RESCUEDATE + 3 DAYS) \n",
      "from PETRESCUE;]\n",
      "(Background on this error at: http://sqlalche.me/e/e3q8)\n"
     ]
    }
   ],
   "source": [
    "%%sql\n",
    "\n",
    "select (RESCUEDATE + 3 DAYS) \n",
    "from PETRESCUE;"
   ]
  },
  {
   "cell_type": "markdown",
   "id": "5e38e0cd-5150-4ab1-9058-4fc3988247e8",
   "metadata": {},
   "source": [
    "### Sub-Queries and Nested Selects\n",
    "\n",
    "Sub-Query:\n",
    "- A query inside of another query.\n",
    "\n",
    "- This allows for creating more complex queries. \n",
    "\n",
    "Ways to create sub-queries:\n",
    "- WHERE CLAUSE: Since built-in functions cannot always be evaluated inside of the where clause, sub-queries can help overcome that limitation.\n",
    "\n",
    "- COLUMNS: Sub-Queries ('column expressions') can also be inserted into the list of selected columns.\n",
    "\n",
    "- FROM CLAUSE: substitute the table name with a sub-query ('derived tables' or 'table expressions'). "
   ]
  },
  {
   "cell_type": "code",
   "execution_count": 83,
   "id": "19d2036c-8268-4bfa-9bc1-9432338296ae",
   "metadata": {},
   "outputs": [
    {
     "name": "stdout",
     "output_type": "stream",
     "text": [
      " * sqlite://\n",
      "Done.\n"
     ]
    },
    {
     "data": {
      "text/html": [
       "<table>\n",
       "    <tr>\n",
       "        <th>EMP_ID</th>\n",
       "        <th>F_NAME</th>\n",
       "        <th>L_NAME</th>\n",
       "        <th>SALARY</th>\n",
       "    </tr>\n",
       "    <tr>\n",
       "        <td>E1003</td>\n",
       "        <td>Steve</td>\n",
       "        <td>Wells</td>\n",
       "        <td>50000</td>\n",
       "    </tr>\n",
       "    <tr>\n",
       "        <td>E1004</td>\n",
       "        <td>Santosh</td>\n",
       "        <td>Kumar</td>\n",
       "        <td>60000</td>\n",
       "    </tr>\n",
       "    <tr>\n",
       "        <td>E1005</td>\n",
       "        <td>Ahmed</td>\n",
       "        <td>Hussain</td>\n",
       "        <td>70000</td>\n",
       "    </tr>\n",
       "    <tr>\n",
       "        <td>E1007</td>\n",
       "        <td>Mary</td>\n",
       "        <td>Thomas</td>\n",
       "        <td>65000</td>\n",
       "    </tr>\n",
       "    <tr>\n",
       "        <td>E1008</td>\n",
       "        <td>Bharath</td>\n",
       "        <td>Gupta</td>\n",
       "        <td>65000</td>\n",
       "    </tr>\n",
       "    <tr>\n",
       "        <td>E1009</td>\n",
       "        <td>Andrea</td>\n",
       "        <td>Jones</td>\n",
       "        <td>70000</td>\n",
       "    </tr>\n",
       "    <tr>\n",
       "        <td>E1010</td>\n",
       "        <td>Ann</td>\n",
       "        <td>Jacob</td>\n",
       "        <td>70000</td>\n",
       "    </tr>\n",
       "</table>"
      ],
      "text/plain": [
       "[('E1003', 'Steve', 'Wells', 50000),\n",
       " ('E1004', 'Santosh', 'Kumar', 60000),\n",
       " ('E1005', 'Ahmed', 'Hussain', 70000),\n",
       " ('E1007', 'Mary', 'Thomas', 65000),\n",
       " ('E1008', 'Bharath', 'Gupta', 65000),\n",
       " ('E1009', 'Andrea', 'Jones', 70000),\n",
       " ('E1010', 'Ann', 'Jacob', 70000)]"
      ]
     },
     "execution_count": 83,
     "metadata": {},
     "output_type": "execute_result"
    }
   ],
   "source": [
    "%%sql\n",
    "\n",
    "SELECT EMP_ID, F_NAME, L_NAME, SALARY\n",
    "FROM EMPLOYEES\n",
    "WHERE SALARY < (select AVG(SALARY) from employees);"
   ]
  },
  {
   "cell_type": "code",
   "execution_count": 84,
   "id": "a32854df-7b47-46a5-b46c-3710b6615467",
   "metadata": {},
   "outputs": [
    {
     "name": "stdout",
     "output_type": "stream",
     "text": [
      " * sqlite://\n",
      "Done.\n"
     ]
    },
    {
     "data": {
      "text/html": [
       "<table>\n",
       "    <tr>\n",
       "        <th>avg(salary)</th>\n",
       "    </tr>\n",
       "    <tr>\n",
       "        <td>72000.0</td>\n",
       "    </tr>\n",
       "</table>"
      ],
      "text/plain": [
       "[(72000.0,)]"
      ]
     },
     "execution_count": 84,
     "metadata": {},
     "output_type": "execute_result"
    }
   ],
   "source": [
    "%%sql\n",
    "\n",
    "SELECT avg(salary) from employees;"
   ]
  },
  {
   "cell_type": "code",
   "execution_count": 85,
   "id": "4ec6b1a6-389f-4d7d-add1-6a44324730bf",
   "metadata": {},
   "outputs": [
    {
     "name": "stdout",
     "output_type": "stream",
     "text": [
      " * sqlite://\n",
      "Done.\n"
     ]
    },
    {
     "data": {
      "text/html": [
       "<table>\n",
       "    <tr>\n",
       "        <th>EMP_ID</th>\n",
       "        <th>SALARY</th>\n",
       "        <th>AVG_SALARY</th>\n",
       "    </tr>\n",
       "    <tr>\n",
       "        <td>E1001</td>\n",
       "        <td>100000</td>\n",
       "        <td>72000.0</td>\n",
       "    </tr>\n",
       "    <tr>\n",
       "        <td>E1002</td>\n",
       "        <td>80000</td>\n",
       "        <td>72000.0</td>\n",
       "    </tr>\n",
       "    <tr>\n",
       "        <td>E1003</td>\n",
       "        <td>50000</td>\n",
       "        <td>72000.0</td>\n",
       "    </tr>\n",
       "    <tr>\n",
       "        <td>E1004</td>\n",
       "        <td>60000</td>\n",
       "        <td>72000.0</td>\n",
       "    </tr>\n",
       "    <tr>\n",
       "        <td>E1005</td>\n",
       "        <td>70000</td>\n",
       "        <td>72000.0</td>\n",
       "    </tr>\n",
       "    <tr>\n",
       "        <td>E1006</td>\n",
       "        <td>90000</td>\n",
       "        <td>72000.0</td>\n",
       "    </tr>\n",
       "    <tr>\n",
       "        <td>E1007</td>\n",
       "        <td>65000</td>\n",
       "        <td>72000.0</td>\n",
       "    </tr>\n",
       "    <tr>\n",
       "        <td>E1008</td>\n",
       "        <td>65000</td>\n",
       "        <td>72000.0</td>\n",
       "    </tr>\n",
       "    <tr>\n",
       "        <td>E1009</td>\n",
       "        <td>70000</td>\n",
       "        <td>72000.0</td>\n",
       "    </tr>\n",
       "    <tr>\n",
       "        <td>E1010</td>\n",
       "        <td>70000</td>\n",
       "        <td>72000.0</td>\n",
       "    </tr>\n",
       "</table>"
      ],
      "text/plain": [
       "[('E1001', 100000, 72000.0),\n",
       " ('E1002', 80000, 72000.0),\n",
       " ('E1003', 50000, 72000.0),\n",
       " ('E1004', 60000, 72000.0),\n",
       " ('E1005', 70000, 72000.0),\n",
       " ('E1006', 90000, 72000.0),\n",
       " ('E1007', 65000, 72000.0),\n",
       " ('E1008', 65000, 72000.0),\n",
       " ('E1009', 70000, 72000.0),\n",
       " ('E1010', 70000, 72000.0)]"
      ]
     },
     "execution_count": 85,
     "metadata": {},
     "output_type": "execute_result"
    }
   ],
   "source": [
    "%%sql\n",
    "\n",
    "SELECT emp_id, salary, (select AVG(salary) from employees) as AVG_SALARY\n",
    "from employees;"
   ]
  },
  {
   "cell_type": "code",
   "execution_count": 86,
   "id": "d105c74b-d052-4145-9326-3f3a8f414656",
   "metadata": {},
   "outputs": [
    {
     "name": "stdout",
     "output_type": "stream",
     "text": [
      " * sqlite://\n",
      "Done.\n"
     ]
    },
    {
     "data": {
      "text/html": [
       "<table>\n",
       "    <tr>\n",
       "        <th>emp_id</th>\n",
       "        <th>f_name</th>\n",
       "        <th>l_name</th>\n",
       "        <th>dep_id</th>\n",
       "    </tr>\n",
       "    <tr>\n",
       "        <td>E1001</td>\n",
       "        <td>John</td>\n",
       "        <td>Thomas</td>\n",
       "        <td>2</td>\n",
       "    </tr>\n",
       "    <tr>\n",
       "        <td>E1002</td>\n",
       "        <td>Alice</td>\n",
       "        <td>James</td>\n",
       "        <td>5</td>\n",
       "    </tr>\n",
       "    <tr>\n",
       "        <td>E1003</td>\n",
       "        <td>Steve</td>\n",
       "        <td>Wells</td>\n",
       "        <td>5</td>\n",
       "    </tr>\n",
       "    <tr>\n",
       "        <td>E1004</td>\n",
       "        <td>Santosh</td>\n",
       "        <td>Kumar</td>\n",
       "        <td>5</td>\n",
       "    </tr>\n",
       "    <tr>\n",
       "        <td>E1005</td>\n",
       "        <td>Ahmed</td>\n",
       "        <td>Hussain</td>\n",
       "        <td>2</td>\n",
       "    </tr>\n",
       "    <tr>\n",
       "        <td>E1006</td>\n",
       "        <td>Nancy</td>\n",
       "        <td>Allen</td>\n",
       "        <td>2</td>\n",
       "    </tr>\n",
       "    <tr>\n",
       "        <td>E1007</td>\n",
       "        <td>Mary</td>\n",
       "        <td>Thomas</td>\n",
       "        <td>7</td>\n",
       "    </tr>\n",
       "    <tr>\n",
       "        <td>E1008</td>\n",
       "        <td>Bharath</td>\n",
       "        <td>Gupta</td>\n",
       "        <td>7</td>\n",
       "    </tr>\n",
       "    <tr>\n",
       "        <td>E1009</td>\n",
       "        <td>Andrea</td>\n",
       "        <td>Jones</td>\n",
       "        <td>7</td>\n",
       "    </tr>\n",
       "    <tr>\n",
       "        <td>E1010</td>\n",
       "        <td>Ann</td>\n",
       "        <td>Jacob</td>\n",
       "        <td>5</td>\n",
       "    </tr>\n",
       "</table>"
      ],
      "text/plain": [
       "[('E1001', 'John', 'Thomas', '2'),\n",
       " ('E1002', 'Alice', 'James', '5'),\n",
       " ('E1003', 'Steve', 'Wells', '5'),\n",
       " ('E1004', 'Santosh', 'Kumar', '5'),\n",
       " ('E1005', 'Ahmed', 'Hussain', '2'),\n",
       " ('E1006', 'Nancy', 'Allen', '2'),\n",
       " ('E1007', 'Mary', 'Thomas', '7'),\n",
       " ('E1008', 'Bharath', 'Gupta', '7'),\n",
       " ('E1009', 'Andrea', 'Jones', '7'),\n",
       " ('E1010', 'Ann', 'Jacob', '5')]"
      ]
     },
     "execution_count": 86,
     "metadata": {},
     "output_type": "execute_result"
    }
   ],
   "source": [
    "%%sql\n",
    "\n",
    "select * from \n",
    "    ( select emp_id, f_name, l_name, dep_id from employees) as EMP4ALL;"
   ]
  },
  {
   "cell_type": "code",
   "execution_count": 87,
   "id": "57e5a3ce-8213-4f87-b220-4183cb8acc06",
   "metadata": {},
   "outputs": [
    {
     "name": "stdout",
     "output_type": "stream",
     "text": [
      " * sqlite://\n",
      "Done.\n"
     ]
    },
    {
     "data": {
      "text/html": [
       "<table>\n",
       "    <tr>\n",
       "        <th>EMP_ID</th>\n",
       "        <th>SALARY</th>\n",
       "        <th>MAX_SALARY</th>\n",
       "    </tr>\n",
       "    <tr>\n",
       "        <td>E1001</td>\n",
       "        <td>100000</td>\n",
       "        <td>100000</td>\n",
       "    </tr>\n",
       "    <tr>\n",
       "        <td>E1002</td>\n",
       "        <td>80000</td>\n",
       "        <td>100000</td>\n",
       "    </tr>\n",
       "    <tr>\n",
       "        <td>E1003</td>\n",
       "        <td>50000</td>\n",
       "        <td>100000</td>\n",
       "    </tr>\n",
       "    <tr>\n",
       "        <td>E1004</td>\n",
       "        <td>60000</td>\n",
       "        <td>100000</td>\n",
       "    </tr>\n",
       "    <tr>\n",
       "        <td>E1005</td>\n",
       "        <td>70000</td>\n",
       "        <td>100000</td>\n",
       "    </tr>\n",
       "    <tr>\n",
       "        <td>E1006</td>\n",
       "        <td>90000</td>\n",
       "        <td>100000</td>\n",
       "    </tr>\n",
       "    <tr>\n",
       "        <td>E1007</td>\n",
       "        <td>65000</td>\n",
       "        <td>100000</td>\n",
       "    </tr>\n",
       "    <tr>\n",
       "        <td>E1008</td>\n",
       "        <td>65000</td>\n",
       "        <td>100000</td>\n",
       "    </tr>\n",
       "    <tr>\n",
       "        <td>E1009</td>\n",
       "        <td>70000</td>\n",
       "        <td>100000</td>\n",
       "    </tr>\n",
       "    <tr>\n",
       "        <td>E1010</td>\n",
       "        <td>70000</td>\n",
       "        <td>100000</td>\n",
       "    </tr>\n",
       "</table>"
      ],
      "text/plain": [
       "[('E1001', 100000, 100000),\n",
       " ('E1002', 80000, 100000),\n",
       " ('E1003', 50000, 100000),\n",
       " ('E1004', 60000, 100000),\n",
       " ('E1005', 70000, 100000),\n",
       " ('E1006', 90000, 100000),\n",
       " ('E1007', 65000, 100000),\n",
       " ('E1008', 65000, 100000),\n",
       " ('E1009', 70000, 100000),\n",
       " ('E1010', 70000, 100000)]"
      ]
     },
     "execution_count": 87,
     "metadata": {},
     "output_type": "execute_result"
    }
   ],
   "source": [
    "%%sql\n",
    "\n",
    "select emp_id, salary, (select max(salary) from employees) AS MAX_SALARY\n",
    "from employees;"
   ]
  },
  {
   "cell_type": "markdown",
   "id": "8cedf672-7489-4815-bbe1-ec7f6e3548f5",
   "metadata": {},
   "source": [
    "### Querying Multiple Tables\n",
    "\n",
    "Ways to access multiple tables in one query:\n",
    "1. sub queries\n",
    "2. implicit JOIN (full join / cartesian join)\n",
    "3. JOIN operators (inner join, outer join, etc)"
   ]
  },
  {
   "cell_type": "markdown",
   "id": "d2b32cb8-dce1-44bf-8e36-6cd673e5b26b",
   "metadata": {},
   "source": [
    "Access multiple tables with sub-queries:"
   ]
  },
  {
   "cell_type": "code",
   "execution_count": 88,
   "id": "c4c588eb-1fd2-4d89-bca7-cbe4b872ecfe",
   "metadata": {},
   "outputs": [
    {
     "name": "stdout",
     "output_type": "stream",
     "text": [
      " * sqlite://\n",
      "Done.\n"
     ]
    },
    {
     "data": {
      "text/html": [
       "<table>\n",
       "    <tr>\n",
       "        <th>DEPT_ID_DEP</th>\n",
       "        <th>DEP_NAME</th>\n",
       "        <th>MANAGER_ID</th>\n",
       "        <th>LOC_ID</th>\n",
       "    </tr>\n",
       "    <tr>\n",
       "        <td>2</td>\n",
       "        <td>Architect Group</td>\n",
       "        <td>30001</td>\n",
       "        <td>L0001</td>\n",
       "    </tr>\n",
       "    <tr>\n",
       "        <td>5</td>\n",
       "        <td>Software Group</td>\n",
       "        <td>30002</td>\n",
       "        <td>L0002</td>\n",
       "    </tr>\n",
       "    <tr>\n",
       "        <td>7</td>\n",
       "        <td>Design Team</td>\n",
       "        <td>30003</td>\n",
       "        <td>L0003</td>\n",
       "    </tr>\n",
       "</table>"
      ],
      "text/plain": [
       "[('2', 'Architect Group', '30001', 'L0001'),\n",
       " ('5', 'Software Group', '30002', 'L0002'),\n",
       " ('7', 'Design Team', '30003', 'L0003')]"
      ]
     },
     "execution_count": 88,
     "metadata": {},
     "output_type": "execute_result"
    }
   ],
   "source": [
    "%%sql\n",
    "\n",
    "select * from departments;"
   ]
  },
  {
   "cell_type": "code",
   "execution_count": 89,
   "id": "252cb210-8b5d-4697-900f-76d2148079d7",
   "metadata": {},
   "outputs": [
    {
     "name": "stdout",
     "output_type": "stream",
     "text": [
      " * sqlite://\n",
      "Done.\n"
     ]
    },
    {
     "data": {
      "text/html": [
       "<table>\n",
       "    <tr>\n",
       "        <th>EMP_ID</th>\n",
       "        <th>F_NAME</th>\n",
       "        <th>L_NAME</th>\n",
       "        <th>SSN</th>\n",
       "        <th>B_DATE</th>\n",
       "        <th>SEX</th>\n",
       "        <th>ADDRESS</th>\n",
       "        <th>JOB_ID</th>\n",
       "        <th>SALARY</th>\n",
       "        <th>MANAGER_ID</th>\n",
       "        <th>DEP_ID</th>\n",
       "    </tr>\n",
       "    <tr>\n",
       "        <td>E1002</td>\n",
       "        <td>Alice</td>\n",
       "        <td>James</td>\n",
       "        <td>123457</td>\n",
       "        <td>7/31/1972</td>\n",
       "        <td>F</td>\n",
       "        <td>980 Berry ln, Elgin,IL</td>\n",
       "        <td>200</td>\n",
       "        <td>80000</td>\n",
       "        <td>30002</td>\n",
       "        <td>5</td>\n",
       "    </tr>\n",
       "    <tr>\n",
       "        <td>E1003</td>\n",
       "        <td>Steve</td>\n",
       "        <td>Wells</td>\n",
       "        <td>123458</td>\n",
       "        <td>8/10/1980</td>\n",
       "        <td>M</td>\n",
       "        <td>291 Springs, Gary,IL</td>\n",
       "        <td>300</td>\n",
       "        <td>50000</td>\n",
       "        <td>30002</td>\n",
       "        <td>5</td>\n",
       "    </tr>\n",
       "    <tr>\n",
       "        <td>E1004</td>\n",
       "        <td>Santosh</td>\n",
       "        <td>Kumar</td>\n",
       "        <td>123459</td>\n",
       "        <td>7/20/1985</td>\n",
       "        <td>M</td>\n",
       "        <td>511 Aurora Av, Aurora,IL</td>\n",
       "        <td>400</td>\n",
       "        <td>60000</td>\n",
       "        <td>30004</td>\n",
       "        <td>5</td>\n",
       "    </tr>\n",
       "    <tr>\n",
       "        <td>E1010</td>\n",
       "        <td>Ann</td>\n",
       "        <td>Jacob</td>\n",
       "        <td>123415</td>\n",
       "        <td>3/30/1982</td>\n",
       "        <td>F</td>\n",
       "        <td>111 Britany Springs,Elgin,IL</td>\n",
       "        <td>220</td>\n",
       "        <td>70000</td>\n",
       "        <td>30004</td>\n",
       "        <td>5</td>\n",
       "    </tr>\n",
       "</table>"
      ],
      "text/plain": [
       "[('E1002', 'Alice', 'James', '123457', '7/31/1972', 'F', '980 Berry ln, Elgin,IL', '200', 80000, '30002', '5'),\n",
       " ('E1003', 'Steve', 'Wells', '123458', '8/10/1980', 'M', '291 Springs, Gary,IL', '300', 50000, '30002', '5'),\n",
       " ('E1004', 'Santosh', 'Kumar', '123459', '7/20/1985', 'M', '511 Aurora Av, Aurora,IL', '400', 60000, '30004', '5'),\n",
       " ('E1010', 'Ann', 'Jacob', '123415', '3/30/1982', 'F', '111 Britany Springs,Elgin,IL', '220', 70000, '30004', '5')]"
      ]
     },
     "execution_count": 89,
     "metadata": {},
     "output_type": "execute_result"
    }
   ],
   "source": [
    "%%sql\n",
    "\n",
    "select * from employees\n",
    "where dep_id in (select dept_id_dep from departments where loc_id = 'L0002');"
   ]
  },
  {
   "cell_type": "code",
   "execution_count": 90,
   "id": "bc56fc2c-f4b3-41ad-89d1-87da0f7f711a",
   "metadata": {},
   "outputs": [
    {
     "name": "stdout",
     "output_type": "stream",
     "text": [
      " * sqlite://\n",
      "Done.\n"
     ]
    },
    {
     "data": {
      "text/html": [
       "<table>\n",
       "    <tr>\n",
       "        <th>DEPT_ID_DEP</th>\n",
       "        <th>DEP_NAME</th>\n",
       "    </tr>\n",
       "    <tr>\n",
       "        <td>2</td>\n",
       "        <td>Architect Group</td>\n",
       "    </tr>\n",
       "    <tr>\n",
       "        <td>5</td>\n",
       "        <td>Software Group</td>\n",
       "    </tr>\n",
       "</table>"
      ],
      "text/plain": [
       "[('2', 'Architect Group'), ('5', 'Software Group')]"
      ]
     },
     "execution_count": 90,
     "metadata": {},
     "output_type": "execute_result"
    }
   ],
   "source": [
    "%%sql\n",
    "\n",
    "select dept_id_dep, dep_name\n",
    "from departments\n",
    "where dept_id_dep IN (select dep_id from employees where salary >70000);"
   ]
  },
  {
   "cell_type": "markdown",
   "id": "d3e53224-e2d4-461d-aa58-195aeb8ea599",
   "metadata": {},
   "source": [
    "Access multiple tables with implicit join:"
   ]
  },
  {
   "cell_type": "code",
   "execution_count": 91,
   "id": "c4852d90-ad56-49a7-8a21-b847eb1ca541",
   "metadata": {},
   "outputs": [
    {
     "name": "stdout",
     "output_type": "stream",
     "text": [
      " * sqlite://\n",
      "Done.\n"
     ]
    },
    {
     "data": {
      "text/html": [
       "<table>\n",
       "    <tr>\n",
       "        <th>EMP_ID</th>\n",
       "        <th>F_NAME</th>\n",
       "        <th>L_NAME</th>\n",
       "        <th>SSN</th>\n",
       "        <th>B_DATE</th>\n",
       "        <th>SEX</th>\n",
       "        <th>ADDRESS</th>\n",
       "        <th>JOB_ID</th>\n",
       "        <th>SALARY</th>\n",
       "        <th>MANAGER_ID</th>\n",
       "        <th>DEP_ID</th>\n",
       "        <th>DEPT_ID_DEP</th>\n",
       "        <th>DEP_NAME</th>\n",
       "        <th>MANAGER_ID_1</th>\n",
       "        <th>LOC_ID</th>\n",
       "    </tr>\n",
       "    <tr>\n",
       "        <td>E1001</td>\n",
       "        <td>John</td>\n",
       "        <td>Thomas</td>\n",
       "        <td>123456</td>\n",
       "        <td>1/9/1976</td>\n",
       "        <td>M</td>\n",
       "        <td>5631 Rice, OakPark,IL</td>\n",
       "        <td>100</td>\n",
       "        <td>100000</td>\n",
       "        <td>30001</td>\n",
       "        <td>2</td>\n",
       "        <td>2</td>\n",
       "        <td>Architect Group</td>\n",
       "        <td>30001</td>\n",
       "        <td>L0001</td>\n",
       "    </tr>\n",
       "    <tr>\n",
       "        <td>E1001</td>\n",
       "        <td>John</td>\n",
       "        <td>Thomas</td>\n",
       "        <td>123456</td>\n",
       "        <td>1/9/1976</td>\n",
       "        <td>M</td>\n",
       "        <td>5631 Rice, OakPark,IL</td>\n",
       "        <td>100</td>\n",
       "        <td>100000</td>\n",
       "        <td>30001</td>\n",
       "        <td>2</td>\n",
       "        <td>5</td>\n",
       "        <td>Software Group</td>\n",
       "        <td>30002</td>\n",
       "        <td>L0002</td>\n",
       "    </tr>\n",
       "    <tr>\n",
       "        <td>E1001</td>\n",
       "        <td>John</td>\n",
       "        <td>Thomas</td>\n",
       "        <td>123456</td>\n",
       "        <td>1/9/1976</td>\n",
       "        <td>M</td>\n",
       "        <td>5631 Rice, OakPark,IL</td>\n",
       "        <td>100</td>\n",
       "        <td>100000</td>\n",
       "        <td>30001</td>\n",
       "        <td>2</td>\n",
       "        <td>7</td>\n",
       "        <td>Design Team</td>\n",
       "        <td>30003</td>\n",
       "        <td>L0003</td>\n",
       "    </tr>\n",
       "    <tr>\n",
       "        <td>E1002</td>\n",
       "        <td>Alice</td>\n",
       "        <td>James</td>\n",
       "        <td>123457</td>\n",
       "        <td>7/31/1972</td>\n",
       "        <td>F</td>\n",
       "        <td>980 Berry ln, Elgin,IL</td>\n",
       "        <td>200</td>\n",
       "        <td>80000</td>\n",
       "        <td>30002</td>\n",
       "        <td>5</td>\n",
       "        <td>2</td>\n",
       "        <td>Architect Group</td>\n",
       "        <td>30001</td>\n",
       "        <td>L0001</td>\n",
       "    </tr>\n",
       "    <tr>\n",
       "        <td>E1002</td>\n",
       "        <td>Alice</td>\n",
       "        <td>James</td>\n",
       "        <td>123457</td>\n",
       "        <td>7/31/1972</td>\n",
       "        <td>F</td>\n",
       "        <td>980 Berry ln, Elgin,IL</td>\n",
       "        <td>200</td>\n",
       "        <td>80000</td>\n",
       "        <td>30002</td>\n",
       "        <td>5</td>\n",
       "        <td>5</td>\n",
       "        <td>Software Group</td>\n",
       "        <td>30002</td>\n",
       "        <td>L0002</td>\n",
       "    </tr>\n",
       "    <tr>\n",
       "        <td>E1002</td>\n",
       "        <td>Alice</td>\n",
       "        <td>James</td>\n",
       "        <td>123457</td>\n",
       "        <td>7/31/1972</td>\n",
       "        <td>F</td>\n",
       "        <td>980 Berry ln, Elgin,IL</td>\n",
       "        <td>200</td>\n",
       "        <td>80000</td>\n",
       "        <td>30002</td>\n",
       "        <td>5</td>\n",
       "        <td>7</td>\n",
       "        <td>Design Team</td>\n",
       "        <td>30003</td>\n",
       "        <td>L0003</td>\n",
       "    </tr>\n",
       "    <tr>\n",
       "        <td>E1003</td>\n",
       "        <td>Steve</td>\n",
       "        <td>Wells</td>\n",
       "        <td>123458</td>\n",
       "        <td>8/10/1980</td>\n",
       "        <td>M</td>\n",
       "        <td>291 Springs, Gary,IL</td>\n",
       "        <td>300</td>\n",
       "        <td>50000</td>\n",
       "        <td>30002</td>\n",
       "        <td>5</td>\n",
       "        <td>2</td>\n",
       "        <td>Architect Group</td>\n",
       "        <td>30001</td>\n",
       "        <td>L0001</td>\n",
       "    </tr>\n",
       "    <tr>\n",
       "        <td>E1003</td>\n",
       "        <td>Steve</td>\n",
       "        <td>Wells</td>\n",
       "        <td>123458</td>\n",
       "        <td>8/10/1980</td>\n",
       "        <td>M</td>\n",
       "        <td>291 Springs, Gary,IL</td>\n",
       "        <td>300</td>\n",
       "        <td>50000</td>\n",
       "        <td>30002</td>\n",
       "        <td>5</td>\n",
       "        <td>5</td>\n",
       "        <td>Software Group</td>\n",
       "        <td>30002</td>\n",
       "        <td>L0002</td>\n",
       "    </tr>\n",
       "    <tr>\n",
       "        <td>E1003</td>\n",
       "        <td>Steve</td>\n",
       "        <td>Wells</td>\n",
       "        <td>123458</td>\n",
       "        <td>8/10/1980</td>\n",
       "        <td>M</td>\n",
       "        <td>291 Springs, Gary,IL</td>\n",
       "        <td>300</td>\n",
       "        <td>50000</td>\n",
       "        <td>30002</td>\n",
       "        <td>5</td>\n",
       "        <td>7</td>\n",
       "        <td>Design Team</td>\n",
       "        <td>30003</td>\n",
       "        <td>L0003</td>\n",
       "    </tr>\n",
       "    <tr>\n",
       "        <td>E1004</td>\n",
       "        <td>Santosh</td>\n",
       "        <td>Kumar</td>\n",
       "        <td>123459</td>\n",
       "        <td>7/20/1985</td>\n",
       "        <td>M</td>\n",
       "        <td>511 Aurora Av, Aurora,IL</td>\n",
       "        <td>400</td>\n",
       "        <td>60000</td>\n",
       "        <td>30004</td>\n",
       "        <td>5</td>\n",
       "        <td>2</td>\n",
       "        <td>Architect Group</td>\n",
       "        <td>30001</td>\n",
       "        <td>L0001</td>\n",
       "    </tr>\n",
       "    <tr>\n",
       "        <td>E1004</td>\n",
       "        <td>Santosh</td>\n",
       "        <td>Kumar</td>\n",
       "        <td>123459</td>\n",
       "        <td>7/20/1985</td>\n",
       "        <td>M</td>\n",
       "        <td>511 Aurora Av, Aurora,IL</td>\n",
       "        <td>400</td>\n",
       "        <td>60000</td>\n",
       "        <td>30004</td>\n",
       "        <td>5</td>\n",
       "        <td>5</td>\n",
       "        <td>Software Group</td>\n",
       "        <td>30002</td>\n",
       "        <td>L0002</td>\n",
       "    </tr>\n",
       "    <tr>\n",
       "        <td>E1004</td>\n",
       "        <td>Santosh</td>\n",
       "        <td>Kumar</td>\n",
       "        <td>123459</td>\n",
       "        <td>7/20/1985</td>\n",
       "        <td>M</td>\n",
       "        <td>511 Aurora Av, Aurora,IL</td>\n",
       "        <td>400</td>\n",
       "        <td>60000</td>\n",
       "        <td>30004</td>\n",
       "        <td>5</td>\n",
       "        <td>7</td>\n",
       "        <td>Design Team</td>\n",
       "        <td>30003</td>\n",
       "        <td>L0003</td>\n",
       "    </tr>\n",
       "    <tr>\n",
       "        <td>E1005</td>\n",
       "        <td>Ahmed</td>\n",
       "        <td>Hussain</td>\n",
       "        <td>123410</td>\n",
       "        <td>1/4/1981</td>\n",
       "        <td>M</td>\n",
       "        <td>216 Oak Tree, Geneva,IL</td>\n",
       "        <td>500</td>\n",
       "        <td>70000</td>\n",
       "        <td>30001</td>\n",
       "        <td>2</td>\n",
       "        <td>2</td>\n",
       "        <td>Architect Group</td>\n",
       "        <td>30001</td>\n",
       "        <td>L0001</td>\n",
       "    </tr>\n",
       "    <tr>\n",
       "        <td>E1005</td>\n",
       "        <td>Ahmed</td>\n",
       "        <td>Hussain</td>\n",
       "        <td>123410</td>\n",
       "        <td>1/4/1981</td>\n",
       "        <td>M</td>\n",
       "        <td>216 Oak Tree, Geneva,IL</td>\n",
       "        <td>500</td>\n",
       "        <td>70000</td>\n",
       "        <td>30001</td>\n",
       "        <td>2</td>\n",
       "        <td>5</td>\n",
       "        <td>Software Group</td>\n",
       "        <td>30002</td>\n",
       "        <td>L0002</td>\n",
       "    </tr>\n",
       "    <tr>\n",
       "        <td>E1005</td>\n",
       "        <td>Ahmed</td>\n",
       "        <td>Hussain</td>\n",
       "        <td>123410</td>\n",
       "        <td>1/4/1981</td>\n",
       "        <td>M</td>\n",
       "        <td>216 Oak Tree, Geneva,IL</td>\n",
       "        <td>500</td>\n",
       "        <td>70000</td>\n",
       "        <td>30001</td>\n",
       "        <td>2</td>\n",
       "        <td>7</td>\n",
       "        <td>Design Team</td>\n",
       "        <td>30003</td>\n",
       "        <td>L0003</td>\n",
       "    </tr>\n",
       "    <tr>\n",
       "        <td>E1006</td>\n",
       "        <td>Nancy</td>\n",
       "        <td>Allen</td>\n",
       "        <td>123411</td>\n",
       "        <td>2/6/1978</td>\n",
       "        <td>F</td>\n",
       "        <td>111 Green Pl, Elgin,IL</td>\n",
       "        <td>600</td>\n",
       "        <td>90000</td>\n",
       "        <td>30001</td>\n",
       "        <td>2</td>\n",
       "        <td>2</td>\n",
       "        <td>Architect Group</td>\n",
       "        <td>30001</td>\n",
       "        <td>L0001</td>\n",
       "    </tr>\n",
       "    <tr>\n",
       "        <td>E1006</td>\n",
       "        <td>Nancy</td>\n",
       "        <td>Allen</td>\n",
       "        <td>123411</td>\n",
       "        <td>2/6/1978</td>\n",
       "        <td>F</td>\n",
       "        <td>111 Green Pl, Elgin,IL</td>\n",
       "        <td>600</td>\n",
       "        <td>90000</td>\n",
       "        <td>30001</td>\n",
       "        <td>2</td>\n",
       "        <td>5</td>\n",
       "        <td>Software Group</td>\n",
       "        <td>30002</td>\n",
       "        <td>L0002</td>\n",
       "    </tr>\n",
       "    <tr>\n",
       "        <td>E1006</td>\n",
       "        <td>Nancy</td>\n",
       "        <td>Allen</td>\n",
       "        <td>123411</td>\n",
       "        <td>2/6/1978</td>\n",
       "        <td>F</td>\n",
       "        <td>111 Green Pl, Elgin,IL</td>\n",
       "        <td>600</td>\n",
       "        <td>90000</td>\n",
       "        <td>30001</td>\n",
       "        <td>2</td>\n",
       "        <td>7</td>\n",
       "        <td>Design Team</td>\n",
       "        <td>30003</td>\n",
       "        <td>L0003</td>\n",
       "    </tr>\n",
       "    <tr>\n",
       "        <td>E1007</td>\n",
       "        <td>Mary</td>\n",
       "        <td>Thomas</td>\n",
       "        <td>123412</td>\n",
       "        <td>5/5/1975</td>\n",
       "        <td>F</td>\n",
       "        <td>100 Rose Pl, Gary,IL</td>\n",
       "        <td>650</td>\n",
       "        <td>65000</td>\n",
       "        <td>30003</td>\n",
       "        <td>7</td>\n",
       "        <td>2</td>\n",
       "        <td>Architect Group</td>\n",
       "        <td>30001</td>\n",
       "        <td>L0001</td>\n",
       "    </tr>\n",
       "    <tr>\n",
       "        <td>E1007</td>\n",
       "        <td>Mary</td>\n",
       "        <td>Thomas</td>\n",
       "        <td>123412</td>\n",
       "        <td>5/5/1975</td>\n",
       "        <td>F</td>\n",
       "        <td>100 Rose Pl, Gary,IL</td>\n",
       "        <td>650</td>\n",
       "        <td>65000</td>\n",
       "        <td>30003</td>\n",
       "        <td>7</td>\n",
       "        <td>5</td>\n",
       "        <td>Software Group</td>\n",
       "        <td>30002</td>\n",
       "        <td>L0002</td>\n",
       "    </tr>\n",
       "    <tr>\n",
       "        <td>E1007</td>\n",
       "        <td>Mary</td>\n",
       "        <td>Thomas</td>\n",
       "        <td>123412</td>\n",
       "        <td>5/5/1975</td>\n",
       "        <td>F</td>\n",
       "        <td>100 Rose Pl, Gary,IL</td>\n",
       "        <td>650</td>\n",
       "        <td>65000</td>\n",
       "        <td>30003</td>\n",
       "        <td>7</td>\n",
       "        <td>7</td>\n",
       "        <td>Design Team</td>\n",
       "        <td>30003</td>\n",
       "        <td>L0003</td>\n",
       "    </tr>\n",
       "    <tr>\n",
       "        <td>E1008</td>\n",
       "        <td>Bharath</td>\n",
       "        <td>Gupta</td>\n",
       "        <td>123413</td>\n",
       "        <td>5/6/1985</td>\n",
       "        <td>M</td>\n",
       "        <td>145 Berry Ln, Naperville,IL</td>\n",
       "        <td>660</td>\n",
       "        <td>65000</td>\n",
       "        <td>30003</td>\n",
       "        <td>7</td>\n",
       "        <td>2</td>\n",
       "        <td>Architect Group</td>\n",
       "        <td>30001</td>\n",
       "        <td>L0001</td>\n",
       "    </tr>\n",
       "    <tr>\n",
       "        <td>E1008</td>\n",
       "        <td>Bharath</td>\n",
       "        <td>Gupta</td>\n",
       "        <td>123413</td>\n",
       "        <td>5/6/1985</td>\n",
       "        <td>M</td>\n",
       "        <td>145 Berry Ln, Naperville,IL</td>\n",
       "        <td>660</td>\n",
       "        <td>65000</td>\n",
       "        <td>30003</td>\n",
       "        <td>7</td>\n",
       "        <td>5</td>\n",
       "        <td>Software Group</td>\n",
       "        <td>30002</td>\n",
       "        <td>L0002</td>\n",
       "    </tr>\n",
       "    <tr>\n",
       "        <td>E1008</td>\n",
       "        <td>Bharath</td>\n",
       "        <td>Gupta</td>\n",
       "        <td>123413</td>\n",
       "        <td>5/6/1985</td>\n",
       "        <td>M</td>\n",
       "        <td>145 Berry Ln, Naperville,IL</td>\n",
       "        <td>660</td>\n",
       "        <td>65000</td>\n",
       "        <td>30003</td>\n",
       "        <td>7</td>\n",
       "        <td>7</td>\n",
       "        <td>Design Team</td>\n",
       "        <td>30003</td>\n",
       "        <td>L0003</td>\n",
       "    </tr>\n",
       "    <tr>\n",
       "        <td>E1009</td>\n",
       "        <td>Andrea</td>\n",
       "        <td>Jones</td>\n",
       "        <td>123414</td>\n",
       "        <td>7/9/1990</td>\n",
       "        <td>F</td>\n",
       "        <td>120 Fall Creek, Gary,IL</td>\n",
       "        <td>234</td>\n",
       "        <td>70000</td>\n",
       "        <td>30003</td>\n",
       "        <td>7</td>\n",
       "        <td>2</td>\n",
       "        <td>Architect Group</td>\n",
       "        <td>30001</td>\n",
       "        <td>L0001</td>\n",
       "    </tr>\n",
       "    <tr>\n",
       "        <td>E1009</td>\n",
       "        <td>Andrea</td>\n",
       "        <td>Jones</td>\n",
       "        <td>123414</td>\n",
       "        <td>7/9/1990</td>\n",
       "        <td>F</td>\n",
       "        <td>120 Fall Creek, Gary,IL</td>\n",
       "        <td>234</td>\n",
       "        <td>70000</td>\n",
       "        <td>30003</td>\n",
       "        <td>7</td>\n",
       "        <td>5</td>\n",
       "        <td>Software Group</td>\n",
       "        <td>30002</td>\n",
       "        <td>L0002</td>\n",
       "    </tr>\n",
       "    <tr>\n",
       "        <td>E1009</td>\n",
       "        <td>Andrea</td>\n",
       "        <td>Jones</td>\n",
       "        <td>123414</td>\n",
       "        <td>7/9/1990</td>\n",
       "        <td>F</td>\n",
       "        <td>120 Fall Creek, Gary,IL</td>\n",
       "        <td>234</td>\n",
       "        <td>70000</td>\n",
       "        <td>30003</td>\n",
       "        <td>7</td>\n",
       "        <td>7</td>\n",
       "        <td>Design Team</td>\n",
       "        <td>30003</td>\n",
       "        <td>L0003</td>\n",
       "    </tr>\n",
       "    <tr>\n",
       "        <td>E1010</td>\n",
       "        <td>Ann</td>\n",
       "        <td>Jacob</td>\n",
       "        <td>123415</td>\n",
       "        <td>3/30/1982</td>\n",
       "        <td>F</td>\n",
       "        <td>111 Britany Springs,Elgin,IL</td>\n",
       "        <td>220</td>\n",
       "        <td>70000</td>\n",
       "        <td>30004</td>\n",
       "        <td>5</td>\n",
       "        <td>2</td>\n",
       "        <td>Architect Group</td>\n",
       "        <td>30001</td>\n",
       "        <td>L0001</td>\n",
       "    </tr>\n",
       "    <tr>\n",
       "        <td>E1010</td>\n",
       "        <td>Ann</td>\n",
       "        <td>Jacob</td>\n",
       "        <td>123415</td>\n",
       "        <td>3/30/1982</td>\n",
       "        <td>F</td>\n",
       "        <td>111 Britany Springs,Elgin,IL</td>\n",
       "        <td>220</td>\n",
       "        <td>70000</td>\n",
       "        <td>30004</td>\n",
       "        <td>5</td>\n",
       "        <td>5</td>\n",
       "        <td>Software Group</td>\n",
       "        <td>30002</td>\n",
       "        <td>L0002</td>\n",
       "    </tr>\n",
       "    <tr>\n",
       "        <td>E1010</td>\n",
       "        <td>Ann</td>\n",
       "        <td>Jacob</td>\n",
       "        <td>123415</td>\n",
       "        <td>3/30/1982</td>\n",
       "        <td>F</td>\n",
       "        <td>111 Britany Springs,Elgin,IL</td>\n",
       "        <td>220</td>\n",
       "        <td>70000</td>\n",
       "        <td>30004</td>\n",
       "        <td>5</td>\n",
       "        <td>7</td>\n",
       "        <td>Design Team</td>\n",
       "        <td>30003</td>\n",
       "        <td>L0003</td>\n",
       "    </tr>\n",
       "</table>"
      ],
      "text/plain": [
       "[('E1001', 'John', 'Thomas', '123456', '1/9/1976', 'M', '5631 Rice, OakPark,IL', '100', 100000, '30001', '2', '2', 'Architect Group', '30001', 'L0001'),\n",
       " ('E1001', 'John', 'Thomas', '123456', '1/9/1976', 'M', '5631 Rice, OakPark,IL', '100', 100000, '30001', '2', '5', 'Software Group', '30002', 'L0002'),\n",
       " ('E1001', 'John', 'Thomas', '123456', '1/9/1976', 'M', '5631 Rice, OakPark,IL', '100', 100000, '30001', '2', '7', 'Design Team', '30003', 'L0003'),\n",
       " ('E1002', 'Alice', 'James', '123457', '7/31/1972', 'F', '980 Berry ln, Elgin,IL', '200', 80000, '30002', '5', '2', 'Architect Group', '30001', 'L0001'),\n",
       " ('E1002', 'Alice', 'James', '123457', '7/31/1972', 'F', '980 Berry ln, Elgin,IL', '200', 80000, '30002', '5', '5', 'Software Group', '30002', 'L0002'),\n",
       " ('E1002', 'Alice', 'James', '123457', '7/31/1972', 'F', '980 Berry ln, Elgin,IL', '200', 80000, '30002', '5', '7', 'Design Team', '30003', 'L0003'),\n",
       " ('E1003', 'Steve', 'Wells', '123458', '8/10/1980', 'M', '291 Springs, Gary,IL', '300', 50000, '30002', '5', '2', 'Architect Group', '30001', 'L0001'),\n",
       " ('E1003', 'Steve', 'Wells', '123458', '8/10/1980', 'M', '291 Springs, Gary,IL', '300', 50000, '30002', '5', '5', 'Software Group', '30002', 'L0002'),\n",
       " ('E1003', 'Steve', 'Wells', '123458', '8/10/1980', 'M', '291 Springs, Gary,IL', '300', 50000, '30002', '5', '7', 'Design Team', '30003', 'L0003'),\n",
       " ('E1004', 'Santosh', 'Kumar', '123459', '7/20/1985', 'M', '511 Aurora Av, Aurora,IL', '400', 60000, '30004', '5', '2', 'Architect Group', '30001', 'L0001'),\n",
       " ('E1004', 'Santosh', 'Kumar', '123459', '7/20/1985', 'M', '511 Aurora Av, Aurora,IL', '400', 60000, '30004', '5', '5', 'Software Group', '30002', 'L0002'),\n",
       " ('E1004', 'Santosh', 'Kumar', '123459', '7/20/1985', 'M', '511 Aurora Av, Aurora,IL', '400', 60000, '30004', '5', '7', 'Design Team', '30003', 'L0003'),\n",
       " ('E1005', 'Ahmed', 'Hussain', '123410', '1/4/1981', 'M', '216 Oak Tree, Geneva,IL', '500', 70000, '30001', '2', '2', 'Architect Group', '30001', 'L0001'),\n",
       " ('E1005', 'Ahmed', 'Hussain', '123410', '1/4/1981', 'M', '216 Oak Tree, Geneva,IL', '500', 70000, '30001', '2', '5', 'Software Group', '30002', 'L0002'),\n",
       " ('E1005', 'Ahmed', 'Hussain', '123410', '1/4/1981', 'M', '216 Oak Tree, Geneva,IL', '500', 70000, '30001', '2', '7', 'Design Team', '30003', 'L0003'),\n",
       " ('E1006', 'Nancy', 'Allen', '123411', '2/6/1978', 'F', '111 Green Pl, Elgin,IL', '600', 90000, '30001', '2', '2', 'Architect Group', '30001', 'L0001'),\n",
       " ('E1006', 'Nancy', 'Allen', '123411', '2/6/1978', 'F', '111 Green Pl, Elgin,IL', '600', 90000, '30001', '2', '5', 'Software Group', '30002', 'L0002'),\n",
       " ('E1006', 'Nancy', 'Allen', '123411', '2/6/1978', 'F', '111 Green Pl, Elgin,IL', '600', 90000, '30001', '2', '7', 'Design Team', '30003', 'L0003'),\n",
       " ('E1007', 'Mary', 'Thomas', '123412', '5/5/1975', 'F', '100 Rose Pl, Gary,IL', '650', 65000, '30003', '7', '2', 'Architect Group', '30001', 'L0001'),\n",
       " ('E1007', 'Mary', 'Thomas', '123412', '5/5/1975', 'F', '100 Rose Pl, Gary,IL', '650', 65000, '30003', '7', '5', 'Software Group', '30002', 'L0002'),\n",
       " ('E1007', 'Mary', 'Thomas', '123412', '5/5/1975', 'F', '100 Rose Pl, Gary,IL', '650', 65000, '30003', '7', '7', 'Design Team', '30003', 'L0003'),\n",
       " ('E1008', 'Bharath', 'Gupta', '123413', '5/6/1985', 'M', '145 Berry Ln, Naperville,IL', '660', 65000, '30003', '7', '2', 'Architect Group', '30001', 'L0001'),\n",
       " ('E1008', 'Bharath', 'Gupta', '123413', '5/6/1985', 'M', '145 Berry Ln, Naperville,IL', '660', 65000, '30003', '7', '5', 'Software Group', '30002', 'L0002'),\n",
       " ('E1008', 'Bharath', 'Gupta', '123413', '5/6/1985', 'M', '145 Berry Ln, Naperville,IL', '660', 65000, '30003', '7', '7', 'Design Team', '30003', 'L0003'),\n",
       " ('E1009', 'Andrea', 'Jones', '123414', '7/9/1990', 'F', '120 Fall Creek, Gary,IL', '234', 70000, '30003', '7', '2', 'Architect Group', '30001', 'L0001'),\n",
       " ('E1009', 'Andrea', 'Jones', '123414', '7/9/1990', 'F', '120 Fall Creek, Gary,IL', '234', 70000, '30003', '7', '5', 'Software Group', '30002', 'L0002'),\n",
       " ('E1009', 'Andrea', 'Jones', '123414', '7/9/1990', 'F', '120 Fall Creek, Gary,IL', '234', 70000, '30003', '7', '7', 'Design Team', '30003', 'L0003'),\n",
       " ('E1010', 'Ann', 'Jacob', '123415', '3/30/1982', 'F', '111 Britany Springs,Elgin,IL', '220', 70000, '30004', '5', '2', 'Architect Group', '30001', 'L0001'),\n",
       " ('E1010', 'Ann', 'Jacob', '123415', '3/30/1982', 'F', '111 Britany Springs,Elgin,IL', '220', 70000, '30004', '5', '5', 'Software Group', '30002', 'L0002'),\n",
       " ('E1010', 'Ann', 'Jacob', '123415', '3/30/1982', 'F', '111 Britany Springs,Elgin,IL', '220', 70000, '30004', '5', '7', 'Design Team', '30003', 'L0003')]"
      ]
     },
     "execution_count": 91,
     "metadata": {},
     "output_type": "execute_result"
    }
   ],
   "source": [
    "%%sql\n",
    "\n",
    "select * from employees, departments;"
   ]
  },
  {
   "cell_type": "code",
   "execution_count": 92,
   "id": "5bfdf3d3-8749-4bff-a97d-21c54e4ee747",
   "metadata": {},
   "outputs": [
    {
     "name": "stdout",
     "output_type": "stream",
     "text": [
      " * sqlite://\n",
      "Done.\n"
     ]
    },
    {
     "data": {
      "text/html": [
       "<table>\n",
       "    <tr>\n",
       "        <th>EMP_ID</th>\n",
       "        <th>F_NAME</th>\n",
       "        <th>L_NAME</th>\n",
       "        <th>SSN</th>\n",
       "        <th>B_DATE</th>\n",
       "        <th>SEX</th>\n",
       "        <th>ADDRESS</th>\n",
       "        <th>JOB_ID</th>\n",
       "        <th>SALARY</th>\n",
       "        <th>MANAGER_ID</th>\n",
       "        <th>DEP_ID</th>\n",
       "    </tr>\n",
       "    <tr>\n",
       "        <td>E1001</td>\n",
       "        <td>John</td>\n",
       "        <td>Thomas</td>\n",
       "        <td>123456</td>\n",
       "        <td>1/9/1976</td>\n",
       "        <td>M</td>\n",
       "        <td>5631 Rice, OakPark,IL</td>\n",
       "        <td>100</td>\n",
       "        <td>100000</td>\n",
       "        <td>30001</td>\n",
       "        <td>2</td>\n",
       "    </tr>\n",
       "    <tr>\n",
       "        <td>E1002</td>\n",
       "        <td>Alice</td>\n",
       "        <td>James</td>\n",
       "        <td>123457</td>\n",
       "        <td>7/31/1972</td>\n",
       "        <td>F</td>\n",
       "        <td>980 Berry ln, Elgin,IL</td>\n",
       "        <td>200</td>\n",
       "        <td>80000</td>\n",
       "        <td>30002</td>\n",
       "        <td>5</td>\n",
       "    </tr>\n",
       "    <tr>\n",
       "        <td>E1003</td>\n",
       "        <td>Steve</td>\n",
       "        <td>Wells</td>\n",
       "        <td>123458</td>\n",
       "        <td>8/10/1980</td>\n",
       "        <td>M</td>\n",
       "        <td>291 Springs, Gary,IL</td>\n",
       "        <td>300</td>\n",
       "        <td>50000</td>\n",
       "        <td>30002</td>\n",
       "        <td>5</td>\n",
       "    </tr>\n",
       "    <tr>\n",
       "        <td>E1004</td>\n",
       "        <td>Santosh</td>\n",
       "        <td>Kumar</td>\n",
       "        <td>123459</td>\n",
       "        <td>7/20/1985</td>\n",
       "        <td>M</td>\n",
       "        <td>511 Aurora Av, Aurora,IL</td>\n",
       "        <td>400</td>\n",
       "        <td>60000</td>\n",
       "        <td>30004</td>\n",
       "        <td>5</td>\n",
       "    </tr>\n",
       "    <tr>\n",
       "        <td>E1005</td>\n",
       "        <td>Ahmed</td>\n",
       "        <td>Hussain</td>\n",
       "        <td>123410</td>\n",
       "        <td>1/4/1981</td>\n",
       "        <td>M</td>\n",
       "        <td>216 Oak Tree, Geneva,IL</td>\n",
       "        <td>500</td>\n",
       "        <td>70000</td>\n",
       "        <td>30001</td>\n",
       "        <td>2</td>\n",
       "    </tr>\n",
       "    <tr>\n",
       "        <td>E1006</td>\n",
       "        <td>Nancy</td>\n",
       "        <td>Allen</td>\n",
       "        <td>123411</td>\n",
       "        <td>2/6/1978</td>\n",
       "        <td>F</td>\n",
       "        <td>111 Green Pl, Elgin,IL</td>\n",
       "        <td>600</td>\n",
       "        <td>90000</td>\n",
       "        <td>30001</td>\n",
       "        <td>2</td>\n",
       "    </tr>\n",
       "    <tr>\n",
       "        <td>E1007</td>\n",
       "        <td>Mary</td>\n",
       "        <td>Thomas</td>\n",
       "        <td>123412</td>\n",
       "        <td>5/5/1975</td>\n",
       "        <td>F</td>\n",
       "        <td>100 Rose Pl, Gary,IL</td>\n",
       "        <td>650</td>\n",
       "        <td>65000</td>\n",
       "        <td>30003</td>\n",
       "        <td>7</td>\n",
       "    </tr>\n",
       "    <tr>\n",
       "        <td>E1008</td>\n",
       "        <td>Bharath</td>\n",
       "        <td>Gupta</td>\n",
       "        <td>123413</td>\n",
       "        <td>5/6/1985</td>\n",
       "        <td>M</td>\n",
       "        <td>145 Berry Ln, Naperville,IL</td>\n",
       "        <td>660</td>\n",
       "        <td>65000</td>\n",
       "        <td>30003</td>\n",
       "        <td>7</td>\n",
       "    </tr>\n",
       "    <tr>\n",
       "        <td>E1009</td>\n",
       "        <td>Andrea</td>\n",
       "        <td>Jones</td>\n",
       "        <td>123414</td>\n",
       "        <td>7/9/1990</td>\n",
       "        <td>F</td>\n",
       "        <td>120 Fall Creek, Gary,IL</td>\n",
       "        <td>234</td>\n",
       "        <td>70000</td>\n",
       "        <td>30003</td>\n",
       "        <td>7</td>\n",
       "    </tr>\n",
       "    <tr>\n",
       "        <td>E1010</td>\n",
       "        <td>Ann</td>\n",
       "        <td>Jacob</td>\n",
       "        <td>123415</td>\n",
       "        <td>3/30/1982</td>\n",
       "        <td>F</td>\n",
       "        <td>111 Britany Springs,Elgin,IL</td>\n",
       "        <td>220</td>\n",
       "        <td>70000</td>\n",
       "        <td>30004</td>\n",
       "        <td>5</td>\n",
       "    </tr>\n",
       "</table>"
      ],
      "text/plain": [
       "[('E1001', 'John', 'Thomas', '123456', '1/9/1976', 'M', '5631 Rice, OakPark,IL', '100', 100000, '30001', '2'),\n",
       " ('E1002', 'Alice', 'James', '123457', '7/31/1972', 'F', '980 Berry ln, Elgin,IL', '200', 80000, '30002', '5'),\n",
       " ('E1003', 'Steve', 'Wells', '123458', '8/10/1980', 'M', '291 Springs, Gary,IL', '300', 50000, '30002', '5'),\n",
       " ('E1004', 'Santosh', 'Kumar', '123459', '7/20/1985', 'M', '511 Aurora Av, Aurora,IL', '400', 60000, '30004', '5'),\n",
       " ('E1005', 'Ahmed', 'Hussain', '123410', '1/4/1981', 'M', '216 Oak Tree, Geneva,IL', '500', 70000, '30001', '2'),\n",
       " ('E1006', 'Nancy', 'Allen', '123411', '2/6/1978', 'F', '111 Green Pl, Elgin,IL', '600', 90000, '30001', '2'),\n",
       " ('E1007', 'Mary', 'Thomas', '123412', '5/5/1975', 'F', '100 Rose Pl, Gary,IL', '650', 65000, '30003', '7'),\n",
       " ('E1008', 'Bharath', 'Gupta', '123413', '5/6/1985', 'M', '145 Berry Ln, Naperville,IL', '660', 65000, '30003', '7'),\n",
       " ('E1009', 'Andrea', 'Jones', '123414', '7/9/1990', 'F', '120 Fall Creek, Gary,IL', '234', 70000, '30003', '7'),\n",
       " ('E1010', 'Ann', 'Jacob', '123415', '3/30/1982', 'F', '111 Britany Springs,Elgin,IL', '220', 70000, '30004', '5')]"
      ]
     },
     "execution_count": 92,
     "metadata": {},
     "output_type": "execute_result"
    }
   ],
   "source": [
    "%%sql\n",
    "\n",
    "select * from employees\n",
    "where job_id IN (select job_ident from jobs);"
   ]
  },
  {
   "cell_type": "code",
   "execution_count": 93,
   "id": "4df9b521-5870-41a4-a03b-c929b92f34b0",
   "metadata": {},
   "outputs": [
    {
     "name": "stdout",
     "output_type": "stream",
     "text": [
      " * sqlite://\n",
      "Done.\n"
     ]
    },
    {
     "data": {
      "text/html": [
       "<table>\n",
       "    <tr>\n",
       "        <th>EMP_ID</th>\n",
       "        <th>F_NAME</th>\n",
       "        <th>L_NAME</th>\n",
       "        <th>SSN</th>\n",
       "        <th>B_DATE</th>\n",
       "        <th>SEX</th>\n",
       "        <th>ADDRESS</th>\n",
       "        <th>JOB_ID</th>\n",
       "        <th>SALARY</th>\n",
       "        <th>MANAGER_ID</th>\n",
       "        <th>DEP_ID</th>\n",
       "    </tr>\n",
       "    <tr>\n",
       "        <td>E1007</td>\n",
       "        <td>Mary</td>\n",
       "        <td>Thomas</td>\n",
       "        <td>123412</td>\n",
       "        <td>5/5/1975</td>\n",
       "        <td>F</td>\n",
       "        <td>100 Rose Pl, Gary,IL</td>\n",
       "        <td>650</td>\n",
       "        <td>65000</td>\n",
       "        <td>30003</td>\n",
       "        <td>7</td>\n",
       "    </tr>\n",
       "    <tr>\n",
       "        <td>E1008</td>\n",
       "        <td>Bharath</td>\n",
       "        <td>Gupta</td>\n",
       "        <td>123413</td>\n",
       "        <td>5/6/1985</td>\n",
       "        <td>M</td>\n",
       "        <td>145 Berry Ln, Naperville,IL</td>\n",
       "        <td>660</td>\n",
       "        <td>65000</td>\n",
       "        <td>30003</td>\n",
       "        <td>7</td>\n",
       "    </tr>\n",
       "</table>"
      ],
      "text/plain": [
       "[('E1007', 'Mary', 'Thomas', '123412', '5/5/1975', 'F', '100 Rose Pl, Gary,IL', '650', 65000, '30003', '7'),\n",
       " ('E1008', 'Bharath', 'Gupta', '123413', '5/6/1985', 'M', '145 Berry Ln, Naperville,IL', '660', 65000, '30003', '7')]"
      ]
     },
     "execution_count": 93,
     "metadata": {},
     "output_type": "execute_result"
    }
   ],
   "source": [
    "%%sql\n",
    "\n",
    "select * from employees\n",
    "where job_id IN (select job_ident from jobs where job_title = 'Jr. Designer');"
   ]
  },
  {
   "cell_type": "code",
   "execution_count": 94,
   "id": "d9486718-686a-4cbc-988c-ec5b7fe74bc5",
   "metadata": {},
   "outputs": [
    {
     "name": "stdout",
     "output_type": "stream",
     "text": [
      " * sqlite://\n",
      "Done.\n"
     ]
    },
    {
     "data": {
      "text/html": [
       "<table>\n",
       "    <tr>\n",
       "        <th>JOB_TITLE</th>\n",
       "        <th>MIN_SALARY</th>\n",
       "        <th>MAX_SALARY</th>\n",
       "        <th>JOB_IDENT</th>\n",
       "    </tr>\n",
       "    <tr>\n",
       "        <td>Sr. Architect</td>\n",
       "        <td>60000</td>\n",
       "        <td>100000</td>\n",
       "        <td>100</td>\n",
       "    </tr>\n",
       "    <tr>\n",
       "        <td>Sr. Software Developer</td>\n",
       "        <td>60000</td>\n",
       "        <td>80000</td>\n",
       "        <td>200</td>\n",
       "    </tr>\n",
       "    <tr>\n",
       "        <td>Lead Architect</td>\n",
       "        <td>70000</td>\n",
       "        <td>100000</td>\n",
       "        <td>600</td>\n",
       "    </tr>\n",
       "</table>"
      ],
      "text/plain": [
       "[('Sr. Architect', 60000, 100000, '100'),\n",
       " ('Sr. Software Developer', 60000, 80000, '200'),\n",
       " ('Lead Architect', 70000, 100000, '600')]"
      ]
     },
     "execution_count": 94,
     "metadata": {},
     "output_type": "execute_result"
    }
   ],
   "source": [
    "%%sql\n",
    "\n",
    "select JOB_TITLE, MIN_SALARY,MAX_SALARY,JOB_IDENT \n",
    "from jobs where JOB_IDENT IN (select JOB_ID from employees where SALARY > 70000 );"
   ]
  },
  {
   "cell_type": "markdown",
   "id": "1e2b7e8a-9dfd-464c-b7d5-1bef808c0980",
   "metadata": {},
   "source": [
    "Try joins:"
   ]
  },
  {
   "cell_type": "code",
   "execution_count": 95,
   "id": "a1114042-f17e-42d2-ab2e-a018971350c5",
   "metadata": {},
   "outputs": [
    {
     "name": "stdout",
     "output_type": "stream",
     "text": [
      " * sqlite://\n",
      "Done.\n"
     ]
    },
    {
     "data": {
      "text/html": [
       "<table>\n",
       "    <tr>\n",
       "        <th>EMP_ID</th>\n",
       "        <th>F_NAME</th>\n",
       "        <th>L_NAME</th>\n",
       "        <th>SSN</th>\n",
       "        <th>B_DATE</th>\n",
       "        <th>SEX</th>\n",
       "        <th>ADDRESS</th>\n",
       "        <th>JOB_ID</th>\n",
       "        <th>SALARY</th>\n",
       "        <th>MANAGER_ID</th>\n",
       "        <th>DEP_ID</th>\n",
       "        <th>DEPT_ID_DEP</th>\n",
       "        <th>DEP_NAME</th>\n",
       "        <th>MANAGER_ID_1</th>\n",
       "        <th>LOC_ID</th>\n",
       "    </tr>\n",
       "    <tr>\n",
       "        <td>E1001</td>\n",
       "        <td>John</td>\n",
       "        <td>Thomas</td>\n",
       "        <td>123456</td>\n",
       "        <td>1/9/1976</td>\n",
       "        <td>M</td>\n",
       "        <td>5631 Rice, OakPark,IL</td>\n",
       "        <td>100</td>\n",
       "        <td>100000</td>\n",
       "        <td>30001</td>\n",
       "        <td>2</td>\n",
       "        <td>2</td>\n",
       "        <td>Architect Group</td>\n",
       "        <td>30001</td>\n",
       "        <td>L0001</td>\n",
       "    </tr>\n",
       "    <tr>\n",
       "        <td>E1002</td>\n",
       "        <td>Alice</td>\n",
       "        <td>James</td>\n",
       "        <td>123457</td>\n",
       "        <td>7/31/1972</td>\n",
       "        <td>F</td>\n",
       "        <td>980 Berry ln, Elgin,IL</td>\n",
       "        <td>200</td>\n",
       "        <td>80000</td>\n",
       "        <td>30002</td>\n",
       "        <td>5</td>\n",
       "        <td>5</td>\n",
       "        <td>Software Group</td>\n",
       "        <td>30002</td>\n",
       "        <td>L0002</td>\n",
       "    </tr>\n",
       "    <tr>\n",
       "        <td>E1003</td>\n",
       "        <td>Steve</td>\n",
       "        <td>Wells</td>\n",
       "        <td>123458</td>\n",
       "        <td>8/10/1980</td>\n",
       "        <td>M</td>\n",
       "        <td>291 Springs, Gary,IL</td>\n",
       "        <td>300</td>\n",
       "        <td>50000</td>\n",
       "        <td>30002</td>\n",
       "        <td>5</td>\n",
       "        <td>5</td>\n",
       "        <td>Software Group</td>\n",
       "        <td>30002</td>\n",
       "        <td>L0002</td>\n",
       "    </tr>\n",
       "    <tr>\n",
       "        <td>E1004</td>\n",
       "        <td>Santosh</td>\n",
       "        <td>Kumar</td>\n",
       "        <td>123459</td>\n",
       "        <td>7/20/1985</td>\n",
       "        <td>M</td>\n",
       "        <td>511 Aurora Av, Aurora,IL</td>\n",
       "        <td>400</td>\n",
       "        <td>60000</td>\n",
       "        <td>30004</td>\n",
       "        <td>5</td>\n",
       "        <td>5</td>\n",
       "        <td>Software Group</td>\n",
       "        <td>30002</td>\n",
       "        <td>L0002</td>\n",
       "    </tr>\n",
       "    <tr>\n",
       "        <td>E1005</td>\n",
       "        <td>Ahmed</td>\n",
       "        <td>Hussain</td>\n",
       "        <td>123410</td>\n",
       "        <td>1/4/1981</td>\n",
       "        <td>M</td>\n",
       "        <td>216 Oak Tree, Geneva,IL</td>\n",
       "        <td>500</td>\n",
       "        <td>70000</td>\n",
       "        <td>30001</td>\n",
       "        <td>2</td>\n",
       "        <td>2</td>\n",
       "        <td>Architect Group</td>\n",
       "        <td>30001</td>\n",
       "        <td>L0001</td>\n",
       "    </tr>\n",
       "    <tr>\n",
       "        <td>E1006</td>\n",
       "        <td>Nancy</td>\n",
       "        <td>Allen</td>\n",
       "        <td>123411</td>\n",
       "        <td>2/6/1978</td>\n",
       "        <td>F</td>\n",
       "        <td>111 Green Pl, Elgin,IL</td>\n",
       "        <td>600</td>\n",
       "        <td>90000</td>\n",
       "        <td>30001</td>\n",
       "        <td>2</td>\n",
       "        <td>2</td>\n",
       "        <td>Architect Group</td>\n",
       "        <td>30001</td>\n",
       "        <td>L0001</td>\n",
       "    </tr>\n",
       "    <tr>\n",
       "        <td>E1007</td>\n",
       "        <td>Mary</td>\n",
       "        <td>Thomas</td>\n",
       "        <td>123412</td>\n",
       "        <td>5/5/1975</td>\n",
       "        <td>F</td>\n",
       "        <td>100 Rose Pl, Gary,IL</td>\n",
       "        <td>650</td>\n",
       "        <td>65000</td>\n",
       "        <td>30003</td>\n",
       "        <td>7</td>\n",
       "        <td>7</td>\n",
       "        <td>Design Team</td>\n",
       "        <td>30003</td>\n",
       "        <td>L0003</td>\n",
       "    </tr>\n",
       "    <tr>\n",
       "        <td>E1008</td>\n",
       "        <td>Bharath</td>\n",
       "        <td>Gupta</td>\n",
       "        <td>123413</td>\n",
       "        <td>5/6/1985</td>\n",
       "        <td>M</td>\n",
       "        <td>145 Berry Ln, Naperville,IL</td>\n",
       "        <td>660</td>\n",
       "        <td>65000</td>\n",
       "        <td>30003</td>\n",
       "        <td>7</td>\n",
       "        <td>7</td>\n",
       "        <td>Design Team</td>\n",
       "        <td>30003</td>\n",
       "        <td>L0003</td>\n",
       "    </tr>\n",
       "    <tr>\n",
       "        <td>E1009</td>\n",
       "        <td>Andrea</td>\n",
       "        <td>Jones</td>\n",
       "        <td>123414</td>\n",
       "        <td>7/9/1990</td>\n",
       "        <td>F</td>\n",
       "        <td>120 Fall Creek, Gary,IL</td>\n",
       "        <td>234</td>\n",
       "        <td>70000</td>\n",
       "        <td>30003</td>\n",
       "        <td>7</td>\n",
       "        <td>7</td>\n",
       "        <td>Design Team</td>\n",
       "        <td>30003</td>\n",
       "        <td>L0003</td>\n",
       "    </tr>\n",
       "    <tr>\n",
       "        <td>E1010</td>\n",
       "        <td>Ann</td>\n",
       "        <td>Jacob</td>\n",
       "        <td>123415</td>\n",
       "        <td>3/30/1982</td>\n",
       "        <td>F</td>\n",
       "        <td>111 Britany Springs,Elgin,IL</td>\n",
       "        <td>220</td>\n",
       "        <td>70000</td>\n",
       "        <td>30004</td>\n",
       "        <td>5</td>\n",
       "        <td>5</td>\n",
       "        <td>Software Group</td>\n",
       "        <td>30002</td>\n",
       "        <td>L0002</td>\n",
       "    </tr>\n",
       "</table>"
      ],
      "text/plain": [
       "[('E1001', 'John', 'Thomas', '123456', '1/9/1976', 'M', '5631 Rice, OakPark,IL', '100', 100000, '30001', '2', '2', 'Architect Group', '30001', 'L0001'),\n",
       " ('E1002', 'Alice', 'James', '123457', '7/31/1972', 'F', '980 Berry ln, Elgin,IL', '200', 80000, '30002', '5', '5', 'Software Group', '30002', 'L0002'),\n",
       " ('E1003', 'Steve', 'Wells', '123458', '8/10/1980', 'M', '291 Springs, Gary,IL', '300', 50000, '30002', '5', '5', 'Software Group', '30002', 'L0002'),\n",
       " ('E1004', 'Santosh', 'Kumar', '123459', '7/20/1985', 'M', '511 Aurora Av, Aurora,IL', '400', 60000, '30004', '5', '5', 'Software Group', '30002', 'L0002'),\n",
       " ('E1005', 'Ahmed', 'Hussain', '123410', '1/4/1981', 'M', '216 Oak Tree, Geneva,IL', '500', 70000, '30001', '2', '2', 'Architect Group', '30001', 'L0001'),\n",
       " ('E1006', 'Nancy', 'Allen', '123411', '2/6/1978', 'F', '111 Green Pl, Elgin,IL', '600', 90000, '30001', '2', '2', 'Architect Group', '30001', 'L0001'),\n",
       " ('E1007', 'Mary', 'Thomas', '123412', '5/5/1975', 'F', '100 Rose Pl, Gary,IL', '650', 65000, '30003', '7', '7', 'Design Team', '30003', 'L0003'),\n",
       " ('E1008', 'Bharath', 'Gupta', '123413', '5/6/1985', 'M', '145 Berry Ln, Naperville,IL', '660', 65000, '30003', '7', '7', 'Design Team', '30003', 'L0003'),\n",
       " ('E1009', 'Andrea', 'Jones', '123414', '7/9/1990', 'F', '120 Fall Creek, Gary,IL', '234', 70000, '30003', '7', '7', 'Design Team', '30003', 'L0003'),\n",
       " ('E1010', 'Ann', 'Jacob', '123415', '3/30/1982', 'F', '111 Britany Springs,Elgin,IL', '220', 70000, '30004', '5', '5', 'Software Group', '30002', 'L0002')]"
      ]
     },
     "execution_count": 95,
     "metadata": {},
     "output_type": "execute_result"
    }
   ],
   "source": [
    "%%sql\n",
    "\n",
    "select * from employees, departments\n",
    "where employees.dep_id = departments.dept_id_dep;"
   ]
  },
  {
   "cell_type": "code",
   "execution_count": 96,
   "id": "708a31c3-4db5-4c18-bc4f-9b5106cdf000",
   "metadata": {},
   "outputs": [
    {
     "name": "stdout",
     "output_type": "stream",
     "text": [
      " * sqlite://\n",
      "Done.\n"
     ]
    },
    {
     "data": {
      "text/html": [
       "<table>\n",
       "    <tr>\n",
       "        <th>EMP_ID</th>\n",
       "        <th>F_NAME</th>\n",
       "        <th>L_NAME</th>\n",
       "        <th>SSN</th>\n",
       "        <th>B_DATE</th>\n",
       "        <th>SEX</th>\n",
       "        <th>ADDRESS</th>\n",
       "        <th>JOB_ID</th>\n",
       "        <th>SALARY</th>\n",
       "        <th>MANAGER_ID</th>\n",
       "        <th>DEP_ID</th>\n",
       "        <th>DEPT_ID_DEP</th>\n",
       "        <th>DEP_NAME</th>\n",
       "        <th>MANAGER_ID_1</th>\n",
       "        <th>LOC_ID</th>\n",
       "    </tr>\n",
       "    <tr>\n",
       "        <td>E1001</td>\n",
       "        <td>John</td>\n",
       "        <td>Thomas</td>\n",
       "        <td>123456</td>\n",
       "        <td>1/9/1976</td>\n",
       "        <td>M</td>\n",
       "        <td>5631 Rice, OakPark,IL</td>\n",
       "        <td>100</td>\n",
       "        <td>100000</td>\n",
       "        <td>30001</td>\n",
       "        <td>2</td>\n",
       "        <td>2</td>\n",
       "        <td>Architect Group</td>\n",
       "        <td>30001</td>\n",
       "        <td>L0001</td>\n",
       "    </tr>\n",
       "    <tr>\n",
       "        <td>E1002</td>\n",
       "        <td>Alice</td>\n",
       "        <td>James</td>\n",
       "        <td>123457</td>\n",
       "        <td>7/31/1972</td>\n",
       "        <td>F</td>\n",
       "        <td>980 Berry ln, Elgin,IL</td>\n",
       "        <td>200</td>\n",
       "        <td>80000</td>\n",
       "        <td>30002</td>\n",
       "        <td>5</td>\n",
       "        <td>5</td>\n",
       "        <td>Software Group</td>\n",
       "        <td>30002</td>\n",
       "        <td>L0002</td>\n",
       "    </tr>\n",
       "    <tr>\n",
       "        <td>E1003</td>\n",
       "        <td>Steve</td>\n",
       "        <td>Wells</td>\n",
       "        <td>123458</td>\n",
       "        <td>8/10/1980</td>\n",
       "        <td>M</td>\n",
       "        <td>291 Springs, Gary,IL</td>\n",
       "        <td>300</td>\n",
       "        <td>50000</td>\n",
       "        <td>30002</td>\n",
       "        <td>5</td>\n",
       "        <td>5</td>\n",
       "        <td>Software Group</td>\n",
       "        <td>30002</td>\n",
       "        <td>L0002</td>\n",
       "    </tr>\n",
       "    <tr>\n",
       "        <td>E1004</td>\n",
       "        <td>Santosh</td>\n",
       "        <td>Kumar</td>\n",
       "        <td>123459</td>\n",
       "        <td>7/20/1985</td>\n",
       "        <td>M</td>\n",
       "        <td>511 Aurora Av, Aurora,IL</td>\n",
       "        <td>400</td>\n",
       "        <td>60000</td>\n",
       "        <td>30004</td>\n",
       "        <td>5</td>\n",
       "        <td>5</td>\n",
       "        <td>Software Group</td>\n",
       "        <td>30002</td>\n",
       "        <td>L0002</td>\n",
       "    </tr>\n",
       "    <tr>\n",
       "        <td>E1005</td>\n",
       "        <td>Ahmed</td>\n",
       "        <td>Hussain</td>\n",
       "        <td>123410</td>\n",
       "        <td>1/4/1981</td>\n",
       "        <td>M</td>\n",
       "        <td>216 Oak Tree, Geneva,IL</td>\n",
       "        <td>500</td>\n",
       "        <td>70000</td>\n",
       "        <td>30001</td>\n",
       "        <td>2</td>\n",
       "        <td>2</td>\n",
       "        <td>Architect Group</td>\n",
       "        <td>30001</td>\n",
       "        <td>L0001</td>\n",
       "    </tr>\n",
       "    <tr>\n",
       "        <td>E1006</td>\n",
       "        <td>Nancy</td>\n",
       "        <td>Allen</td>\n",
       "        <td>123411</td>\n",
       "        <td>2/6/1978</td>\n",
       "        <td>F</td>\n",
       "        <td>111 Green Pl, Elgin,IL</td>\n",
       "        <td>600</td>\n",
       "        <td>90000</td>\n",
       "        <td>30001</td>\n",
       "        <td>2</td>\n",
       "        <td>2</td>\n",
       "        <td>Architect Group</td>\n",
       "        <td>30001</td>\n",
       "        <td>L0001</td>\n",
       "    </tr>\n",
       "    <tr>\n",
       "        <td>E1007</td>\n",
       "        <td>Mary</td>\n",
       "        <td>Thomas</td>\n",
       "        <td>123412</td>\n",
       "        <td>5/5/1975</td>\n",
       "        <td>F</td>\n",
       "        <td>100 Rose Pl, Gary,IL</td>\n",
       "        <td>650</td>\n",
       "        <td>65000</td>\n",
       "        <td>30003</td>\n",
       "        <td>7</td>\n",
       "        <td>7</td>\n",
       "        <td>Design Team</td>\n",
       "        <td>30003</td>\n",
       "        <td>L0003</td>\n",
       "    </tr>\n",
       "    <tr>\n",
       "        <td>E1008</td>\n",
       "        <td>Bharath</td>\n",
       "        <td>Gupta</td>\n",
       "        <td>123413</td>\n",
       "        <td>5/6/1985</td>\n",
       "        <td>M</td>\n",
       "        <td>145 Berry Ln, Naperville,IL</td>\n",
       "        <td>660</td>\n",
       "        <td>65000</td>\n",
       "        <td>30003</td>\n",
       "        <td>7</td>\n",
       "        <td>7</td>\n",
       "        <td>Design Team</td>\n",
       "        <td>30003</td>\n",
       "        <td>L0003</td>\n",
       "    </tr>\n",
       "    <tr>\n",
       "        <td>E1009</td>\n",
       "        <td>Andrea</td>\n",
       "        <td>Jones</td>\n",
       "        <td>123414</td>\n",
       "        <td>7/9/1990</td>\n",
       "        <td>F</td>\n",
       "        <td>120 Fall Creek, Gary,IL</td>\n",
       "        <td>234</td>\n",
       "        <td>70000</td>\n",
       "        <td>30003</td>\n",
       "        <td>7</td>\n",
       "        <td>7</td>\n",
       "        <td>Design Team</td>\n",
       "        <td>30003</td>\n",
       "        <td>L0003</td>\n",
       "    </tr>\n",
       "    <tr>\n",
       "        <td>E1010</td>\n",
       "        <td>Ann</td>\n",
       "        <td>Jacob</td>\n",
       "        <td>123415</td>\n",
       "        <td>3/30/1982</td>\n",
       "        <td>F</td>\n",
       "        <td>111 Britany Springs,Elgin,IL</td>\n",
       "        <td>220</td>\n",
       "        <td>70000</td>\n",
       "        <td>30004</td>\n",
       "        <td>5</td>\n",
       "        <td>5</td>\n",
       "        <td>Software Group</td>\n",
       "        <td>30002</td>\n",
       "        <td>L0002</td>\n",
       "    </tr>\n",
       "</table>"
      ],
      "text/plain": [
       "[('E1001', 'John', 'Thomas', '123456', '1/9/1976', 'M', '5631 Rice, OakPark,IL', '100', 100000, '30001', '2', '2', 'Architect Group', '30001', 'L0001'),\n",
       " ('E1002', 'Alice', 'James', '123457', '7/31/1972', 'F', '980 Berry ln, Elgin,IL', '200', 80000, '30002', '5', '5', 'Software Group', '30002', 'L0002'),\n",
       " ('E1003', 'Steve', 'Wells', '123458', '8/10/1980', 'M', '291 Springs, Gary,IL', '300', 50000, '30002', '5', '5', 'Software Group', '30002', 'L0002'),\n",
       " ('E1004', 'Santosh', 'Kumar', '123459', '7/20/1985', 'M', '511 Aurora Av, Aurora,IL', '400', 60000, '30004', '5', '5', 'Software Group', '30002', 'L0002'),\n",
       " ('E1005', 'Ahmed', 'Hussain', '123410', '1/4/1981', 'M', '216 Oak Tree, Geneva,IL', '500', 70000, '30001', '2', '2', 'Architect Group', '30001', 'L0001'),\n",
       " ('E1006', 'Nancy', 'Allen', '123411', '2/6/1978', 'F', '111 Green Pl, Elgin,IL', '600', 90000, '30001', '2', '2', 'Architect Group', '30001', 'L0001'),\n",
       " ('E1007', 'Mary', 'Thomas', '123412', '5/5/1975', 'F', '100 Rose Pl, Gary,IL', '650', 65000, '30003', '7', '7', 'Design Team', '30003', 'L0003'),\n",
       " ('E1008', 'Bharath', 'Gupta', '123413', '5/6/1985', 'M', '145 Berry Ln, Naperville,IL', '660', 65000, '30003', '7', '7', 'Design Team', '30003', 'L0003'),\n",
       " ('E1009', 'Andrea', 'Jones', '123414', '7/9/1990', 'F', '120 Fall Creek, Gary,IL', '234', 70000, '30003', '7', '7', 'Design Team', '30003', 'L0003'),\n",
       " ('E1010', 'Ann', 'Jacob', '123415', '3/30/1982', 'F', '111 Britany Springs,Elgin,IL', '220', 70000, '30004', '5', '5', 'Software Group', '30002', 'L0002')]"
      ]
     },
     "execution_count": 96,
     "metadata": {},
     "output_type": "execute_result"
    }
   ],
   "source": [
    "%%sql\n",
    "\n",
    "select * from employees E, departments D\n",
    "where E.dep_id = D.dept_id_dep;"
   ]
  },
  {
   "cell_type": "code",
   "execution_count": 97,
   "id": "158d5185-c062-4ff0-85a1-13f22c927076",
   "metadata": {},
   "outputs": [
    {
     "name": "stdout",
     "output_type": "stream",
     "text": [
      " * sqlite://\n",
      "Done.\n"
     ]
    },
    {
     "data": {
      "text/html": [
       "<table>\n",
       "    <tr>\n",
       "        <th>EMP_ID</th>\n",
       "        <th>DEP_NAME</th>\n",
       "    </tr>\n",
       "    <tr>\n",
       "        <td>E1001</td>\n",
       "        <td>Architect Group</td>\n",
       "    </tr>\n",
       "    <tr>\n",
       "        <td>E1002</td>\n",
       "        <td>Software Group</td>\n",
       "    </tr>\n",
       "    <tr>\n",
       "        <td>E1003</td>\n",
       "        <td>Software Group</td>\n",
       "    </tr>\n",
       "    <tr>\n",
       "        <td>E1004</td>\n",
       "        <td>Software Group</td>\n",
       "    </tr>\n",
       "    <tr>\n",
       "        <td>E1005</td>\n",
       "        <td>Architect Group</td>\n",
       "    </tr>\n",
       "    <tr>\n",
       "        <td>E1006</td>\n",
       "        <td>Architect Group</td>\n",
       "    </tr>\n",
       "    <tr>\n",
       "        <td>E1007</td>\n",
       "        <td>Design Team</td>\n",
       "    </tr>\n",
       "    <tr>\n",
       "        <td>E1008</td>\n",
       "        <td>Design Team</td>\n",
       "    </tr>\n",
       "    <tr>\n",
       "        <td>E1009</td>\n",
       "        <td>Design Team</td>\n",
       "    </tr>\n",
       "    <tr>\n",
       "        <td>E1010</td>\n",
       "        <td>Software Group</td>\n",
       "    </tr>\n",
       "</table>"
      ],
      "text/plain": [
       "[('E1001', 'Architect Group'),\n",
       " ('E1002', 'Software Group'),\n",
       " ('E1003', 'Software Group'),\n",
       " ('E1004', 'Software Group'),\n",
       " ('E1005', 'Architect Group'),\n",
       " ('E1006', 'Architect Group'),\n",
       " ('E1007', 'Design Team'),\n",
       " ('E1008', 'Design Team'),\n",
       " ('E1009', 'Design Team'),\n",
       " ('E1010', 'Software Group')]"
      ]
     },
     "execution_count": 97,
     "metadata": {},
     "output_type": "execute_result"
    }
   ],
   "source": [
    "%%sql\n",
    "\n",
    "select emp_id, dep_name\n",
    "from employees E, departments D\n",
    "where E.dep_id = D.dept_id_dep;"
   ]
  },
  {
   "cell_type": "markdown",
   "id": "e3b786b7-0ad6-4c5f-b4aa-23104be9946f",
   "metadata": {},
   "source": [
    "Try an inner join:"
   ]
  },
  {
   "cell_type": "code",
   "execution_count": 98,
   "id": "8f3d3056-b354-4e93-b877-88a387c1d933",
   "metadata": {},
   "outputs": [
    {
     "name": "stdout",
     "output_type": "stream",
     "text": [
      " * sqlite://\n",
      "Done.\n"
     ]
    },
    {
     "data": {
      "text/html": [
       "<table>\n",
       "    <tr>\n",
       "        <th>EMP_ID</th>\n",
       "        <th>F_NAME</th>\n",
       "        <th>L_NAME</th>\n",
       "        <th>JOB_TITLE</th>\n",
       "    </tr>\n",
       "    <tr>\n",
       "        <td>E1001</td>\n",
       "        <td>John</td>\n",
       "        <td>Thomas</td>\n",
       "        <td>Sr. Architect</td>\n",
       "    </tr>\n",
       "    <tr>\n",
       "        <td>E1002</td>\n",
       "        <td>Alice</td>\n",
       "        <td>James</td>\n",
       "        <td>Sr. Software Developer</td>\n",
       "    </tr>\n",
       "    <tr>\n",
       "        <td>E1003</td>\n",
       "        <td>Steve</td>\n",
       "        <td>Wells</td>\n",
       "        <td>Jr. Software Developer</td>\n",
       "    </tr>\n",
       "    <tr>\n",
       "        <td>E1004</td>\n",
       "        <td>Santosh</td>\n",
       "        <td>Kumar</td>\n",
       "        <td>Jr. Software Developer</td>\n",
       "    </tr>\n",
       "    <tr>\n",
       "        <td>E1005</td>\n",
       "        <td>Ahmed</td>\n",
       "        <td>Hussain</td>\n",
       "        <td>Jr. Architect</td>\n",
       "    </tr>\n",
       "    <tr>\n",
       "        <td>E1006</td>\n",
       "        <td>Nancy</td>\n",
       "        <td>Allen</td>\n",
       "        <td>Lead Architect</td>\n",
       "    </tr>\n",
       "    <tr>\n",
       "        <td>E1007</td>\n",
       "        <td>Mary</td>\n",
       "        <td>Thomas</td>\n",
       "        <td>Jr. Designer</td>\n",
       "    </tr>\n",
       "    <tr>\n",
       "        <td>E1008</td>\n",
       "        <td>Bharath</td>\n",
       "        <td>Gupta</td>\n",
       "        <td>Jr. Designer</td>\n",
       "    </tr>\n",
       "    <tr>\n",
       "        <td>E1009</td>\n",
       "        <td>Andrea</td>\n",
       "        <td>Jones</td>\n",
       "        <td>Sr. Designer</td>\n",
       "    </tr>\n",
       "    <tr>\n",
       "        <td>E1010</td>\n",
       "        <td>Ann</td>\n",
       "        <td>Jacob</td>\n",
       "        <td>Sr. Designer</td>\n",
       "    </tr>\n",
       "</table>"
      ],
      "text/plain": [
       "[('E1001', 'John', 'Thomas', 'Sr. Architect'),\n",
       " ('E1002', 'Alice', 'James', 'Sr. Software Developer'),\n",
       " ('E1003', 'Steve', 'Wells', 'Jr. Software Developer'),\n",
       " ('E1004', 'Santosh', 'Kumar', 'Jr. Software Developer'),\n",
       " ('E1005', 'Ahmed', 'Hussain', 'Jr. Architect'),\n",
       " ('E1006', 'Nancy', 'Allen', 'Lead Architect'),\n",
       " ('E1007', 'Mary', 'Thomas', 'Jr. Designer'),\n",
       " ('E1008', 'Bharath', 'Gupta', 'Jr. Designer'),\n",
       " ('E1009', 'Andrea', 'Jones', 'Sr. Designer'),\n",
       " ('E1010', 'Ann', 'Jacob', 'Sr. Designer')]"
      ]
     },
     "execution_count": 98,
     "metadata": {},
     "output_type": "execute_result"
    }
   ],
   "source": [
    "%%sql\n",
    "\n",
    "select EMP_ID,F_NAME,L_NAME, JOB_TITLE \n",
    "from employees E, jobs J \n",
    "where E.JOB_ID = J.JOB_IDENT;"
   ]
  },
  {
   "cell_type": "code",
   "execution_count": 99,
   "id": "53c7d107-37e0-432d-ad65-be4f0bb4f744",
   "metadata": {},
   "outputs": [
    {
     "name": "stdout",
     "output_type": "stream",
     "text": [
      " * sqlite://\n",
      "Done.\n"
     ]
    },
    {
     "data": {
      "text/html": [
       "<table>\n",
       "    <tr>\n",
       "        <th>EMP_ID</th>\n",
       "        <th>F_NAME</th>\n",
       "        <th>L_NAME</th>\n",
       "        <th>JOB_TITLE</th>\n",
       "    </tr>\n",
       "    <tr>\n",
       "        <td>E1001</td>\n",
       "        <td>John</td>\n",
       "        <td>Thomas</td>\n",
       "        <td>Sr. Architect</td>\n",
       "    </tr>\n",
       "    <tr>\n",
       "        <td>E1002</td>\n",
       "        <td>Alice</td>\n",
       "        <td>James</td>\n",
       "        <td>Sr. Software Developer</td>\n",
       "    </tr>\n",
       "    <tr>\n",
       "        <td>E1003</td>\n",
       "        <td>Steve</td>\n",
       "        <td>Wells</td>\n",
       "        <td>Jr. Software Developer</td>\n",
       "    </tr>\n",
       "    <tr>\n",
       "        <td>E1004</td>\n",
       "        <td>Santosh</td>\n",
       "        <td>Kumar</td>\n",
       "        <td>Jr. Software Developer</td>\n",
       "    </tr>\n",
       "    <tr>\n",
       "        <td>E1005</td>\n",
       "        <td>Ahmed</td>\n",
       "        <td>Hussain</td>\n",
       "        <td>Jr. Architect</td>\n",
       "    </tr>\n",
       "    <tr>\n",
       "        <td>E1006</td>\n",
       "        <td>Nancy</td>\n",
       "        <td>Allen</td>\n",
       "        <td>Lead Architect</td>\n",
       "    </tr>\n",
       "    <tr>\n",
       "        <td>E1007</td>\n",
       "        <td>Mary</td>\n",
       "        <td>Thomas</td>\n",
       "        <td>Jr. Designer</td>\n",
       "    </tr>\n",
       "    <tr>\n",
       "        <td>E1008</td>\n",
       "        <td>Bharath</td>\n",
       "        <td>Gupta</td>\n",
       "        <td>Jr. Designer</td>\n",
       "    </tr>\n",
       "    <tr>\n",
       "        <td>E1009</td>\n",
       "        <td>Andrea</td>\n",
       "        <td>Jones</td>\n",
       "        <td>Sr. Designer</td>\n",
       "    </tr>\n",
       "    <tr>\n",
       "        <td>E1010</td>\n",
       "        <td>Ann</td>\n",
       "        <td>Jacob</td>\n",
       "        <td>Sr. Designer</td>\n",
       "    </tr>\n",
       "</table>"
      ],
      "text/plain": [
       "[('E1001', 'John', 'Thomas', 'Sr. Architect'),\n",
       " ('E1002', 'Alice', 'James', 'Sr. Software Developer'),\n",
       " ('E1003', 'Steve', 'Wells', 'Jr. Software Developer'),\n",
       " ('E1004', 'Santosh', 'Kumar', 'Jr. Software Developer'),\n",
       " ('E1005', 'Ahmed', 'Hussain', 'Jr. Architect'),\n",
       " ('E1006', 'Nancy', 'Allen', 'Lead Architect'),\n",
       " ('E1007', 'Mary', 'Thomas', 'Jr. Designer'),\n",
       " ('E1008', 'Bharath', 'Gupta', 'Jr. Designer'),\n",
       " ('E1009', 'Andrea', 'Jones', 'Sr. Designer'),\n",
       " ('E1010', 'Ann', 'Jacob', 'Sr. Designer')]"
      ]
     },
     "execution_count": 99,
     "metadata": {},
     "output_type": "execute_result"
    }
   ],
   "source": [
    "%%sql\n",
    "select E.EMP_ID,E.F_NAME,E.L_NAME, J.JOB_TITLE \n",
    "from employees E, jobs J \n",
    "where E.JOB_ID = J.JOB_IDENT;"
   ]
  },
  {
   "cell_type": "markdown",
   "id": "daa2cd2a-b0c2-4d4d-ac14-b4a74ea1f905",
   "metadata": {},
   "source": [
    "## *Week 4: Accessing Databases using Python*"
   ]
  },
  {
   "cell_type": "markdown",
   "id": "9068fafb-5acf-47bd-89b3-c6520a4ca3b4",
   "metadata": {},
   "source": [
    "Benefits of Python for database programming:\n",
    "- Python ecosystem (numpy, pandas, matplotlib, scipy).\n",
    "- Ease of use & portable\n",
    "- Supports relational database systems.\n",
    "- Python database API (DB-API)\n",
    "\n",
    "Process to access the database management system via python:\n",
    "- user interacts with python in some way, such as using jupyter notebook\n",
    "- user uses DB API calls to interact with the DBMS\n",
    "\n",
    "Python DB API\n",
    "- python's standard api for accessing relational databases\n",
    "- allows a single program to work with multiple kinds of relational databases\n",
    "- learn the DB-API functions once and use them with any database\n",
    "- easy to implement and understand\n",
    "- encourages similarity between python modules used to acces databases\n",
    "- achieves consistency\n",
    "- portable across databases\n",
    "- broad reach of database connectivity from python\n",
    "\n",
    "Examples of libraries used by database systems to connect to python applications:\n",
    "- IBM Db2 (ibm_db)\n",
    "- Compose for MySQL (MySQL Connector/Python)\n",
    "- Compose for PostgreSQL (psycopg2)\n",
    "- Compose for MongoDB (PyMongo)"
   ]
  },
  {
   "cell_type": "markdown",
   "id": "ade9db15-f47a-42af-b231-a103004f760e",
   "metadata": {},
   "source": [
    "### DB-API\n",
    "\n",
    "Python DB API Objects:\n",
    "- Connection Objects:\n",
    "    - Database Connections\n",
    "    - Manage Transactions\n",
    "- Cursor Objects\n",
    "    - A cursor is a control structure that enables traversal over the records in a database. It behaves like a file name in a programming language. The program opens a cursor to gain access to query results and closes the cursor to end access, etc.\n",
    "    - Database Queries\n",
    "    - Scroll through result set\n",
    "    - Retrieve results\n",
    "\n",
    "Connection methods:\n",
    "- .cursor()\n",
    "    - returns a new cursor object \n",
    "- .commit()\n",
    "    - used to commit pending transactions to the database\n",
    "- .rollback()\n",
    "    - causes a database to rollback to the start of any pending transactions\n",
    "- .close()\n",
    "    - closes a database connection\n",
    "\n",
    "Cursor Methods:\n",
    "- .callproc()\n",
    "- .execute()\n",
    "- .executemany()\n",
    "- .fetchone()\n",
    "- .fetchmany()\n",
    "- .fetchall()\n",
    "- .nextset()\n",
    "- .arraysize()\n",
    "- .close()\n",
    "\n",
    "*NOTE: cursors created from the same connection are not isolated, so any changes done to a database by one cursor are immediately visible to the other cursors.  Cursors created from different connections can or cannot be isolated, depending on how the transaction support is implemented.*"
   ]
  },
  {
   "cell_type": "markdown",
   "id": "5759d478-e925-4bd3-86f1-7ab23ef57548",
   "metadata": {},
   "source": [
    "**LAB**: connect to Db2 database on cloud using python. "
   ]
  },
  {
   "cell_type": "code",
   "execution_count": 100,
   "id": "31ff1073-124f-400b-b6f5-da456e32f031",
   "metadata": {},
   "outputs": [
    {
     "name": "stdout",
     "output_type": "stream",
     "text": [
      "Requirement already satisfied: ibm_db in c:\\users\\orgil\\appdata\\local\\programs\\python\\python39\\lib\\site-packages (3.0.4)\n"
     ]
    }
   ],
   "source": [
    "# import ibm_db python library. \n",
    "# This API provides useful functions for accessing & manipulating IBM data server database data\n",
    "!pip install ibm_db"
   ]
  },
  {
   "cell_type": "code",
   "execution_count": 101,
   "id": "bda362f8-9fa8-407a-9f0a-28f60e7bd40f",
   "metadata": {},
   "outputs": [],
   "source": [
    "# import the library\n",
    "import ibm_db"
   ]
  },
  {
   "cell_type": "code",
   "execution_count": 102,
   "id": "5abadeae-010a-428a-902b-d73a19535e0a",
   "metadata": {},
   "outputs": [],
   "source": [
    "# Enter database credentials below\n",
    "\n",
    "#Replace the placeholder values with your actual Db2 hostname, username, and password:\n",
    "dsn_hostname = \"dashdb-txn-sbox-yp-dal09-04.services.dal.bluemix.net\" # e.g.: \"dashdb-txn-sbox-yp-dal09-04.services.dal.bluemix.net\"\n",
    "dsn_uid = \"fgl32023\"        # e.g. \"abc12345\"\n",
    "dsn_pwd = \"25q97r4n99-mt9x2\"      # e.g. \"7dBZ3wWt9XN6$o0J\"\n",
    "\n",
    "dsn_driver = \"{IBM DB2 ODBC DRIVER}\"\n",
    "dsn_database = \"BLUDB\"            # e.g. \"BLUDB\"\n",
    "dsn_port = \"50000\"                # e.g. \"50000\" \n",
    "dsn_protocol = \"TCPIP\"            # i.e. \"TCPIP\""
   ]
  },
  {
   "cell_type": "code",
   "execution_count": 103,
   "id": "066d249a-59c5-4124-b645-441da52fd6e3",
   "metadata": {},
   "outputs": [
    {
     "name": "stdout",
     "output_type": "stream",
     "text": [
      "DRIVER={IBM DB2 ODBC DRIVER};DATABASE=BLUDB;HOSTNAME=dashdb-txn-sbox-yp-dal09-04.services.dal.bluemix.net;PORT=50000;PROTOCOL=TCPIP;UID=fgl32023;PWD=25q97r4n99-mt9x2;\n"
     ]
    }
   ],
   "source": [
    "# create DB2 database connection\n",
    "\n",
    "#DO NOT MODIFY THIS CELL. Just RUN it with Shift + Enter\n",
    "#Create the dsn connection string\n",
    "dsn = (\n",
    "    \"DRIVER={0};\"\n",
    "    \"DATABASE={1};\"\n",
    "    \"HOSTNAME={2};\"\n",
    "    \"PORT={3};\"\n",
    "    \"PROTOCOL={4};\"\n",
    "    \"UID={5};\"\n",
    "    \"PWD={6};\").format(dsn_driver, dsn_database, dsn_hostname, dsn_port, dsn_protocol, dsn_uid, dsn_pwd)\n",
    "\n",
    "#print the connection string to check correct values are specified\n",
    "print(dsn)"
   ]
  },
  {
   "cell_type": "code",
   "execution_count": 104,
   "id": "74298b48-72ad-4db2-95ed-717096dab7a1",
   "metadata": {},
   "outputs": [
    {
     "name": "stdout",
     "output_type": "stream",
     "text": [
      "Connected to database:  BLUDB as user:  fgl32023 on host:  dashdb-txn-sbox-yp-dal09-04.services.dal.bluemix.net\n"
     ]
    }
   ],
   "source": [
    "# establish the connection to the database\n",
    "\n",
    "#DO NOT MODIFY THIS CELL. Just RUN it with Shift + Enter\n",
    "#Create database connection\n",
    "\n",
    "try:\n",
    "    conn = ibm_db.connect(dsn, \"\", \"\")\n",
    "    print (\"Connected to database: \", dsn_database, \"as user: \", dsn_uid, \"on host: \", dsn_hostname)\n",
    "\n",
    "except:\n",
    "    print (\"Unable to connect: \", ibm_db.conn_errormsg() )"
   ]
  },
  {
   "cell_type": "code",
   "execution_count": 105,
   "id": "4382fe61-cd81-4e1a-8fa9-dccd113472c1",
   "metadata": {},
   "outputs": [
    {
     "name": "stdout",
     "output_type": "stream",
     "text": [
      "DBMS_NAME:  DB2/LINUXX8664\n",
      "DBMS_VER:   11.01.0404\n",
      "DB_NAME:    BLUDB\n"
     ]
    }
   ],
   "source": [
    "#Retrieve Metadata for the Database Server\n",
    "server = ibm_db.server_info(conn)\n",
    "\n",
    "print (\"DBMS_NAME: \", server.DBMS_NAME)\n",
    "print (\"DBMS_VER:  \", server.DBMS_VER)\n",
    "print (\"DB_NAME:   \", server.DB_NAME)"
   ]
  },
  {
   "cell_type": "code",
   "execution_count": 106,
   "id": "870372ae-6d3b-418f-b8ca-58c19a7db292",
   "metadata": {},
   "outputs": [
    {
     "name": "stdout",
     "output_type": "stream",
     "text": [
      "DRIVER_NAME:           DB2CLI.DLL\n",
      "DRIVER_VER:            11.05.0500\n",
      "DATA_SOURCE_NAME:      BLUDB\n",
      "DRIVER_ODBC_VER:       03.51\n",
      "ODBC_VER:              03.01.0000\n",
      "ODBC_SQL_CONFORMANCE:  EXTENDED\n",
      "APPL_CODEPAGE:         1252\n",
      "CONN_CODEPAGE:         1208\n"
     ]
    }
   ],
   "source": [
    "#Retrieve Metadata for the Database Client / Driver\n",
    "client = ibm_db.client_info(conn)\n",
    "\n",
    "print (\"DRIVER_NAME:          \", client.DRIVER_NAME) \n",
    "print (\"DRIVER_VER:           \", client.DRIVER_VER)\n",
    "print (\"DATA_SOURCE_NAME:     \", client.DATA_SOURCE_NAME)\n",
    "print (\"DRIVER_ODBC_VER:      \", client.DRIVER_ODBC_VER)\n",
    "print (\"ODBC_VER:             \", client.ODBC_VER)\n",
    "print (\"ODBC_SQL_CONFORMANCE: \", client.ODBC_SQL_CONFORMANCE)\n",
    "print (\"APPL_CODEPAGE:        \", client.APPL_CODEPAGE)\n",
    "print (\"CONN_CODEPAGE:        \", client.CONN_CODEPAGE)"
   ]
  },
  {
   "cell_type": "code",
   "execution_count": 107,
   "id": "974eebb0-4626-4671-96a7-cf45121f37da",
   "metadata": {},
   "outputs": [
    {
     "data": {
      "text/plain": [
       "True"
      ]
     },
     "execution_count": 107,
     "metadata": {},
     "output_type": "execute_result"
    }
   ],
   "source": [
    "# close the connection to free up resources.\n",
    "ibm_db.close(conn)"
   ]
  },
  {
   "cell_type": "markdown",
   "id": "a8e44ae1-fd5d-40bc-b723-1fbdb537a0ca",
   "metadata": {},
   "source": [
    "### Creating Tables, Loading Data, and Querying Data"
   ]
  },
  {
   "cell_type": "markdown",
   "id": "50ce4c5d-54c4-4c35-962b-bf99fb7b06dc",
   "metadata": {},
   "source": [
    "Create Tables:\n",
    "1. Using the web console provided by the cloud database\n",
    "2. Create tables from any SQL, R, or Python environment.\n",
    "\n",
    "**Lab**: create tables, load data, and query data:"
   ]
  },
  {
   "cell_type": "code",
   "execution_count": 108,
   "id": "c4cbcb8c-064b-488e-b08a-c39e4d24576e",
   "metadata": {},
   "outputs": [],
   "source": [
    "# import libraries \n",
    "import ibm_db"
   ]
  },
  {
   "cell_type": "code",
   "execution_count": 109,
   "id": "74c7da5c-046e-4681-9b49-ffc482f1bc22",
   "metadata": {},
   "outputs": [],
   "source": [
    "# Enter database credentials below\n",
    "\n",
    "#Replace the placeholder values with your actual Db2 hostname, username, and password:\n",
    "dsn_hostname = \"dashdb-txn-sbox-yp-dal09-04.services.dal.bluemix.net\" # e.g.: \"dashdb-txn-sbox-yp-dal09-04.services.dal.bluemix.net\"\n",
    "dsn_uid = \"fgl32023\"        # e.g. \"abc12345\"\n",
    "dsn_pwd = \"25q97r4n99-mt9x2\"      # e.g. \"7dBZ3wWt9XN6$o0J\"\n",
    "\n",
    "dsn_driver = \"{IBM DB2 ODBC DRIVER}\"\n",
    "dsn_database = \"BLUDB\"            # e.g. \"BLUDB\"\n",
    "dsn_port = \"50000\"                # e.g. \"50000\" \n",
    "dsn_protocol = \"TCPIP\"            # i.e. \"TCPIP\""
   ]
  },
  {
   "cell_type": "code",
   "execution_count": 110,
   "id": "9f4d646e-5c7c-4fbe-b147-cc5d7c024c03",
   "metadata": {},
   "outputs": [
    {
     "name": "stdout",
     "output_type": "stream",
     "text": [
      "Connected to database:  BLUDB as user:  fgl32023 on host:  dashdb-txn-sbox-yp-dal09-04.services.dal.bluemix.net\n"
     ]
    }
   ],
   "source": [
    "# create database connection\n",
    "\n",
    "#DO NOT MODIFY THIS CELL. Just RUN it with Shift + Enter\n",
    "dsn = (\n",
    "    \"DRIVER={0};\"\n",
    "    \"DATABASE={1};\"\n",
    "    \"HOSTNAME={2};\"\n",
    "    \"PORT={3};\"\n",
    "    \"PROTOCOL={4};\"\n",
    "    \"UID={5};\"\n",
    "    \"PWD={6};\").format(dsn_driver, dsn_database, dsn_hostname, dsn_port, dsn_protocol, dsn_uid, dsn_pwd)\n",
    "\n",
    "try:\n",
    "    conn = ibm_db.connect(dsn, \"\", \"\")\n",
    "    print (\"Connected to database: \", dsn_database, \"as user: \", dsn_uid, \"on host: \", dsn_hostname)\n",
    "\n",
    "except:\n",
    "    print (\"Unable to connect: \", ibm_db.conn_errormsg() )"
   ]
  },
  {
   "cell_type": "code",
   "execution_count": 111,
   "id": "b7b0e6e7-eea7-456e-807b-fd3dfae632a1",
   "metadata": {},
   "outputs": [],
   "source": [
    "# create table in database\n",
    "\n",
    "#Lets first drop the table INSTRUCTOR in case it exists from a previous attempt\n",
    "dropQuery = \"drop table INSTRUCTOR\"\n",
    "\n",
    "#Now execute the drop statment\n",
    "dropStmt = ibm_db.exec_immediate(conn, dropQuery)\n",
    "\n",
    "# if you get an error stating that INSTRUCTOR is an undefined name, it's fine\n",
    "# it implies the table does not exist currently."
   ]
  },
  {
   "cell_type": "code",
   "execution_count": 112,
   "id": "1d483817-85a3-4fe6-9fc0-c5ba306b36ba",
   "metadata": {},
   "outputs": [],
   "source": [
    "# Construct the Create Table DDL statement\n",
    "createQuery = \"create table INSTRUCTOR(ID INTEGER PRIMARY KEY NOT NULL, FNAME VARCHAR(20), LNAME VARCHAR(20), CITY VARCHAR(20), CCODE CHAR(2))\"\n",
    "\n",
    "# execute the statement\n",
    "createStmt = ibm_db.exec_immediate(conn,createQuery)"
   ]
  },
  {
   "cell_type": "code",
   "execution_count": 113,
   "id": "b07ecb7f-789d-48d0-a1b4-ce9eaed74509",
   "metadata": {},
   "outputs": [],
   "source": [
    "# insert 1 line of data into the statement\n",
    "\n",
    "# construct the query\n",
    "insertQuery = \"insert into INSTRUCTOR values(1, 'Rav', 'Ahuja', 'TORONTO', 'CA')\"\n",
    "\n",
    "# execute the statement\n",
    "insertStmt = ibm_db.exec_immediate(conn, insertQuery)"
   ]
  },
  {
   "cell_type": "code",
   "execution_count": 114,
   "id": "637609e6-197d-4496-aaf8-e5a21cb7b1dc",
   "metadata": {},
   "outputs": [],
   "source": [
    "# insert multiple lines of data into the statement\n",
    "\n",
    "# construct the query\n",
    "insertQuery2 = \"insert into INSTRUCTOR values (2, 'Raul', 'Chong', 'Markham', 'CA'), (3, 'Hima', 'Vasudevan', 'Chicago', 'US')\"\n",
    "\n",
    "# execute the statement\n",
    "insertStmt2 = ibm_db.exec_immediate(conn, insertQuery2)"
   ]
  },
  {
   "cell_type": "code",
   "execution_count": 115,
   "id": "46849015-7fb6-44a5-ac40-9462377e9b53",
   "metadata": {},
   "outputs": [
    {
     "data": {
      "text/plain": [
       "{'ID': 1,\n",
       " 0: 1,\n",
       " 'FNAME': 'Rav',\n",
       " 1: 'Rav',\n",
       " 'LNAME': 'Ahuja',\n",
       " 2: 'Ahuja',\n",
       " 'CITY': 'TORONTO',\n",
       " 3: 'TORONTO',\n",
       " 'CCODE': 'CA',\n",
       " 4: 'CA'}"
      ]
     },
     "execution_count": 115,
     "metadata": {},
     "output_type": "execute_result"
    }
   ],
   "source": [
    "# query data in the table\n",
    "\n",
    "# construct the query that retrieves all rows from the instructor table\n",
    "selectQuery = \"select * from INSTRUCTOR\"\n",
    "\n",
    "# execute the statement\n",
    "selectStmt = ibm_db.exec_immediate(conn, selectQuery)\n",
    "\n",
    "# fetch the dictionary (for the first row only)\n",
    "ibm_db.fetch_both(selectStmt)"
   ]
  },
  {
   "cell_type": "code",
   "execution_count": 116,
   "id": "744c88ec-0185-4acf-80d4-c641ac4a0cc8",
   "metadata": {},
   "outputs": [
    {
     "name": "stdout",
     "output_type": "stream",
     "text": [
      "ID:  2  First Name:  Raul\n",
      "ID:  3  First Name:  Hima\n"
     ]
    }
   ],
   "source": [
    "# fetch the rest of the rows and print the id, fname of the rows\n",
    "while ibm_db.fetch_row(selectStmt) != False:\n",
    "    print('ID: ', ibm_db.result(selectStmt, 0), ' First Name: ', ibm_db.result(selectStmt, 'FNAME'))"
   ]
  },
  {
   "cell_type": "code",
   "execution_count": 117,
   "id": "ccb4fd80-99cb-4686-b04f-99779f6726d6",
   "metadata": {},
   "outputs": [],
   "source": [
    "# update Rav's city to MOOSETOWN\n",
    "updateQuery = \"update INSTRUCTOR set CITY='MOOSETOWN' where FNAME='Rav'\"\n",
    "\n",
    "# execute query\n",
    "updateStmt = ibm_db.exec_immediate(conn, updateQuery)"
   ]
  },
  {
   "cell_type": "code",
   "execution_count": 118,
   "id": "1739062e-96be-41b5-92c7-4a7ebf0a2cb0",
   "metadata": {},
   "outputs": [],
   "source": [
    "# retrieve data into pandas\n",
    "\n",
    "# import libraries\n",
    "import pandas\n",
    "import ibm_db_dbi"
   ]
  },
  {
   "cell_type": "code",
   "execution_count": 119,
   "id": "84d7b3f4-0b31-4a58-ae40-4bd53e9fe99b",
   "metadata": {},
   "outputs": [],
   "source": [
    "# create connection for pandas\n",
    "pconn = ibm_db_dbi.Connection(conn)"
   ]
  },
  {
   "cell_type": "code",
   "execution_count": 120,
   "id": "ac1c4ea0-e024-4b0e-aa19-f98c968481ad",
   "metadata": {},
   "outputs": [
    {
     "data": {
      "text/plain": [
       "'Ahuja'"
      ]
     },
     "execution_count": 120,
     "metadata": {},
     "output_type": "execute_result"
    }
   ],
   "source": [
    "# query statement to retrieve all rows from the table\n",
    "selectQuery = \"select * from INSTRUCTOR\"\n",
    "\n",
    "# retrieve the query results into a pandas dataframe\n",
    "pdf = pandas.read_sql(selectQuery, pconn)\n",
    "\n",
    "# print just the lname for the first row of the pandas dataframe\n",
    "pdf.LNAME[0]"
   ]
  },
  {
   "cell_type": "code",
   "execution_count": 121,
   "id": "793b1f70-8f58-476e-8af4-efb1d4e41260",
   "metadata": {},
   "outputs": [
    {
     "data": {
      "text/html": [
       "<div>\n",
       "<style scoped>\n",
       "    .dataframe tbody tr th:only-of-type {\n",
       "        vertical-align: middle;\n",
       "    }\n",
       "\n",
       "    .dataframe tbody tr th {\n",
       "        vertical-align: top;\n",
       "    }\n",
       "\n",
       "    .dataframe thead th {\n",
       "        text-align: right;\n",
       "    }\n",
       "</style>\n",
       "<table border=\"1\" class=\"dataframe\">\n",
       "  <thead>\n",
       "    <tr style=\"text-align: right;\">\n",
       "      <th></th>\n",
       "      <th>ID</th>\n",
       "      <th>FNAME</th>\n",
       "      <th>LNAME</th>\n",
       "      <th>CITY</th>\n",
       "      <th>CCODE</th>\n",
       "    </tr>\n",
       "  </thead>\n",
       "  <tbody>\n",
       "    <tr>\n",
       "      <th>0</th>\n",
       "      <td>1</td>\n",
       "      <td>Rav</td>\n",
       "      <td>Ahuja</td>\n",
       "      <td>MOOSETOWN</td>\n",
       "      <td>CA</td>\n",
       "    </tr>\n",
       "    <tr>\n",
       "      <th>1</th>\n",
       "      <td>2</td>\n",
       "      <td>Raul</td>\n",
       "      <td>Chong</td>\n",
       "      <td>Markham</td>\n",
       "      <td>CA</td>\n",
       "    </tr>\n",
       "    <tr>\n",
       "      <th>2</th>\n",
       "      <td>3</td>\n",
       "      <td>Hima</td>\n",
       "      <td>Vasudevan</td>\n",
       "      <td>Chicago</td>\n",
       "      <td>US</td>\n",
       "    </tr>\n",
       "  </tbody>\n",
       "</table>\n",
       "</div>"
      ],
      "text/plain": [
       "   ID FNAME      LNAME       CITY CCODE\n",
       "0   1   Rav      Ahuja  MOOSETOWN    CA\n",
       "1   2  Raul      Chong    Markham    CA\n",
       "2   3  Hima  Vasudevan    Chicago    US"
      ]
     },
     "execution_count": 121,
     "metadata": {},
     "output_type": "execute_result"
    }
   ],
   "source": [
    "# print the whole dataframe\n",
    "pdf\n",
    "\n",
    "# now that the data is in a dataframe, you can use any pandas operations on it."
   ]
  },
  {
   "cell_type": "code",
   "execution_count": 122,
   "id": "587e8daf-6636-48a4-b09a-91ad10980a2b",
   "metadata": {},
   "outputs": [
    {
     "data": {
      "text/plain": [
       "(3, 5)"
      ]
     },
     "execution_count": 122,
     "metadata": {},
     "output_type": "execute_result"
    }
   ],
   "source": [
    "# test pandas methods\n",
    "pdf.shape"
   ]
  },
  {
   "cell_type": "code",
   "execution_count": 123,
   "id": "5972454b-e6ee-430a-b69a-e3e4c12206ef",
   "metadata": {},
   "outputs": [
    {
     "data": {
      "text/html": [
       "<div>\n",
       "<style scoped>\n",
       "    .dataframe tbody tr th:only-of-type {\n",
       "        vertical-align: middle;\n",
       "    }\n",
       "\n",
       "    .dataframe tbody tr th {\n",
       "        vertical-align: top;\n",
       "    }\n",
       "\n",
       "    .dataframe thead th {\n",
       "        text-align: right;\n",
       "    }\n",
       "</style>\n",
       "<table border=\"1\" class=\"dataframe\">\n",
       "  <thead>\n",
       "    <tr style=\"text-align: right;\">\n",
       "      <th></th>\n",
       "      <th>ID</th>\n",
       "      <th>FNAME</th>\n",
       "      <th>LNAME</th>\n",
       "      <th>CITY</th>\n",
       "      <th>CCODE</th>\n",
       "    </tr>\n",
       "  </thead>\n",
       "  <tbody>\n",
       "    <tr>\n",
       "      <th>0</th>\n",
       "      <td>1</td>\n",
       "      <td>Rav</td>\n",
       "      <td>Ahuja</td>\n",
       "      <td>MOOSETOWN</td>\n",
       "      <td>CA</td>\n",
       "    </tr>\n",
       "    <tr>\n",
       "      <th>1</th>\n",
       "      <td>2</td>\n",
       "      <td>Raul</td>\n",
       "      <td>Chong</td>\n",
       "      <td>Markham</td>\n",
       "      <td>CA</td>\n",
       "    </tr>\n",
       "  </tbody>\n",
       "</table>\n",
       "</div>"
      ],
      "text/plain": [
       "   ID FNAME  LNAME       CITY CCODE\n",
       "0   1   Rav  Ahuja  MOOSETOWN    CA\n",
       "1   2  Raul  Chong    Markham    CA"
      ]
     },
     "execution_count": 123,
     "metadata": {},
     "output_type": "execute_result"
    }
   ],
   "source": [
    "pdf.head(2)"
   ]
  },
  {
   "cell_type": "code",
   "execution_count": 124,
   "id": "4f5e9cdc-fa08-4de2-a8ab-8b05842e30fb",
   "metadata": {},
   "outputs": [
    {
     "data": {
      "text/html": [
       "<div>\n",
       "<style scoped>\n",
       "    .dataframe tbody tr th:only-of-type {\n",
       "        vertical-align: middle;\n",
       "    }\n",
       "\n",
       "    .dataframe tbody tr th {\n",
       "        vertical-align: top;\n",
       "    }\n",
       "\n",
       "    .dataframe thead th {\n",
       "        text-align: right;\n",
       "    }\n",
       "</style>\n",
       "<table border=\"1\" class=\"dataframe\">\n",
       "  <thead>\n",
       "    <tr style=\"text-align: right;\">\n",
       "      <th></th>\n",
       "      <th>ID</th>\n",
       "      <th>FNAME</th>\n",
       "      <th>LNAME</th>\n",
       "      <th>CITY</th>\n",
       "      <th>CCODE</th>\n",
       "    </tr>\n",
       "  </thead>\n",
       "  <tbody>\n",
       "    <tr>\n",
       "      <th>1</th>\n",
       "      <td>2</td>\n",
       "      <td>Raul</td>\n",
       "      <td>Chong</td>\n",
       "      <td>Markham</td>\n",
       "      <td>CA</td>\n",
       "    </tr>\n",
       "    <tr>\n",
       "      <th>2</th>\n",
       "      <td>3</td>\n",
       "      <td>Hima</td>\n",
       "      <td>Vasudevan</td>\n",
       "      <td>Chicago</td>\n",
       "      <td>US</td>\n",
       "    </tr>\n",
       "  </tbody>\n",
       "</table>\n",
       "</div>"
      ],
      "text/plain": [
       "   ID FNAME      LNAME     CITY CCODE\n",
       "1   2  Raul      Chong  Markham    CA\n",
       "2   3  Hima  Vasudevan  Chicago    US"
      ]
     },
     "execution_count": 124,
     "metadata": {},
     "output_type": "execute_result"
    }
   ],
   "source": [
    "pdf.tail(2)"
   ]
  },
  {
   "cell_type": "code",
   "execution_count": 125,
   "id": "f64e605b-f82a-43cc-8c03-0f764fca0b8d",
   "metadata": {},
   "outputs": [
    {
     "name": "stdout",
     "output_type": "stream",
     "text": [
      "<class 'pandas.core.frame.DataFrame'>\n",
      "RangeIndex: 3 entries, 0 to 2\n",
      "Data columns (total 5 columns):\n",
      " #   Column  Non-Null Count  Dtype \n",
      "---  ------  --------------  ----- \n",
      " 0   ID      3 non-null      int64 \n",
      " 1   FNAME   3 non-null      object\n",
      " 2   LNAME   3 non-null      object\n",
      " 3   CITY    3 non-null      object\n",
      " 4   CCODE   3 non-null      object\n",
      "dtypes: int64(1), object(4)\n",
      "memory usage: 248.0+ bytes\n"
     ]
    }
   ],
   "source": [
    "pdf.info()"
   ]
  },
  {
   "cell_type": "code",
   "execution_count": 126,
   "id": "cf6db679-4689-4524-bcda-470d966c53ae",
   "metadata": {},
   "outputs": [
    {
     "data": {
      "text/html": [
       "<div>\n",
       "<style scoped>\n",
       "    .dataframe tbody tr th:only-of-type {\n",
       "        vertical-align: middle;\n",
       "    }\n",
       "\n",
       "    .dataframe tbody tr th {\n",
       "        vertical-align: top;\n",
       "    }\n",
       "\n",
       "    .dataframe thead th {\n",
       "        text-align: right;\n",
       "    }\n",
       "</style>\n",
       "<table border=\"1\" class=\"dataframe\">\n",
       "  <thead>\n",
       "    <tr style=\"text-align: right;\">\n",
       "      <th></th>\n",
       "      <th>ID</th>\n",
       "    </tr>\n",
       "  </thead>\n",
       "  <tbody>\n",
       "    <tr>\n",
       "      <th>count</th>\n",
       "      <td>3.0</td>\n",
       "    </tr>\n",
       "    <tr>\n",
       "      <th>mean</th>\n",
       "      <td>2.0</td>\n",
       "    </tr>\n",
       "    <tr>\n",
       "      <th>std</th>\n",
       "      <td>1.0</td>\n",
       "    </tr>\n",
       "    <tr>\n",
       "      <th>min</th>\n",
       "      <td>1.0</td>\n",
       "    </tr>\n",
       "    <tr>\n",
       "      <th>25%</th>\n",
       "      <td>1.5</td>\n",
       "    </tr>\n",
       "    <tr>\n",
       "      <th>50%</th>\n",
       "      <td>2.0</td>\n",
       "    </tr>\n",
       "    <tr>\n",
       "      <th>75%</th>\n",
       "      <td>2.5</td>\n",
       "    </tr>\n",
       "    <tr>\n",
       "      <th>max</th>\n",
       "      <td>3.0</td>\n",
       "    </tr>\n",
       "  </tbody>\n",
       "</table>\n",
       "</div>"
      ],
      "text/plain": [
       "        ID\n",
       "count  3.0\n",
       "mean   2.0\n",
       "std    1.0\n",
       "min    1.0\n",
       "25%    1.5\n",
       "50%    2.0\n",
       "75%    2.5\n",
       "max    3.0"
      ]
     },
     "execution_count": 126,
     "metadata": {},
     "output_type": "execute_result"
    }
   ],
   "source": [
    "pdf.describe()"
   ]
  },
  {
   "cell_type": "code",
   "execution_count": 127,
   "id": "b248b746-4dd1-4d00-9349-f54bda14ae3c",
   "metadata": {},
   "outputs": [
    {
     "data": {
      "text/plain": [
       "ID  FNAME  LNAME      CITY       CCODE\n",
       "1   Rav    Ahuja      MOOSETOWN  CA       1\n",
       "2   Raul   Chong      Markham    CA       1\n",
       "3   Hima   Vasudevan  Chicago    US       1\n",
       "dtype: int64"
      ]
     },
     "execution_count": 127,
     "metadata": {},
     "output_type": "execute_result"
    }
   ],
   "source": [
    "pdf.value_counts() # view unique values and counts"
   ]
  },
  {
   "cell_type": "code",
   "execution_count": 128,
   "id": "97f86fd9-2fdc-45ef-8d7d-7d95b7d1b966",
   "metadata": {},
   "outputs": [
    {
     "data": {
      "text/plain": [
       "True"
      ]
     },
     "execution_count": 128,
     "metadata": {},
     "output_type": "execute_result"
    }
   ],
   "source": [
    "# close the connection to free up resources\n",
    "ibm_db.close(conn)"
   ]
  },
  {
   "cell_type": "markdown",
   "id": "3a172010-4faa-46fb-9819-747ae65f35c9",
   "metadata": {},
   "source": [
    "### SQL Magic Commands\n",
    "\n",
    "Jupyter has a concept of **magic** commands that can simplify working with python and are useful in data analysis.  \n",
    "\n",
    "There are two types of magic commands:\n",
    "- cell magics\n",
    "    - start with a %% and apply to the entire cell\n",
    "- line magics\n",
    "    - start with a % and apply to a particular line of a cell\n",
    "\n",
    "The usage is of the format:\n",
    "%magicname *arguments*\n",
    "\n",
    "In this course, you have learned to access data from a database using the Python DB-API (and specifically ibm_db).  With this, API execution of queries and fetching their results involves multiple steps. You can use SQL magic commands to execute queries more easily. \n",
    "\n",
    "Although SQL magic simplifies working with databases, it does have some limitations. For example, unlike DB-API, there are no explicit methods to close a connection and free up resources. \n",
    "\n",
    "**Lab**: SQL magic\n",
    "\n",
    "To communicate with SQl databases from within jupyter, we can use SQl magic provided by the ipython-sql extension."
   ]
  },
  {
   "cell_type": "code",
   "execution_count": 129,
   "id": "23696943-4b6e-4d16-8055-9607aa8fb13a",
   "metadata": {},
   "outputs": [],
   "source": [
    "# installations\n",
    "#!pip install sqlalchemy"
   ]
  },
  {
   "cell_type": "code",
   "execution_count": 130,
   "id": "f4f66400-0449-4edd-9ccd-9f1eb2daa532",
   "metadata": {},
   "outputs": [],
   "source": [
    "#!pip install ibm_db_sa"
   ]
  },
  {
   "cell_type": "code",
   "execution_count": 131,
   "id": "fadb35c4-2733-4556-a68b-46f856afd339",
   "metadata": {},
   "outputs": [
    {
     "name": "stdout",
     "output_type": "stream",
     "text": [
      "The sql extension is already loaded. To reload it, use:\n",
      "  %reload_ext sql\n"
     ]
    }
   ],
   "source": [
    "# load sql module\n",
    "%load_ext sql\n",
    "\n",
    "# now we have access to SQL magic. "
   ]
  },
  {
   "cell_type": "code",
   "execution_count": 132,
   "id": "0f12c216-88b3-4955-9ea6-26701483a924",
   "metadata": {},
   "outputs": [
    {
     "name": "stdout",
     "output_type": "stream",
     "text": [
      "DB2/LINUXX8664\n"
     ]
    }
   ],
   "source": [
    "# use sql magic to connect to a db2 database.\n",
    "\n",
    "# Enter your Db2 credentials in the connection string below\n",
    "# Recall you created Service Credentials in Part III of the first lab of the course in Week 1\n",
    "# i.e. from the uri field in the Service Credentials copy everything after db2:// (but remove the double quote at the end)\n",
    "# for example, if your credentials are as in the screenshot above, you would write:\n",
    "# %sql ibm_db_sa://my-username:my-password@dashdb-txn-sbox-yp-dal09-03.services.dal.bluemix.net:50000/BLUDB\n",
    "# Note the ibm_db_sa:// prefix instead of db2://\n",
    "# This is because JupyterLab's ipython-sql extension uses sqlalchemy (a python SQL toolkit)\n",
    "# which in turn uses IBM's sqlalchemy dialect: ibm_db_sa\n",
    "%sql ibm_db_sa://fgl32023:25q97r4n99-mt9x2@dashdb-txn-sbox-yp-dal09-04.services.dal.bluemix.net:50000/BLUDB"
   ]
  },
  {
   "cell_type": "code",
   "execution_count": 133,
   "id": "50377b4f-4aa9-433f-9e2b-77dc6ebc8d90",
   "metadata": {},
   "outputs": [],
   "source": [
    "# create a table and insert values into it"
   ]
  },
  {
   "cell_type": "code",
   "execution_count": 134,
   "id": "2e4a471a-c4c2-48fa-8140-83ed69225f9b",
   "metadata": {},
   "outputs": [
    {
     "name": "stdout",
     "output_type": "stream",
     "text": [
      " * ibm_db_sa://fgl32023:***@dashdb-txn-sbox-yp-dal09-04.services.dal.bluemix.net:50000/BLUDB\n",
      "   sqlite://\n",
      "(ibm_db_dbi.ProgrammingError) ibm_db_dbi::ProgrammingError: Statement Execute Failed: [IBM][CLI Driver][DB2/LINUXX8664] SQL0601N  The name of the object to be created is identical to the existing name \"FGL32023.INTERNATIONAL_STUDENT_TEST_SCORES\" of type \"TABLE\".  SQLSTATE=42710\\r SQLCODE=-601\n",
      "[SQL: CREATE TABLE INTERNATIONAL_STUDENT_TEST_SCORES (\n",
      "\tcountry VARCHAR(50),\n",
      "\tfirst_name VARCHAR(50),\n",
      "\tlast_name VARCHAR(50),\n",
      "\ttest_score INT\n",
      ");]\n",
      "(Background on this error at: http://sqlalche.me/e/f405)\n"
     ]
    }
   ],
   "source": [
    "%%sql\n",
    "\n",
    "CREATE TABLE INTERNATIONAL_STUDENT_TEST_SCORES (\n",
    "\tcountry VARCHAR(50),\n",
    "\tfirst_name VARCHAR(50),\n",
    "\tlast_name VARCHAR(50),\n",
    "\ttest_score INT\n",
    ");\n",
    "INSERT INTO INTERNATIONAL_STUDENT_TEST_SCORES (country, first_name, last_name, test_score)\n",
    "VALUES\n",
    "('United States', 'Marshall', 'Bernadot', 54),\n",
    "('Ghana', 'Celinda', 'Malkin', 51),\n",
    "('Ukraine', 'Guillermo', 'Furze', 53),\n",
    "('Greece', 'Aharon', 'Tunnow', 48),\n",
    "('Russia', 'Bail', 'Goodwin', 46),\n",
    "('Poland', 'Cole', 'Winteringham', 49),\n",
    "('Sweden', 'Emlyn', 'Erricker', 55),\n",
    "('Russia', 'Cathee', 'Sivewright', 49),\n",
    "('China', 'Barny', 'Ingerson', 57),\n",
    "('Uganda', 'Sharla', 'Papaccio', 55),\n",
    "('China', 'Stella', 'Youens', 51),\n",
    "('Poland', 'Julio', 'Buesden', 48),\n",
    "('United States', 'Tiffie', 'Cosely', 58),\n",
    "('Poland', 'Auroora', 'Stiffell', 45),\n",
    "('China', 'Clarita', 'Huet', 52),\n",
    "('Poland', 'Shannon', 'Goulden', 45),\n",
    "('Philippines', 'Emylee', 'Privost', 50),\n",
    "('France', 'Madelina', 'Burk', 49),\n",
    "('China', 'Saunderson', 'Root', 58),\n",
    "('Indonesia', 'Bo', 'Waring', 55),\n",
    "('China', 'Hollis', 'Domotor', 45),\n",
    "('Russia', 'Robbie', 'Collip', 46),\n",
    "('Philippines', 'Davon', 'Donisi', 46),\n",
    "('China', 'Cristabel', 'Radeliffe', 48),\n",
    "('China', 'Wallis', 'Bartleet', 58),\n",
    "('Moldova', 'Arleen', 'Stailey', 38),\n",
    "('Ireland', 'Mendel', 'Grumble', 58),\n",
    "('China', 'Sallyann', 'Exley', 51),\n",
    "('Mexico', 'Kain', 'Swaite', 46),\n",
    "('Indonesia', 'Alonso', 'Bulteel', 45),\n",
    "('Armenia', 'Anatol', 'Tankus', 51),\n",
    "('Indonesia', 'Coralyn', 'Dawkins', 48),\n",
    "('China', 'Deanne', 'Edwinson', 45),\n",
    "('China', 'Georgiana', 'Epple', 51),\n",
    "('Portugal', 'Bartlet', 'Breese', 56),\n",
    "('Azerbaijan', 'Idalina', 'Lukash', 50),\n",
    "('France', 'Livvie', 'Flory', 54),\n",
    "('Malaysia', 'Nonie', 'Borit', 48),\n",
    "('Indonesia', 'Clio', 'Mugg', 47),\n",
    "('Brazil', 'Westley', 'Measor', 48),\n",
    "('Philippines', 'Katrinka', 'Sibbert', 51),\n",
    "('Poland', 'Valentia', 'Mounch', 50),\n",
    "('Norway', 'Sheilah', 'Hedditch', 53),\n",
    "('Papua New Guinea', 'Itch', 'Jubb', 50),\n",
    "('Latvia', 'Stesha', 'Garnson', 53),\n",
    "('Canada', 'Cristionna', 'Wadmore', 46),\n",
    "('China', 'Lianna', 'Gatward', 43),\n",
    "('Guatemala', 'Tanney', 'Vials', 48),\n",
    "('France', 'Alma', 'Zavittieri', 44),\n",
    "('China', 'Alvira', 'Tamas', 50),\n",
    "('United States', 'Shanon', 'Peres', 45),\n",
    "('Sweden', 'Maisey', 'Lynas', 53),\n",
    "('Indonesia', 'Kip', 'Hothersall', 46),\n",
    "('China', 'Cash', 'Landis', 48),\n",
    "('Panama', 'Kennith', 'Digance', 45),\n",
    "('China', 'Ulberto', 'Riggeard', 48),\n",
    "('Switzerland', 'Judy', 'Gilligan', 49),\n",
    "('Philippines', 'Tod', 'Trevaskus', 52),\n",
    "('Brazil', 'Herold', 'Heggs', 44),\n",
    "('Latvia', 'Verney', 'Note', 50),\n",
    "('Poland', 'Temp', 'Ribey', 50),\n",
    "('China', 'Conroy', 'Egdal', 48),\n",
    "('Japan', 'Gabie', 'Alessandone', 47),\n",
    "('Ukraine', 'Devlen', 'Chaperlin', 54),\n",
    "('France', 'Babbette', 'Turner', 51),\n",
    "('Czech Republic', 'Virgil', 'Scotney', 52),\n",
    "('Tajikistan', 'Zorina', 'Bedow', 49),\n",
    "('China', 'Aidan', 'Rudeyeard', 50),\n",
    "('Ireland', 'Saunder', 'MacLice', 48),\n",
    "('France', 'Waly', 'Brunstan', 53),\n",
    "('China', 'Gisele', 'Enns', 52),\n",
    "('Peru', 'Mina', 'Winchester', 48),\n",
    "('Japan', 'Torie', 'MacShirrie', 50),\n",
    "('Russia', 'Benjamen', 'Kenford', 51),\n",
    "('China', 'Etan', 'Burn', 53),\n",
    "('Russia', 'Merralee', 'Chaperlin', 38),\n",
    "('Indonesia', 'Lanny', 'Malam', 49),\n",
    "('Canada', 'Wilhelm', 'Deeprose', 54),\n",
    "('Czech Republic', 'Lari', 'Hillhouse', 48),\n",
    "('China', 'Ossie', 'Woodley', 52),\n",
    "('Macedonia', 'April', 'Tyer', 50),\n",
    "('Vietnam', 'Madelon', 'Dansey', 53),\n",
    "('Ukraine', 'Korella', 'McNamee', 52),\n",
    "('Jamaica', 'Linnea', 'Cannam', 43),\n",
    "('China', 'Mart', 'Coling', 52),\n",
    "('Indonesia', 'Marna', 'Causbey', 47),\n",
    "('China', 'Berni', 'Daintier', 55),\n",
    "('Poland', 'Cynthia', 'Hassell', 49),\n",
    "('Canada', 'Carma', 'Schule', 49),\n",
    "('Indonesia', 'Malia', 'Blight', 48),\n",
    "('China', 'Paulo', 'Seivertsen', 47),\n",
    "('Niger', 'Kaylee', 'Hearley', 54),\n",
    "('Japan', 'Maure', 'Jandak', 46),\n",
    "('Argentina', 'Foss', 'Feavers', 45),\n",
    "('Venezuela', 'Ron', 'Leggitt', 60),\n",
    "('Russia', 'Flint', 'Gokes', 40),\n",
    "('China', 'Linet', 'Conelly', 52),\n",
    "('Philippines', 'Nikolas', 'Birtwell', 57),\n",
    "('Australia', 'Eduard', 'Leipelt', 53)"
   ]
  },
  {
   "cell_type": "code",
   "execution_count": 135,
   "id": "5f701e01-5c47-4d95-9177-3cb6608a6466",
   "metadata": {},
   "outputs": [
    {
     "name": "stdout",
     "output_type": "stream",
     "text": [
      " * ibm_db_sa://fgl32023:***@dashdb-txn-sbox-yp-dal09-04.services.dal.bluemix.net:50000/BLUDB\n",
      "   sqlite://\n",
      "Done.\n"
     ]
    },
    {
     "data": {
      "text/html": [
       "<table>\n",
       "    <tr>\n",
       "        <th>country</th>\n",
       "        <th>first_name</th>\n",
       "        <th>last_name</th>\n",
       "        <th>test_score</th>\n",
       "    </tr>\n",
       "    <tr>\n",
       "        <td>United States</td>\n",
       "        <td>Marshall</td>\n",
       "        <td>Bernadot</td>\n",
       "        <td>54</td>\n",
       "    </tr>\n",
       "    <tr>\n",
       "        <td>Ghana</td>\n",
       "        <td>Celinda</td>\n",
       "        <td>Malkin</td>\n",
       "        <td>51</td>\n",
       "    </tr>\n",
       "    <tr>\n",
       "        <td>Ukraine</td>\n",
       "        <td>Guillermo</td>\n",
       "        <td>Furze</td>\n",
       "        <td>53</td>\n",
       "    </tr>\n",
       "    <tr>\n",
       "        <td>Greece</td>\n",
       "        <td>Aharon</td>\n",
       "        <td>Tunnow</td>\n",
       "        <td>48</td>\n",
       "    </tr>\n",
       "    <tr>\n",
       "        <td>Russia</td>\n",
       "        <td>Bail</td>\n",
       "        <td>Goodwin</td>\n",
       "        <td>46</td>\n",
       "    </tr>\n",
       "    <tr>\n",
       "        <td>Poland</td>\n",
       "        <td>Cole</td>\n",
       "        <td>Winteringham</td>\n",
       "        <td>49</td>\n",
       "    </tr>\n",
       "    <tr>\n",
       "        <td>Sweden</td>\n",
       "        <td>Emlyn</td>\n",
       "        <td>Erricker</td>\n",
       "        <td>55</td>\n",
       "    </tr>\n",
       "    <tr>\n",
       "        <td>Russia</td>\n",
       "        <td>Cathee</td>\n",
       "        <td>Sivewright</td>\n",
       "        <td>49</td>\n",
       "    </tr>\n",
       "    <tr>\n",
       "        <td>China</td>\n",
       "        <td>Barny</td>\n",
       "        <td>Ingerson</td>\n",
       "        <td>57</td>\n",
       "    </tr>\n",
       "    <tr>\n",
       "        <td>Uganda</td>\n",
       "        <td>Sharla</td>\n",
       "        <td>Papaccio</td>\n",
       "        <td>55</td>\n",
       "    </tr>\n",
       "</table>"
      ],
      "text/plain": [
       "[('United States', 'Marshall', 'Bernadot', 54),\n",
       " ('Ghana', 'Celinda', 'Malkin', 51),\n",
       " ('Ukraine', 'Guillermo', 'Furze', 53),\n",
       " ('Greece', 'Aharon', 'Tunnow', 48),\n",
       " ('Russia', 'Bail', 'Goodwin', 46),\n",
       " ('Poland', 'Cole', 'Winteringham', 49),\n",
       " ('Sweden', 'Emlyn', 'Erricker', 55),\n",
       " ('Russia', 'Cathee', 'Sivewright', 49),\n",
       " ('China', 'Barny', 'Ingerson', 57),\n",
       " ('Uganda', 'Sharla', 'Papaccio', 55)]"
      ]
     },
     "execution_count": 135,
     "metadata": {},
     "output_type": "execute_result"
    }
   ],
   "source": [
    "%%sql\n",
    "\n",
    "SELECT * FROM INTERNATIONAL_STUDENT_TEST_SCORES\n",
    "LIMIT 10;"
   ]
  },
  {
   "cell_type": "code",
   "execution_count": 136,
   "id": "e7fc3db2-63a0-4998-be59-c9001a6f3d62",
   "metadata": {},
   "outputs": [
    {
     "name": "stdout",
     "output_type": "stream",
     "text": [
      " * ibm_db_sa://fgl32023:***@dashdb-txn-sbox-yp-dal09-04.services.dal.bluemix.net:50000/BLUDB\n",
      "   sqlite://\n",
      "Done.\n"
     ]
    },
    {
     "data": {
      "text/html": [
       "<table>\n",
       "    <tr>\n",
       "        <th>country</th>\n",
       "        <th>first_name</th>\n",
       "        <th>last_name</th>\n",
       "        <th>test_score</th>\n",
       "    </tr>\n",
       "    <tr>\n",
       "        <td>Canada</td>\n",
       "        <td>Cristionna</td>\n",
       "        <td>Wadmore</td>\n",
       "        <td>46</td>\n",
       "    </tr>\n",
       "    <tr>\n",
       "        <td>Canada</td>\n",
       "        <td>Wilhelm</td>\n",
       "        <td>Deeprose</td>\n",
       "        <td>54</td>\n",
       "    </tr>\n",
       "    <tr>\n",
       "        <td>Canada</td>\n",
       "        <td>Carma</td>\n",
       "        <td>Schule</td>\n",
       "        <td>49</td>\n",
       "    </tr>\n",
       "</table>"
      ],
      "text/plain": [
       "[('Canada', 'Cristionna', 'Wadmore', 46),\n",
       " ('Canada', 'Wilhelm', 'Deeprose', 54),\n",
       " ('Canada', 'Carma', 'Schule', 49)]"
      ]
     },
     "execution_count": 136,
     "metadata": {},
     "output_type": "execute_result"
    }
   ],
   "source": [
    "# you can use python variables in your sql statements by adding a : prefix to the python variable names\n",
    "country = 'Canada'\n",
    "\n",
    "%sql select * from INTERNATIONAL_STUDENT_TEST_SCORES where country = :country;"
   ]
  },
  {
   "cell_type": "markdown",
   "id": "78782dfb-b9cd-4103-9393-33ea77c12577",
   "metadata": {},
   "source": [
    "*NOTE: a lot of times when working with SQL magic commands, you need to delete the spaces on each query or else you may run into errors. You could always save the table as a dataframe to work with it more freely.*"
   ]
  },
  {
   "cell_type": "code",
   "execution_count": 137,
   "id": "bc3c5a37-f0d5-4f01-afcb-3dfb22dc8389",
   "metadata": {},
   "outputs": [
    {
     "name": "stdout",
     "output_type": "stream",
     "text": [
      " * ibm_db_sa://fgl32023:***@dashdb-txn-sbox-yp-dal09-04.services.dal.bluemix.net:50000/BLUDB\n",
      "   sqlite://\n",
      "Done.\n"
     ]
    },
    {
     "data": {
      "text/html": [
       "<table>\n",
       "    <tr>\n",
       "        <th>scores</th>\n",
       "        <th>frequency</th>\n",
       "    </tr>\n",
       "    <tr>\n",
       "        <td>38</td>\n",
       "        <td>2</td>\n",
       "    </tr>\n",
       "    <tr>\n",
       "        <td>40</td>\n",
       "        <td>1</td>\n",
       "    </tr>\n",
       "    <tr>\n",
       "        <td>43</td>\n",
       "        <td>2</td>\n",
       "    </tr>\n",
       "    <tr>\n",
       "        <td>44</td>\n",
       "        <td>2</td>\n",
       "    </tr>\n",
       "    <tr>\n",
       "        <td>45</td>\n",
       "        <td>8</td>\n",
       "    </tr>\n",
       "    <tr>\n",
       "        <td>46</td>\n",
       "        <td>7</td>\n",
       "    </tr>\n",
       "    <tr>\n",
       "        <td>47</td>\n",
       "        <td>4</td>\n",
       "    </tr>\n",
       "    <tr>\n",
       "        <td>48</td>\n",
       "        <td>14</td>\n",
       "    </tr>\n",
       "    <tr>\n",
       "        <td>49</td>\n",
       "        <td>8</td>\n",
       "    </tr>\n",
       "    <tr>\n",
       "        <td>50</td>\n",
       "        <td>10</td>\n",
       "    </tr>\n",
       "    <tr>\n",
       "        <td>51</td>\n",
       "        <td>8</td>\n",
       "    </tr>\n",
       "    <tr>\n",
       "        <td>52</td>\n",
       "        <td>8</td>\n",
       "    </tr>\n",
       "    <tr>\n",
       "        <td>53</td>\n",
       "        <td>8</td>\n",
       "    </tr>\n",
       "    <tr>\n",
       "        <td>54</td>\n",
       "        <td>5</td>\n",
       "    </tr>\n",
       "    <tr>\n",
       "        <td>55</td>\n",
       "        <td>4</td>\n",
       "    </tr>\n",
       "    <tr>\n",
       "        <td>56</td>\n",
       "        <td>1</td>\n",
       "    </tr>\n",
       "    <tr>\n",
       "        <td>57</td>\n",
       "        <td>2</td>\n",
       "    </tr>\n",
       "    <tr>\n",
       "        <td>58</td>\n",
       "        <td>4</td>\n",
       "    </tr>\n",
       "    <tr>\n",
       "        <td>60</td>\n",
       "        <td>1</td>\n",
       "    </tr>\n",
       "</table>"
      ],
      "text/plain": [
       "[(38, Decimal('2')),\n",
       " (40, Decimal('1')),\n",
       " (43, Decimal('2')),\n",
       " (44, Decimal('2')),\n",
       " (45, Decimal('8')),\n",
       " (46, Decimal('7')),\n",
       " (47, Decimal('4')),\n",
       " (48, Decimal('14')),\n",
       " (49, Decimal('8')),\n",
       " (50, Decimal('10')),\n",
       " (51, Decimal('8')),\n",
       " (52, Decimal('8')),\n",
       " (53, Decimal('8')),\n",
       " (54, Decimal('5')),\n",
       " (55, Decimal('4')),\n",
       " (56, Decimal('1')),\n",
       " (57, Decimal('2')),\n",
       " (58, Decimal('4')),\n",
       " (60, Decimal('1'))]"
      ]
     },
     "execution_count": 137,
     "metadata": {},
     "output_type": "execute_result"
    }
   ],
   "source": [
    "#use the normal python assignment syntax to assign results of queries into python variables\n",
    "test_score_distribution = %sql SELECT test_score AS \"Scores\", count(*) AS \"Frequency\" from INTERNATIONAL_STUDENT_TEST_SCORES GROUP BY test_score;\n",
    "    \n",
    "test_score_distribution"
   ]
  },
  {
   "cell_type": "code",
   "execution_count": 138,
   "id": "a72e9db4-a64c-4086-bf98-b28945d4e1dd",
   "metadata": {},
   "outputs": [
    {
     "data": {
      "text/html": [
       "<div>\n",
       "<style scoped>\n",
       "    .dataframe tbody tr th:only-of-type {\n",
       "        vertical-align: middle;\n",
       "    }\n",
       "\n",
       "    .dataframe tbody tr th {\n",
       "        vertical-align: top;\n",
       "    }\n",
       "\n",
       "    .dataframe thead th {\n",
       "        text-align: right;\n",
       "    }\n",
       "</style>\n",
       "<table border=\"1\" class=\"dataframe\">\n",
       "  <thead>\n",
       "    <tr style=\"text-align: right;\">\n",
       "      <th></th>\n",
       "      <th>Test Scores</th>\n",
       "      <th>Frequency</th>\n",
       "    </tr>\n",
       "  </thead>\n",
       "  <tbody>\n",
       "    <tr>\n",
       "      <th>0</th>\n",
       "      <td>38</td>\n",
       "      <td>2</td>\n",
       "    </tr>\n",
       "    <tr>\n",
       "      <th>1</th>\n",
       "      <td>40</td>\n",
       "      <td>1</td>\n",
       "    </tr>\n",
       "    <tr>\n",
       "      <th>2</th>\n",
       "      <td>43</td>\n",
       "      <td>2</td>\n",
       "    </tr>\n",
       "    <tr>\n",
       "      <th>3</th>\n",
       "      <td>44</td>\n",
       "      <td>2</td>\n",
       "    </tr>\n",
       "    <tr>\n",
       "      <th>4</th>\n",
       "      <td>45</td>\n",
       "      <td>8</td>\n",
       "    </tr>\n",
       "    <tr>\n",
       "      <th>5</th>\n",
       "      <td>46</td>\n",
       "      <td>7</td>\n",
       "    </tr>\n",
       "    <tr>\n",
       "      <th>6</th>\n",
       "      <td>47</td>\n",
       "      <td>4</td>\n",
       "    </tr>\n",
       "    <tr>\n",
       "      <th>7</th>\n",
       "      <td>48</td>\n",
       "      <td>14</td>\n",
       "    </tr>\n",
       "    <tr>\n",
       "      <th>8</th>\n",
       "      <td>49</td>\n",
       "      <td>8</td>\n",
       "    </tr>\n",
       "    <tr>\n",
       "      <th>9</th>\n",
       "      <td>50</td>\n",
       "      <td>10</td>\n",
       "    </tr>\n",
       "    <tr>\n",
       "      <th>10</th>\n",
       "      <td>51</td>\n",
       "      <td>8</td>\n",
       "    </tr>\n",
       "    <tr>\n",
       "      <th>11</th>\n",
       "      <td>52</td>\n",
       "      <td>8</td>\n",
       "    </tr>\n",
       "    <tr>\n",
       "      <th>12</th>\n",
       "      <td>53</td>\n",
       "      <td>8</td>\n",
       "    </tr>\n",
       "    <tr>\n",
       "      <th>13</th>\n",
       "      <td>54</td>\n",
       "      <td>5</td>\n",
       "    </tr>\n",
       "    <tr>\n",
       "      <th>14</th>\n",
       "      <td>55</td>\n",
       "      <td>4</td>\n",
       "    </tr>\n",
       "    <tr>\n",
       "      <th>15</th>\n",
       "      <td>56</td>\n",
       "      <td>1</td>\n",
       "    </tr>\n",
       "    <tr>\n",
       "      <th>16</th>\n",
       "      <td>57</td>\n",
       "      <td>2</td>\n",
       "    </tr>\n",
       "    <tr>\n",
       "      <th>17</th>\n",
       "      <td>58</td>\n",
       "      <td>4</td>\n",
       "    </tr>\n",
       "    <tr>\n",
       "      <th>18</th>\n",
       "      <td>60</td>\n",
       "      <td>1</td>\n",
       "    </tr>\n",
       "  </tbody>\n",
       "</table>\n",
       "</div>"
      ],
      "text/plain": [
       "    Test Scores Frequency\n",
       "0            38         2\n",
       "1            40         1\n",
       "2            43         2\n",
       "3            44         2\n",
       "4            45         8\n",
       "5            46         7\n",
       "6            47         4\n",
       "7            48        14\n",
       "8            49         8\n",
       "9            50        10\n",
       "10           51         8\n",
       "11           52         8\n",
       "12           53         8\n",
       "13           54         5\n",
       "14           55         4\n",
       "15           56         1\n",
       "16           57         2\n",
       "17           58         4\n",
       "18           60         1"
      ]
     },
     "execution_count": 138,
     "metadata": {},
     "output_type": "execute_result"
    }
   ],
   "source": [
    "# save table as dataframe to update content\n",
    "# dataframe objects are more versatile than SQL query objects.\n",
    "df = test_score_distribution.DataFrame()\n",
    "column_names = df.columns.values\n",
    "column_names[0] = \"Test Scores\"\n",
    "column_names[1] = 'Frequency'\n",
    "df.columns = column_names\n",
    "df"
   ]
  },
  {
   "cell_type": "code",
   "execution_count": 139,
   "id": "fd81d8ba-b0b7-4d9a-88a9-3c84bf351d4e",
   "metadata": {},
   "outputs": [],
   "source": [
    "# install seaborn for visualization\n",
    "#!pip install seaborn"
   ]
  },
  {
   "cell_type": "code",
   "execution_count": 140,
   "id": "131a7c6c-d330-45f2-a69d-f0c17b953b0a",
   "metadata": {},
   "outputs": [],
   "source": [
    "# use this magic function to include the matplotlib graphs in the notebook next to the code.\n",
    "%matplotlib inline \n",
    "\n",
    "# import visualization library\n",
    "import seaborn"
   ]
  },
  {
   "cell_type": "code",
   "execution_count": 141,
   "id": "574b1e85-037d-4761-89ca-227e5a5f27a8",
   "metadata": {},
   "outputs": [
    {
     "data": {
      "image/png": "[encoded data removed]",
      "text/plain": [
       "<Figure size 432x288 with 1 Axes>"
      ]
     },
     "metadata": {
      "needs_background": "light"
     },
     "output_type": "display_data"
    }
   ],
   "source": [
    "# plot the data as a barplot\n",
    "plot = seaborn.barplot(x = \"Test Scores\", y = \"Frequency\", data = df)"
   ]
  },
  {
   "cell_type": "code",
   "execution_count": 142,
   "id": "e380bb36-6b94-4676-b8dd-2b059cda488b",
   "metadata": {},
   "outputs": [
    {
     "name": "stdout",
     "output_type": "stream",
     "text": [
      " * ibm_db_sa://fgl32023:***@dashdb-txn-sbox-yp-dal09-04.services.dal.bluemix.net:50000/BLUDB\n",
      "   sqlite://\n",
      "Done.\n"
     ]
    },
    {
     "data": {
      "text/html": [
       "<table>\n",
       "    <tr>\n",
       "        <th>country</th>\n",
       "        <th>first_name</th>\n",
       "        <th>last_name</th>\n",
       "        <th>test_score</th>\n",
       "    </tr>\n",
       "    <tr>\n",
       "        <td>United States</td>\n",
       "        <td>Marshall</td>\n",
       "        <td>Bernadot</td>\n",
       "        <td>54</td>\n",
       "    </tr>\n",
       "    <tr>\n",
       "        <td>Ghana</td>\n",
       "        <td>Celinda</td>\n",
       "        <td>Malkin</td>\n",
       "        <td>51</td>\n",
       "    </tr>\n",
       "    <tr>\n",
       "        <td>Ukraine</td>\n",
       "        <td>Guillermo</td>\n",
       "        <td>Furze</td>\n",
       "        <td>53</td>\n",
       "    </tr>\n",
       "    <tr>\n",
       "        <td>Greece</td>\n",
       "        <td>Aharon</td>\n",
       "        <td>Tunnow</td>\n",
       "        <td>48</td>\n",
       "    </tr>\n",
       "    <tr>\n",
       "        <td>Russia</td>\n",
       "        <td>Bail</td>\n",
       "        <td>Goodwin</td>\n",
       "        <td>46</td>\n",
       "    </tr>\n",
       "    <tr>\n",
       "        <td>Poland</td>\n",
       "        <td>Cole</td>\n",
       "        <td>Winteringham</td>\n",
       "        <td>49</td>\n",
       "    </tr>\n",
       "    <tr>\n",
       "        <td>Sweden</td>\n",
       "        <td>Emlyn</td>\n",
       "        <td>Erricker</td>\n",
       "        <td>55</td>\n",
       "    </tr>\n",
       "    <tr>\n",
       "        <td>Russia</td>\n",
       "        <td>Cathee</td>\n",
       "        <td>Sivewright</td>\n",
       "        <td>49</td>\n",
       "    </tr>\n",
       "    <tr>\n",
       "        <td>China</td>\n",
       "        <td>Barny</td>\n",
       "        <td>Ingerson</td>\n",
       "        <td>57</td>\n",
       "    </tr>\n",
       "    <tr>\n",
       "        <td>Uganda</td>\n",
       "        <td>Sharla</td>\n",
       "        <td>Papaccio</td>\n",
       "        <td>55</td>\n",
       "    </tr>\n",
       "    <tr>\n",
       "        <td>China</td>\n",
       "        <td>Stella</td>\n",
       "        <td>Youens</td>\n",
       "        <td>51</td>\n",
       "    </tr>\n",
       "    <tr>\n",
       "        <td>Poland</td>\n",
       "        <td>Julio</td>\n",
       "        <td>Buesden</td>\n",
       "        <td>48</td>\n",
       "    </tr>\n",
       "    <tr>\n",
       "        <td>United States</td>\n",
       "        <td>Tiffie</td>\n",
       "        <td>Cosely</td>\n",
       "        <td>58</td>\n",
       "    </tr>\n",
       "    <tr>\n",
       "        <td>Poland</td>\n",
       "        <td>Auroora</td>\n",
       "        <td>Stiffell</td>\n",
       "        <td>45</td>\n",
       "    </tr>\n",
       "    <tr>\n",
       "        <td>China</td>\n",
       "        <td>Clarita</td>\n",
       "        <td>Huet</td>\n",
       "        <td>52</td>\n",
       "    </tr>\n",
       "</table>"
      ],
      "text/plain": [
       "[('United States', 'Marshall', 'Bernadot', 54),\n",
       " ('Ghana', 'Celinda', 'Malkin', 51),\n",
       " ('Ukraine', 'Guillermo', 'Furze', 53),\n",
       " ('Greece', 'Aharon', 'Tunnow', 48),\n",
       " ('Russia', 'Bail', 'Goodwin', 46),\n",
       " ('Poland', 'Cole', 'Winteringham', 49),\n",
       " ('Sweden', 'Emlyn', 'Erricker', 55),\n",
       " ('Russia', 'Cathee', 'Sivewright', 49),\n",
       " ('China', 'Barny', 'Ingerson', 57),\n",
       " ('Uganda', 'Sharla', 'Papaccio', 55),\n",
       " ('China', 'Stella', 'Youens', 51),\n",
       " ('Poland', 'Julio', 'Buesden', 48),\n",
       " ('United States', 'Tiffie', 'Cosely', 58),\n",
       " ('Poland', 'Auroora', 'Stiffell', 45),\n",
       " ('China', 'Clarita', 'Huet', 52)]"
      ]
     },
     "execution_count": 142,
     "metadata": {},
     "output_type": "execute_result"
    }
   ],
   "source": [
    "%%sql \n",
    "\n",
    "-- Feel free to experiment with the data set provided in this notebook for practice:\n",
    "    \n",
    "SELECT country, first_name, last_name, test_score \n",
    "FROM INTERNATIONAL_STUDENT_TEST_SCORES\n",
    "LIMIT 15;    "
   ]
  },
  {
   "cell_type": "markdown",
   "id": "c1c83ffd-7c05-491d-9f5b-a6a20c5c2a6e",
   "metadata": {},
   "source": [
    "### Analyzing Data with Python\n",
    "\n",
    "**Lab**: analyzing a real-world dataset with SQL and Python.\n",
    "\n",
    "Find the details of this dataset [here](https://data.cityofchicago.org/Health-Human-Services/Census-Data-Selected-socioeconomic-indicators-in-C/kn9c-c2s2?utm_medium=Exinfluencer&utm_source=Exinfluencer&utm_content=000026UJ&utm_term=10006555&utm_id=NA-SkillsNetwork-Channel-SkillsNetworkCoursesIBMDeveloperSkillsNetworkDB0201ENSkillsNetwork20127838-2021-01-01).\n",
    "\n",
    "The city of Chicago released a dataset of socioeconomic data to the Chicago City Portal.\n",
    "This dataset contains a selection of six socioeconomic indicators of public health significance and a “hardship index,” for each Chicago community area, for the years 2008 – 2012.\n",
    "\n",
    "Scores on the hardship index can range from 1 to 100, with a higher index number representing a greater level of hardship.\n",
    "\n",
    "*   **Community Area Number** (`ca`): Used to uniquely identify each row of the dataset\n",
    "\n",
    "*   **Community Area Name** (`community_area_name`): The name of the region in the city of Chicago\n",
    "\n",
    "*   **Percent of Housing Crowded** (`percent_of_housing_crowded`): Percent of occupied housing units with more than one person per room\n",
    "\n",
    "*   **Percent Households Below Poverty** (`percent_households_below_poverty`): Percent of households living below the federal poverty line\n",
    "\n",
    "*   **Percent Aged 16+ Unemployed** (`percent_aged_16_unemployed`): Percent of persons over the age of 16 years that are unemployed\n",
    "\n",
    "*   **Percent Aged 25+ without High School Diploma** (`percent_aged_25_without_high_school_diploma`): Percent of persons over the age of 25 years without a high school education\n",
    "\n",
    "*   **Percent Aged Under** 18 or Over 64:Percent of population under 18 or over 64 years of age (`percent_aged_under_18_or_over_64`): (ie. dependents)\n",
    "\n",
    "*   **Per Capita Income** (`per_capita_income_`): Community Area per capita income is estimated as the sum of tract-level aggragate incomes divided by the total population\n",
    "\n",
    "*   **Hardship Index** (`hardship_index`): Score that incorporates each of the six selected socioeconomic indicators\n",
    "\n",
    "In this Lab, we'll take a look at the variables in the socioeconomic indicators dataset and do some basic analysis with Python."
   ]
  },
  {
   "cell_type": "code",
   "execution_count": 143,
   "id": "d6f9d380-d379-4e0c-b3cc-d0cbb236c29e",
   "metadata": {},
   "outputs": [
    {
     "name": "stdout",
     "output_type": "stream",
     "text": [
      "The sql extension is already loaded. To reload it, use:\n",
      "  %reload_ext sql\n"
     ]
    }
   ],
   "source": [
    "# load the SQl extension and establish a connection with the database\n",
    "\n",
    "#!pip install sqlalchemy\n",
    "#!pip install ibm_db_sa\n",
    "%load_ext sql"
   ]
  },
  {
   "cell_type": "code",
   "execution_count": 7,
   "id": "d10f9e8d-1a4f-42fe-b9b4-6806367b19b7",
   "metadata": {},
   "outputs": [
    {
     "name": "stdout",
     "output_type": "stream",
     "text": [
      "DB2/LINUXX8664\n"
     ]
    }
   ],
   "source": [
    "# Remember the connection string is of the format:\n",
    "# %sql ibm_db_sa://my-username:my-password@my-hostname:my-port/my-db-name\n",
    "\n",
    "# Enter the connection string for your Db2 on Cloud database instance below\n",
    "# i.e. copy after db2:// from the URI string in Service Credentials of your Db2 instance. Remove the double quotes at the end.\n",
    "%sql ibm_db_sa://fgl32023:25q97r4n99-mt9x2@dashdb-txn-sbox-yp-dal09-04.services.dal.bluemix.net:50000/BLUDB"
   ]
  },
  {
   "cell_type": "markdown",
   "id": "f34c6392-cf16-431b-9c88-4bce0738e5e7",
   "metadata": {},
   "source": [
    "**Store the dataset in a Table**\n",
    "\n",
    "In many cases the dataset to be analyzed is available as a .CSV (comma separated values) file, perhaps on the internet. To analyze the data using SQL, it first needs to be stored in the database.\n",
    "\n",
    "We will first read the dataset source .CSV from the internet into pandas dataframe\n",
    "\n",
    "Then we need to create a table in our Db2 database to store the dataset. The PERSIST command in SQL \"magic\" simplifies the process of table creation and writing the data from a `pandas` dataframe into the table"
   ]
  },
  {
   "cell_type": "code",
   "execution_count": 9,
   "id": "3c162350-8864-4d00-989e-5281c517f892",
   "metadata": {},
   "outputs": [],
   "source": [
    "# import pandas\n",
    "import pandas\n",
    "\n",
    "# load the data\n",
    "chicago_socioeconomic_data = pandas.read_csv('https://data.cityofchicago.org/resource/jcxq-k9xf.csv')"
   ]
  },
  {
   "cell_type": "code",
   "execution_count": 10,
   "id": "9b953ed1-dbb1-4b40-a6ff-c4e755a30dd4",
   "metadata": {},
   "outputs": [
    {
     "name": "stdout",
     "output_type": "stream",
     "text": [
      " * ibm_db_sa://fgl32023:***@dashdb-txn-sbox-yp-dal09-04.services.dal.bluemix.net:50000/BLUDB\n",
      "(ibm_db_dbi.ProgrammingError) ibm_db_dbi::ProgrammingError: Statement Execute Failed: [IBM][CLI Driver][DB2/LINUXX8664] SQL0104N  An unexpected token \"END-OF-STATEMENT\" was found following \"o_socioeconomic_data\".  Expected tokens may include:  \"JOIN <joined_table>\".  SQLSTATE=42601\\r SQLCODE=-104\n",
      "[SQL: PERSIST chicago_socioeconomic_data]\n",
      "(Background on this error at: http://sqlalche.me/e/f405)\n"
     ]
    }
   ],
   "source": [
    "%sql PERSIST chicago_socioeconomic_data"
   ]
  },
  {
   "cell_type": "code",
   "execution_count": 59,
   "id": "823a5319-02ae-4703-8af7-f9bd1d50fb37",
   "metadata": {},
   "outputs": [
    {
     "name": "stdout",
     "output_type": "stream",
     "text": [
      " * ibm_db_sa://fgl32023:***@dashdb-txn-sbox-yp-dal09-04.services.dal.bluemix.net:50000/BLUDB\n",
      "Done.\n"
     ]
    },
    {
     "data": {
      "text/html": [
       "<table>\n",
       "    <tr>\n",
       "        <th>index</th>\n",
       "        <th>ca</th>\n",
       "        <th>community_area_name</th>\n",
       "        <th>percent_of_housing_crowded</th>\n",
       "        <th>percent_households_below_poverty</th>\n",
       "        <th>percent_aged_16_unemployed</th>\n",
       "        <th>percent_aged_25_without_high_school_diploma</th>\n",
       "        <th>percent_aged_under_18_or_over_64</th>\n",
       "        <th>per_capita_income_</th>\n",
       "        <th>hardship_index</th>\n",
       "    </tr>\n",
       "    <tr>\n",
       "        <td>0</td>\n",
       "        <td>1.0</td>\n",
       "        <td>Rogers Park</td>\n",
       "        <td>7.7</td>\n",
       "        <td>23.6</td>\n",
       "        <td>8.7</td>\n",
       "        <td>18.2</td>\n",
       "        <td>27.5</td>\n",
       "        <td>23939</td>\n",
       "        <td>39.0</td>\n",
       "    </tr>\n",
       "    <tr>\n",
       "        <td>1</td>\n",
       "        <td>2.0</td>\n",
       "        <td>West Ridge</td>\n",
       "        <td>7.8</td>\n",
       "        <td>17.2</td>\n",
       "        <td>8.8</td>\n",
       "        <td>20.8</td>\n",
       "        <td>38.5</td>\n",
       "        <td>23040</td>\n",
       "        <td>46.0</td>\n",
       "    </tr>\n",
       "    <tr>\n",
       "        <td>2</td>\n",
       "        <td>3.0</td>\n",
       "        <td>Uptown</td>\n",
       "        <td>3.8</td>\n",
       "        <td>24.0</td>\n",
       "        <td>8.9</td>\n",
       "        <td>11.8</td>\n",
       "        <td>22.2</td>\n",
       "        <td>35787</td>\n",
       "        <td>20.0</td>\n",
       "    </tr>\n",
       "    <tr>\n",
       "        <td>3</td>\n",
       "        <td>4.0</td>\n",
       "        <td>Lincoln Square</td>\n",
       "        <td>3.4</td>\n",
       "        <td>10.9</td>\n",
       "        <td>8.2</td>\n",
       "        <td>13.4</td>\n",
       "        <td>25.5</td>\n",
       "        <td>37524</td>\n",
       "        <td>17.0</td>\n",
       "    </tr>\n",
       "    <tr>\n",
       "        <td>4</td>\n",
       "        <td>5.0</td>\n",
       "        <td>North Center</td>\n",
       "        <td>0.3</td>\n",
       "        <td>7.5</td>\n",
       "        <td>5.2</td>\n",
       "        <td>4.5</td>\n",
       "        <td>26.2</td>\n",
       "        <td>57123</td>\n",
       "        <td>6.0</td>\n",
       "    </tr>\n",
       "</table>"
      ],
      "text/plain": [
       "[(0, 1.0, 'Rogers Park', 7.7, 23.6, 8.7, 18.2, 27.5, 23939, 39.0),\n",
       " (1, 2.0, 'West Ridge', 7.8, 17.2, 8.8, 20.8, 38.5, 23040, 46.0),\n",
       " (2, 3.0, 'Uptown', 3.8, 24.0, 8.9, 11.8, 22.2, 35787, 20.0),\n",
       " (3, 4.0, 'Lincoln Square', 3.4, 10.9, 8.2, 13.4, 25.5, 37524, 17.0),\n",
       " (4, 5.0, 'North Center', 0.3, 7.5, 5.2, 4.5, 26.2, 57123, 6.0)]"
      ]
     },
     "execution_count": 59,
     "metadata": {},
     "output_type": "execute_result"
    }
   ],
   "source": [
    "%sql SELECT * FROM chicago_socioeconomic_data LIMIT 5;"
   ]
  },
  {
   "cell_type": "code",
   "execution_count": 60,
   "id": "1061a83f-e06b-4326-9151-ba9991b002f2",
   "metadata": {},
   "outputs": [
    {
     "name": "stdout",
     "output_type": "stream",
     "text": [
      " * ibm_db_sa://fgl32023:***@dashdb-txn-sbox-yp-dal09-04.services.dal.bluemix.net:50000/BLUDB\n",
      "Done.\n"
     ]
    },
    {
     "data": {
      "text/html": [
       "<table>\n",
       "    <tr>\n",
       "        <th>1</th>\n",
       "    </tr>\n",
       "    <tr>\n",
       "        <td>78</td>\n",
       "    </tr>\n",
       "</table>"
      ],
      "text/plain": [
       "[(Decimal('78'),)]"
      ]
     },
     "execution_count": 60,
     "metadata": {},
     "output_type": "execute_result"
    }
   ],
   "source": [
    "# find how many rows are in the data set\n",
    "\n",
    "%sql SELECT COUNT(*) FROM chicago_socioeconomic_data;"
   ]
  },
  {
   "cell_type": "code",
   "execution_count": 61,
   "id": "af7dbfa3-3e8e-4ed1-9f93-10c7b7b11eb1",
   "metadata": {},
   "outputs": [
    {
     "name": "stdout",
     "output_type": "stream",
     "text": [
      " * ibm_db_sa://fgl32023:***@dashdb-txn-sbox-yp-dal09-04.services.dal.bluemix.net:50000/BLUDB\n",
      "Done.\n"
     ]
    },
    {
     "data": {
      "text/html": [
       "<table>\n",
       "    <tr>\n",
       "        <th>1</th>\n",
       "    </tr>\n",
       "    <tr>\n",
       "        <td>38</td>\n",
       "    </tr>\n",
       "</table>"
      ],
      "text/plain": [
       "[(Decimal('38'),)]"
      ]
     },
     "execution_count": 61,
     "metadata": {},
     "output_type": "execute_result"
    }
   ],
   "source": [
    "# how many community areas in chicago have a hardship index over 50?\n",
    "\n",
    "%sql SELECT COUNT(*) FROM chicago_socioeconomic_data WHERE hardship_index >50;"
   ]
  },
  {
   "cell_type": "code",
   "execution_count": 63,
   "id": "64726a1a-3c47-4ca0-91fc-bce2c0599513",
   "metadata": {},
   "outputs": [
    {
     "name": "stdout",
     "output_type": "stream",
     "text": [
      " * ibm_db_sa://fgl32023:***@dashdb-txn-sbox-yp-dal09-04.services.dal.bluemix.net:50000/BLUDB\n",
      "Done.\n"
     ]
    },
    {
     "data": {
      "text/html": [
       "<table>\n",
       "    <tr>\n",
       "        <th>1</th>\n",
       "    </tr>\n",
       "    <tr>\n",
       "        <td>98.0</td>\n",
       "    </tr>\n",
       "</table>"
      ],
      "text/plain": [
       "[(98.0,)]"
      ]
     },
     "execution_count": 63,
     "metadata": {},
     "output_type": "execute_result"
    }
   ],
   "source": [
    "# what is the maximum value of hardship index in this dataset?\n",
    "\n",
    "%sql SELECT MAX(hardship_index) FROM chicago_socioeconomic_data;"
   ]
  },
  {
   "cell_type": "code",
   "execution_count": 64,
   "id": "43713248-0b24-4582-9cb7-babfef612d2b",
   "metadata": {},
   "outputs": [
    {
     "name": "stdout",
     "output_type": "stream",
     "text": [
      " * ibm_db_sa://fgl32023:***@dashdb-txn-sbox-yp-dal09-04.services.dal.bluemix.net:50000/BLUDB\n",
      "Done.\n"
     ]
    },
    {
     "data": {
      "text/html": [
       "<table>\n",
       "    <tr>\n",
       "        <th>community_area_name</th>\n",
       "    </tr>\n",
       "    <tr>\n",
       "        <td>Riverdale</td>\n",
       "    </tr>\n",
       "</table>"
      ],
      "text/plain": [
       "[('Riverdale',)]"
      ]
     },
     "execution_count": 64,
     "metadata": {},
     "output_type": "execute_result"
    }
   ],
   "source": [
    "# which community has the highest hardship index?\n",
    "\n",
    "# use previous result as an input to this query\n",
    "%sql SELECT community_area_name FROM chicago_socioeconomic_data WHERE hardship_index = 98.0;"
   ]
  },
  {
   "cell_type": "code",
   "execution_count": 152,
   "id": "8cf012a4-b57d-441d-9885-a9095d2817cc",
   "metadata": {},
   "outputs": [
    {
     "name": "stdout",
     "output_type": "stream",
     "text": [
      " * ibm_db_sa://fgl32023:***@dashdb-txn-sbox-yp-dal09-04.services.dal.bluemix.net:50000/BLUDB\n",
      "   sqlite://\n",
      "Done.\n"
     ]
    },
    {
     "data": {
      "text/html": [
       "<table>\n",
       "    <tr>\n",
       "        <th>community_area_name</th>\n",
       "    </tr>\n",
       "    <tr>\n",
       "        <td>Riverdale</td>\n",
       "    </tr>\n",
       "</table>"
      ],
      "text/plain": [
       "[('Riverdale',)]"
      ]
     },
     "execution_count": 152,
     "metadata": {},
     "output_type": "execute_result"
    }
   ],
   "source": [
    "# or order the search and fetch only the first row\n",
    "%sql SELECT community_area_name FROM chicago_socioeconomic_data ORDER BY hardship_index DESC NULLS LAST FETCH FIRST ROW ONLY;"
   ]
  },
  {
   "cell_type": "code",
   "execution_count": 153,
   "id": "927232a6-a6b7-4434-8ba9-d3c71fe56858",
   "metadata": {},
   "outputs": [
    {
     "name": "stdout",
     "output_type": "stream",
     "text": [
      " * ibm_db_sa://fgl32023:***@dashdb-txn-sbox-yp-dal09-04.services.dal.bluemix.net:50000/BLUDB\n",
      "   sqlite://\n",
      "Done.\n"
     ]
    },
    {
     "data": {
      "text/html": [
       "<table>\n",
       "    <tr>\n",
       "        <th>community_area_name</th>\n",
       "    </tr>\n",
       "    <tr>\n",
       "        <td>Riverdale</td>\n",
       "    </tr>\n",
       "</table>"
      ],
      "text/plain": [
       "[('Riverdale',)]"
      ]
     },
     "execution_count": 153,
     "metadata": {},
     "output_type": "execute_result"
    }
   ],
   "source": [
    "# or use a sub-query\n",
    "%sql SELECT community_area_name FROM chicago_socioeconomic_data WHERE hardship_index = (SELECT MAX(hardship_index) FROM chicago_socioeconomic_data);"
   ]
  },
  {
   "cell_type": "code",
   "execution_count": 154,
   "id": "4d08f54d-5425-41f2-a1ac-83959ff516dc",
   "metadata": {},
   "outputs": [
    {
     "name": "stdout",
     "output_type": "stream",
     "text": [
      " * ibm_db_sa://fgl32023:***@dashdb-txn-sbox-yp-dal09-04.services.dal.bluemix.net:50000/BLUDB\n",
      "   sqlite://\n",
      "Done.\n"
     ]
    },
    {
     "data": {
      "text/html": [
       "<table>\n",
       "    <tr>\n",
       "        <th>community_area_name</th>\n",
       "    </tr>\n",
       "    <tr>\n",
       "        <td>Lake View</td>\n",
       "    </tr>\n",
       "    <tr>\n",
       "        <td>Lincoln Park</td>\n",
       "    </tr>\n",
       "    <tr>\n",
       "        <td>Near North Side</td>\n",
       "    </tr>\n",
       "    <tr>\n",
       "        <td>Loop</td>\n",
       "    </tr>\n",
       "</table>"
      ],
      "text/plain": [
       "[('Lake View',), ('Lincoln Park',), ('Near North Side',), ('Loop',)]"
      ]
     },
     "execution_count": 154,
     "metadata": {},
     "output_type": "execute_result"
    }
   ],
   "source": [
    "# which chicago communities have per-capita incomes over 60000?\n",
    "%sql SELECT community_area_name FROM chicago_socioeconomic_data WHERE per_capita_income_ > 60000;"
   ]
  },
  {
   "cell_type": "code",
   "execution_count": 155,
   "id": "3384112b-f4cf-4f13-9773-45f25f178848",
   "metadata": {},
   "outputs": [
    {
     "name": "stdout",
     "output_type": "stream",
     "text": [
      " * ibm_db_sa://fgl32023:***@dashdb-txn-sbox-yp-dal09-04.services.dal.bluemix.net:50000/BLUDB\n",
      "   sqlite://\n",
      "Done.\n"
     ]
    },
    {
     "data": {
      "image/png": "[encoded data removed]",
      "text/plain": [
       "<Figure size 432x432 with 3 Axes>"
      ]
     },
     "metadata": {
      "needs_background": "light"
     },
     "output_type": "display_data"
    }
   ],
   "source": [
    "# create a scatter plot of per capita income and hardship index\n",
    "import pandas\n",
    "import matplotlib.pyplot as plt\n",
    "%matplotlib inline\n",
    "import seaborn as sns\n",
    "\n",
    "# get required data\n",
    "income_vs_hardship = %sql SELECT per_capita_income_, hardship_index FROM chicago_socioeconomic_data;\n",
    "\n",
    "# plot the data in a jointplot\n",
    "plot = sns.jointplot(x='per_capita_income_',y='hardship_index', data=income_vs_hardship.DataFrame())\n",
    "\n",
    "# as per capita income rises, the hardship index decreases\n",
    "# there is a negative correlation between the two variables."
   ]
  },
  {
   "cell_type": "markdown",
   "id": "6da522ea-091e-4d8c-a6c2-8f9e14d54128",
   "metadata": {},
   "source": [
    "## *Week 5: Course Assignment.*\n",
    "\n",
    "Created in a separate notebook."
   ]
  },
  {
   "cell_type": "markdown",
   "id": "a62365e6-830b-4187-a438-35c1b3df2154",
   "metadata": {},
   "source": [
    "### Tips when working in SQL from a .csv dataset \n",
    "\n",
    "Querying column names with mixed case:\n",
    "- use double quotes to specify mixed-case column names in SQL\n",
    "\n",
    "Querying column names with space and special characters:\n",
    "- spaces (and other special characters) get mapped to underscores.\n",
    "\n",
    "Using quotes in Jupyter:\n",
    "- first assign queries to variables.\n",
    "- Use backslash \\ as the escape character in cases where the query contains single quotes\n",
    "\n",
    "Splitting Queries into multiple lines in Jupyter:\n",
    "- Use backslash \\ to split the query into multiple lines for readability\n",
    "- Or use SQL magic %%sql. \n",
    "\n",
    "Restricting the number of rows retrieved:\n",
    "- You could get the data from SQL into a pandas dataframe to then use the .head() function, but doing so could take a long time to process depending on the size of the datset.\n",
    "- Instead, use the SQL LIMIT clause to restrict the result set."
   ]
  },
  {
   "cell_type": "markdown",
   "id": "4d48fb96-a175-4dcc-b453-79798aedf686",
   "metadata": {},
   "source": [
    "### Getting Table and Column Details\n",
    "\n",
    "Getting a list of tables in a database:\n",
    "- Db2:\n",
    "    - SYSCAT.TABLES\n",
    "    - *select * from SYSCAT.TABLES*\n",
    "- SQL Server\n",
    "    - INFORMATION_SCHEMA.TABLES\n",
    "- Oracle\n",
    "    - ALL_TABLES or USER_TABLES\n",
    "    \n",
    "Getting table properties:\n",
    "- Db2: use SYSCAT.TABLES to pull table details such as table name and creation date from all tables you have created within the database.\n",
    "    - *select TABSCEHMA, TABNAME, CREATE_TIME from syscat.tables where tabschema = 'yourusername'*\n",
    "\n",
    "Getting a list of columns in a database:\n",
    "- Db2: use SYSCAT.COLUMNS to pull column details from all tables, or specify which table by the table name / tabname.\n",
    "    - *select * from syscat.columns where tabname = 'name'*\n",
    "- MYSQL: use the command \"SHOW COLUMNS FROM table_name\"\n",
    "\n",
    "Obtain specific colum properties:\n",
    "- Db2: use sysibm.syscolumns\n",
    "    - *select distinct(name), coltype, length from sysibm.syscolumsn where tbname = 'name'*"
   ]
  },
  {
   "cell_type": "markdown",
   "id": "c23d13d9-5f0b-4a44-a8a0-e3ca01047b11",
   "metadata": {},
   "source": [
    "### Practice Lab\n",
    "\n",
    "Working with real-world data set using SQl and Python\n",
    "\n",
    "After completing this lab you will be able to:\n",
    "\n",
    "*   Understand the dataset for Chicago Public School level performance\n",
    "*   Store the dataset in an Db2 database on IBM Cloud instance\n",
    "*   Retrieve metadata about tables and columns and query data from mixed case columns\n",
    "*   Solve example problems to practice your SQL skills including using built-in database functions\n",
    "\n",
    "<a href=\"https://cf-courses-data.s3.us.cloud-object-storage.appdomain.cloud/IBMDeveloperSkillsNetwork-DB0201EN-SkillsNetwork/labs/FinalModule_Coursera_V5/data/ChicagoPublicSchools.csv?utm_medium=Exinfluencer&utm_source=Exinfluencer&utm_content=000026UJ&utm_term=10006555&utm_id=NA-SkillsNetwork-Channel-SkillsNetworkCoursesIBMDeveloperSkillsNetworkDB0201ENSkillsNetwork20127838-2021-01-01\">Dataset link</a>.\n",
    "\n",
    "In many cases, the dataset is available as a .CSV file. To analyze it with SQL, it first needs to be stored in the database.  \n",
    "\n",
    "It is highly recommended to manually load the table using the database console LOAD tool, but it is also possible to read it into a pandas dataframe and then PERSIST it into the database (though this comes with some set backs).\n",
    "\n",
    "The .CSV file has already been loaded into the Db2 database and is called SCHOOLS."
   ]
  },
  {
   "cell_type": "code",
   "execution_count": 2,
   "id": "d5244996-112e-420e-8ef1-433ff82024a7",
   "metadata": {},
   "outputs": [],
   "source": [
    "# load sql module\n",
    "%load_ext sql"
   ]
  },
  {
   "cell_type": "code",
   "execution_count": 26,
   "id": "46c00a27-d82e-4d87-aeb6-1816620a5dae",
   "metadata": {},
   "outputs": [
    {
     "name": "stdout",
     "output_type": "stream",
     "text": [
      "DB2/LINUXX8664\n"
     ]
    }
   ],
   "source": [
    "# Enter the connection string for your Db2 on Cloud database instance below\n",
    "# %sql ibm_db_sa://my-username:my-password@my-hostname:my-port/my-db-name\n",
    "%sql ibm_db_sa://fgl32023:25q97r4n99-mt9x2@dashdb-txn-sbox-yp-dal09-04.services.dal.bluemix.net:50000/BLUDB"
   ]
  },
  {
   "cell_type": "code",
   "execution_count": 27,
   "id": "327072ba-c509-4c64-b27a-4fccdb5c1915",
   "metadata": {},
   "outputs": [
    {
     "name": "stdout",
     "output_type": "stream",
     "text": [
      " * ibm_db_sa://fgl32023:***@dashdb-txn-sbox-yp-dal09-04.services.dal.bluemix.net:50000/BLUDB\n",
      "Done.\n"
     ]
    },
    {
     "data": {
      "text/html": [
       "<table>\n",
       "    <tr>\n",
       "        <th>tabschema</th>\n",
       "        <th>tabname</th>\n",
       "        <th>create_time</th>\n",
       "    </tr>\n",
       "    <tr>\n",
       "        <td>FGL32023</td>\n",
       "        <td>SCHOOLS</td>\n",
       "        <td>2021-07-07 16:32:12.427092</td>\n",
       "    </tr>\n",
       "</table>"
      ],
      "text/plain": [
       "[('FGL32023', 'SCHOOLS', datetime.datetime(2021, 7, 7, 16, 32, 12, 427092))]"
      ]
     },
     "execution_count": 27,
     "metadata": {},
     "output_type": "execute_result"
    }
   ],
   "source": [
    "# verify that the table was successfully created by retrieving a list of all tables in your schema\n",
    "%sql select TABSCHEMA, TABNAME, CREATE_TIME from SYSCAT.TABLES where TABNAME = 'SCHOOLS'"
   ]
  },
  {
   "cell_type": "code",
   "execution_count": 28,
   "id": "0c403159-c34a-4db5-9044-a2b3fc0b8400",
   "metadata": {},
   "outputs": [
    {
     "name": "stdout",
     "output_type": "stream",
     "text": [
      " * ibm_db_sa://fgl32023:***@dashdb-txn-sbox-yp-dal09-04.services.dal.bluemix.net:50000/BLUDB\n",
      "Done.\n"
     ]
    },
    {
     "data": {
      "text/html": [
       "<table>\n",
       "    <tr>\n",
       "        <th>1</th>\n",
       "    </tr>\n",
       "    <tr>\n",
       "        <td>78</td>\n",
       "    </tr>\n",
       "</table>"
      ],
      "text/plain": [
       "[(Decimal('78'),)]"
      ]
     },
     "execution_count": 28,
     "metadata": {},
     "output_type": "execute_result"
    }
   ],
   "source": [
    "# retrieve the number of columns in the table\n",
    "%sql select count(*) from SYSCAT.COLUMNS where TABNAME = 'SCHOOLS'"
   ]
  },
  {
   "cell_type": "code",
   "execution_count": 29,
   "id": "17d8573d-4542-4553-955c-ab27b8de7eb9",
   "metadata": {},
   "outputs": [
    {
     "name": "stdout",
     "output_type": "stream",
     "text": [
      " * ibm_db_sa://fgl32023:***@dashdb-txn-sbox-yp-dal09-04.services.dal.bluemix.net:50000/BLUDB\n",
      "Done.\n"
     ]
    },
    {
     "data": {
      "text/html": [
       "<table>\n",
       "    <tr>\n",
       "        <th>colname</th>\n",
       "        <th>typename</th>\n",
       "        <th>length</th>\n",
       "    </tr>\n",
       "    <tr>\n",
       "        <td>School_ID</td>\n",
       "        <td>INTEGER</td>\n",
       "        <td>4</td>\n",
       "    </tr>\n",
       "    <tr>\n",
       "        <td>NAME_OF_SCHOOL</td>\n",
       "        <td>VARCHAR</td>\n",
       "        <td>65</td>\n",
       "    </tr>\n",
       "    <tr>\n",
       "        <td>school_type</td>\n",
       "        <td>VARCHAR</td>\n",
       "        <td>2</td>\n",
       "    </tr>\n",
       "    <tr>\n",
       "        <td>Street_Address</td>\n",
       "        <td>VARCHAR</td>\n",
       "        <td>29</td>\n",
       "    </tr>\n",
       "    <tr>\n",
       "        <td>City</td>\n",
       "        <td>VARCHAR</td>\n",
       "        <td>7</td>\n",
       "    </tr>\n",
       "    <tr>\n",
       "        <td>State</td>\n",
       "        <td>VARCHAR</td>\n",
       "        <td>2</td>\n",
       "    </tr>\n",
       "    <tr>\n",
       "        <td>ZIP_Code</td>\n",
       "        <td>INTEGER</td>\n",
       "        <td>4</td>\n",
       "    </tr>\n",
       "    <tr>\n",
       "        <td>Phone_Number</td>\n",
       "        <td>VARCHAR</td>\n",
       "        <td>14</td>\n",
       "    </tr>\n",
       "    <tr>\n",
       "        <td>Link</td>\n",
       "        <td>VARCHAR</td>\n",
       "        <td>78</td>\n",
       "    </tr>\n",
       "    <tr>\n",
       "        <td>Network_Manager</td>\n",
       "        <td>VARCHAR</td>\n",
       "        <td>40</td>\n",
       "    </tr>\n",
       "    <tr>\n",
       "        <td>Collaborative_Name</td>\n",
       "        <td>VARCHAR</td>\n",
       "        <td>34</td>\n",
       "    </tr>\n",
       "    <tr>\n",
       "        <td>Adequate_Yearly_Progress_Made_</td>\n",
       "        <td>VARCHAR</td>\n",
       "        <td>3</td>\n",
       "    </tr>\n",
       "    <tr>\n",
       "        <td>Track_Schedule</td>\n",
       "        <td>VARCHAR</td>\n",
       "        <td>12</td>\n",
       "    </tr>\n",
       "    <tr>\n",
       "        <td>CPS_Performance_Policy_Status</td>\n",
       "        <td>VARCHAR</td>\n",
       "        <td>16</td>\n",
       "    </tr>\n",
       "    <tr>\n",
       "        <td>CPS_Performance_Policy_Level</td>\n",
       "        <td>VARCHAR</td>\n",
       "        <td>15</td>\n",
       "    </tr>\n",
       "    <tr>\n",
       "        <td>HEALTHY_SCHOOL_CERTIFIED</td>\n",
       "        <td>VARCHAR</td>\n",
       "        <td>3</td>\n",
       "    </tr>\n",
       "    <tr>\n",
       "        <td>Safety_Icon</td>\n",
       "        <td>VARCHAR</td>\n",
       "        <td>11</td>\n",
       "    </tr>\n",
       "    <tr>\n",
       "        <td>SAFETY_SCORE</td>\n",
       "        <td>SMALLINT</td>\n",
       "        <td>2</td>\n",
       "    </tr>\n",
       "    <tr>\n",
       "        <td>Family_Involvement_Icon</td>\n",
       "        <td>VARCHAR</td>\n",
       "        <td>11</td>\n",
       "    </tr>\n",
       "    <tr>\n",
       "        <td>Family_Involvement_Score</td>\n",
       "        <td>VARCHAR</td>\n",
       "        <td>3</td>\n",
       "    </tr>\n",
       "    <tr>\n",
       "        <td>Environment_Icon</td>\n",
       "        <td>VARCHAR</td>\n",
       "        <td>11</td>\n",
       "    </tr>\n",
       "    <tr>\n",
       "        <td>Environment_Score</td>\n",
       "        <td>SMALLINT</td>\n",
       "        <td>2</td>\n",
       "    </tr>\n",
       "    <tr>\n",
       "        <td>Instruction_Icon</td>\n",
       "        <td>VARCHAR</td>\n",
       "        <td>11</td>\n",
       "    </tr>\n",
       "    <tr>\n",
       "        <td>Instruction_Score</td>\n",
       "        <td>SMALLINT</td>\n",
       "        <td>2</td>\n",
       "    </tr>\n",
       "    <tr>\n",
       "        <td>Leaders_Icon</td>\n",
       "        <td>VARCHAR</td>\n",
       "        <td>4</td>\n",
       "    </tr>\n",
       "    <tr>\n",
       "        <td>Leaders_Score</td>\n",
       "        <td>VARCHAR</td>\n",
       "        <td>3</td>\n",
       "    </tr>\n",
       "    <tr>\n",
       "        <td>Teachers_Icon</td>\n",
       "        <td>VARCHAR</td>\n",
       "        <td>11</td>\n",
       "    </tr>\n",
       "    <tr>\n",
       "        <td>Teachers_Score</td>\n",
       "        <td>VARCHAR</td>\n",
       "        <td>3</td>\n",
       "    </tr>\n",
       "    <tr>\n",
       "        <td>Parent_Engagement_Icon</td>\n",
       "        <td>VARCHAR</td>\n",
       "        <td>7</td>\n",
       "    </tr>\n",
       "    <tr>\n",
       "        <td>Parent_Engagement_Score</td>\n",
       "        <td>VARCHAR</td>\n",
       "        <td>3</td>\n",
       "    </tr>\n",
       "    <tr>\n",
       "        <td>Parent_Environment_Icon</td>\n",
       "        <td>VARCHAR</td>\n",
       "        <td>7</td>\n",
       "    </tr>\n",
       "    <tr>\n",
       "        <td>Parent_Environment_Score</td>\n",
       "        <td>VARCHAR</td>\n",
       "        <td>3</td>\n",
       "    </tr>\n",
       "    <tr>\n",
       "        <td>AVERAGE_STUDENT_ATTENDANCE</td>\n",
       "        <td>VARCHAR</td>\n",
       "        <td>6</td>\n",
       "    </tr>\n",
       "    <tr>\n",
       "        <td>Rate_of_Misconducts__per_100_students_</td>\n",
       "        <td>DECIMAL</td>\n",
       "        <td>5</td>\n",
       "    </tr>\n",
       "    <tr>\n",
       "        <td>Average_Teacher_Attendance</td>\n",
       "        <td>VARCHAR</td>\n",
       "        <td>6</td>\n",
       "    </tr>\n",
       "    <tr>\n",
       "        <td>Individualized_Education_Program_Compliance_Rate</td>\n",
       "        <td>VARCHAR</td>\n",
       "        <td>7</td>\n",
       "    </tr>\n",
       "    <tr>\n",
       "        <td>Pk_2_Literacy__</td>\n",
       "        <td>VARCHAR</td>\n",
       "        <td>4</td>\n",
       "    </tr>\n",
       "    <tr>\n",
       "        <td>Pk_2_Math__</td>\n",
       "        <td>VARCHAR</td>\n",
       "        <td>4</td>\n",
       "    </tr>\n",
       "    <tr>\n",
       "        <td>Gr3_5_Grade_Level_Math__</td>\n",
       "        <td>VARCHAR</td>\n",
       "        <td>4</td>\n",
       "    </tr>\n",
       "    <tr>\n",
       "        <td>Gr3_5_Grade_Level_Read__</td>\n",
       "        <td>VARCHAR</td>\n",
       "        <td>4</td>\n",
       "    </tr>\n",
       "    <tr>\n",
       "        <td>Gr3_5_Keep_Pace_Read__</td>\n",
       "        <td>VARCHAR</td>\n",
       "        <td>4</td>\n",
       "    </tr>\n",
       "    <tr>\n",
       "        <td>Gr3_5_Keep_Pace_Math__</td>\n",
       "        <td>VARCHAR</td>\n",
       "        <td>4</td>\n",
       "    </tr>\n",
       "    <tr>\n",
       "        <td>Gr6_8_Grade_Level_Math__</td>\n",
       "        <td>VARCHAR</td>\n",
       "        <td>4</td>\n",
       "    </tr>\n",
       "    <tr>\n",
       "        <td>Gr6_8_Grade_Level_Read__</td>\n",
       "        <td>VARCHAR</td>\n",
       "        <td>4</td>\n",
       "    </tr>\n",
       "    <tr>\n",
       "        <td>Gr6_8_Keep_Pace_Math_</td>\n",
       "        <td>VARCHAR</td>\n",
       "        <td>4</td>\n",
       "    </tr>\n",
       "    <tr>\n",
       "        <td>Gr6_8_Keep_Pace_Read__</td>\n",
       "        <td>VARCHAR</td>\n",
       "        <td>4</td>\n",
       "    </tr>\n",
       "    <tr>\n",
       "        <td>Gr_8_Explore_Math__</td>\n",
       "        <td>VARCHAR</td>\n",
       "        <td>4</td>\n",
       "    </tr>\n",
       "    <tr>\n",
       "        <td>Gr_8_Explore_Read__</td>\n",
       "        <td>VARCHAR</td>\n",
       "        <td>4</td>\n",
       "    </tr>\n",
       "    <tr>\n",
       "        <td>ISAT_Exceeding_Math__</td>\n",
       "        <td>DECIMAL</td>\n",
       "        <td>4</td>\n",
       "    </tr>\n",
       "    <tr>\n",
       "        <td>ISAT_Exceeding_Reading__</td>\n",
       "        <td>DECIMAL</td>\n",
       "        <td>4</td>\n",
       "    </tr>\n",
       "    <tr>\n",
       "        <td>ISAT_Value_Add_Math</td>\n",
       "        <td>DECIMAL</td>\n",
       "        <td>3</td>\n",
       "    </tr>\n",
       "    <tr>\n",
       "        <td>ISAT_Value_Add_Read</td>\n",
       "        <td>DECIMAL</td>\n",
       "        <td>3</td>\n",
       "    </tr>\n",
       "    <tr>\n",
       "        <td>ISAT_Value_Add_Color_Math</td>\n",
       "        <td>VARCHAR</td>\n",
       "        <td>6</td>\n",
       "    </tr>\n",
       "    <tr>\n",
       "        <td>ISAT_Value_Add_Color_Read</td>\n",
       "        <td>VARCHAR</td>\n",
       "        <td>6</td>\n",
       "    </tr>\n",
       "    <tr>\n",
       "        <td>Students_Taking__Algebra__</td>\n",
       "        <td>VARCHAR</td>\n",
       "        <td>4</td>\n",
       "    </tr>\n",
       "    <tr>\n",
       "        <td>Students_Passing__Algebra__</td>\n",
       "        <td>VARCHAR</td>\n",
       "        <td>4</td>\n",
       "    </tr>\n",
       "    <tr>\n",
       "        <td>9th Grade EXPLORE (2009)</td>\n",
       "        <td>VARCHAR</td>\n",
       "        <td>4</td>\n",
       "    </tr>\n",
       "    <tr>\n",
       "        <td>9th Grade EXPLORE (2010)</td>\n",
       "        <td>VARCHAR</td>\n",
       "        <td>4</td>\n",
       "    </tr>\n",
       "    <tr>\n",
       "        <td>10th Grade PLAN (2009)</td>\n",
       "        <td>VARCHAR</td>\n",
       "        <td>4</td>\n",
       "    </tr>\n",
       "    <tr>\n",
       "        <td>10th Grade PLAN (2010)</td>\n",
       "        <td>VARCHAR</td>\n",
       "        <td>4</td>\n",
       "    </tr>\n",
       "    <tr>\n",
       "        <td>Net_Change_EXPLORE_and_PLAN</td>\n",
       "        <td>VARCHAR</td>\n",
       "        <td>3</td>\n",
       "    </tr>\n",
       "    <tr>\n",
       "        <td>11th Grade Average ACT (2011)</td>\n",
       "        <td>VARCHAR</td>\n",
       "        <td>4</td>\n",
       "    </tr>\n",
       "    <tr>\n",
       "        <td>Net_Change_PLAN_and_ACT</td>\n",
       "        <td>VARCHAR</td>\n",
       "        <td>3</td>\n",
       "    </tr>\n",
       "    <tr>\n",
       "        <td>College_Eligibility__</td>\n",
       "        <td>VARCHAR</td>\n",
       "        <td>4</td>\n",
       "    </tr>\n",
       "    <tr>\n",
       "        <td>Graduation_Rate__</td>\n",
       "        <td>VARCHAR</td>\n",
       "        <td>4</td>\n",
       "    </tr>\n",
       "    <tr>\n",
       "        <td>College_Enrollment_Rate__</td>\n",
       "        <td>VARCHAR</td>\n",
       "        <td>4</td>\n",
       "    </tr>\n",
       "    <tr>\n",
       "        <td>COLLEGE_ENROLLMENT</td>\n",
       "        <td>SMALLINT</td>\n",
       "        <td>2</td>\n",
       "    </tr>\n",
       "    <tr>\n",
       "        <td>General_Services_Route</td>\n",
       "        <td>SMALLINT</td>\n",
       "        <td>2</td>\n",
       "    </tr>\n",
       "    <tr>\n",
       "        <td>Freshman_on_Track_Rate__</td>\n",
       "        <td>VARCHAR</td>\n",
       "        <td>4</td>\n",
       "    </tr>\n",
       "    <tr>\n",
       "        <td>X_COORDINATE</td>\n",
       "        <td>DECIMAL</td>\n",
       "        <td>13</td>\n",
       "    </tr>\n",
       "    <tr>\n",
       "        <td>Y_COORDINATE</td>\n",
       "        <td>DECIMAL</td>\n",
       "        <td>13</td>\n",
       "    </tr>\n",
       "    <tr>\n",
       "        <td>Latitude</td>\n",
       "        <td>DECIMAL</td>\n",
       "        <td>18</td>\n",
       "    </tr>\n",
       "    <tr>\n",
       "        <td>Longitude</td>\n",
       "        <td>DECIMAL</td>\n",
       "        <td>18</td>\n",
       "    </tr>\n",
       "    <tr>\n",
       "        <td>COMMUNITY_AREA_NUMBER</td>\n",
       "        <td>SMALLINT</td>\n",
       "        <td>2</td>\n",
       "    </tr>\n",
       "    <tr>\n",
       "        <td>COMMUNITY_AREA_NAME</td>\n",
       "        <td>VARCHAR</td>\n",
       "        <td>22</td>\n",
       "    </tr>\n",
       "    <tr>\n",
       "        <td>Ward</td>\n",
       "        <td>SMALLINT</td>\n",
       "        <td>2</td>\n",
       "    </tr>\n",
       "    <tr>\n",
       "        <td>Police_District</td>\n",
       "        <td>SMALLINT</td>\n",
       "        <td>2</td>\n",
       "    </tr>\n",
       "    <tr>\n",
       "        <td>Location</td>\n",
       "        <td>VARCHAR</td>\n",
       "        <td>27</td>\n",
       "    </tr>\n",
       "</table>"
      ],
      "text/plain": [
       "[('School_ID', 'INTEGER', 4),\n",
       " ('NAME_OF_SCHOOL', 'VARCHAR', 65),\n",
       " ('school_type', 'VARCHAR', 2),\n",
       " ('Street_Address', 'VARCHAR', 29),\n",
       " ('City', 'VARCHAR', 7),\n",
       " ('State', 'VARCHAR', 2),\n",
       " ('ZIP_Code', 'INTEGER', 4),\n",
       " ('Phone_Number', 'VARCHAR', 14),\n",
       " ('Link', 'VARCHAR', 78),\n",
       " ('Network_Manager', 'VARCHAR', 40),\n",
       " ('Collaborative_Name', 'VARCHAR', 34),\n",
       " ('Adequate_Yearly_Progress_Made_', 'VARCHAR', 3),\n",
       " ('Track_Schedule', 'VARCHAR', 12),\n",
       " ('CPS_Performance_Policy_Status', 'VARCHAR', 16),\n",
       " ('CPS_Performance_Policy_Level', 'VARCHAR', 15),\n",
       " ('HEALTHY_SCHOOL_CERTIFIED', 'VARCHAR', 3),\n",
       " ('Safety_Icon', 'VARCHAR', 11),\n",
       " ('SAFETY_SCORE', 'SMALLINT', 2),\n",
       " ('Family_Involvement_Icon', 'VARCHAR', 11),\n",
       " ('Family_Involvement_Score', 'VARCHAR', 3),\n",
       " ('Environment_Icon', 'VARCHAR', 11),\n",
       " ('Environment_Score', 'SMALLINT', 2),\n",
       " ('Instruction_Icon', 'VARCHAR', 11),\n",
       " ('Instruction_Score', 'SMALLINT', 2),\n",
       " ('Leaders_Icon', 'VARCHAR', 4),\n",
       " ('Leaders_Score', 'VARCHAR', 3),\n",
       " ('Teachers_Icon', 'VARCHAR', 11),\n",
       " ('Teachers_Score', 'VARCHAR', 3),\n",
       " ('Parent_Engagement_Icon', 'VARCHAR', 7),\n",
       " ('Parent_Engagement_Score', 'VARCHAR', 3),\n",
       " ('Parent_Environment_Icon', 'VARCHAR', 7),\n",
       " ('Parent_Environment_Score', 'VARCHAR', 3),\n",
       " ('AVERAGE_STUDENT_ATTENDANCE', 'VARCHAR', 6),\n",
       " ('Rate_of_Misconducts__per_100_students_', 'DECIMAL', 5),\n",
       " ('Average_Teacher_Attendance', 'VARCHAR', 6),\n",
       " ('Individualized_Education_Program_Compliance_Rate', 'VARCHAR', 7),\n",
       " ('Pk_2_Literacy__', 'VARCHAR', 4),\n",
       " ('Pk_2_Math__', 'VARCHAR', 4),\n",
       " ('Gr3_5_Grade_Level_Math__', 'VARCHAR', 4),\n",
       " ('Gr3_5_Grade_Level_Read__', 'VARCHAR', 4),\n",
       " ('Gr3_5_Keep_Pace_Read__', 'VARCHAR', 4),\n",
       " ('Gr3_5_Keep_Pace_Math__', 'VARCHAR', 4),\n",
       " ('Gr6_8_Grade_Level_Math__', 'VARCHAR', 4),\n",
       " ('Gr6_8_Grade_Level_Read__', 'VARCHAR', 4),\n",
       " ('Gr6_8_Keep_Pace_Math_', 'VARCHAR', 4),\n",
       " ('Gr6_8_Keep_Pace_Read__', 'VARCHAR', 4),\n",
       " ('Gr_8_Explore_Math__', 'VARCHAR', 4),\n",
       " ('Gr_8_Explore_Read__', 'VARCHAR', 4),\n",
       " ('ISAT_Exceeding_Math__', 'DECIMAL', 4),\n",
       " ('ISAT_Exceeding_Reading__', 'DECIMAL', 4),\n",
       " ('ISAT_Value_Add_Math', 'DECIMAL', 3),\n",
       " ('ISAT_Value_Add_Read', 'DECIMAL', 3),\n",
       " ('ISAT_Value_Add_Color_Math', 'VARCHAR', 6),\n",
       " ('ISAT_Value_Add_Color_Read', 'VARCHAR', 6),\n",
       " ('Students_Taking__Algebra__', 'VARCHAR', 4),\n",
       " ('Students_Passing__Algebra__', 'VARCHAR', 4),\n",
       " ('9th Grade EXPLORE (2009)', 'VARCHAR', 4),\n",
       " ('9th Grade EXPLORE (2010)', 'VARCHAR', 4),\n",
       " ('10th Grade PLAN (2009)', 'VARCHAR', 4),\n",
       " ('10th Grade PLAN (2010)', 'VARCHAR', 4),\n",
       " ('Net_Change_EXPLORE_and_PLAN', 'VARCHAR', 3),\n",
       " ('11th Grade Average ACT (2011)', 'VARCHAR', 4),\n",
       " ('Net_Change_PLAN_and_ACT', 'VARCHAR', 3),\n",
       " ('College_Eligibility__', 'VARCHAR', 4),\n",
       " ('Graduation_Rate__', 'VARCHAR', 4),\n",
       " ('College_Enrollment_Rate__', 'VARCHAR', 4),\n",
       " ('COLLEGE_ENROLLMENT', 'SMALLINT', 2),\n",
       " ('General_Services_Route', 'SMALLINT', 2),\n",
       " ('Freshman_on_Track_Rate__', 'VARCHAR', 4),\n",
       " ('X_COORDINATE', 'DECIMAL', 13),\n",
       " ('Y_COORDINATE', 'DECIMAL', 13),\n",
       " ('Latitude', 'DECIMAL', 18),\n",
       " ('Longitude', 'DECIMAL', 18),\n",
       " ('COMMUNITY_AREA_NUMBER', 'SMALLINT', 2),\n",
       " ('COMMUNITY_AREA_NAME', 'VARCHAR', 22),\n",
       " ('Ward', 'SMALLINT', 2),\n",
       " ('Police_District', 'SMALLINT', 2),\n",
       " ('Location', 'VARCHAR', 27)]"
      ]
     },
     "execution_count": 29,
     "metadata": {},
     "output_type": "execute_result"
    }
   ],
   "source": [
    "# retrieve the list of columns in the schools table and their column type\n",
    "%sql select COLNAME, TYPENAME, LENGTH from SYSCAT.COLUMNS where TABNAME = 'SCHOOLS'"
   ]
  },
  {
   "cell_type": "code",
   "execution_count": 30,
   "id": "5a265374-fc34-4989-99d1-f82ca8daacad",
   "metadata": {},
   "outputs": [
    {
     "name": "stdout",
     "output_type": "stream",
     "text": [
      " * ibm_db_sa://fgl32023:***@dashdb-txn-sbox-yp-dal09-04.services.dal.bluemix.net:50000/BLUDB\n",
      "Done.\n"
     ]
    },
    {
     "data": {
      "text/html": [
       "<table>\n",
       "    <tr>\n",
       "        <th>name</th>\n",
       "        <th>coltype</th>\n",
       "        <th>length</th>\n",
       "    </tr>\n",
       "    <tr>\n",
       "        <td>10th Grade PLAN (2009)</td>\n",
       "        <td>VARCHAR </td>\n",
       "        <td>4</td>\n",
       "    </tr>\n",
       "    <tr>\n",
       "        <td>10th Grade PLAN (2010)</td>\n",
       "        <td>VARCHAR </td>\n",
       "        <td>4</td>\n",
       "    </tr>\n",
       "    <tr>\n",
       "        <td>11th Grade Average ACT (2011)</td>\n",
       "        <td>VARCHAR </td>\n",
       "        <td>4</td>\n",
       "    </tr>\n",
       "    <tr>\n",
       "        <td>9th Grade EXPLORE (2009)</td>\n",
       "        <td>VARCHAR </td>\n",
       "        <td>4</td>\n",
       "    </tr>\n",
       "    <tr>\n",
       "        <td>9th Grade EXPLORE (2010)</td>\n",
       "        <td>VARCHAR </td>\n",
       "        <td>4</td>\n",
       "    </tr>\n",
       "    <tr>\n",
       "        <td>AVERAGE_STUDENT_ATTENDANCE</td>\n",
       "        <td>VARCHAR </td>\n",
       "        <td>6</td>\n",
       "    </tr>\n",
       "    <tr>\n",
       "        <td>Adequate_Yearly_Progress_Made_</td>\n",
       "        <td>VARCHAR </td>\n",
       "        <td>3</td>\n",
       "    </tr>\n",
       "    <tr>\n",
       "        <td>Average_Teacher_Attendance</td>\n",
       "        <td>VARCHAR </td>\n",
       "        <td>6</td>\n",
       "    </tr>\n",
       "    <tr>\n",
       "        <td>COLLEGE_ENROLLMENT</td>\n",
       "        <td>SMALLINT</td>\n",
       "        <td>2</td>\n",
       "    </tr>\n",
       "    <tr>\n",
       "        <td>COMMUNITY_AREA_NAME</td>\n",
       "        <td>VARCHAR </td>\n",
       "        <td>22</td>\n",
       "    </tr>\n",
       "    <tr>\n",
       "        <td>COMMUNITY_AREA_NUMBER</td>\n",
       "        <td>SMALLINT</td>\n",
       "        <td>2</td>\n",
       "    </tr>\n",
       "    <tr>\n",
       "        <td>CPS_Performance_Policy_Level</td>\n",
       "        <td>VARCHAR </td>\n",
       "        <td>15</td>\n",
       "    </tr>\n",
       "    <tr>\n",
       "        <td>CPS_Performance_Policy_Status</td>\n",
       "        <td>VARCHAR </td>\n",
       "        <td>16</td>\n",
       "    </tr>\n",
       "    <tr>\n",
       "        <td>City</td>\n",
       "        <td>VARCHAR </td>\n",
       "        <td>7</td>\n",
       "    </tr>\n",
       "    <tr>\n",
       "        <td>Collaborative_Name</td>\n",
       "        <td>VARCHAR </td>\n",
       "        <td>34</td>\n",
       "    </tr>\n",
       "    <tr>\n",
       "        <td>College_Eligibility__</td>\n",
       "        <td>VARCHAR </td>\n",
       "        <td>4</td>\n",
       "    </tr>\n",
       "    <tr>\n",
       "        <td>College_Enrollment_Rate__</td>\n",
       "        <td>VARCHAR </td>\n",
       "        <td>4</td>\n",
       "    </tr>\n",
       "    <tr>\n",
       "        <td>Environment_Icon</td>\n",
       "        <td>VARCHAR </td>\n",
       "        <td>11</td>\n",
       "    </tr>\n",
       "    <tr>\n",
       "        <td>Environment_Score</td>\n",
       "        <td>SMALLINT</td>\n",
       "        <td>2</td>\n",
       "    </tr>\n",
       "    <tr>\n",
       "        <td>Family_Involvement_Icon</td>\n",
       "        <td>VARCHAR </td>\n",
       "        <td>11</td>\n",
       "    </tr>\n",
       "    <tr>\n",
       "        <td>Family_Involvement_Score</td>\n",
       "        <td>VARCHAR </td>\n",
       "        <td>3</td>\n",
       "    </tr>\n",
       "    <tr>\n",
       "        <td>Freshman_on_Track_Rate__</td>\n",
       "        <td>VARCHAR </td>\n",
       "        <td>4</td>\n",
       "    </tr>\n",
       "    <tr>\n",
       "        <td>General_Services_Route</td>\n",
       "        <td>SMALLINT</td>\n",
       "        <td>2</td>\n",
       "    </tr>\n",
       "    <tr>\n",
       "        <td>Gr3_5_Grade_Level_Math__</td>\n",
       "        <td>VARCHAR </td>\n",
       "        <td>4</td>\n",
       "    </tr>\n",
       "    <tr>\n",
       "        <td>Gr3_5_Grade_Level_Read__</td>\n",
       "        <td>VARCHAR </td>\n",
       "        <td>4</td>\n",
       "    </tr>\n",
       "    <tr>\n",
       "        <td>Gr3_5_Keep_Pace_Math__</td>\n",
       "        <td>VARCHAR </td>\n",
       "        <td>4</td>\n",
       "    </tr>\n",
       "    <tr>\n",
       "        <td>Gr3_5_Keep_Pace_Read__</td>\n",
       "        <td>VARCHAR </td>\n",
       "        <td>4</td>\n",
       "    </tr>\n",
       "    <tr>\n",
       "        <td>Gr6_8_Grade_Level_Math__</td>\n",
       "        <td>VARCHAR </td>\n",
       "        <td>4</td>\n",
       "    </tr>\n",
       "    <tr>\n",
       "        <td>Gr6_8_Grade_Level_Read__</td>\n",
       "        <td>VARCHAR </td>\n",
       "        <td>4</td>\n",
       "    </tr>\n",
       "    <tr>\n",
       "        <td>Gr6_8_Keep_Pace_Math_</td>\n",
       "        <td>VARCHAR </td>\n",
       "        <td>4</td>\n",
       "    </tr>\n",
       "    <tr>\n",
       "        <td>Gr6_8_Keep_Pace_Read__</td>\n",
       "        <td>VARCHAR </td>\n",
       "        <td>4</td>\n",
       "    </tr>\n",
       "    <tr>\n",
       "        <td>Gr_8_Explore_Math__</td>\n",
       "        <td>VARCHAR </td>\n",
       "        <td>4</td>\n",
       "    </tr>\n",
       "    <tr>\n",
       "        <td>Gr_8_Explore_Read__</td>\n",
       "        <td>VARCHAR </td>\n",
       "        <td>4</td>\n",
       "    </tr>\n",
       "    <tr>\n",
       "        <td>Graduation_Rate__</td>\n",
       "        <td>VARCHAR </td>\n",
       "        <td>4</td>\n",
       "    </tr>\n",
       "    <tr>\n",
       "        <td>HEALTHY_SCHOOL_CERTIFIED</td>\n",
       "        <td>VARCHAR </td>\n",
       "        <td>3</td>\n",
       "    </tr>\n",
       "    <tr>\n",
       "        <td>ISAT_Exceeding_Math__</td>\n",
       "        <td>DECIMAL </td>\n",
       "        <td>4</td>\n",
       "    </tr>\n",
       "    <tr>\n",
       "        <td>ISAT_Exceeding_Reading__</td>\n",
       "        <td>DECIMAL </td>\n",
       "        <td>4</td>\n",
       "    </tr>\n",
       "    <tr>\n",
       "        <td>ISAT_Value_Add_Color_Math</td>\n",
       "        <td>VARCHAR </td>\n",
       "        <td>6</td>\n",
       "    </tr>\n",
       "    <tr>\n",
       "        <td>ISAT_Value_Add_Color_Read</td>\n",
       "        <td>VARCHAR </td>\n",
       "        <td>6</td>\n",
       "    </tr>\n",
       "    <tr>\n",
       "        <td>ISAT_Value_Add_Math</td>\n",
       "        <td>DECIMAL </td>\n",
       "        <td>3</td>\n",
       "    </tr>\n",
       "    <tr>\n",
       "        <td>ISAT_Value_Add_Read</td>\n",
       "        <td>DECIMAL </td>\n",
       "        <td>3</td>\n",
       "    </tr>\n",
       "    <tr>\n",
       "        <td>Individualized_Education_Program_Compliance_Rate</td>\n",
       "        <td>VARCHAR </td>\n",
       "        <td>7</td>\n",
       "    </tr>\n",
       "    <tr>\n",
       "        <td>Instruction_Icon</td>\n",
       "        <td>VARCHAR </td>\n",
       "        <td>11</td>\n",
       "    </tr>\n",
       "    <tr>\n",
       "        <td>Instruction_Score</td>\n",
       "        <td>SMALLINT</td>\n",
       "        <td>2</td>\n",
       "    </tr>\n",
       "    <tr>\n",
       "        <td>Latitude</td>\n",
       "        <td>DECIMAL </td>\n",
       "        <td>18</td>\n",
       "    </tr>\n",
       "    <tr>\n",
       "        <td>Leaders_Icon</td>\n",
       "        <td>VARCHAR </td>\n",
       "        <td>4</td>\n",
       "    </tr>\n",
       "    <tr>\n",
       "        <td>Leaders_Score</td>\n",
       "        <td>VARCHAR </td>\n",
       "        <td>3</td>\n",
       "    </tr>\n",
       "    <tr>\n",
       "        <td>Link</td>\n",
       "        <td>VARCHAR </td>\n",
       "        <td>78</td>\n",
       "    </tr>\n",
       "    <tr>\n",
       "        <td>Location</td>\n",
       "        <td>VARCHAR </td>\n",
       "        <td>27</td>\n",
       "    </tr>\n",
       "    <tr>\n",
       "        <td>Longitude</td>\n",
       "        <td>DECIMAL </td>\n",
       "        <td>18</td>\n",
       "    </tr>\n",
       "    <tr>\n",
       "        <td>NAME_OF_SCHOOL</td>\n",
       "        <td>VARCHAR </td>\n",
       "        <td>65</td>\n",
       "    </tr>\n",
       "    <tr>\n",
       "        <td>Net_Change_EXPLORE_and_PLAN</td>\n",
       "        <td>VARCHAR </td>\n",
       "        <td>3</td>\n",
       "    </tr>\n",
       "    <tr>\n",
       "        <td>Net_Change_PLAN_and_ACT</td>\n",
       "        <td>VARCHAR </td>\n",
       "        <td>3</td>\n",
       "    </tr>\n",
       "    <tr>\n",
       "        <td>Network_Manager</td>\n",
       "        <td>VARCHAR </td>\n",
       "        <td>40</td>\n",
       "    </tr>\n",
       "    <tr>\n",
       "        <td>Parent_Engagement_Icon</td>\n",
       "        <td>VARCHAR </td>\n",
       "        <td>7</td>\n",
       "    </tr>\n",
       "    <tr>\n",
       "        <td>Parent_Engagement_Score</td>\n",
       "        <td>VARCHAR </td>\n",
       "        <td>3</td>\n",
       "    </tr>\n",
       "    <tr>\n",
       "        <td>Parent_Environment_Icon</td>\n",
       "        <td>VARCHAR </td>\n",
       "        <td>7</td>\n",
       "    </tr>\n",
       "    <tr>\n",
       "        <td>Parent_Environment_Score</td>\n",
       "        <td>VARCHAR </td>\n",
       "        <td>3</td>\n",
       "    </tr>\n",
       "    <tr>\n",
       "        <td>Phone_Number</td>\n",
       "        <td>VARCHAR </td>\n",
       "        <td>14</td>\n",
       "    </tr>\n",
       "    <tr>\n",
       "        <td>Pk_2_Literacy__</td>\n",
       "        <td>VARCHAR </td>\n",
       "        <td>4</td>\n",
       "    </tr>\n",
       "    <tr>\n",
       "        <td>Pk_2_Math__</td>\n",
       "        <td>VARCHAR </td>\n",
       "        <td>4</td>\n",
       "    </tr>\n",
       "    <tr>\n",
       "        <td>Police_District</td>\n",
       "        <td>SMALLINT</td>\n",
       "        <td>2</td>\n",
       "    </tr>\n",
       "    <tr>\n",
       "        <td>Rate_of_Misconducts__per_100_students_</td>\n",
       "        <td>DECIMAL </td>\n",
       "        <td>5</td>\n",
       "    </tr>\n",
       "    <tr>\n",
       "        <td>SAFETY_SCORE</td>\n",
       "        <td>SMALLINT</td>\n",
       "        <td>2</td>\n",
       "    </tr>\n",
       "    <tr>\n",
       "        <td>Safety_Icon</td>\n",
       "        <td>VARCHAR </td>\n",
       "        <td>11</td>\n",
       "    </tr>\n",
       "    <tr>\n",
       "        <td>School_ID</td>\n",
       "        <td>INTEGER </td>\n",
       "        <td>4</td>\n",
       "    </tr>\n",
       "    <tr>\n",
       "        <td>State</td>\n",
       "        <td>VARCHAR </td>\n",
       "        <td>2</td>\n",
       "    </tr>\n",
       "    <tr>\n",
       "        <td>Street_Address</td>\n",
       "        <td>VARCHAR </td>\n",
       "        <td>29</td>\n",
       "    </tr>\n",
       "    <tr>\n",
       "        <td>Students_Passing__Algebra__</td>\n",
       "        <td>VARCHAR </td>\n",
       "        <td>4</td>\n",
       "    </tr>\n",
       "    <tr>\n",
       "        <td>Students_Taking__Algebra__</td>\n",
       "        <td>VARCHAR </td>\n",
       "        <td>4</td>\n",
       "    </tr>\n",
       "    <tr>\n",
       "        <td>Teachers_Icon</td>\n",
       "        <td>VARCHAR </td>\n",
       "        <td>11</td>\n",
       "    </tr>\n",
       "    <tr>\n",
       "        <td>Teachers_Score</td>\n",
       "        <td>VARCHAR </td>\n",
       "        <td>3</td>\n",
       "    </tr>\n",
       "    <tr>\n",
       "        <td>Track_Schedule</td>\n",
       "        <td>VARCHAR </td>\n",
       "        <td>12</td>\n",
       "    </tr>\n",
       "    <tr>\n",
       "        <td>Ward</td>\n",
       "        <td>SMALLINT</td>\n",
       "        <td>2</td>\n",
       "    </tr>\n",
       "    <tr>\n",
       "        <td>X_COORDINATE</td>\n",
       "        <td>DECIMAL </td>\n",
       "        <td>13</td>\n",
       "    </tr>\n",
       "    <tr>\n",
       "        <td>Y_COORDINATE</td>\n",
       "        <td>DECIMAL </td>\n",
       "        <td>13</td>\n",
       "    </tr>\n",
       "    <tr>\n",
       "        <td>ZIP_Code</td>\n",
       "        <td>INTEGER </td>\n",
       "        <td>4</td>\n",
       "    </tr>\n",
       "    <tr>\n",
       "        <td>school_type</td>\n",
       "        <td>VARCHAR </td>\n",
       "        <td>2</td>\n",
       "    </tr>\n",
       "</table>"
      ],
      "text/plain": [
       "[('10th Grade PLAN (2009)', 'VARCHAR ', 4),\n",
       " ('10th Grade PLAN (2010)', 'VARCHAR ', 4),\n",
       " ('11th Grade Average ACT (2011)', 'VARCHAR ', 4),\n",
       " ('9th Grade EXPLORE (2009)', 'VARCHAR ', 4),\n",
       " ('9th Grade EXPLORE (2010)', 'VARCHAR ', 4),\n",
       " ('AVERAGE_STUDENT_ATTENDANCE', 'VARCHAR ', 6),\n",
       " ('Adequate_Yearly_Progress_Made_', 'VARCHAR ', 3),\n",
       " ('Average_Teacher_Attendance', 'VARCHAR ', 6),\n",
       " ('COLLEGE_ENROLLMENT', 'SMALLINT', 2),\n",
       " ('COMMUNITY_AREA_NAME', 'VARCHAR ', 22),\n",
       " ('COMMUNITY_AREA_NUMBER', 'SMALLINT', 2),\n",
       " ('CPS_Performance_Policy_Level', 'VARCHAR ', 15),\n",
       " ('CPS_Performance_Policy_Status', 'VARCHAR ', 16),\n",
       " ('City', 'VARCHAR ', 7),\n",
       " ('Collaborative_Name', 'VARCHAR ', 34),\n",
       " ('College_Eligibility__', 'VARCHAR ', 4),\n",
       " ('College_Enrollment_Rate__', 'VARCHAR ', 4),\n",
       " ('Environment_Icon', 'VARCHAR ', 11),\n",
       " ('Environment_Score', 'SMALLINT', 2),\n",
       " ('Family_Involvement_Icon', 'VARCHAR ', 11),\n",
       " ('Family_Involvement_Score', 'VARCHAR ', 3),\n",
       " ('Freshman_on_Track_Rate__', 'VARCHAR ', 4),\n",
       " ('General_Services_Route', 'SMALLINT', 2),\n",
       " ('Gr3_5_Grade_Level_Math__', 'VARCHAR ', 4),\n",
       " ('Gr3_5_Grade_Level_Read__', 'VARCHAR ', 4),\n",
       " ('Gr3_5_Keep_Pace_Math__', 'VARCHAR ', 4),\n",
       " ('Gr3_5_Keep_Pace_Read__', 'VARCHAR ', 4),\n",
       " ('Gr6_8_Grade_Level_Math__', 'VARCHAR ', 4),\n",
       " ('Gr6_8_Grade_Level_Read__', 'VARCHAR ', 4),\n",
       " ('Gr6_8_Keep_Pace_Math_', 'VARCHAR ', 4),\n",
       " ('Gr6_8_Keep_Pace_Read__', 'VARCHAR ', 4),\n",
       " ('Gr_8_Explore_Math__', 'VARCHAR ', 4),\n",
       " ('Gr_8_Explore_Read__', 'VARCHAR ', 4),\n",
       " ('Graduation_Rate__', 'VARCHAR ', 4),\n",
       " ('HEALTHY_SCHOOL_CERTIFIED', 'VARCHAR ', 3),\n",
       " ('ISAT_Exceeding_Math__', 'DECIMAL ', 4),\n",
       " ('ISAT_Exceeding_Reading__', 'DECIMAL ', 4),\n",
       " ('ISAT_Value_Add_Color_Math', 'VARCHAR ', 6),\n",
       " ('ISAT_Value_Add_Color_Read', 'VARCHAR ', 6),\n",
       " ('ISAT_Value_Add_Math', 'DECIMAL ', 3),\n",
       " ('ISAT_Value_Add_Read', 'DECIMAL ', 3),\n",
       " ('Individualized_Education_Program_Compliance_Rate', 'VARCHAR ', 7),\n",
       " ('Instruction_Icon', 'VARCHAR ', 11),\n",
       " ('Instruction_Score', 'SMALLINT', 2),\n",
       " ('Latitude', 'DECIMAL ', 18),\n",
       " ('Leaders_Icon', 'VARCHAR ', 4),\n",
       " ('Leaders_Score', 'VARCHAR ', 3),\n",
       " ('Link', 'VARCHAR ', 78),\n",
       " ('Location', 'VARCHAR ', 27),\n",
       " ('Longitude', 'DECIMAL ', 18),\n",
       " ('NAME_OF_SCHOOL', 'VARCHAR ', 65),\n",
       " ('Net_Change_EXPLORE_and_PLAN', 'VARCHAR ', 3),\n",
       " ('Net_Change_PLAN_and_ACT', 'VARCHAR ', 3),\n",
       " ('Network_Manager', 'VARCHAR ', 40),\n",
       " ('Parent_Engagement_Icon', 'VARCHAR ', 7),\n",
       " ('Parent_Engagement_Score', 'VARCHAR ', 3),\n",
       " ('Parent_Environment_Icon', 'VARCHAR ', 7),\n",
       " ('Parent_Environment_Score', 'VARCHAR ', 3),\n",
       " ('Phone_Number', 'VARCHAR ', 14),\n",
       " ('Pk_2_Literacy__', 'VARCHAR ', 4),\n",
       " ('Pk_2_Math__', 'VARCHAR ', 4),\n",
       " ('Police_District', 'SMALLINT', 2),\n",
       " ('Rate_of_Misconducts__per_100_students_', 'DECIMAL ', 5),\n",
       " ('SAFETY_SCORE', 'SMALLINT', 2),\n",
       " ('Safety_Icon', 'VARCHAR ', 11),\n",
       " ('School_ID', 'INTEGER ', 4),\n",
       " ('State', 'VARCHAR ', 2),\n",
       " ('Street_Address', 'VARCHAR ', 29),\n",
       " ('Students_Passing__Algebra__', 'VARCHAR ', 4),\n",
       " ('Students_Taking__Algebra__', 'VARCHAR ', 4),\n",
       " ('Teachers_Icon', 'VARCHAR ', 11),\n",
       " ('Teachers_Score', 'VARCHAR ', 3),\n",
       " ('Track_Schedule', 'VARCHAR ', 12),\n",
       " ('Ward', 'SMALLINT', 2),\n",
       " ('X_COORDINATE', 'DECIMAL ', 13),\n",
       " ('Y_COORDINATE', 'DECIMAL ', 13),\n",
       " ('ZIP_Code', 'INTEGER ', 4),\n",
       " ('school_type', 'VARCHAR ', 2)]"
      ]
     },
     "execution_count": 30,
     "metadata": {},
     "output_type": "execute_result"
    }
   ],
   "source": [
    "# another way to do the same thing\n",
    "%sql select distinct(NAME), COLTYPE, LENGTH from SYSIBM.SYSCOLUMNS where TBNAME = 'SCHOOLS'"
   ]
  },
  {
   "cell_type": "code",
   "execution_count": 39,
   "id": "cfa0d6ea-4efb-4e79-9252-afc2afa0f435",
   "metadata": {},
   "outputs": [
    {
     "name": "stdout",
     "output_type": "stream",
     "text": [
      " * ibm_db_sa://fgl32023:***@dashdb-txn-sbox-yp-dal09-04.services.dal.bluemix.net:50000/BLUDB\n",
      "(ibm_db_dbi.ProgrammingError) ibm_db_dbi::ProgrammingError: SQLNumResultCols failed: [IBM][CLI Driver][DB2/LINUXX8664] SQL0206N  \"SCHOOL_TYPE\" is not valid in the context where it is used.  SQLSTATE=42703\\r SQLCODE=-206\n",
      "[SQL: select count(*) from SCHOOLS WHERE school_type = ES]\n",
      "(Background on this error at: http://sqlalche.me/e/f405)\n"
     ]
    }
   ],
   "source": [
    "# how many elementary schools are in the dataset?\n",
    "%sql select count(*) from SCHOOLS WHERE school_type = \"ES\""
   ]
  },
  {
   "cell_type": "code",
   "execution_count": 40,
   "id": "b924f4df-cb91-4809-bc89-274426289f90",
   "metadata": {},
   "outputs": [
    {
     "name": "stdout",
     "output_type": "stream",
     "text": [
      " * ibm_db_sa://fgl32023:***@dashdb-txn-sbox-yp-dal09-04.services.dal.bluemix.net:50000/BLUDB\n",
      "Done.\n"
     ]
    },
    {
     "data": {
      "text/html": [
       "<table>\n",
       "    <tr>\n",
       "        <th>max_safety_score</th>\n",
       "    </tr>\n",
       "    <tr>\n",
       "        <td>99</td>\n",
       "    </tr>\n",
       "</table>"
      ],
      "text/plain": [
       "[(99,)]"
      ]
     },
     "execution_count": 40,
     "metadata": {},
     "output_type": "execute_result"
    }
   ],
   "source": [
    "# what is the highest safety score?\n",
    "%sql select MAX(SAFETY_SCORE) as MAX_SAFETY_SCORE from SCHOOLS"
   ]
  },
  {
   "cell_type": "code",
   "execution_count": 44,
   "id": "67d2aad6-dd4e-4d8b-a5b0-b92a39ba4354",
   "metadata": {},
   "outputs": [
    {
     "name": "stdout",
     "output_type": "stream",
     "text": [
      " * ibm_db_sa://fgl32023:***@dashdb-txn-sbox-yp-dal09-04.services.dal.bluemix.net:50000/BLUDB\n",
      "Done.\n"
     ]
    },
    {
     "data": {
      "text/html": [
       "<table>\n",
       "    <tr>\n",
       "        <th>name_of_school</th>\n",
       "        <th>safety_score</th>\n",
       "    </tr>\n",
       "    <tr>\n",
       "        <td>Abraham Lincoln Elementary School</td>\n",
       "        <td>99</td>\n",
       "    </tr>\n",
       "    <tr>\n",
       "        <td>Alexander Graham Bell Elementary School</td>\n",
       "        <td>99</td>\n",
       "    </tr>\n",
       "    <tr>\n",
       "        <td>Annie Keller Elementary Gifted Magnet School</td>\n",
       "        <td>99</td>\n",
       "    </tr>\n",
       "    <tr>\n",
       "        <td>Augustus H Burley Elementary School</td>\n",
       "        <td>99</td>\n",
       "    </tr>\n",
       "    <tr>\n",
       "        <td>Edgar Allan Poe Elementary Classical School</td>\n",
       "        <td>99</td>\n",
       "    </tr>\n",
       "    <tr>\n",
       "        <td>Edgebrook Elementary School</td>\n",
       "        <td>99</td>\n",
       "    </tr>\n",
       "    <tr>\n",
       "        <td>Ellen Mitchell Elementary School</td>\n",
       "        <td>99</td>\n",
       "    </tr>\n",
       "    <tr>\n",
       "        <td>James E McDade Elementary Classical School</td>\n",
       "        <td>99</td>\n",
       "    </tr>\n",
       "    <tr>\n",
       "        <td>James G Blaine Elementary School</td>\n",
       "        <td>99</td>\n",
       "    </tr>\n",
       "    <tr>\n",
       "        <td>LaSalle Elementary Language Academy</td>\n",
       "        <td>99</td>\n",
       "    </tr>\n",
       "    <tr>\n",
       "        <td>Mary E Courtenay Elementary Language Arts Center</td>\n",
       "        <td>99</td>\n",
       "    </tr>\n",
       "    <tr>\n",
       "        <td>Northside College Preparatory High School</td>\n",
       "        <td>99</td>\n",
       "    </tr>\n",
       "    <tr>\n",
       "        <td>Northside Learning Center High School</td>\n",
       "        <td>99</td>\n",
       "    </tr>\n",
       "    <tr>\n",
       "        <td>Norwood Park Elementary School</td>\n",
       "        <td>99</td>\n",
       "    </tr>\n",
       "    <tr>\n",
       "        <td>Oriole Park Elementary School</td>\n",
       "        <td>99</td>\n",
       "    </tr>\n",
       "    <tr>\n",
       "        <td>Sauganash Elementary School</td>\n",
       "        <td>99</td>\n",
       "    </tr>\n",
       "    <tr>\n",
       "        <td>Stephen Decatur Classical Elementary School</td>\n",
       "        <td>99</td>\n",
       "    </tr>\n",
       "    <tr>\n",
       "        <td>Talman Elementary School</td>\n",
       "        <td>99</td>\n",
       "    </tr>\n",
       "    <tr>\n",
       "        <td>Wildwood Elementary School</td>\n",
       "        <td>99</td>\n",
       "    </tr>\n",
       "</table>"
      ],
      "text/plain": [
       "[('Abraham Lincoln Elementary School', 99),\n",
       " ('Alexander Graham Bell Elementary School', 99),\n",
       " ('Annie Keller Elementary Gifted Magnet School', 99),\n",
       " ('Augustus H Burley Elementary School', 99),\n",
       " ('Edgar Allan Poe Elementary Classical School', 99),\n",
       " ('Edgebrook Elementary School', 99),\n",
       " ('Ellen Mitchell Elementary School', 99),\n",
       " ('James E McDade Elementary Classical School', 99),\n",
       " ('James G Blaine Elementary School', 99),\n",
       " ('LaSalle Elementary Language Academy', 99),\n",
       " ('Mary E Courtenay Elementary Language Arts Center', 99),\n",
       " ('Northside College Preparatory High School', 99),\n",
       " ('Northside Learning Center High School', 99),\n",
       " ('Norwood Park Elementary School', 99),\n",
       " ('Oriole Park Elementary School', 99),\n",
       " ('Sauganash Elementary School', 99),\n",
       " ('Stephen Decatur Classical Elementary School', 99),\n",
       " ('Talman Elementary School', 99),\n",
       " ('Wildwood Elementary School', 99)]"
      ]
     },
     "execution_count": 44,
     "metadata": {},
     "output_type": "execute_result"
    }
   ],
   "source": [
    "# which schools have the highest safety score?\n",
    "%sql select Name_of_School, Safety_Score from SCHOOLS where Safety_Score = 99"
   ]
  },
  {
   "cell_type": "code",
   "execution_count": 46,
   "id": "8681075b-b493-424e-84d1-9ec635fb1a5f",
   "metadata": {},
   "outputs": [
    {
     "name": "stdout",
     "output_type": "stream",
     "text": [
      " * ibm_db_sa://fgl32023:***@dashdb-txn-sbox-yp-dal09-04.services.dal.bluemix.net:50000/BLUDB\n",
      "Done.\n"
     ]
    },
    {
     "data": {
      "text/html": [
       "<table>\n",
       "    <tr>\n",
       "        <th>name_of_school</th>\n",
       "        <th>safety_score</th>\n",
       "    </tr>\n",
       "    <tr>\n",
       "        <td>Abraham Lincoln Elementary School</td>\n",
       "        <td>99</td>\n",
       "    </tr>\n",
       "    <tr>\n",
       "        <td>Alexander Graham Bell Elementary School</td>\n",
       "        <td>99</td>\n",
       "    </tr>\n",
       "    <tr>\n",
       "        <td>Annie Keller Elementary Gifted Magnet School</td>\n",
       "        <td>99</td>\n",
       "    </tr>\n",
       "    <tr>\n",
       "        <td>Augustus H Burley Elementary School</td>\n",
       "        <td>99</td>\n",
       "    </tr>\n",
       "    <tr>\n",
       "        <td>Edgar Allan Poe Elementary Classical School</td>\n",
       "        <td>99</td>\n",
       "    </tr>\n",
       "    <tr>\n",
       "        <td>Edgebrook Elementary School</td>\n",
       "        <td>99</td>\n",
       "    </tr>\n",
       "    <tr>\n",
       "        <td>Ellen Mitchell Elementary School</td>\n",
       "        <td>99</td>\n",
       "    </tr>\n",
       "    <tr>\n",
       "        <td>James E McDade Elementary Classical School</td>\n",
       "        <td>99</td>\n",
       "    </tr>\n",
       "    <tr>\n",
       "        <td>James G Blaine Elementary School</td>\n",
       "        <td>99</td>\n",
       "    </tr>\n",
       "    <tr>\n",
       "        <td>LaSalle Elementary Language Academy</td>\n",
       "        <td>99</td>\n",
       "    </tr>\n",
       "    <tr>\n",
       "        <td>Mary E Courtenay Elementary Language Arts Center</td>\n",
       "        <td>99</td>\n",
       "    </tr>\n",
       "    <tr>\n",
       "        <td>Northside College Preparatory High School</td>\n",
       "        <td>99</td>\n",
       "    </tr>\n",
       "    <tr>\n",
       "        <td>Northside Learning Center High School</td>\n",
       "        <td>99</td>\n",
       "    </tr>\n",
       "    <tr>\n",
       "        <td>Norwood Park Elementary School</td>\n",
       "        <td>99</td>\n",
       "    </tr>\n",
       "    <tr>\n",
       "        <td>Oriole Park Elementary School</td>\n",
       "        <td>99</td>\n",
       "    </tr>\n",
       "    <tr>\n",
       "        <td>Sauganash Elementary School</td>\n",
       "        <td>99</td>\n",
       "    </tr>\n",
       "    <tr>\n",
       "        <td>Stephen Decatur Classical Elementary School</td>\n",
       "        <td>99</td>\n",
       "    </tr>\n",
       "    <tr>\n",
       "        <td>Talman Elementary School</td>\n",
       "        <td>99</td>\n",
       "    </tr>\n",
       "    <tr>\n",
       "        <td>Wildwood Elementary School</td>\n",
       "        <td>99</td>\n",
       "    </tr>\n",
       "</table>"
      ],
      "text/plain": [
       "[('Abraham Lincoln Elementary School', 99),\n",
       " ('Alexander Graham Bell Elementary School', 99),\n",
       " ('Annie Keller Elementary Gifted Magnet School', 99),\n",
       " ('Augustus H Burley Elementary School', 99),\n",
       " ('Edgar Allan Poe Elementary Classical School', 99),\n",
       " ('Edgebrook Elementary School', 99),\n",
       " ('Ellen Mitchell Elementary School', 99),\n",
       " ('James E McDade Elementary Classical School', 99),\n",
       " ('James G Blaine Elementary School', 99),\n",
       " ('LaSalle Elementary Language Academy', 99),\n",
       " ('Mary E Courtenay Elementary Language Arts Center', 99),\n",
       " ('Northside College Preparatory High School', 99),\n",
       " ('Northside Learning Center High School', 99),\n",
       " ('Norwood Park Elementary School', 99),\n",
       " ('Oriole Park Elementary School', 99),\n",
       " ('Sauganash Elementary School', 99),\n",
       " ('Stephen Decatur Classical Elementary School', 99),\n",
       " ('Talman Elementary School', 99),\n",
       " ('Wildwood Elementary School', 99)]"
      ]
     },
     "execution_count": 46,
     "metadata": {},
     "output_type": "execute_result"
    }
   ],
   "source": [
    "# another way\n",
    "%sql select Name_of_School, Safety_Score from SCHOOLS where \\\n",
    "  Safety_Score= (select MAX(Safety_Score) from SCHOOLS)"
   ]
  },
  {
   "cell_type": "code",
   "execution_count": 47,
   "id": "7ea80b6b-44f1-4e29-8b7e-f4d00f9840a1",
   "metadata": {},
   "outputs": [
    {
     "name": "stdout",
     "output_type": "stream",
     "text": [
      " * ibm_db_sa://fgl32023:***@dashdb-txn-sbox-yp-dal09-04.services.dal.bluemix.net:50000/BLUDB\n",
      "Done.\n"
     ]
    },
    {
     "data": {
      "text/html": [
       "<table>\n",
       "    <tr>\n",
       "        <th>name_of_school</th>\n",
       "        <th>average_student_attendance</th>\n",
       "    </tr>\n",
       "    <tr>\n",
       "        <td>John Charles Haines Elementary School</td>\n",
       "        <td>98.40%</td>\n",
       "    </tr>\n",
       "    <tr>\n",
       "        <td>James Ward Elementary School</td>\n",
       "        <td>97.80%</td>\n",
       "    </tr>\n",
       "    <tr>\n",
       "        <td>Edgar Allan Poe Elementary Classical School</td>\n",
       "        <td>97.60%</td>\n",
       "    </tr>\n",
       "    <tr>\n",
       "        <td>Orozco Fine Arts &amp; Sciences Elementary School</td>\n",
       "        <td>97.60%</td>\n",
       "    </tr>\n",
       "    <tr>\n",
       "        <td>Rachel Carson Elementary School</td>\n",
       "        <td>97.60%</td>\n",
       "    </tr>\n",
       "    <tr>\n",
       "        <td>Annie Keller Elementary Gifted Magnet School</td>\n",
       "        <td>97.50%</td>\n",
       "    </tr>\n",
       "    <tr>\n",
       "        <td>Andrew Jackson Elementary Language Academy</td>\n",
       "        <td>97.40%</td>\n",
       "    </tr>\n",
       "    <tr>\n",
       "        <td>Lenart Elementary Regional Gifted Center</td>\n",
       "        <td>97.40%</td>\n",
       "    </tr>\n",
       "    <tr>\n",
       "        <td>Disney II Magnet School</td>\n",
       "        <td>97.30%</td>\n",
       "    </tr>\n",
       "    <tr>\n",
       "        <td>John H Vanderpoel Elementary Magnet School</td>\n",
       "        <td>97.20%</td>\n",
       "    </tr>\n",
       "</table>"
      ],
      "text/plain": [
       "[('John Charles Haines Elementary School', '98.40%'),\n",
       " ('James Ward Elementary School', '97.80%'),\n",
       " ('Edgar Allan Poe Elementary Classical School', '97.60%'),\n",
       " ('Orozco Fine Arts & Sciences Elementary School', '97.60%'),\n",
       " ('Rachel Carson Elementary School', '97.60%'),\n",
       " ('Annie Keller Elementary Gifted Magnet School', '97.50%'),\n",
       " ('Andrew Jackson Elementary Language Academy', '97.40%'),\n",
       " ('Lenart Elementary Regional Gifted Center', '97.40%'),\n",
       " ('Disney II Magnet School', '97.30%'),\n",
       " ('John H Vanderpoel Elementary Magnet School', '97.20%')]"
      ]
     },
     "execution_count": 47,
     "metadata": {},
     "output_type": "execute_result"
    }
   ],
   "source": [
    "# what are the top 10 schools with the highest Average Student Attendance\n",
    "%sql select Name_of_School, Average_Student_Attendance from SCHOOLS \\\n",
    "    order by Average_student_Attendance DESC NULLS LAST LIMIT 10"
   ]
  },
  {
   "cell_type": "code",
   "execution_count": 48,
   "id": "cf5e7264-1c03-4033-a1bb-8df51ee08865",
   "metadata": {},
   "outputs": [
    {
     "name": "stdout",
     "output_type": "stream",
     "text": [
      " * ibm_db_sa://fgl32023:***@dashdb-txn-sbox-yp-dal09-04.services.dal.bluemix.net:50000/BLUDB\n",
      "Done.\n"
     ]
    },
    {
     "data": {
      "text/html": [
       "<table>\n",
       "    <tr>\n",
       "        <th>name_of_school</th>\n",
       "        <th>average_student_attendance</th>\n",
       "    </tr>\n",
       "    <tr>\n",
       "        <td>Richard T Crane Technical Preparatory High School</td>\n",
       "        <td>57.90%</td>\n",
       "    </tr>\n",
       "    <tr>\n",
       "        <td>Barbara Vick Early Childhood &amp; Family Center</td>\n",
       "        <td>60.90%</td>\n",
       "    </tr>\n",
       "    <tr>\n",
       "        <td>Dyett High School</td>\n",
       "        <td>62.50%</td>\n",
       "    </tr>\n",
       "    <tr>\n",
       "        <td>Wendell Phillips Academy High School</td>\n",
       "        <td>63.00%</td>\n",
       "    </tr>\n",
       "    <tr>\n",
       "        <td>Orr Academy High School</td>\n",
       "        <td>66.30%</td>\n",
       "    </tr>\n",
       "</table>"
      ],
      "text/plain": [
       "[('Richard T Crane Technical Preparatory High School', '57.90%'),\n",
       " ('Barbara Vick Early Childhood & Family Center', '60.90%'),\n",
       " ('Dyett High School', '62.50%'),\n",
       " ('Wendell Phillips Academy High School', '63.00%'),\n",
       " ('Orr Academy High School', '66.30%')]"
      ]
     },
     "execution_count": 48,
     "metadata": {},
     "output_type": "execute_result"
    }
   ],
   "source": [
    "# what are the bottom 5 schools for attendance?\n",
    "%sql SELECT Name_of_School, Average_Student_Attendance \\\n",
    "    from SCHOOLS \\\n",
    "    order by Average_Student_Attendance \\\n",
    "    fetch first 5 rows only"
   ]
  },
  {
   "cell_type": "code",
   "execution_count": 49,
   "id": "f7749aae-3566-49e6-9872-7053bf1b115c",
   "metadata": {},
   "outputs": [
    {
     "name": "stdout",
     "output_type": "stream",
     "text": [
      " * ibm_db_sa://fgl32023:***@dashdb-txn-sbox-yp-dal09-04.services.dal.bluemix.net:50000/BLUDB\n",
      "Done.\n"
     ]
    },
    {
     "data": {
      "text/html": [
       "<table>\n",
       "    <tr>\n",
       "        <th>name_of_school</th>\n",
       "        <th>2</th>\n",
       "    </tr>\n",
       "    <tr>\n",
       "        <td>Richard T Crane Technical Preparatory High School</td>\n",
       "        <td>57.90</td>\n",
       "    </tr>\n",
       "    <tr>\n",
       "        <td>Barbara Vick Early Childhood &amp; Family Center</td>\n",
       "        <td>60.90</td>\n",
       "    </tr>\n",
       "    <tr>\n",
       "        <td>Dyett High School</td>\n",
       "        <td>62.50</td>\n",
       "    </tr>\n",
       "    <tr>\n",
       "        <td>Wendell Phillips Academy High School</td>\n",
       "        <td>63.00</td>\n",
       "    </tr>\n",
       "    <tr>\n",
       "        <td>Orr Academy High School</td>\n",
       "        <td>66.30</td>\n",
       "    </tr>\n",
       "</table>"
      ],
      "text/plain": [
       "[('Richard T Crane Technical Preparatory High School', '57.90'),\n",
       " ('Barbara Vick Early Childhood & Family Center', '60.90'),\n",
       " ('Dyett High School', '62.50'),\n",
       " ('Wendell Phillips Academy High School', '63.00'),\n",
       " ('Orr Academy High School', '66.30')]"
      ]
     },
     "execution_count": 49,
     "metadata": {},
     "output_type": "execute_result"
    }
   ],
   "source": [
    "# remove the % sign from the above set\n",
    "%sql SELECT Name_of_School, REPLACE(Average_Student_Attendance, '%', '') \\\n",
    "     from SCHOOLS \\\n",
    "     order by Average_Student_Attendance \\\n",
    "     fetch first 5 rows only"
   ]
  },
  {
   "cell_type": "code",
   "execution_count": 50,
   "id": "c3121ca2-08db-4e2f-9a35-1b100ad9b6c8",
   "metadata": {},
   "outputs": [
    {
     "name": "stdout",
     "output_type": "stream",
     "text": [
      " * ibm_db_sa://fgl32023:***@dashdb-txn-sbox-yp-dal09-04.services.dal.bluemix.net:50000/BLUDB\n",
      "Done.\n"
     ]
    },
    {
     "data": {
      "text/html": [
       "<table>\n",
       "    <tr>\n",
       "        <th>name_of_school</th>\n",
       "        <th>average_student_attendance</th>\n",
       "    </tr>\n",
       "    <tr>\n",
       "        <td>Richard T Crane Technical Preparatory High School</td>\n",
       "        <td>57.90%</td>\n",
       "    </tr>\n",
       "    <tr>\n",
       "        <td>Barbara Vick Early Childhood &amp; Family Center</td>\n",
       "        <td>60.90%</td>\n",
       "    </tr>\n",
       "    <tr>\n",
       "        <td>Dyett High School</td>\n",
       "        <td>62.50%</td>\n",
       "    </tr>\n",
       "    <tr>\n",
       "        <td>Wendell Phillips Academy High School</td>\n",
       "        <td>63.00%</td>\n",
       "    </tr>\n",
       "    <tr>\n",
       "        <td>Orr Academy High School</td>\n",
       "        <td>66.30%</td>\n",
       "    </tr>\n",
       "    <tr>\n",
       "        <td>Manley Career Academy High School</td>\n",
       "        <td>66.80%</td>\n",
       "    </tr>\n",
       "    <tr>\n",
       "        <td>Chicago Vocational Career Academy High School</td>\n",
       "        <td>68.80%</td>\n",
       "    </tr>\n",
       "    <tr>\n",
       "        <td>Roberto Clemente Community Academy High School</td>\n",
       "        <td>69.60%</td>\n",
       "    </tr>\n",
       "</table>"
      ],
      "text/plain": [
       "[('Richard T Crane Technical Preparatory High School', '57.90%'),\n",
       " ('Barbara Vick Early Childhood & Family Center', '60.90%'),\n",
       " ('Dyett High School', '62.50%'),\n",
       " ('Wendell Phillips Academy High School', '63.00%'),\n",
       " ('Orr Academy High School', '66.30%'),\n",
       " ('Manley Career Academy High School', '66.80%'),\n",
       " ('Chicago Vocational Career Academy High School', '68.80%'),\n",
       " ('Roberto Clemente Community Academy High School', '69.60%')]"
      ]
     },
     "execution_count": 50,
     "metadata": {},
     "output_type": "execute_result"
    }
   ],
   "source": [
    "# which schools have average attendance lower than 70%?\n",
    "%sql SELECT Name_of_School, Average_Student_Attendance  \\\n",
    "     from SCHOOLS \\\n",
    "     where DECIMAL ( REPLACE(Average_Student_Attendance, '%', '') ) < 70 \\\n",
    "     order by Average_Student_Attendance"
   ]
  },
  {
   "cell_type": "code",
   "execution_count": 51,
   "id": "a0d684bb-472c-432f-bbea-c71693c7b2de",
   "metadata": {},
   "outputs": [
    {
     "name": "stdout",
     "output_type": "stream",
     "text": [
      " * ibm_db_sa://fgl32023:***@dashdb-txn-sbox-yp-dal09-04.services.dal.bluemix.net:50000/BLUDB\n",
      "Done.\n"
     ]
    },
    {
     "data": {
      "text/html": [
       "<table>\n",
       "    <tr>\n",
       "        <th>name_of_school</th>\n",
       "        <th>average_student_attendance</th>\n",
       "    </tr>\n",
       "    <tr>\n",
       "        <td>Richard T Crane Technical Preparatory High School</td>\n",
       "        <td>57.90%</td>\n",
       "    </tr>\n",
       "    <tr>\n",
       "        <td>Barbara Vick Early Childhood &amp; Family Center</td>\n",
       "        <td>60.90%</td>\n",
       "    </tr>\n",
       "    <tr>\n",
       "        <td>Dyett High School</td>\n",
       "        <td>62.50%</td>\n",
       "    </tr>\n",
       "    <tr>\n",
       "        <td>Wendell Phillips Academy High School</td>\n",
       "        <td>63.00%</td>\n",
       "    </tr>\n",
       "    <tr>\n",
       "        <td>Orr Academy High School</td>\n",
       "        <td>66.30%</td>\n",
       "    </tr>\n",
       "    <tr>\n",
       "        <td>Manley Career Academy High School</td>\n",
       "        <td>66.80%</td>\n",
       "    </tr>\n",
       "    <tr>\n",
       "        <td>Chicago Vocational Career Academy High School</td>\n",
       "        <td>68.80%</td>\n",
       "    </tr>\n",
       "    <tr>\n",
       "        <td>Roberto Clemente Community Academy High School</td>\n",
       "        <td>69.60%</td>\n",
       "    </tr>\n",
       "</table>"
      ],
      "text/plain": [
       "[('Richard T Crane Technical Preparatory High School', '57.90%'),\n",
       " ('Barbara Vick Early Childhood & Family Center', '60.90%'),\n",
       " ('Dyett High School', '62.50%'),\n",
       " ('Wendell Phillips Academy High School', '63.00%'),\n",
       " ('Orr Academy High School', '66.30%'),\n",
       " ('Manley Career Academy High School', '66.80%'),\n",
       " ('Chicago Vocational Career Academy High School', '68.80%'),\n",
       " ('Roberto Clemente Community Academy High School', '69.60%')]"
      ]
     },
     "execution_count": 51,
     "metadata": {},
     "output_type": "execute_result"
    }
   ],
   "source": [
    "# another way\n",
    "%sql SELECT Name_of_School, Average_Student_Attendance  \\\n",
    "     from SCHOOLS \\\n",
    "     where CAST ( REPLACE(Average_Student_Attendance, '%', '') AS DOUBLE ) < 70 \\\n",
    "     order by Average_Student_Attendance"
   ]
  },
  {
   "cell_type": "code",
   "execution_count": 52,
   "id": "27c670b9-60db-4860-ad81-98ee544abff9",
   "metadata": {},
   "outputs": [
    {
     "name": "stdout",
     "output_type": "stream",
     "text": [
      " * ibm_db_sa://fgl32023:***@dashdb-txn-sbox-yp-dal09-04.services.dal.bluemix.net:50000/BLUDB\n",
      "Done.\n"
     ]
    },
    {
     "data": {
      "text/html": [
       "<table>\n",
       "    <tr>\n",
       "        <th>community_area_name</th>\n",
       "        <th>total_enrollment</th>\n",
       "    </tr>\n",
       "    <tr>\n",
       "        <td>ALBANY PARK</td>\n",
       "        <td>6864</td>\n",
       "    </tr>\n",
       "    <tr>\n",
       "        <td>ARCHER HEIGHTS</td>\n",
       "        <td>4823</td>\n",
       "    </tr>\n",
       "    <tr>\n",
       "        <td>ARMOUR SQUARE</td>\n",
       "        <td>1458</td>\n",
       "    </tr>\n",
       "    <tr>\n",
       "        <td>ASHBURN</td>\n",
       "        <td>6483</td>\n",
       "    </tr>\n",
       "    <tr>\n",
       "        <td>AUBURN GRESHAM</td>\n",
       "        <td>4175</td>\n",
       "    </tr>\n",
       "    <tr>\n",
       "        <td>AUSTIN</td>\n",
       "        <td>10933</td>\n",
       "    </tr>\n",
       "    <tr>\n",
       "        <td>AVALON PARK</td>\n",
       "        <td>1522</td>\n",
       "    </tr>\n",
       "    <tr>\n",
       "        <td>AVONDALE</td>\n",
       "        <td>3640</td>\n",
       "    </tr>\n",
       "    <tr>\n",
       "        <td>BELMONT CRAGIN</td>\n",
       "        <td>14386</td>\n",
       "    </tr>\n",
       "    <tr>\n",
       "        <td>BEVERLY</td>\n",
       "        <td>1636</td>\n",
       "    </tr>\n",
       "    <tr>\n",
       "        <td>BRIDGEPORT</td>\n",
       "        <td>3167</td>\n",
       "    </tr>\n",
       "    <tr>\n",
       "        <td>BRIGHTON PARK</td>\n",
       "        <td>9647</td>\n",
       "    </tr>\n",
       "    <tr>\n",
       "        <td>BURNSIDE</td>\n",
       "        <td>549</td>\n",
       "    </tr>\n",
       "    <tr>\n",
       "        <td>CALUMET HEIGHTS</td>\n",
       "        <td>1568</td>\n",
       "    </tr>\n",
       "    <tr>\n",
       "        <td>CHATHAM</td>\n",
       "        <td>5042</td>\n",
       "    </tr>\n",
       "    <tr>\n",
       "        <td>CHICAGO LAWN</td>\n",
       "        <td>7086</td>\n",
       "    </tr>\n",
       "    <tr>\n",
       "        <td>CLEARING</td>\n",
       "        <td>2085</td>\n",
       "    </tr>\n",
       "    <tr>\n",
       "        <td>DOUGLAS</td>\n",
       "        <td>4670</td>\n",
       "    </tr>\n",
       "    <tr>\n",
       "        <td>DUNNING</td>\n",
       "        <td>4568</td>\n",
       "    </tr>\n",
       "    <tr>\n",
       "        <td>EAST GARFIELD PARK</td>\n",
       "        <td>5337</td>\n",
       "    </tr>\n",
       "    <tr>\n",
       "        <td>EAST SIDE</td>\n",
       "        <td>5305</td>\n",
       "    </tr>\n",
       "    <tr>\n",
       "        <td>EDGEWATER</td>\n",
       "        <td>4600</td>\n",
       "    </tr>\n",
       "    <tr>\n",
       "        <td>EDISON PARK</td>\n",
       "        <td>910</td>\n",
       "    </tr>\n",
       "    <tr>\n",
       "        <td>ENGLEWOOD</td>\n",
       "        <td>6832</td>\n",
       "    </tr>\n",
       "    <tr>\n",
       "        <td>FOREST GLEN</td>\n",
       "        <td>1431</td>\n",
       "    </tr>\n",
       "    <tr>\n",
       "        <td>FULLER PARK</td>\n",
       "        <td>531</td>\n",
       "    </tr>\n",
       "    <tr>\n",
       "        <td>GAGE PARK</td>\n",
       "        <td>9915</td>\n",
       "    </tr>\n",
       "    <tr>\n",
       "        <td>GARFIELD RIDGE</td>\n",
       "        <td>4552</td>\n",
       "    </tr>\n",
       "    <tr>\n",
       "        <td>GRAND BOULEVARD</td>\n",
       "        <td>2809</td>\n",
       "    </tr>\n",
       "    <tr>\n",
       "        <td>GREATER GRAND CROSSING</td>\n",
       "        <td>4051</td>\n",
       "    </tr>\n",
       "    <tr>\n",
       "        <td>HEGEWISCH</td>\n",
       "        <td>963</td>\n",
       "    </tr>\n",
       "    <tr>\n",
       "        <td>HERMOSA</td>\n",
       "        <td>3975</td>\n",
       "    </tr>\n",
       "    <tr>\n",
       "        <td>HUMBOLDT PARK</td>\n",
       "        <td>8620</td>\n",
       "    </tr>\n",
       "    <tr>\n",
       "        <td>HYDE PARK</td>\n",
       "        <td>1930</td>\n",
       "    </tr>\n",
       "    <tr>\n",
       "        <td>IRVING PARK</td>\n",
       "        <td>7764</td>\n",
       "    </tr>\n",
       "    <tr>\n",
       "        <td>JEFFERSON PARK</td>\n",
       "        <td>1755</td>\n",
       "    </tr>\n",
       "    <tr>\n",
       "        <td>KENWOOD</td>\n",
       "        <td>4287</td>\n",
       "    </tr>\n",
       "    <tr>\n",
       "        <td>LAKE VIEW</td>\n",
       "        <td>7055</td>\n",
       "    </tr>\n",
       "    <tr>\n",
       "        <td>LINCOLN PARK</td>\n",
       "        <td>5615</td>\n",
       "    </tr>\n",
       "    <tr>\n",
       "        <td>LINCOLN SQUARE</td>\n",
       "        <td>4132</td>\n",
       "    </tr>\n",
       "    <tr>\n",
       "        <td>LOGAN SQUARE</td>\n",
       "        <td>7351</td>\n",
       "    </tr>\n",
       "    <tr>\n",
       "        <td>LOOP</td>\n",
       "        <td>871</td>\n",
       "    </tr>\n",
       "    <tr>\n",
       "        <td>LOWER WEST SIDE</td>\n",
       "        <td>7257</td>\n",
       "    </tr>\n",
       "    <tr>\n",
       "        <td>MCKINLEY PARK</td>\n",
       "        <td>1552</td>\n",
       "    </tr>\n",
       "    <tr>\n",
       "        <td>MONTCLARE</td>\n",
       "        <td>1317</td>\n",
       "    </tr>\n",
       "    <tr>\n",
       "        <td>MORGAN PARK</td>\n",
       "        <td>3271</td>\n",
       "    </tr>\n",
       "    <tr>\n",
       "        <td>MOUNT GREENWOOD</td>\n",
       "        <td>2091</td>\n",
       "    </tr>\n",
       "    <tr>\n",
       "        <td>NEAR NORTH SIDE</td>\n",
       "        <td>3362</td>\n",
       "    </tr>\n",
       "    <tr>\n",
       "        <td>NEAR SOUTH SIDE</td>\n",
       "        <td>1378</td>\n",
       "    </tr>\n",
       "    <tr>\n",
       "        <td>NEAR WEST SIDE</td>\n",
       "        <td>7975</td>\n",
       "    </tr>\n",
       "    <tr>\n",
       "        <td>NEW CITY</td>\n",
       "        <td>7922</td>\n",
       "    </tr>\n",
       "    <tr>\n",
       "        <td>NORTH CENTER</td>\n",
       "        <td>7541</td>\n",
       "    </tr>\n",
       "    <tr>\n",
       "        <td>NORTH LAWNDALE</td>\n",
       "        <td>5146</td>\n",
       "    </tr>\n",
       "    <tr>\n",
       "        <td>NORTH PARK</td>\n",
       "        <td>4210</td>\n",
       "    </tr>\n",
       "    <tr>\n",
       "        <td>NORWOOD PARK</td>\n",
       "        <td>6469</td>\n",
       "    </tr>\n",
       "    <tr>\n",
       "        <td>OAKLAND</td>\n",
       "        <td>140</td>\n",
       "    </tr>\n",
       "    <tr>\n",
       "        <td>OHARE</td>\n",
       "        <td>786</td>\n",
       "    </tr>\n",
       "    <tr>\n",
       "        <td>PORTAGE PARK</td>\n",
       "        <td>6954</td>\n",
       "    </tr>\n",
       "    <tr>\n",
       "        <td>PULLMAN</td>\n",
       "        <td>1620</td>\n",
       "    </tr>\n",
       "    <tr>\n",
       "        <td>RIVERDALE</td>\n",
       "        <td>1547</td>\n",
       "    </tr>\n",
       "    <tr>\n",
       "        <td>ROGERS PARK</td>\n",
       "        <td>4068</td>\n",
       "    </tr>\n",
       "    <tr>\n",
       "        <td>ROSELAND</td>\n",
       "        <td>7020</td>\n",
       "    </tr>\n",
       "    <tr>\n",
       "        <td>SOUTH CHICAGO</td>\n",
       "        <td>4043</td>\n",
       "    </tr>\n",
       "    <tr>\n",
       "        <td>SOUTH DEERING</td>\n",
       "        <td>1859</td>\n",
       "    </tr>\n",
       "    <tr>\n",
       "        <td>SOUTH LAWNDALE</td>\n",
       "        <td>14793</td>\n",
       "    </tr>\n",
       "    <tr>\n",
       "        <td>SOUTH SHORE</td>\n",
       "        <td>4543</td>\n",
       "    </tr>\n",
       "    <tr>\n",
       "        <td>UPTOWN</td>\n",
       "        <td>4388</td>\n",
       "    </tr>\n",
       "    <tr>\n",
       "        <td>WASHINGTON HEIGHTS</td>\n",
       "        <td>4006</td>\n",
       "    </tr>\n",
       "    <tr>\n",
       "        <td>WASHINGTON PARK</td>\n",
       "        <td>2648</td>\n",
       "    </tr>\n",
       "    <tr>\n",
       "        <td>WEST ELSDON</td>\n",
       "        <td>3700</td>\n",
       "    </tr>\n",
       "    <tr>\n",
       "        <td>WEST ENGLEWOOD</td>\n",
       "        <td>5946</td>\n",
       "    </tr>\n",
       "    <tr>\n",
       "        <td>WEST GARFIELD PARK</td>\n",
       "        <td>2622</td>\n",
       "    </tr>\n",
       "    <tr>\n",
       "        <td>WEST LAWN</td>\n",
       "        <td>4207</td>\n",
       "    </tr>\n",
       "    <tr>\n",
       "        <td>WEST PULLMAN</td>\n",
       "        <td>3240</td>\n",
       "    </tr>\n",
       "    <tr>\n",
       "        <td>WEST RIDGE</td>\n",
       "        <td>8197</td>\n",
       "    </tr>\n",
       "    <tr>\n",
       "        <td>WEST TOWN</td>\n",
       "        <td>9429</td>\n",
       "    </tr>\n",
       "    <tr>\n",
       "        <td>WOODLAWN</td>\n",
       "        <td>4206</td>\n",
       "    </tr>\n",
       "</table>"
      ],
      "text/plain": [
       "[('ALBANY PARK', 6864),\n",
       " ('ARCHER HEIGHTS', 4823),\n",
       " ('ARMOUR SQUARE', 1458),\n",
       " ('ASHBURN', 6483),\n",
       " ('AUBURN GRESHAM', 4175),\n",
       " ('AUSTIN', 10933),\n",
       " ('AVALON PARK', 1522),\n",
       " ('AVONDALE', 3640),\n",
       " ('BELMONT CRAGIN', 14386),\n",
       " ('BEVERLY', 1636),\n",
       " ('BRIDGEPORT', 3167),\n",
       " ('BRIGHTON PARK', 9647),\n",
       " ('BURNSIDE', 549),\n",
       " ('CALUMET HEIGHTS', 1568),\n",
       " ('CHATHAM', 5042),\n",
       " ('CHICAGO LAWN', 7086),\n",
       " ('CLEARING', 2085),\n",
       " ('DOUGLAS', 4670),\n",
       " ('DUNNING', 4568),\n",
       " ('EAST GARFIELD PARK', 5337),\n",
       " ('EAST SIDE', 5305),\n",
       " ('EDGEWATER', 4600),\n",
       " ('EDISON PARK', 910),\n",
       " ('ENGLEWOOD', 6832),\n",
       " ('FOREST GLEN', 1431),\n",
       " ('FULLER PARK', 531),\n",
       " ('GAGE PARK', 9915),\n",
       " ('GARFIELD RIDGE', 4552),\n",
       " ('GRAND BOULEVARD', 2809),\n",
       " ('GREATER GRAND CROSSING', 4051),\n",
       " ('HEGEWISCH', 963),\n",
       " ('HERMOSA', 3975),\n",
       " ('HUMBOLDT PARK', 8620),\n",
       " ('HYDE PARK', 1930),\n",
       " ('IRVING PARK', 7764),\n",
       " ('JEFFERSON PARK', 1755),\n",
       " ('KENWOOD', 4287),\n",
       " ('LAKE VIEW', 7055),\n",
       " ('LINCOLN PARK', 5615),\n",
       " ('LINCOLN SQUARE', 4132),\n",
       " ('LOGAN SQUARE', 7351),\n",
       " ('LOOP', 871),\n",
       " ('LOWER WEST SIDE', 7257),\n",
       " ('MCKINLEY PARK', 1552),\n",
       " ('MONTCLARE', 1317),\n",
       " ('MORGAN PARK', 3271),\n",
       " ('MOUNT GREENWOOD', 2091),\n",
       " ('NEAR NORTH SIDE', 3362),\n",
       " ('NEAR SOUTH SIDE', 1378),\n",
       " ('NEAR WEST SIDE', 7975),\n",
       " ('NEW CITY', 7922),\n",
       " ('NORTH CENTER', 7541),\n",
       " ('NORTH LAWNDALE', 5146),\n",
       " ('NORTH PARK', 4210),\n",
       " ('NORWOOD PARK', 6469),\n",
       " ('OAKLAND', 140),\n",
       " ('OHARE', 786),\n",
       " ('PORTAGE PARK', 6954),\n",
       " ('PULLMAN', 1620),\n",
       " ('RIVERDALE', 1547),\n",
       " ('ROGERS PARK', 4068),\n",
       " ('ROSELAND', 7020),\n",
       " ('SOUTH CHICAGO', 4043),\n",
       " ('SOUTH DEERING', 1859),\n",
       " ('SOUTH LAWNDALE', 14793),\n",
       " ('SOUTH SHORE', 4543),\n",
       " ('UPTOWN', 4388),\n",
       " ('WASHINGTON HEIGHTS', 4006),\n",
       " ('WASHINGTON PARK', 2648),\n",
       " ('WEST ELSDON', 3700),\n",
       " ('WEST ENGLEWOOD', 5946),\n",
       " ('WEST GARFIELD PARK', 2622),\n",
       " ('WEST LAWN', 4207),\n",
       " ('WEST PULLMAN', 3240),\n",
       " ('WEST RIDGE', 8197),\n",
       " ('WEST TOWN', 9429),\n",
       " ('WOODLAWN', 4206)]"
      ]
     },
     "execution_count": 52,
     "metadata": {},
     "output_type": "execute_result"
    }
   ],
   "source": [
    "# get the total college enrollment for each community area\n",
    "%sql select Community_Area_Name, sum(College_Enrollment) AS TOTAL_ENROLLMENT \\\n",
    "   from SCHOOLS \\\n",
    "   group by Community_Area_Name "
   ]
  },
  {
   "cell_type": "code",
   "execution_count": 53,
   "id": "d5a84ef3-9fcc-42a9-b5bb-43ac4be1ea2b",
   "metadata": {},
   "outputs": [
    {
     "name": "stdout",
     "output_type": "stream",
     "text": [
      " * ibm_db_sa://fgl32023:***@dashdb-txn-sbox-yp-dal09-04.services.dal.bluemix.net:50000/BLUDB\n",
      "Done.\n"
     ]
    },
    {
     "data": {
      "text/html": [
       "<table>\n",
       "    <tr>\n",
       "        <th>community_area_name</th>\n",
       "        <th>total_enrollment</th>\n",
       "    </tr>\n",
       "    <tr>\n",
       "        <td>OAKLAND</td>\n",
       "        <td>140</td>\n",
       "    </tr>\n",
       "    <tr>\n",
       "        <td>FULLER PARK</td>\n",
       "        <td>531</td>\n",
       "    </tr>\n",
       "    <tr>\n",
       "        <td>BURNSIDE</td>\n",
       "        <td>549</td>\n",
       "    </tr>\n",
       "    <tr>\n",
       "        <td>OHARE</td>\n",
       "        <td>786</td>\n",
       "    </tr>\n",
       "    <tr>\n",
       "        <td>LOOP</td>\n",
       "        <td>871</td>\n",
       "    </tr>\n",
       "</table>"
      ],
      "text/plain": [
       "[('OAKLAND', 140),\n",
       " ('FULLER PARK', 531),\n",
       " ('BURNSIDE', 549),\n",
       " ('OHARE', 786),\n",
       " ('LOOP', 871)]"
      ]
     },
     "execution_count": 53,
     "metadata": {},
     "output_type": "execute_result"
    }
   ],
   "source": [
    "# get the 5 community areas with the least college enrollment in ascending order\n",
    "%sql select Community_Area_Name, sum(College_Enrollment) AS TOTAL_ENROLLMENT \\\n",
    "   from SCHOOLS \\\n",
    "   group by Community_Area_Name \\\n",
    "   order by TOTAL_ENROLLMENT asc \\\n",
    "   fetch first 5 rows only"
   ]
  },
  {
   "cell_type": "code",
   "execution_count": 55,
   "id": "47895596-607b-4def-abb7-2b68dcd53bf1",
   "metadata": {},
   "outputs": [
    {
     "name": "stdout",
     "output_type": "stream",
     "text": [
      " * ibm_db_sa://fgl32023:***@dashdb-txn-sbox-yp-dal09-04.services.dal.bluemix.net:50000/BLUDB\n",
      "Done.\n"
     ]
    },
    {
     "data": {
      "text/html": [
       "<table>\n",
       "    <tr>\n",
       "        <th>name_of_school</th>\n",
       "        <th>safety_score</th>\n",
       "    </tr>\n",
       "    <tr>\n",
       "        <td>Edmond Burke Elementary School</td>\n",
       "        <td>1</td>\n",
       "    </tr>\n",
       "    <tr>\n",
       "        <td>Luke O&#x27;Toole Elementary School</td>\n",
       "        <td>5</td>\n",
       "    </tr>\n",
       "    <tr>\n",
       "        <td>George W Tilton Elementary School</td>\n",
       "        <td>6</td>\n",
       "    </tr>\n",
       "    <tr>\n",
       "        <td>Foster Park Elementary School</td>\n",
       "        <td>11</td>\n",
       "    </tr>\n",
       "    <tr>\n",
       "        <td>Emil G Hirsch Metropolitan High School</td>\n",
       "        <td>13</td>\n",
       "    </tr>\n",
       "</table>"
      ],
      "text/plain": [
       "[('Edmond Burke Elementary School', 1),\n",
       " (\"Luke O'Toole Elementary School\", 5),\n",
       " ('George W Tilton Elementary School', 6),\n",
       " ('Foster Park Elementary School', 11),\n",
       " ('Emil G Hirsch Metropolitan High School', 13)]"
      ]
     },
     "execution_count": 55,
     "metadata": {},
     "output_type": "execute_result"
    }
   ],
   "source": [
    "# get 5 schools with the lowest safety score\n",
    "%sql SELECT name_of_school, safety_score \\\n",
    "    FROM schools \\\n",
    "    ORDER BY safety_score \\\n",
    "    LIMIT 5"
   ]
  },
  {
   "cell_type": "markdown",
   "id": "eb07bd03-9dcf-4853-bd79-ef33e64de371",
   "metadata": {},
   "source": [
    "Get the harship index for the community with college enrollment of 4368:"
   ]
  },
  {
   "cell_type": "code",
   "execution_count": 80,
   "id": "cb835bc0-ee51-4b88-8c18-e428900e7259",
   "metadata": {},
   "outputs": [
    {
     "name": "stdout",
     "output_type": "stream",
     "text": [
      " * ibm_db_sa://fgl32023:***@dashdb-txn-sbox-yp-dal09-04.services.dal.bluemix.net:50000/BLUDB\n",
      "Done.\n"
     ]
    },
    {
     "data": {
      "text/html": [
       "<table>\n",
       "    <tr>\n",
       "        <th>hardship_index</th>\n",
       "        <th>community_area_number</th>\n",
       "    </tr>\n",
       "    <tr>\n",
       "        <td>6.0</td>\n",
       "        <td>5</td>\n",
       "    </tr>\n",
       "</table>"
      ],
      "text/plain": [
       "[(6.0, 5)]"
      ]
     },
     "execution_count": 80,
     "metadata": {},
     "output_type": "execute_result"
    }
   ],
   "source": [
    "%%sql \n",
    "select hardship_index, community_area_number \n",
    "from chicago_socioeconomic_data CD, SCHOOLS CPS\n",
    "where CD.CA = CPS.community_area_number\n",
    "    AND college_enrollment = 4368\n"
   ]
  },
  {
   "cell_type": "code",
   "execution_count": 69,
   "id": "0039cf60-0aaa-49fe-a33c-0a62a7532f90",
   "metadata": {},
   "outputs": [
    {
     "name": "stdout",
     "output_type": "stream",
     "text": [
      " * ibm_db_sa://fgl32023:***@dashdb-txn-sbox-yp-dal09-04.services.dal.bluemix.net:50000/BLUDB\n",
      "Done.\n"
     ]
    },
    {
     "data": {
      "text/html": [
       "<table>\n",
       "    <tr>\n",
       "        <th>ca</th>\n",
       "        <th>community_area_name</th>\n",
       "        <th>hardship_index</th>\n",
       "    </tr>\n",
       "    <tr>\n",
       "        <td>5.0</td>\n",
       "        <td>North Center</td>\n",
       "        <td>6.0</td>\n",
       "    </tr>\n",
       "</table>"
      ],
      "text/plain": [
       "[(5.0, 'North Center', 6.0)]"
      ]
     },
     "execution_count": 69,
     "metadata": {},
     "output_type": "execute_result"
    }
   ],
   "source": [
    "%sql select ca, community_area_name, hardship_index from chicago_socioeconomic_data \\\n",
    "   where ca in \\\n",
    "   ( select community_area_number from schools order by college_enrollment desc limit 1 )"
   ]
  },
  {
   "cell_type": "markdown",
   "id": "9b9cb7b3-cf79-4814-9993-637c32826fbd",
   "metadata": {},
   "source": [
    "## *Week 6: Advanced SQL for Data Engineers*"
   ]
  },
  {
   "cell_type": "markdown",
   "id": "84db0376-c8e5-40f8-9d17-f26411f93175",
   "metadata": {},
   "source": [
    "### Views\n",
    "\n",
    "Views:\n",
    "- An alternative way of representing data that exists in one or more tables (or views).\n",
    "- It can include specified columns from multiple base tables and existing views. \n",
    "- Once created, it can be queried like a table.\n",
    "- You can also change the data in the base table by running insert, update, and delete queries against the view.\n",
    "- When a view is defined, only the definition is stored - the data still remains in the base table(s).\n",
    "- The select statement used to create the view can name other views and tables, as well as use the WHERE, GROUP BY, and HAVING clauses.\n",
    "- It cannot use the ORDER BY clause or name a host variable.\n",
    "\n",
    "When to use a view:\n",
    "- When you need to show just a selection of data for a given data\n",
    "- Combine two or more tables in meaningful ways\n",
    "- Simplify access to data\n",
    "- Show only portions of data in the table\n",
    "- Use DROP VIEW view_name; to delete the view.\n",
    "\n",
    "Syntax:\n",
    "\n",
    "*CREATE VIEW view_name (col1_alias, col2_alias....*\n",
    "\n",
    "    *coln_alias)*\n",
    "    \n",
    "    *AS SELECT col1, col2, ..., coln*\n",
    "    \n",
    "    *FROM table_name*\n",
    "    \n",
    "    *WHERE predicate;*"
   ]
  },
  {
   "cell_type": "code",
   "execution_count": 7,
   "id": "636a2227-b671-4ae8-af48-8862842e2827",
   "metadata": {},
   "outputs": [
    {
     "name": "stdout",
     "output_type": "stream",
     "text": [
      " * sqlite://\n",
      "Done.\n"
     ]
    },
    {
     "data": {
      "text/plain": [
       "[]"
      ]
     },
     "execution_count": 7,
     "metadata": {},
     "output_type": "execute_result"
    }
   ],
   "source": [
    "%%sql\n",
    "\n",
    "CREATE VIEW EMPINFO (EMP_ID, FIRSTNAME, LASTNAME, ADDRESS, JOB_ID, MANAGER_ID, DEPT_ID)\n",
    "    as select EMP_ID, F_NAME, L_NAME, ADDRESS, JOB_ID, MANAGER_ID, DEP_ID\n",
    "    from EMPLOYEES;"
   ]
  },
  {
   "cell_type": "code",
   "execution_count": 8,
   "id": "7fc25e7c-936a-4f1d-a8ab-362f1856a8d0",
   "metadata": {},
   "outputs": [
    {
     "name": "stdout",
     "output_type": "stream",
     "text": [
      " * sqlite://\n",
      "Done.\n"
     ]
    },
    {
     "data": {
      "text/html": [
       "<table>\n",
       "    <tr>\n",
       "        <th>EMP_ID</th>\n",
       "        <th>FIRSTNAME</th>\n",
       "        <th>LASTNAME</th>\n",
       "        <th>ADDRESS</th>\n",
       "        <th>JOB_ID</th>\n",
       "        <th>MANAGER_ID</th>\n",
       "        <th>DEPT_ID</th>\n",
       "    </tr>\n",
       "    <tr>\n",
       "        <td>E1001</td>\n",
       "        <td>John</td>\n",
       "        <td>Thomas</td>\n",
       "        <td>5631 Rice, OakPark,IL</td>\n",
       "        <td>100</td>\n",
       "        <td>30001</td>\n",
       "        <td>2</td>\n",
       "    </tr>\n",
       "    <tr>\n",
       "        <td>E1002</td>\n",
       "        <td>Alice</td>\n",
       "        <td>James</td>\n",
       "        <td>980 Berry ln, Elgin,IL</td>\n",
       "        <td>200</td>\n",
       "        <td>30002</td>\n",
       "        <td>5</td>\n",
       "    </tr>\n",
       "    <tr>\n",
       "        <td>E1003</td>\n",
       "        <td>Steve</td>\n",
       "        <td>Wells</td>\n",
       "        <td>291 Springs, Gary,IL</td>\n",
       "        <td>300</td>\n",
       "        <td>30002</td>\n",
       "        <td>5</td>\n",
       "    </tr>\n",
       "    <tr>\n",
       "        <td>E1004</td>\n",
       "        <td>Santosh</td>\n",
       "        <td>Kumar</td>\n",
       "        <td>511 Aurora Av, Aurora,IL</td>\n",
       "        <td>400</td>\n",
       "        <td>30004</td>\n",
       "        <td>5</td>\n",
       "    </tr>\n",
       "    <tr>\n",
       "        <td>E1005</td>\n",
       "        <td>Ahmed</td>\n",
       "        <td>Hussain</td>\n",
       "        <td>216 Oak Tree, Geneva,IL</td>\n",
       "        <td>500</td>\n",
       "        <td>30001</td>\n",
       "        <td>2</td>\n",
       "    </tr>\n",
       "    <tr>\n",
       "        <td>E1006</td>\n",
       "        <td>Nancy</td>\n",
       "        <td>Allen</td>\n",
       "        <td>111 Green Pl, Elgin,IL</td>\n",
       "        <td>600</td>\n",
       "        <td>30001</td>\n",
       "        <td>2</td>\n",
       "    </tr>\n",
       "    <tr>\n",
       "        <td>E1007</td>\n",
       "        <td>Mary</td>\n",
       "        <td>Thomas</td>\n",
       "        <td>100 Rose Pl, Gary,IL</td>\n",
       "        <td>650</td>\n",
       "        <td>30003</td>\n",
       "        <td>7</td>\n",
       "    </tr>\n",
       "    <tr>\n",
       "        <td>E1008</td>\n",
       "        <td>Bharath</td>\n",
       "        <td>Gupta</td>\n",
       "        <td>145 Berry Ln, Naperville,IL</td>\n",
       "        <td>660</td>\n",
       "        <td>30003</td>\n",
       "        <td>7</td>\n",
       "    </tr>\n",
       "    <tr>\n",
       "        <td>E1009</td>\n",
       "        <td>Andrea</td>\n",
       "        <td>Jones</td>\n",
       "        <td>120 Fall Creek, Gary,IL</td>\n",
       "        <td>234</td>\n",
       "        <td>30003</td>\n",
       "        <td>7</td>\n",
       "    </tr>\n",
       "    <tr>\n",
       "        <td>E1010</td>\n",
       "        <td>Ann</td>\n",
       "        <td>Jacob</td>\n",
       "        <td>111 Britany Springs,Elgin,IL</td>\n",
       "        <td>220</td>\n",
       "        <td>30004</td>\n",
       "        <td>5</td>\n",
       "    </tr>\n",
       "</table>"
      ],
      "text/plain": [
       "[('E1001', 'John', 'Thomas', '5631 Rice, OakPark,IL', '100', '30001', '2'),\n",
       " ('E1002', 'Alice', 'James', '980 Berry ln, Elgin,IL', '200', '30002', '5'),\n",
       " ('E1003', 'Steve', 'Wells', '291 Springs, Gary,IL', '300', '30002', '5'),\n",
       " ('E1004', 'Santosh', 'Kumar', '511 Aurora Av, Aurora,IL', '400', '30004', '5'),\n",
       " ('E1005', 'Ahmed', 'Hussain', '216 Oak Tree, Geneva,IL', '500', '30001', '2'),\n",
       " ('E1006', 'Nancy', 'Allen', '111 Green Pl, Elgin,IL', '600', '30001', '2'),\n",
       " ('E1007', 'Mary', 'Thomas', '100 Rose Pl, Gary,IL', '650', '30003', '7'),\n",
       " ('E1008', 'Bharath', 'Gupta', '145 Berry Ln, Naperville,IL', '660', '30003', '7'),\n",
       " ('E1009', 'Andrea', 'Jones', '120 Fall Creek, Gary,IL', '234', '30003', '7'),\n",
       " ('E1010', 'Ann', 'Jacob', '111 Britany Springs,Elgin,IL', '220', '30004', '5')]"
      ]
     },
     "execution_count": 8,
     "metadata": {},
     "output_type": "execute_result"
    }
   ],
   "source": [
    "%%sql\n",
    "select * from EMPINFO;"
   ]
  },
  {
   "cell_type": "markdown",
   "id": "941860be-6940-4566-a28a-1a18c693eb34",
   "metadata": {},
   "source": [
    "**Lab**: using views\n",
    "\n",
    "Create the view:"
   ]
  },
  {
   "cell_type": "code",
   "execution_count": 17,
   "id": "25b8e180-f337-4016-97c2-da3d65b5af2c",
   "metadata": {},
   "outputs": [
    {
     "name": "stdout",
     "output_type": "stream",
     "text": [
      " * sqlite://\n",
      "Done.\n"
     ]
    },
    {
     "data": {
      "text/plain": [
       "[]"
      ]
     },
     "execution_count": 17,
     "metadata": {},
     "output_type": "execute_result"
    }
   ],
   "source": [
    "%%sql\n",
    "\n",
    "CREATE VIEW EMPSALARY AS\n",
    "SELECT EMP_ID, F_NAME, L_NAME, B_DATE, SEX, SALARY\n",
    "FROM EMPLOYEES;"
   ]
  },
  {
   "cell_type": "code",
   "execution_count": 18,
   "id": "bf0c6221-11dd-4c56-8020-3cf5ce2e5f54",
   "metadata": {},
   "outputs": [
    {
     "name": "stdout",
     "output_type": "stream",
     "text": [
      " * sqlite://\n",
      "Done.\n"
     ]
    },
    {
     "data": {
      "text/html": [
       "<table>\n",
       "    <tr>\n",
       "        <th>EMP_ID</th>\n",
       "        <th>F_NAME</th>\n",
       "        <th>L_NAME</th>\n",
       "        <th>B_DATE</th>\n",
       "        <th>SEX</th>\n",
       "        <th>SALARY</th>\n",
       "    </tr>\n",
       "    <tr>\n",
       "        <td>E1001</td>\n",
       "        <td>John</td>\n",
       "        <td>Thomas</td>\n",
       "        <td>1/9/1976</td>\n",
       "        <td>M</td>\n",
       "        <td>100000</td>\n",
       "    </tr>\n",
       "    <tr>\n",
       "        <td>E1002</td>\n",
       "        <td>Alice</td>\n",
       "        <td>James</td>\n",
       "        <td>7/31/1972</td>\n",
       "        <td>F</td>\n",
       "        <td>80000</td>\n",
       "    </tr>\n",
       "    <tr>\n",
       "        <td>E1003</td>\n",
       "        <td>Steve</td>\n",
       "        <td>Wells</td>\n",
       "        <td>8/10/1980</td>\n",
       "        <td>M</td>\n",
       "        <td>50000</td>\n",
       "    </tr>\n",
       "    <tr>\n",
       "        <td>E1004</td>\n",
       "        <td>Santosh</td>\n",
       "        <td>Kumar</td>\n",
       "        <td>7/20/1985</td>\n",
       "        <td>M</td>\n",
       "        <td>60000</td>\n",
       "    </tr>\n",
       "    <tr>\n",
       "        <td>E1005</td>\n",
       "        <td>Ahmed</td>\n",
       "        <td>Hussain</td>\n",
       "        <td>1/4/1981</td>\n",
       "        <td>M</td>\n",
       "        <td>70000</td>\n",
       "    </tr>\n",
       "    <tr>\n",
       "        <td>E1006</td>\n",
       "        <td>Nancy</td>\n",
       "        <td>Allen</td>\n",
       "        <td>2/6/1978</td>\n",
       "        <td>F</td>\n",
       "        <td>90000</td>\n",
       "    </tr>\n",
       "    <tr>\n",
       "        <td>E1007</td>\n",
       "        <td>Mary</td>\n",
       "        <td>Thomas</td>\n",
       "        <td>5/5/1975</td>\n",
       "        <td>F</td>\n",
       "        <td>65000</td>\n",
       "    </tr>\n",
       "    <tr>\n",
       "        <td>E1008</td>\n",
       "        <td>Bharath</td>\n",
       "        <td>Gupta</td>\n",
       "        <td>5/6/1985</td>\n",
       "        <td>M</td>\n",
       "        <td>65000</td>\n",
       "    </tr>\n",
       "    <tr>\n",
       "        <td>E1009</td>\n",
       "        <td>Andrea</td>\n",
       "        <td>Jones</td>\n",
       "        <td>7/9/1990</td>\n",
       "        <td>F</td>\n",
       "        <td>70000</td>\n",
       "    </tr>\n",
       "    <tr>\n",
       "        <td>E1010</td>\n",
       "        <td>Ann</td>\n",
       "        <td>Jacob</td>\n",
       "        <td>3/30/1982</td>\n",
       "        <td>F</td>\n",
       "        <td>70000</td>\n",
       "    </tr>\n",
       "</table>"
      ],
      "text/plain": [
       "[('E1001', 'John', 'Thomas', '1/9/1976', 'M', 100000),\n",
       " ('E1002', 'Alice', 'James', '7/31/1972', 'F', 80000),\n",
       " ('E1003', 'Steve', 'Wells', '8/10/1980', 'M', 50000),\n",
       " ('E1004', 'Santosh', 'Kumar', '7/20/1985', 'M', 60000),\n",
       " ('E1005', 'Ahmed', 'Hussain', '1/4/1981', 'M', 70000),\n",
       " ('E1006', 'Nancy', 'Allen', '2/6/1978', 'F', 90000),\n",
       " ('E1007', 'Mary', 'Thomas', '5/5/1975', 'F', 65000),\n",
       " ('E1008', 'Bharath', 'Gupta', '5/6/1985', 'M', 65000),\n",
       " ('E1009', 'Andrea', 'Jones', '7/9/1990', 'F', 70000),\n",
       " ('E1010', 'Ann', 'Jacob', '3/30/1982', 'F', 70000)]"
      ]
     },
     "execution_count": 18,
     "metadata": {},
     "output_type": "execute_result"
    }
   ],
   "source": [
    "%%sql\n",
    "\n",
    "select * from EMPSALARY;"
   ]
  },
  {
   "cell_type": "markdown",
   "id": "4c9b7846-c0bf-4ffa-8567-109762a920a9",
   "metadata": {},
   "source": [
    "Update the view by combining two tables (employees and jobs) and including more columns from both tables:\n",
    "\n",
    "*NOTE: SQLite does not support the \"CREATE OR REPLACE\" syntax, so instead first drop the original view and create a new one.*"
   ]
  },
  {
   "cell_type": "code",
   "execution_count": 22,
   "id": "08ea76bc-6e91-4953-ac2e-9dd39516e8c3",
   "metadata": {},
   "outputs": [
    {
     "name": "stdout",
     "output_type": "stream",
     "text": [
      " * sqlite://\n",
      "Done.\n",
      "Done.\n"
     ]
    },
    {
     "data": {
      "text/plain": [
       "[]"
      ]
     },
     "execution_count": 22,
     "metadata": {},
     "output_type": "execute_result"
    }
   ],
   "source": [
    "%%sql\n",
    "\n",
    "DROP VIEW IF EXISTS [EMPSALARY];\n",
    "\n",
    "CREATE VIEW EMPSALARY AS\n",
    "SELECT EMP_ID, F_NAME, L_NAME, B_DATE, SEX, JOB_TITLE, MIN_SALARY, MAX_SALARY\n",
    "FROM EMPLOYEES, JOBS\n",
    "WHERE EMPLOYEES.JOB_ID = JOBS.JOB_IDENT;"
   ]
  },
  {
   "cell_type": "code",
   "execution_count": 23,
   "id": "19f4f2e3-042d-47e1-8b68-4471f4644190",
   "metadata": {},
   "outputs": [
    {
     "name": "stdout",
     "output_type": "stream",
     "text": [
      " * sqlite://\n",
      "Done.\n"
     ]
    },
    {
     "data": {
      "text/html": [
       "<table>\n",
       "    <tr>\n",
       "        <th>EMP_ID</th>\n",
       "        <th>F_NAME</th>\n",
       "        <th>L_NAME</th>\n",
       "        <th>B_DATE</th>\n",
       "        <th>SEX</th>\n",
       "        <th>JOB_TITLE</th>\n",
       "        <th>MIN_SALARY</th>\n",
       "        <th>MAX_SALARY</th>\n",
       "    </tr>\n",
       "    <tr>\n",
       "        <td>E1001</td>\n",
       "        <td>John</td>\n",
       "        <td>Thomas</td>\n",
       "        <td>1/9/1976</td>\n",
       "        <td>M</td>\n",
       "        <td>Sr. Architect</td>\n",
       "        <td>60000</td>\n",
       "        <td>100000</td>\n",
       "    </tr>\n",
       "    <tr>\n",
       "        <td>E1002</td>\n",
       "        <td>Alice</td>\n",
       "        <td>James</td>\n",
       "        <td>7/31/1972</td>\n",
       "        <td>F</td>\n",
       "        <td>Sr. Software Developer</td>\n",
       "        <td>60000</td>\n",
       "        <td>80000</td>\n",
       "    </tr>\n",
       "    <tr>\n",
       "        <td>E1003</td>\n",
       "        <td>Steve</td>\n",
       "        <td>Wells</td>\n",
       "        <td>8/10/1980</td>\n",
       "        <td>M</td>\n",
       "        <td>Jr. Software Developer</td>\n",
       "        <td>40000</td>\n",
       "        <td>60000</td>\n",
       "    </tr>\n",
       "    <tr>\n",
       "        <td>E1004</td>\n",
       "        <td>Santosh</td>\n",
       "        <td>Kumar</td>\n",
       "        <td>7/20/1985</td>\n",
       "        <td>M</td>\n",
       "        <td>Jr. Software Developer</td>\n",
       "        <td>40000</td>\n",
       "        <td>60000</td>\n",
       "    </tr>\n",
       "    <tr>\n",
       "        <td>E1005</td>\n",
       "        <td>Ahmed</td>\n",
       "        <td>Hussain</td>\n",
       "        <td>1/4/1981</td>\n",
       "        <td>M</td>\n",
       "        <td>Jr. Architect</td>\n",
       "        <td>50000</td>\n",
       "        <td>70000</td>\n",
       "    </tr>\n",
       "    <tr>\n",
       "        <td>E1006</td>\n",
       "        <td>Nancy</td>\n",
       "        <td>Allen</td>\n",
       "        <td>2/6/1978</td>\n",
       "        <td>F</td>\n",
       "        <td>Lead Architect</td>\n",
       "        <td>70000</td>\n",
       "        <td>100000</td>\n",
       "    </tr>\n",
       "    <tr>\n",
       "        <td>E1007</td>\n",
       "        <td>Mary</td>\n",
       "        <td>Thomas</td>\n",
       "        <td>5/5/1975</td>\n",
       "        <td>F</td>\n",
       "        <td>Jr. Designer</td>\n",
       "        <td>60000</td>\n",
       "        <td>70000</td>\n",
       "    </tr>\n",
       "    <tr>\n",
       "        <td>E1008</td>\n",
       "        <td>Bharath</td>\n",
       "        <td>Gupta</td>\n",
       "        <td>5/6/1985</td>\n",
       "        <td>M</td>\n",
       "        <td>Jr. Designer</td>\n",
       "        <td>60000</td>\n",
       "        <td>70000</td>\n",
       "    </tr>\n",
       "    <tr>\n",
       "        <td>E1009</td>\n",
       "        <td>Andrea</td>\n",
       "        <td>Jones</td>\n",
       "        <td>7/9/1990</td>\n",
       "        <td>F</td>\n",
       "        <td>Sr. Designer</td>\n",
       "        <td>70000</td>\n",
       "        <td>90000</td>\n",
       "    </tr>\n",
       "    <tr>\n",
       "        <td>E1010</td>\n",
       "        <td>Ann</td>\n",
       "        <td>Jacob</td>\n",
       "        <td>3/30/1982</td>\n",
       "        <td>F</td>\n",
       "        <td>Sr. Designer</td>\n",
       "        <td>70000</td>\n",
       "        <td>90000</td>\n",
       "    </tr>\n",
       "</table>"
      ],
      "text/plain": [
       "[('E1001', 'John', 'Thomas', '1/9/1976', 'M', 'Sr. Architect', 60000, 100000),\n",
       " ('E1002', 'Alice', 'James', '7/31/1972', 'F', 'Sr. Software Developer', 60000, 80000),\n",
       " ('E1003', 'Steve', 'Wells', '8/10/1980', 'M', 'Jr. Software Developer', 40000, 60000),\n",
       " ('E1004', 'Santosh', 'Kumar', '7/20/1985', 'M', 'Jr. Software Developer', 40000, 60000),\n",
       " ('E1005', 'Ahmed', 'Hussain', '1/4/1981', 'M', 'Jr. Architect', 50000, 70000),\n",
       " ('E1006', 'Nancy', 'Allen', '2/6/1978', 'F', 'Lead Architect', 70000, 100000),\n",
       " ('E1007', 'Mary', 'Thomas', '5/5/1975', 'F', 'Jr. Designer', 60000, 70000),\n",
       " ('E1008', 'Bharath', 'Gupta', '5/6/1985', 'M', 'Jr. Designer', 60000, 70000),\n",
       " ('E1009', 'Andrea', 'Jones', '7/9/1990', 'F', 'Sr. Designer', 70000, 90000),\n",
       " ('E1010', 'Ann', 'Jacob', '3/30/1982', 'F', 'Sr. Designer', 70000, 90000)]"
      ]
     },
     "execution_count": 23,
     "metadata": {},
     "output_type": "execute_result"
    }
   ],
   "source": [
    "%%sql\n",
    "\n",
    "select * from EMPSALARY;"
   ]
  },
  {
   "cell_type": "code",
   "execution_count": 24,
   "id": "8f73c6e2-0055-4f70-b096-d84b910f2698",
   "metadata": {},
   "outputs": [
    {
     "name": "stdout",
     "output_type": "stream",
     "text": [
      " * sqlite://\n",
      "Done.\n"
     ]
    },
    {
     "data": {
      "text/plain": [
       "[]"
      ]
     },
     "execution_count": 24,
     "metadata": {},
     "output_type": "execute_result"
    }
   ],
   "source": [
    "%%sql\n",
    "\n",
    "DROP VIEW EMPSALARY;"
   ]
  },
  {
   "cell_type": "markdown",
   "id": "d05a6eb6-3e56-4c70-89db-3f3ae55166f9",
   "metadata": {},
   "source": [
    "### Stored Procedures\n",
    "\n",
    "Stored Procedure:\n",
    "- A set of SQL statements stored and executed on the database server\n",
    "    - write in many different languages\n",
    "    - accept information in the form of parameters\n",
    "    - perform CRUD operations\n",
    "    - return results to the client\n",
    "    \n",
    "Benefits of stored procedures:\n",
    "- Reduction in network traffic\n",
    "- Improvement in performance\n",
    "- Reuse of code\n",
    "- Increase in security\n",
    "    - you do not need to expose all of the table / column info to the client side developers\n",
    "    - you can use server-side logic to validate data prior to accepting it into the system.\n",
    "    \n",
    "Call your stored procedures from:\n",
    "- external applications\n",
    "- dynamic SQL statements\n",
    "\n",
    "SYNTAX:\n",
    "\n",
    "*CREATE PROCEDURE procedure_name*\n",
    "\n",
    "*LANGUAGE LANGUAGE_NAME*\n",
    "\n",
    "*BEGIN*\n",
    "    \n",
    "    *procedure code here*\n",
    "   \n",
    "*END*\n",
    "\n",
    "\n",
    "*Note that SQL is not a fully-fledged programming language, so you shouldn't try to write all your business logic in stored procedures.*"
   ]
  },
  {
   "cell_type": "markdown",
   "id": "2224ff4a-9190-4acf-b079-4786ce43cc5f",
   "metadata": {},
   "source": [
    "**lab**: working with stored procedures\n",
    "\n",
    "Create a stored proecured called Retrieve all, which contains a SQL query to retrieve all records from the petsale table. You can then use this procedure to get all the data rather than writing out code every time.\n",
    "\n",
    "*NOTE: SQLite does not have the functionality of stored procedures, so the below code won't function here.  But it is a stored procedure*."
   ]
  },
  {
   "cell_type": "code",
   "execution_count": null,
   "id": "1bccab2f-3c12-4593-a775-5b1c28abd4aa",
   "metadata": {},
   "outputs": [],
   "source": [
    "%%sql\n",
    "\n",
    "--#SET TERMINATOR @\n",
    "CREATE PROCEDURE RETRIEVE_ALL       -- Name of this stored procedure routine\n",
    "\n",
    "LANGUAGE SQL                        -- Language used in this routine \n",
    "READS SQL DATA                      -- This routine will only read data from the table\n",
    "\n",
    "DYNAMIC RESULT SETS 1               -- Maximum possible number of result-sets to be returned to the caller query\n",
    "\n",
    "BEGIN \n",
    "\n",
    "    DECLARE C1 CURSOR               -- CURSOR C1 will handle the result-set by retrieving records row by row from the table\n",
    "    WITH RETURN FOR                 -- This routine will return retrieved records as a result-set to the caller query\n",
    "    \n",
    "    SELECT * FROM PETSALE;          -- Query to retrieve all the records from the table\n",
    "    \n",
    "    OPEN C1;                        -- Keeping the CURSOR C1 open so that result-set can be returned to the caller query\n",
    "\n",
    "END\n",
    "@                                   -- Routine termination character"
   ]
  },
  {
   "cell_type": "code",
   "execution_count": null,
   "id": "ad482b5f-6d0f-40c3-a74d-eca97a98030d",
   "metadata": {},
   "outputs": [],
   "source": [
    "%%sql\n",
    "\n",
    "CALL RETRIEVE_ALL; -- Caller query"
   ]
  },
  {
   "cell_type": "code",
   "execution_count": null,
   "id": "5cb27dd9-6bbd-4a6c-8e61-315d7017248a",
   "metadata": {},
   "outputs": [],
   "source": [
    "%%sql\n",
    "\n",
    "DROP PROCEDURE RETRIEVE_ALL;"
   ]
  },
  {
   "cell_type": "markdown",
   "id": "e09e87b6-a919-4065-b833-6517a53ee9f5",
   "metadata": {},
   "source": [
    "Another example of a procedure:"
   ]
  },
  {
   "cell_type": "code",
   "execution_count": null,
   "id": "34764564-394f-4975-96dd-21e8540bae6e",
   "metadata": {},
   "outputs": [],
   "source": [
    "%%sql\n",
    "\n",
    "--#SET TERMINATOR @\n",
    "CREATE PROCEDURE UPDATE_SALEPRICE ( \n",
    "    IN Animal_ID INTEGER, IN Animal_Health VARCHAR(5) )     -- ( { IN/OUT type } { parameter-name } { data-type }, ... )\n",
    "\n",
    "LANGUAGE SQL                                                -- Language used in this routine\n",
    "MODIFIES SQL DATA                                           -- This routine will only write/modify data in the table\n",
    "\n",
    "BEGIN \n",
    "\n",
    "    IF Animal_Health = 'BAD' THEN                           -- Start of conditional statement\n",
    "        UPDATE PETSALE\n",
    "        SET SALEPRICE = SALEPRICE - (SALEPRICE * 0.25)\n",
    "        WHERE ID = Animal_ID;\n",
    "    \n",
    "    ELSEIF Animal_Health = 'WORSE' THEN\n",
    "        UPDATE PETSALE\n",
    "        SET SALEPRICE = SALEPRICE - (SALEPRICE * 0.5)\n",
    "        WHERE ID = Animal_ID;\n",
    "        \n",
    "    ELSE\n",
    "        UPDATE PETSALE\n",
    "        SET SALEPRICE = SALEPRICE\n",
    "        WHERE ID = Animal_ID;\n",
    "\n",
    "    END IF;                                                 -- End of conditional statement\n",
    "    \n",
    "END\n",
    "@                                                           -- Routine termination character"
   ]
  },
  {
   "cell_type": "code",
   "execution_count": null,
   "id": "bad36884-26cb-4415-aa98-9f05267785f0",
   "metadata": {},
   "outputs": [],
   "source": [
    "%%sql \n",
    "\n",
    "CALL RETRIEVE_ALL;\n",
    "\n",
    "CALL UPDATE_SALEPRICE(1, 'BAD');        -- Caller query\n",
    "\n",
    "CALL RETRIEVE_ALL;"
   ]
  },
  {
   "cell_type": "code",
   "execution_count": null,
   "id": "8c5a73c5-524b-4675-b82d-4a5730f02d22",
   "metadata": {},
   "outputs": [],
   "source": [
    "%%sql \n",
    "\n",
    "CALL RETRIEVE_ALL;\n",
    "\n",
    "CALL UPDATE_SALEPRICE(3, 'WORSE');      -- Caller query\n",
    "\n",
    "CALL RETRIEVE_ALL;"
   ]
  },
  {
   "cell_type": "code",
   "execution_count": null,
   "id": "b9d7b44f-d817-40fa-b6a3-3a31dde6c38a",
   "metadata": {},
   "outputs": [],
   "source": [
    "%%sql\n",
    "\n",
    "DROP PROCEDURE UPDATE_SALEPRICE;"
   ]
  },
  {
   "cell_type": "markdown",
   "id": "10a6a0b4-1e81-466d-a295-e2d4292fd86e",
   "metadata": {},
   "source": [
    "### ACID Transactions\n",
    "\n",
    "ACID Transactions:\n",
    "- A transaction is an indivisible unit of work, consisting of one or more SQL statements.\n",
    "- To be considered successful, either all of the SQL statements must complete successfully, leaving the database in a new stable state, or none must complete, leaving the database as it was prior to the transaction.\n",
    "- SQL statements can be called from languages like Java, C, R, and Python.\n",
    "- This requires the use of database-specific access APIs, such as Java Database Connectivity (JDBC) for java or a specific database connector like IBM_DB for Python.\n",
    "- Most languages use the EXEC SQL command to execute SQL statements from code.\n",
    "\n",
    "A.C.I.D.:\n",
    "- Atomic\n",
    "    - all changes must be performed successfully or not at all\n",
    "- Consistent\n",
    "    - data must be in a consistent state before and after the transaction\n",
    "- Isolated\n",
    "    - no other process can change the data while the transaction is running\n",
    "- Durable\n",
    "    - The changes by the transaction must persist\n",
    "\n",
    "ACID commands:\n",
    "- BEGIN\n",
    "    - start the acid transaction\n",
    "- COMMIT\n",
    "    - all statements complete successfully\n",
    "    - save the new database state\n",
    "- ROLLBACK\n",
    "    - one or more statements fail\n",
    "    - undo changes"
   ]
  },
  {
   "cell_type": "markdown",
   "id": "d8b18e58-e66c-4b37-a8ea-ebb746a893b4",
   "metadata": {},
   "source": [
    "**Lab**: committing and rolling back a transaction using a stored procedure."
   ]
  },
  {
   "cell_type": "code",
   "execution_count": 32,
   "id": "ee3cc211-6f64-4ec7-aba8-855385ef6646",
   "metadata": {},
   "outputs": [
    {
     "name": "stdout",
     "output_type": "stream",
     "text": [
      " * sqlite://\n",
      "Done.\n",
      "Done.\n",
      "Done.\n",
      "Done.\n"
     ]
    },
    {
     "data": {
      "text/html": [
       "<table>\n",
       "    <tr>\n",
       "        <th>AccountNumber</th>\n",
       "        <th>AccountName</th>\n",
       "        <th>Balance</th>\n",
       "    </tr>\n",
       "    <tr>\n",
       "        <td>B001</td>\n",
       "        <td>Rose</td>\n",
       "        <td>300</td>\n",
       "    </tr>\n",
       "    <tr>\n",
       "        <td>B002</td>\n",
       "        <td>James</td>\n",
       "        <td>1345</td>\n",
       "    </tr>\n",
       "    <tr>\n",
       "        <td>B003</td>\n",
       "        <td>Shoe Shop</td>\n",
       "        <td>124200</td>\n",
       "    </tr>\n",
       "    <tr>\n",
       "        <td>B004</td>\n",
       "        <td>Corner Shop</td>\n",
       "        <td>76000</td>\n",
       "    </tr>\n",
       "</table>"
      ],
      "text/plain": [
       "[('B001', 'Rose', 300),\n",
       " ('B002', 'James', 1345),\n",
       " ('B003', 'Shoe Shop', 124200),\n",
       " ('B004', 'Corner Shop', 76000)]"
      ]
     },
     "execution_count": 32,
     "metadata": {},
     "output_type": "execute_result"
    }
   ],
   "source": [
    "%%sql\n",
    "\n",
    "-- Drop the table in case it exists\n",
    "\n",
    "DROP TABLE IF EXISTS BankAccounts;\n",
    "\n",
    "-- Create the table\n",
    "\n",
    "CREATE TABLE BankAccounts (\n",
    "    AccountNumber VARCHAR(5) NOT NULL,\n",
    "    AccountName VARCHAR(25) NOT NULL,\n",
    "    Balance DECIMAL(8,2) CHECK(Balance>=0) NOT NULL,\n",
    "    PRIMARY KEY (AccountNumber)\n",
    "    );\n",
    "\n",
    "-- Insert sample data into the table\n",
    "    \n",
    "INSERT INTO BankAccounts VALUES\n",
    "('B001','Rose',300),\n",
    "('B002','James',1345),\n",
    "('B003','Shoe Shop',124200),\n",
    "('B004','Corner Shop',76000);\n",
    "\n",
    "-- Retrieve all records from the table\n",
    "\n",
    "SELECT * FROM BankAccounts;"
   ]
  },
  {
   "cell_type": "code",
   "execution_count": 33,
   "id": "87f3f92d-4a3a-4981-948d-1d52042c93b1",
   "metadata": {},
   "outputs": [
    {
     "name": "stdout",
     "output_type": "stream",
     "text": [
      " * sqlite://\n",
      "Done.\n",
      "Done.\n",
      "Done.\n",
      "Done.\n"
     ]
    },
    {
     "data": {
      "text/html": [
       "<table>\n",
       "    <tr>\n",
       "        <th>Product</th>\n",
       "        <th>Stock</th>\n",
       "        <th>Price</th>\n",
       "    </tr>\n",
       "    <tr>\n",
       "        <td>Boots</td>\n",
       "        <td>11</td>\n",
       "        <td>200</td>\n",
       "    </tr>\n",
       "    <tr>\n",
       "        <td>High heels</td>\n",
       "        <td>8</td>\n",
       "        <td>600</td>\n",
       "    </tr>\n",
       "    <tr>\n",
       "        <td>Brogues</td>\n",
       "        <td>10</td>\n",
       "        <td>150</td>\n",
       "    </tr>\n",
       "    <tr>\n",
       "        <td>Trainers</td>\n",
       "        <td>14</td>\n",
       "        <td>300</td>\n",
       "    </tr>\n",
       "</table>"
      ],
      "text/plain": [
       "[('Boots', 11, 200),\n",
       " ('High heels', 8, 600),\n",
       " ('Brogues', 10, 150),\n",
       " ('Trainers', 14, 300)]"
      ]
     },
     "execution_count": 33,
     "metadata": {},
     "output_type": "execute_result"
    }
   ],
   "source": [
    "%%sql\n",
    "\n",
    "-- Drop the table in case it exists\n",
    "\n",
    "DROP TABLE IF EXISTS ShoeShop;\n",
    "\n",
    "-- Create the table\n",
    "\n",
    "CREATE TABLE ShoeShop (\n",
    "    Product VARCHAR(25) NOT NULL,\n",
    "    Stock INTEGER NOT NULL,\n",
    "    Price DECIMAL(8,2) CHECK(Price>0) NOT NULL,\n",
    "    PRIMARY KEY (Product)\n",
    "    );\n",
    "\n",
    "-- Insert sample data into the table\n",
    "    \n",
    "INSERT INTO ShoeShop VALUES\n",
    "('Boots',11,200),\n",
    "('High heels',8,600),\n",
    "('Brogues',10,150),\n",
    "('Trainers',14,300);\n",
    "\n",
    "-- Retrieve all records from the table\n",
    "\n",
    "SELECT * FROM ShoeShop;\n"
   ]
  },
  {
   "cell_type": "markdown",
   "id": "7bfed216-6c01-4026-abaa-ffac5c544477",
   "metadata": {},
   "source": [
    "Create a stored procedure that uses ACID transaction:"
   ]
  },
  {
   "cell_type": "code",
   "execution_count": null,
   "id": "5490777c-6d83-49aa-8964-1375bde102e3",
   "metadata": {
    "tags": []
   },
   "outputs": [],
   "source": [
    "%%sql\n",
    "\n",
    "--#SET TERMINATOR @\n",
    "CREATE PROCEDURE TRANSACTION_ROSE                           -- Name of this stored procedure routine\n",
    "\n",
    "LANGUAGE SQL                                                -- Language used in this routine \n",
    "MODIFIES SQL DATA                                           -- This routine will only write/modify data in the table\n",
    "\n",
    "BEGIN\n",
    "\n",
    "        DECLARE SQLCODE INTEGER DEFAULT 0;                  -- Host variable SQLCODE declared and assigned 0\n",
    "        DECLARE retcode INTEGER DEFAULT 0;                  -- Local variable retcode with declared and assigned 0\n",
    "        DECLARE CONTINUE HANDLER FOR SQLEXCEPTION           -- Handler tell the routine what to do when an error or warning occurs\n",
    "        SET retcode = SQLCODE;                              -- Value of SQLCODE assigned to local variable retcode\n",
    "        \n",
    "        UPDATE BankAccounts\n",
    "        SET Balance = Balance-200\n",
    "        WHERE AccountName = 'Rose';\n",
    "        \n",
    "        UPDATE BankAccounts\n",
    "        SET Balance = Balance+200\n",
    "        WHERE AccountName = 'Shoe Shop';\n",
    "        \n",
    "        UPDATE ShoeShop\n",
    "        SET Stock = Stock-1\n",
    "        WHERE Product = 'Boots';\n",
    "        \n",
    "        UPDATE BankAccounts\n",
    "        SET Balance = Balance-300\n",
    "        WHERE AccountName = 'Rose';\n",
    "\n",
    "        \n",
    "        IF retcode < 0 THEN                                  --  SQLCODE returns negative value for error, zero for success, positive value for warning\n",
    "            ROLLBACK WORK;\n",
    "        \n",
    "        ELSE\n",
    "            COMMIT WORK;\n",
    "        \n",
    "        END IF;\n",
    "        \n",
    "END\n",
    "@                                                            -- Routine termination character"
   ]
  },
  {
   "cell_type": "code",
   "execution_count": null,
   "id": "c3d6894c-f23d-4995-b46a-41ca2f06eb8b",
   "metadata": {},
   "outputs": [],
   "source": [
    "%%sql\n",
    "\n",
    "CALL TRANSACTION_ROSE;  -- Caller query\n",
    "\n",
    "SELECT * FROM BankAccounts;\n",
    "\n",
    "SELECT * FROM ShoeShop;"
   ]
  },
  {
   "cell_type": "code",
   "execution_count": null,
   "id": "d287d49b-71cf-43b6-83bc-71799a96497b",
   "metadata": {},
   "outputs": [],
   "source": [
    "%%sql\n",
    "\n",
    "--#SET TERMINATOR @\n",
    "CREATE PROCEDURE TRANSACTION_JAMES                          -- Name of this stored procedure routine\n",
    "\n",
    "LANGUAGE SQL                                                -- Language used in this routine \n",
    "MODIFIES SQL DATA                                           -- This routine will only write/modify data in the table\n",
    "\n",
    "BEGIN\n",
    "\n",
    "        DECLARE SQLCODE INTEGER DEFAULT 0;                  -- Host variable SQLCODE declared and assigned 0\n",
    "        DECLARE retcode INTEGER DEFAULT 0;                  -- Local variable retcode with declared and assigned 0\n",
    "        DECLARE CONTINUE HANDLER FOR SQLEXCEPTION           -- Handler tell the routine what to do when an error or warning occurs\n",
    "        SET retcode = SQLCODE;                              -- Value of SQLCODE assigned to local variable retcode\n",
    "        \n",
    "        UPDATE BankAccounts\n",
    "        SET Balance = Balance-1200\n",
    "        WHERE AccountName = 'James';\n",
    "        \n",
    "        UPDATE BankAccounts\n",
    "        SET Balance = Balance+1200\n",
    "        WHERE AccountName = 'Shoe Shop';\n",
    "        \n",
    "        UPDATE ShoeShop\n",
    "        SET Stock = Stock-4\n",
    "        WHERE Product = 'Trainers';\n",
    "        \n",
    "        UPDATE BankAccounts\n",
    "        SET Balance = Balance-150\n",
    "        WHERE AccountName = 'James';\n",
    "\n",
    "        \n",
    "        IF retcode < 0 THEN                                  --  SQLCODE returns negative value for error, zero for success, positive value for warning\n",
    "            ROLLBACK WORK;\n",
    "        \n",
    "        ELSE\n",
    "            COMMIT WORK;\n",
    "        \n",
    "        END IF;\n",
    "        \n",
    "END\n",
    "@                                                            -- Routine termination character"
   ]
  },
  {
   "cell_type": "markdown",
   "id": "054776f5-e230-4fdf-b103-1a1ba4f463a1",
   "metadata": {},
   "source": [
    "### Joins\n",
    "\n",
    "Join Operator:\n",
    "- combines rows from two or more tables\n",
    "- based on a relationship\n",
    "\n",
    "Relational model:\n",
    "- Primary Key: Uniquely identifies each row in a table\n",
    "- Foreign Key: refers to a primary key of another table\n",
    "\n",
    "Types of Joins:\n",
    "- Inner Join\n",
    "    - displays only the rows from both tables that have matching values in a common column, usually the primary key of one table that exists as a foreign key in another.\n",
    "- Outer Join\n",
    "    - Left Join\n",
    "        - Fully combines the 'left' table with the columns it has in common with the 'right' table\n",
    "    - Right Join\n",
    "        - Fully combines the 'right' table with the columns it has in common with the 'left' table.\n",
    "    - Full Outer Join\n",
    "        - Fully combines all records in the joined tables."
   ]
  },
  {
   "cell_type": "markdown",
   "id": "5fdfef70-2bb3-4002-860b-e7e84b7c8345",
   "metadata": {},
   "source": [
    "### Inner Joins\n",
    "\n",
    "Inner Join:\n",
    "- This display rows that are matching in a common column between two or more tables only. \n",
    "\n",
    "-----\n",
    "Syntax:\n",
    "\n",
    "SELECT column_name(s)\n",
    "\n",
    "FROM table1\n",
    "\n",
    "INNER JOIN table2\n",
    "\n",
    "ON table1.column_name = table2.column_name;\n",
    "\n",
    "WHERE condition;\n",
    "\n",
    "*NOTE: the table specified on the left of the join clause is known as the 'left table'.*"
   ]
  },
  {
   "cell_type": "markdown",
   "id": "a045c262-90ce-47c6-9298-5e4f62ff16ae",
   "metadata": {},
   "source": [
    "### Outer Joins\n",
    "\n",
    "Outer Join:\n",
    "- Left Join\n",
    "    - Fully combines the 'left' table with the columns it has in common with the 'right' table\n",
    "- Right Join\n",
    "    - Fully combines the 'right' table with the columns it has in common with the 'left' table.\n",
    "- Full Outer Join\n",
    "    - Fully combines all records in the joined tables.\n",
    "    \n",
    "----\n",
    "    \n",
    "Left Join Syntax:\n",
    "\n",
    "SELECT column_name(s)\n",
    "\n",
    "FROM table1\n",
    "\n",
    "LEFT OUTER JOIN table2\n",
    "\n",
    "ON table1.column_name = table2.column_name\n",
    "\n",
    "WHERE condition;\n",
    "\n",
    "-----\n",
    "\n",
    "Right Join Syntax:\n",
    "\n",
    "SELECT column_name(s)\n",
    "\n",
    "FROM table1\n",
    "\n",
    "RIGHT OUTER JOIN table2\n",
    "\n",
    "ON table1.column_name = table2.column_name\n",
    "\n",
    "WHERE condition;\n",
    "\n",
    "-----\n",
    "Full Outer Join Syntax:\n",
    "\n",
    "SELECT column_name(s)\n",
    "\n",
    "FROM table1\n",
    "\n",
    "FULL OUTER JOIN table2\n",
    "\n",
    "ON table1.column_name = table2.column_name\n",
    "\n",
    "WHERE condition;"
   ]
  },
  {
   "cell_type": "markdown",
   "id": "8586419b-5dde-445e-ac36-ed509c9eb70b",
   "metadata": {},
   "source": [
    "### Cross Join\n",
    "\n",
    "Cross Join:\n",
    "- A cross join produces a result set which is the number of rows in table1 multiplied by the number of rows in table2 if no WHERE clause is used along with CROSS JOIN.  \n",
    "- The result is called a cartesian product.  \n",
    "- If no WHERE clause is used with CROSS JOIN, it functions like an INNER JOIN.\n",
    "\n",
    "----\n",
    "\n",
    "Syntax:\n",
    "\n",
    "SELECT column_name(s)\n",
    "\n",
    "FROM table1\n",
    "\n",
    "CROSS JOIN table2;"
   ]
  },
  {
   "cell_type": "markdown",
   "id": "ab812828-a061-48a7-bb13-a78832acdaa3",
   "metadata": {},
   "source": [
    "### Self Join\n",
    "\n",
    "Self Join:\n",
    "- Allows for the joining of a table to itself.\n",
    "- Useful for querying hierarchical data or comparing rows within the same table\n",
    "- Because the self join query references the same table, a table alias is used to assign different names to the same table within the query.\n",
    "\n",
    "-----\n",
    "\n",
    "Syntax:\n",
    "\n",
    "SELECT column_name(s)\n",
    "\n",
    "FROM table1 T1, table1 T2\n",
    "\n",
    "WHERE condition;"
   ]
  },
  {
   "cell_type": "markdown",
   "id": "dfc06bd8-dd97-42e0-92ee-eb00c9d65bc2",
   "metadata": {},
   "source": [
    "**Lab**: Using joins "
   ]
  },
  {
   "cell_type": "code",
   "execution_count": 14,
   "id": "37a3407b-e89c-4420-ae7f-a156130b6b29",
   "metadata": {},
   "outputs": [
    {
     "name": "stdout",
     "output_type": "stream",
     "text": [
      " * sqlite://\n",
      "Done.\n"
     ]
    },
    {
     "data": {
      "text/html": [
       "<table>\n",
       "    <tr>\n",
       "        <th>F_NAME</th>\n",
       "        <th>L_NAME</th>\n",
       "        <th>START_DATE</th>\n",
       "    </tr>\n",
       "    <tr>\n",
       "        <td>Alice</td>\n",
       "        <td>James</td>\n",
       "        <td>8/1/2001</td>\n",
       "    </tr>\n",
       "    <tr>\n",
       "        <td>Steve</td>\n",
       "        <td>Wells</td>\n",
       "        <td>8/16/2001</td>\n",
       "    </tr>\n",
       "    <tr>\n",
       "        <td>Santosh</td>\n",
       "        <td>Kumar</td>\n",
       "        <td>8/16/2000</td>\n",
       "    </tr>\n",
       "    <tr>\n",
       "        <td>Ann</td>\n",
       "        <td>Jacob</td>\n",
       "        <td>8/16/2016</td>\n",
       "    </tr>\n",
       "</table>"
      ],
      "text/plain": [
       "[('Alice', 'James', '8/1/2001'),\n",
       " ('Steve', 'Wells', '8/16/2001'),\n",
       " ('Santosh', 'Kumar', '8/16/2000'),\n",
       " ('Ann', 'Jacob', '8/16/2016')]"
      ]
     },
     "execution_count": 14,
     "metadata": {},
     "output_type": "execute_result"
    }
   ],
   "source": [
    "%%sql\n",
    "-- select the names and job start dates of all employees who work for department 5\n",
    "\n",
    "select E.F_NAME,E.L_NAME, JH.START_DATE \n",
    "from EMPLOYEES as E \n",
    "INNER JOIN JOB_HISTORY as JH on E.EMP_ID=JH.EMPL_ID \n",
    "where E.DEP_ID ='5';\t"
   ]
  },
  {
   "cell_type": "code",
   "execution_count": 15,
   "id": "7aca0d66-3cc9-4070-89cd-ce378cb51b7d",
   "metadata": {},
   "outputs": [
    {
     "name": "stdout",
     "output_type": "stream",
     "text": [
      " * sqlite://\n",
      "Done.\n"
     ]
    },
    {
     "data": {
      "text/html": [
       "<table>\n",
       "    <tr>\n",
       "        <th>F_NAME</th>\n",
       "        <th>L_NAME</th>\n",
       "        <th>START_DATE</th>\n",
       "        <th>JOB_TITLE</th>\n",
       "    </tr>\n",
       "    <tr>\n",
       "        <td>Alice</td>\n",
       "        <td>James</td>\n",
       "        <td>8/1/2001</td>\n",
       "        <td>Sr. Software Developer</td>\n",
       "    </tr>\n",
       "    <tr>\n",
       "        <td>Steve</td>\n",
       "        <td>Wells</td>\n",
       "        <td>8/16/2001</td>\n",
       "        <td>Jr. Software Developer</td>\n",
       "    </tr>\n",
       "    <tr>\n",
       "        <td>Santosh</td>\n",
       "        <td>Kumar</td>\n",
       "        <td>8/16/2000</td>\n",
       "        <td>Jr. Software Developer</td>\n",
       "    </tr>\n",
       "    <tr>\n",
       "        <td>Ann</td>\n",
       "        <td>Jacob</td>\n",
       "        <td>8/16/2016</td>\n",
       "        <td>Sr. Designer</td>\n",
       "    </tr>\n",
       "</table>"
      ],
      "text/plain": [
       "[('Alice', 'James', '8/1/2001', 'Sr. Software Developer'),\n",
       " ('Steve', 'Wells', '8/16/2001', 'Jr. Software Developer'),\n",
       " ('Santosh', 'Kumar', '8/16/2000', 'Jr. Software Developer'),\n",
       " ('Ann', 'Jacob', '8/16/2016', 'Sr. Designer')]"
      ]
     },
     "execution_count": 15,
     "metadata": {},
     "output_type": "execute_result"
    }
   ],
   "source": [
    "%%sql\n",
    "-- select names, job start date, job titles for all employees in department 5\n",
    "\n",
    "select E.F_NAME,E.L_NAME, JH.START_DATE, J.JOB_TITLE \n",
    "from EMPLOYEES as E \n",
    "INNER JOIN JOB_HISTORY as JH on E.EMP_ID=JH.EMPL_ID \n",
    "INNER JOIN JOBS as J on E.JOB_ID=J.JOB_IDENT\n",
    "where E.DEP_ID ='5';"
   ]
  },
  {
   "cell_type": "code",
   "execution_count": 16,
   "id": "f58805ff-0136-4290-b888-c243c89c5e6f",
   "metadata": {},
   "outputs": [
    {
     "name": "stdout",
     "output_type": "stream",
     "text": [
      " * sqlite://\n",
      "Done.\n"
     ]
    },
    {
     "data": {
      "text/html": [
       "<table>\n",
       "    <tr>\n",
       "        <th>EMP_ID</th>\n",
       "        <th>L_NAME</th>\n",
       "        <th>DEP_ID</th>\n",
       "        <th>DEP_NAME</th>\n",
       "    </tr>\n",
       "    <tr>\n",
       "        <td>E1001</td>\n",
       "        <td>Thomas</td>\n",
       "        <td>2</td>\n",
       "        <td>Architect Group</td>\n",
       "    </tr>\n",
       "    <tr>\n",
       "        <td>E1002</td>\n",
       "        <td>James</td>\n",
       "        <td>5</td>\n",
       "        <td>Software Group</td>\n",
       "    </tr>\n",
       "    <tr>\n",
       "        <td>E1003</td>\n",
       "        <td>Wells</td>\n",
       "        <td>5</td>\n",
       "        <td>Software Group</td>\n",
       "    </tr>\n",
       "    <tr>\n",
       "        <td>E1004</td>\n",
       "        <td>Kumar</td>\n",
       "        <td>5</td>\n",
       "        <td>Software Group</td>\n",
       "    </tr>\n",
       "    <tr>\n",
       "        <td>E1005</td>\n",
       "        <td>Hussain</td>\n",
       "        <td>2</td>\n",
       "        <td>Architect Group</td>\n",
       "    </tr>\n",
       "    <tr>\n",
       "        <td>E1006</td>\n",
       "        <td>Allen</td>\n",
       "        <td>2</td>\n",
       "        <td>Architect Group</td>\n",
       "    </tr>\n",
       "    <tr>\n",
       "        <td>E1007</td>\n",
       "        <td>Thomas</td>\n",
       "        <td>7</td>\n",
       "        <td>Design Team</td>\n",
       "    </tr>\n",
       "    <tr>\n",
       "        <td>E1008</td>\n",
       "        <td>Gupta</td>\n",
       "        <td>7</td>\n",
       "        <td>Design Team</td>\n",
       "    </tr>\n",
       "    <tr>\n",
       "        <td>E1009</td>\n",
       "        <td>Jones</td>\n",
       "        <td>7</td>\n",
       "        <td>Design Team</td>\n",
       "    </tr>\n",
       "    <tr>\n",
       "        <td>E1010</td>\n",
       "        <td>Jacob</td>\n",
       "        <td>5</td>\n",
       "        <td>Software Group</td>\n",
       "    </tr>\n",
       "</table>"
      ],
      "text/plain": [
       "[('E1001', 'Thomas', '2', 'Architect Group'),\n",
       " ('E1002', 'James', '5', 'Software Group'),\n",
       " ('E1003', 'Wells', '5', 'Software Group'),\n",
       " ('E1004', 'Kumar', '5', 'Software Group'),\n",
       " ('E1005', 'Hussain', '2', 'Architect Group'),\n",
       " ('E1006', 'Allen', '2', 'Architect Group'),\n",
       " ('E1007', 'Thomas', '7', 'Design Team'),\n",
       " ('E1008', 'Gupta', '7', 'Design Team'),\n",
       " ('E1009', 'Jones', '7', 'Design Team'),\n",
       " ('E1010', 'Jacob', '5', 'Software Group')]"
      ]
     },
     "execution_count": 16,
     "metadata": {},
     "output_type": "execute_result"
    }
   ],
   "source": [
    "%%sql\n",
    "-- perform a left outer join on the employees and department tables\n",
    "-- select employee id, last name, department id, and department name for all employees\n",
    "\n",
    "select E.EMP_ID,E.L_NAME,E.DEP_ID,D.DEP_NAME\n",
    "from EMPLOYEES AS E \n",
    "LEFT OUTER JOIN DEPARTMENTS AS D ON E.DEP_ID=D.DEPT_ID_DEP;"
   ]
  },
  {
   "cell_type": "code",
   "execution_count": null,
   "id": "ed08ddff-7ab3-41dc-9bba-a4cc19aa434f",
   "metadata": {},
   "outputs": [],
   "source": [
    "%%sql\n",
    "-- rewrite the previous query but limit the result set to include only the rows of employees born before 1980\n",
    "\n",
    "select E.EMP_ID,E.L_NAME,E.DEP_ID,D.DEP_NAME\n",
    "from EMPLOYEES AS E \n",
    "LEFT OUTER JOIN DEPARTMENTS AS D ON E.DEP_ID=D.DEPT_ID_DEP \n",
    "where YEAR(E.B_DATE) < 1980;\n",
    "\n",
    "-- note that sqlite doesn't have a year function, so this code won't work in sqlite"
   ]
  },
  {
   "cell_type": "code",
   "execution_count": null,
   "id": "124ed84e-8eda-4c51-942a-01e68ab2e931",
   "metadata": {},
   "outputs": [],
   "source": [
    "%%sql\n",
    "-- perform a full join on employees and department tables\n",
    "-- select first name, last name, department name of all employees\n",
    "\n",
    "select E.F_NAME,E.L_NAME,D.DEP_NAME\n",
    "from EMPLOYEES AS E \n",
    "FULL OUTER JOIN DEPARTMENTS AS D ON E.DEP_ID=D.DEPT_ID_DEP;\n",
    "\n",
    "- note: right and full outer joins are not supported currently by SQLite."
   ]
  },
  {
   "cell_type": "code",
   "execution_count": null,
   "id": "a593bdcc-2bf8-48ea-a759-3c5de4ebbb2b",
   "metadata": {},
   "outputs": [],
   "source": [
    "%%sql\n",
    "-- rewrite the previous query but have the result set include all employee names, but department id and department names only for males.\n",
    "\n",
    "select E.F_NAME,E.L_NAME,D.DEPT_ID_DEP, D.DEP_NAME\n",
    "from EMPLOYEES AS E \n",
    "FULL OUTER JOIN DEPARTMENTS AS D ON E.DEP_ID=D.DEPT_ID_DEP AND E.SEX = 'M';"
   ]
  }
 ],
 "metadata": {
  "kernelspec": {
   "display_name": "Python 3",
   "language": "python",
   "name": "python3"
  },
  "language_info": {
   "codemirror_mode": {
    "name": "ipython",
    "version": 3
   },
   "file_extension": ".py",
   "mimetype": "text/x-python",
   "name": "python",
   "nbconvert_exporter": "python",
   "pygments_lexer": "ipython3",
   "version": "3.9.1"
  }
 },
 "nbformat": 4,
 "nbformat_minor": 5
}
